{
  "nbformat": 4,
  "nbformat_minor": 0,
  "metadata": {
    "colab": {
      "name": "Python 8 - operacje na plikach.ipynb",
      "provenance": [],
      "collapsed_sections": [],
      "include_colab_link": true
    },
    "kernelspec": {
      "name": "python3",
      "display_name": "Python 3"
    }
  },
  "cells": [
    {
      "cell_type": "markdown",
      "metadata": {
        "id": "view-in-github",
        "colab_type": "text"
      },
      "source": [
        "<a href=\"https://colab.research.google.com/github/rroszczyk/2202BISPK/blob/main/Python_8_operacje_na_plikach.ipynb\" target=\"_parent\"><img src=\"https://colab.research.google.com/assets/colab-badge.svg\" alt=\"Open In Colab\"/></a>"
      ]
    },
    {
      "cell_type": "code",
      "metadata": {
        "id": "pzUJJu-JcYih"
      },
      "source": [
        "# przygotowanie katalogu roboczego do pracy :)\n",
        "import requests\n",
        "\n",
        "def pobierzPlik(url, nazwaPliku):\n",
        "    req = requests.get(url, stream=True)\n",
        "    with open(nazwaPliku, 'wb') as uchwytPliku:\n",
        "        for chunk in req.iter_content():\n",
        "            uchwytPliku.write(chunk)\n",
        "\n",
        "nazwyPlikow = ['alice.txt', 'siddhartha.txt', 'moby_dick.txt', 'little_women.txt', 'milionCyfrLiczbyPi.txt']\n",
        "for nazwa in nazwyPlikow:\n",
        "  pobierzPlik(\"https://github.com/rroszczyk/Python/raw/master/Pliki/\"+nazwa, nazwa)\n"
      ],
      "execution_count": 1,
      "outputs": []
    },
    {
      "cell_type": "code",
      "metadata": {
        "id": "100EV1S9Q3Mf"
      },
      "source": [
        "nazwaPliku = 'teksty.txt'\n",
        "\n",
        "with open(nazwaPliku, 'a') as uchwytPliku:\n",
        "    uchwytPliku.write(\"Python jest najlepszym językiem programowania\\n\")\n",
        "    uchwytPliku.write(\"Uwielbiam tworzyć aplikacje uruchamiane w przeglądarce internetowej.\\n\")\n"
      ],
      "execution_count": 2,
      "outputs": []
    },
    {
      "cell_type": "code",
      "metadata": {
        "id": "0YHD_TIiPK3U",
        "outputId": "a117ae28-493d-4e31-9ffc-492f46dc905d",
        "colab": {
          "base_uri": "https://localhost:8080/"
        }
      },
      "source": [
        "import json\n",
        "\n",
        "liczby = [2, 3, 5, 7, 11, 13]\n",
        "kwadraty = {}\n",
        "for liczba in liczby:\n",
        "   kwadraty[liczba] = liczba**2\n",
        "\n",
        "nazwaPliku = 'liczby.json'\n",
        "with open(nazwaPliku, 'w') as uchwytPliku:\n",
        "    json.dump(kwadraty, uchwytPliku)\n",
        "\n",
        "print(\"Kwadraty liczb zostały zapisane w pliku\")"
      ],
      "execution_count": 3,
      "outputs": [
        {
          "output_type": "stream",
          "name": "stdout",
          "text": [
            "Kwadraty liczb zostały zapisane w pliku\n"
          ]
        }
      ]
    },
    {
      "cell_type": "code",
      "metadata": {
        "id": "uLXY-w4hPqL2",
        "outputId": "658b5bc2-e0ba-4ddb-c361-117cbdab7d24",
        "colab": {
          "base_uri": "https://localhost:8080/"
        }
      },
      "source": [
        "import json\n",
        "\n",
        "nazwaPliku = 'liczby.json'\n",
        "with open(nazwaPliku) as uchwytPliku:\n",
        "    liczby = json.load(uchwytPliku)\n",
        "    \n",
        "print(\"Liczby które były zapisane w pliku:\", (liczby))\n"
      ],
      "execution_count": 4,
      "outputs": [
        {
          "output_type": "stream",
          "name": "stdout",
          "text": [
            "Liczby które były zapisane w pliku: {'2': 4, '3': 9, '5': 25, '7': 49, '11': 121, '13': 169}\n"
          ]
        }
      ]
    },
    {
      "cell_type": "code",
      "metadata": {
        "id": "coc0ZidoUVQB",
        "outputId": "03958579-9799-4c56-8272-d013f2e8fadc",
        "colab": {
          "base_uri": "https://localhost:8080/"
        }
      },
      "source": [
        "import json\n",
        "\n",
        "def get_stored_username():\n",
        "    \"\"\"Pobranie imienia z pliku, o ile taki istnieje.\"\"\"\n",
        "    filename = 'username.json'\n",
        "    try:\n",
        "        with open(filename) as f_obj:\n",
        "            username = json.load(f_obj)\n",
        "    except FileNotFoundError:\n",
        "        return None\n",
        "    else:\n",
        "        return username\n",
        "\n",
        "def get_new_username():\n",
        "    \"\"\"\n",
        "    Poproszenie użytkownika, aby podał swoje imię,\n",
        "    a następnie zapisanie tego imienia w pliku.\n",
        "    \"\"\"\n",
        "    username = input(\"Jak masz na imię? \")\n",
        "    filename = 'username.json'\n",
        "    with open(filename, 'w') as f_obj:\n",
        "        json.dump(username, f_obj)\n",
        "    return username\n",
        "\n",
        "def greet_user():\n",
        "    \"\"\"Przywitanie użytkownika z użyciem jego imienia.\"\"\"\n",
        "    username = get_stored_username()\n",
        "    if username:\n",
        "        print(\"Witamy ponownie, \" + username + \"!\")\n",
        "    else:\n",
        "        username = get_new_username()\n",
        "        print(\"Twoje imię zostało zapisane i będzie używane później, \"\n",
        "            + username + \"!\")\n",
        "\n",
        "greet_user()\n"
      ],
      "execution_count": 7,
      "outputs": [
        {
          "output_type": "stream",
          "name": "stdout",
          "text": [
            "Jak masz na imię? Radosław\n",
            "Twoje imię zostało zapisane i będzie używane później, Radosław!\n"
          ]
        }
      ]
    },
    {
      "cell_type": "code",
      "metadata": {
        "id": "AwjWpsgOLTrt",
        "outputId": "48dd3ba5-7095-4f69-a38a-1d81ba25cb62",
        "colab": {
          "base_uri": "https://localhost:8080/"
        }
      },
      "source": [
        "import requests\n",
        "\n",
        "def pobierzPlik(url, nazwaPliku):\n",
        "    req = requests.get(url, stream=True)\n",
        "    with open(nazwaPliku, 'wb') as uchwytPliku:\n",
        "        for chunk in req.iter_content():\n",
        "            uchwytPliku.write(chunk)\n",
        "\n",
        "filename = 'alice.txt'\n",
        "contents = ''\n",
        "\n",
        "try:\n",
        "    with open(filename) as f_obj:\n",
        "        contents = f_obj.read()\n",
        "except FileNotFoundError as e:\n",
        "    msg = \"Plik \" + filename + \" nie istnieje pobieram z Internetu.\"\n",
        "    pobierzPlik(\"https://github.com/rroszczyk/Python/raw/master/Pliki/\"+filename, filename)\n",
        "    print(msg)\n",
        "    try:\n",
        "        with open(filename) as f_obj:\n",
        "            contents = f_obj.read()\n",
        "    except: \n",
        "        print(\"Jest problem z plikiem\")\n",
        "        contents = None\n",
        "else:\n",
        "    print(\"Używam wersji pliku z lokalnego repozytorium\")\n",
        "\n",
        "if contents:\n",
        "    words = contents.split()\n",
        "    num_words = len(words)\n",
        "    print(\"Plik \" + filename + \" zawiera \" + str(num_words) + \" słów.\")\n",
        "else:\n",
        "    print(\"Nie mamy danych wejściowych\")\n",
        "\n"
      ],
      "execution_count": 8,
      "outputs": [
        {
          "output_type": "stream",
          "name": "stdout",
          "text": [
            "Używam wersji pliku z lokalnego repozytorium\n",
            "Plik alice.txt zawiera 29461 słów.\n"
          ]
        }
      ]
    },
    {
      "cell_type": "code",
      "metadata": {
        "id": "caiLPPN8RHJQ",
        "outputId": "2c0dd93e-bca2-4a6e-ca87-4dcdbc13a63c",
        "colab": {
          "base_uri": "https://localhost:8080/"
        }
      },
      "source": [
        "fileName = 'alice.txt'\n",
        "\n",
        "with open(fileName) as f_obj:\n",
        "  contents = f_obj.read()\n",
        "\n",
        "words = contents.split()\n",
        "\n",
        "wordsCounter = {}\n",
        "\n",
        "for word in words:\n",
        "  if len(word) > 3:\n",
        "    if word in wordsCounter:\n",
        "      wordsCounter[word] = wordsCounter[word] + 1\n",
        "    else:\n",
        "      wordsCounter[word] = 1\n",
        "\n",
        "iterator = iter(wordsCounter.items())\n",
        "for i in range(10):\n",
        "    print(next(iterator))\n",
        "\n",
        "sortedWordsCounter = dict(sorted(wordsCounter.items(), key = lambda kv:(kv[1], kv[0]), reverse=True))\n",
        "\n",
        "print(\"\\nTop 10 words\")\n",
        "iterator = iter(sortedWordsCounter.items())\n",
        "for i in range(10):\n",
        "    print(next(iterator))"
      ],
      "execution_count": 9,
      "outputs": [
        {
          "output_type": "stream",
          "name": "stdout",
          "text": [
            "('\\ufeffProject', 1)\n",
            "(\"Gutenberg's\", 2)\n",
            "(\"Alice's\", 11)\n",
            "('Adventures', 4)\n",
            "('Wonderland,', 3)\n",
            "('Lewis', 4)\n",
            "('Carroll', 4)\n",
            "('This', 20)\n",
            "('eBook', 5)\n",
            "('anyone', 4)\n",
            "\n",
            "Top 10 words\n",
            "('said', 416)\n",
            "('that', 226)\n",
            "('Alice', 221)\n",
            "('with', 214)\n",
            "('very', 127)\n",
            "('this', 122)\n",
            "('little', 117)\n",
            "('they', 109)\n",
            "('about', 91)\n",
            "('what', 86)\n"
          ]
        }
      ]
    },
    {
      "cell_type": "code",
      "metadata": {
        "id": "KVbaheU3Oc40",
        "outputId": "fea0e5ff-7142-4c66-bf0b-b3da7e97e0ae",
        "colab": {
          "base_uri": "https://localhost:8080/"
        }
      },
      "source": [
        "def count_words(filename):\n",
        "    \"\"\"Obliczenie przybliżonej liczby słów w danym pliku.\"\"\"\n",
        "    try:\n",
        "        with open(filename) as f_obj:\n",
        "            contents = f_obj.read() \n",
        "    except FileNotFoundError:\n",
        "        pass\n",
        "    else:\n",
        "        # Obliczenie przybliżonej liczby słów w danym pliku.\n",
        "        words = contents.split()\n",
        "        num_words = len(words)\n",
        "        print(\"Plik \" + filename + \" zawiera \" + str(num_words) + \" słów.\")\n",
        "\n",
        "filenames = ['alice.txt', 'siddhartha.txt', 'moby_dick.txt', 'little_women.txt']\n",
        "for filename in filenames:\n",
        "    count_words(filename)\n"
      ],
      "execution_count": 10,
      "outputs": [
        {
          "output_type": "stream",
          "name": "stdout",
          "text": [
            "Plik alice.txt zawiera 29461 słów.\n",
            "Plik siddhartha.txt zawiera 42172 słów.\n",
            "Plik moby_dick.txt zawiera 215136 słów.\n",
            "Plik little_women.txt zawiera 189079 słów.\n"
          ]
        }
      ]
    },
    {
      "cell_type": "code",
      "metadata": {
        "id": "VtJXmVWzSjJ7",
        "outputId": "910ac2c9-f259-47b7-9c4a-cc0cf7a0e7ac",
        "colab": {
          "base_uri": "https://localhost:8080/"
        }
      },
      "source": [
        "def obliczPi(liczbaCyfr):  # funkcja generująca liczbę Pi z dokładnością do liczbyCyfr\n",
        "    q, r, t, k, n, l = 1, 0, 1, 1, 3, 3\n",
        "\n",
        "    dziesietne = liczbaCyfr\n",
        "    licznik = 0\n",
        "\n",
        "    while licznik != dziesietne + 1:\n",
        "            if 4 * q + r - t < n * t:\n",
        "                    # zwracaj cyfrę\n",
        "                    yield n\n",
        "                    # wstac kropkę po pierwszej cyfrze\n",
        "                    if licznik == 0:\n",
        "                            yield '.'\n",
        "                    if dziesietne == licznik:\n",
        "                            print('')\n",
        "                            break\n",
        "                    licznik += 1\n",
        "                    nr = 10 * (r - n * t)\n",
        "                    n = ((10 * (3 * q + r)) // t) - 10 * n\n",
        "                    q *= 10\n",
        "                    r = nr\n",
        "            else:\n",
        "                    nr = (2 * q + r) * l\n",
        "                    nn = (q * (7 * k) + 2 + (r * l)) // (t * l)\n",
        "                    q *= k\n",
        "                    t *= l\n",
        "                    l += 2\n",
        "                    k += 1\n",
        "                    n = nn\n",
        "                    r = nr\n",
        "\n",
        "\n",
        "ileCyfr = obliczPi(int(input(\"Jak dużo cyfr z liczby Pi chcesz obliczyć?: \")))\n",
        "\n",
        "i = 0\n",
        "\n",
        "for d in ileCyfr:\n",
        "  print(d, end='')\n",
        "  i += 1\n",
        "  if i == 80:\n",
        "    print(\"\")\n",
        "    i = 0\n",
        "\n"
      ],
      "execution_count": 11,
      "outputs": [
        {
          "output_type": "stream",
          "name": "stdout",
          "text": [
            "Jak dużo cyfr z liczby Pi chcesz obliczyć?: 1000\n",
            "3.141592653589793238462643383279502884197169399375105820974944592307816406286208\n",
            "99862803482534211706798214808651328230664709384460955058223172535940812848111745\n",
            "02841027019385211055596446229489549303819644288109756659334461284756482337867831\n",
            "65271201909145648566923460348610454326648213393607260249141273724587006606315588\n",
            "17488152092096282925409171536436789259036001133053054882046652138414695194151160\n",
            "94330572703657595919530921861173819326117931051185480744623799627495673518857527\n",
            "24891227938183011949129833673362440656643086021394946395224737190702179860943702\n",
            "77053921717629317675238467481846766940513200056812714526356082778577134275778960\n",
            "91736371787214684409012249534301465495853710507922796892589235420199561121290219\n",
            "60864034418159813629774771309960518707211349999998372978049951059731732816096318\n",
            "59502445945534690830264252230825334468503526193118817101000313783875288658753320\n",
            "83814206171776691473035982534904287554687311595628638823537875937519577818577805\n",
            "321712268066130019278766111959092164201989\n"
          ]
        }
      ]
    },
    {
      "cell_type": "code",
      "metadata": {
        "id": "MDL6no0OXZBS",
        "outputId": "47c5c102-409d-44e9-a759-2d3d1c6f0630",
        "colab": {
          "base_uri": "https://localhost:8080/",
          "height": 238
        }
      },
      "source": [
        "from mpmath import mp\n",
        "\n",
        "nazwaPliku = \"tysiacCyfrLiczbyPi.txt\"\n",
        "\n",
        "mp.dps = 1000\n",
        "# wersja dla cierpliwych\n",
        "with open(nazwaPliku, 'w') as uchwytPliku:\n",
        "    uchwytPliku.write(str(mp.pi))\n",
        "\n",
        "i = 0\n",
        "for d in str(mp.pi):\n",
        "  print(d, end='')\n",
        "  i += 1\n",
        "  if i == 80:\n",
        "    print(\"\")\n",
        "    i = 0\n"
      ],
      "execution_count": null,
      "outputs": [
        {
          "output_type": "stream",
          "text": [
            "3.141592653589793238462643383279502884197169399375105820974944592307816406286208\n",
            "99862803482534211706798214808651328230664709384460955058223172535940812848111745\n",
            "02841027019385211055596446229489549303819644288109756659334461284756482337867831\n",
            "65271201909145648566923460348610454326648213393607260249141273724587006606315588\n",
            "17488152092096282925409171536436789259036001133053054882046652138414695194151160\n",
            "94330572703657595919530921861173819326117931051185480744623799627495673518857527\n",
            "24891227938183011949129833673362440656643086021394946395224737190702179860943702\n",
            "77053921717629317675238467481846766940513200056812714526356082778577134275778960\n",
            "91736371787214684409012249534301465495853710507922796892589235420199561121290219\n",
            "60864034418159813629774771309960518707211349999998372978049951059731732816096318\n",
            "59502445945534690830264252230825334468503526193118817101000313783875288658753320\n",
            "83814206171776691473035982534904287554687311595628638823537875937519577818577805\n",
            "32171226806613001927876611195909216420199"
          ],
          "name": "stdout"
        }
      ]
    },
    {
      "cell_type": "code",
      "metadata": {
        "id": "7jQI1Sn_Tu8Y",
        "outputId": "ac94abb6-d9d9-447d-ab7a-5e3ec41b86f7",
        "colab": {
          "base_uri": "https://localhost:8080/",
          "height": 51
        }
      },
      "source": [
        "milionCyfrPi = obliczPi(1000000)\n",
        "\n",
        "nazwaPliku = \"milionCyfrLiczbyPi.txt\"\n",
        "\n",
        "with open(nazwaPliku) as uchwytPliku:\n",
        "    lines = uchwytPliku.readlines()\n",
        "\n",
        "napisPi = ''\n",
        "for line in lines:\n",
        "    napisPi += line.rstrip()\n",
        "\n",
        "urodziny = input(\"Podaj datę urodzenia (w formacie ddmmrr): \")\n",
        "if urodziny in napisPi:\n",
        "    print(\"Twoja data urodzenia znajduje się wśród miliona pierwszych cyfr liczby pi!\")\n",
        "else:\n",
        "    print(\"Twoja data urodzenia nie znajduje się wśród miliona pierwszych cyfr liczby pi.\")\n"
      ],
      "execution_count": null,
      "outputs": [
        {
          "output_type": "stream",
          "text": [
            "Podaj datę urodzenia (w formacie ddmmrr): 010119\n",
            "Twoja data urodzenia znajduje się wśród miliona pierwszych cyfr liczby pi!\n"
          ],
          "name": "stdout"
        }
      ]
    }
  ]
}