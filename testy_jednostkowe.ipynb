{
  "nbformat": 4,
  "nbformat_minor": 0,
  "metadata": {
    "colab": {
      "name": "testy_jednostkowe.ipynb",
      "provenance": [],
      "authorship_tag": "ABX9TyN2sacEGplKXxQ3+7GqneS7",
      "include_colab_link": true
    },
    "kernelspec": {
      "name": "python3",
      "display_name": "Python 3"
    },
    "language_info": {
      "name": "python"
    }
  },
  "cells": [
    {
      "cell_type": "markdown",
      "metadata": {
        "id": "view-in-github",
        "colab_type": "text"
      },
      "source": [
        "<a href=\"https://colab.research.google.com/github/rroszczyk/2202BISPK/blob/main/testy_jednostkowe.ipynb\" target=\"_parent\"><img src=\"https://colab.research.google.com/assets/colab-badge.svg\" alt=\"Open In Colab\"/></a>"
      ]
    },
    {
      "cell_type": "code",
      "execution_count": null,
      "metadata": {
        "id": "F5K714wzkIlA"
      },
      "outputs": [],
      "source": [
        "assert sum([1, 2, 3]) == 6, \"wynik poprawyn to 6\"\n",
        "assert sum([1, 1, 1]) == 6, \"wynik poprawyn to 6\""
      ]
    },
    {
      "cell_type": "code",
      "source": [
        "try:\n",
        "  assert sum([1, 2, 3]) == 6, \"wynik poprawyn to 6\"\n",
        "  assert sum([1, 1, 1]) == 6, \"wynik poprawyn to 6\"\n",
        "except AssertionError:\n",
        "  print(\"Nie udało się wykonać testów porównawczych\")"
      ],
      "metadata": {
        "id": "cZk-s8gRkn7v"
      },
      "execution_count": null,
      "outputs": []
    },
    {
      "cell_type": "code",
      "source": [
        "def test_sum():\n",
        "  assert sum([1, 2, 3]) == 6, \"wynik poprawyn to 6\""
      ],
      "metadata": {
        "id": "fM99iV64k09t"
      },
      "execution_count": null,
      "outputs": []
    },
    {
      "cell_type": "code",
      "source": [
        "test_sum()\n",
        "print(\"Wszystkie testy zakończono sukcesem\")"
      ],
      "metadata": {
        "id": "jTLjTHF6k7jk"
      },
      "execution_count": null,
      "outputs": []
    },
    {
      "cell_type": "code",
      "source": [
        "def test_sum():\n",
        "  assert sum([1, 2, 3]) == 6, \"wynik poprawyn to 6\"\n",
        "\n",
        "def test_sum_tuple():\n",
        "  assert sum((1, 2, 3)) == 6, \"wynik poprawyn to 6\"  "
      ],
      "metadata": {
        "id": "aeF2IPl_lHik"
      },
      "execution_count": 2,
      "outputs": []
    },
    {
      "cell_type": "code",
      "source": [
        "def tests():\n",
        "  test_sum()\n",
        "  test_sum_tuple()\n",
        "  print(\"Wszystkie testy zakończono sukcesem\")"
      ],
      "metadata": {
        "id": "x4wR9ieQlQgM"
      },
      "execution_count": 3,
      "outputs": []
    },
    {
      "cell_type": "code",
      "source": [
        "tests()"
      ],
      "metadata": {
        "colab": {
          "base_uri": "https://localhost:8080/"
        },
        "id": "qpaB2kTBlX4d",
        "outputId": "0ed3ce96-f19b-41a0-f1de-422e176f9f6a"
      },
      "execution_count": 4,
      "outputs": [
        {
          "output_type": "stream",
          "name": "stdout",
          "text": [
            "Wszystkie testy zakończono sukcesem\n"
          ]
        }
      ]
    },
    {
      "cell_type": "code",
      "source": [
        "from unittest.mock import MagicMock"
      ],
      "metadata": {
        "id": "OVUQRm65HuWS"
      },
      "execution_count": 5,
      "outputs": []
    },
    {
      "cell_type": "code",
      "source": [
        "mock = MagicMock(side_effect=KeyError(\"jakiś błąd\"))"
      ],
      "metadata": {
        "id": "WWEwgFprH_S8"
      },
      "execution_count": 7,
      "outputs": []
    },
    {
      "cell_type": "code",
      "source": [
        "try:\n",
        "  mock()\n",
        "except KeyError:\n",
        "  print(\"Wystąpił nasz nowy błąd\")"
      ],
      "metadata": {
        "colab": {
          "base_uri": "https://localhost:8080/"
        },
        "id": "6kmzFLhYIKnG",
        "outputId": "02a8517d-dfc4-4018-f473-1a5d88f9887f"
      },
      "execution_count": 17,
      "outputs": [
        {
          "output_type": "stream",
          "name": "stdout",
          "text": [
            "Wystąpił nasz nowy błąd\n"
          ]
        }
      ]
    },
    {
      "cell_type": "code",
      "source": [
        "from datetime import datetime\n",
        "\n",
        "def isWeekday():\n",
        "    today = datetime.today()\n",
        "    return (0 <= today.weekday() < 5)"
      ],
      "metadata": {
        "id": "kTqymgFxJDyi"
      },
      "execution_count": 9,
      "outputs": []
    },
    {
      "cell_type": "code",
      "source": [
        "isWeekday()"
      ],
      "metadata": {
        "colab": {
          "base_uri": "https://localhost:8080/"
        },
        "id": "n3xqaqe5JFSj",
        "outputId": "d5017883-47b9-4e34-8eed-e137b5e645eb"
      },
      "execution_count": 10,
      "outputs": [
        {
          "output_type": "execute_result",
          "data": {
            "text/plain": [
              "False"
            ]
          },
          "metadata": {},
          "execution_count": 10
        }
      ]
    },
    {
      "cell_type": "code",
      "source": [
        "from unittest.mock import MagicMock"
      ],
      "metadata": {
        "id": "KQL1CYJcJSd3"
      },
      "execution_count": 11,
      "outputs": []
    },
    {
      "cell_type": "code",
      "source": [
        "monday = datetime(year=2022, month=3, day=28)\n",
        "sunday = datetime(year=2022, month=3, day=27)"
      ],
      "metadata": {
        "id": "QiPV4jJvJWZ1"
      },
      "execution_count": 13,
      "outputs": []
    },
    {
      "cell_type": "code",
      "source": [
        "datetime = MagicMock()\n",
        "\n",
        "def isWeekday():\n",
        "    today = datetime.today()\n",
        "    return (0 <= today.weekday() < 5)\n",
        "\n",
        "datetime.today.return_value = monday\n",
        "\n",
        "print(isWeekday())\n",
        "\n",
        "datetime.today.return_value = sunday\n",
        "\n",
        "print(isWeekday())"
      ],
      "metadata": {
        "colab": {
          "base_uri": "https://localhost:8080/"
        },
        "id": "9QYO_vRxJss7",
        "outputId": "d09810f5-4f38-4ada-c2c9-31798f047f5d"
      },
      "execution_count": 16,
      "outputs": [
        {
          "output_type": "stream",
          "name": "stdout",
          "text": [
            "True\n",
            "False\n"
          ]
        }
      ]
    }
  ]
}