{
  "nbformat": 4,
  "nbformat_minor": 0,
  "metadata": {
    "colab": {
      "name": "Wzorce.ipynb",
      "provenance": [],
      "authorship_tag": "ABX9TyNlwieMtmSnK+ad/HwvGk3m",
      "include_colab_link": true
    },
    "kernelspec": {
      "name": "python3",
      "display_name": "Python 3"
    },
    "language_info": {
      "name": "python"
    }
  },
  "cells": [
    {
      "cell_type": "markdown",
      "metadata": {
        "id": "view-in-github",
        "colab_type": "text"
      },
      "source": [
        "<a href=\"https://colab.research.google.com/github/rroszczyk/2202BISPK/blob/main/Wzorce.ipynb\" target=\"_parent\"><img src=\"https://colab.research.google.com/assets/colab-badge.svg\" alt=\"Open In Colab\"/></a>"
      ]
    },
    {
      "cell_type": "code",
      "execution_count": 1,
      "metadata": {
        "id": "7_CpLrvnVyRg"
      },
      "outputs": [],
      "source": [
        "def GetObjectName(arg):\n",
        "    try:\n",
        "        return arg.__name__\n",
        "    except AttributeError:\n",
        "        pass\n",
        "\n",
        "    for name, value in globals().items():\n",
        "        if value is arg and not name.startswith('_'):\n",
        "            return name\n"
      ]
    },
    {
      "cell_type": "markdown",
      "source": [
        "# SINGLETON"
      ],
      "metadata": {
        "id": "cad8mGQHdIeF"
      }
    },
    {
      "cell_type": "code",
      "source": [
        "class Singleton(object):\n",
        "  _instance = None\n",
        "\n",
        "  def __new__(class_, *args, **kwargs):\n",
        "      if not isinstance(class_._instance, class_):\n",
        "        class_._instance = object.__new__(class_, *args, **kwargs)\n",
        "      return class_._instance\n"
      ],
      "metadata": {
        "id": "X3_Fy41PdL0l"
      },
      "execution_count": 2,
      "outputs": []
    },
    {
      "cell_type": "code",
      "source": [
        "class MojaKlasa(Singleton, object):   # object może byc dowolną klasą bazową\n",
        "  _value = None\n",
        "\n",
        "  def SetValue(self, val):\n",
        "    self._value = val\n",
        "\n",
        "  def PrintValue(self):\n",
        "    print(f\"Klasa {self.__class__.__name__} wartość zmiennej: {self._value}\")\n",
        "\n",
        "  "
      ],
      "metadata": {
        "id": "e2mBfGLNeHDo"
      },
      "execution_count": 3,
      "outputs": []
    },
    {
      "cell_type": "code",
      "source": [
        "k = MojaKlasa()\n",
        "\n",
        "k.SetValue(\"Nowa instancja klasy\")\n",
        "k.PrintValue()\n",
        "\n",
        "d = MojaKlasa()\n",
        "d.PrintValue()\n",
        "\n",
        "d.SetValue(\"Druga instancja klasy\")\n",
        "d.PrintValue()\n",
        "print(f\"Nazwa obiektu d: {GetObjectName(d)}, nazwa klasy: {d.__class__.__name__}, adres: {d}\")\n",
        "\n",
        "k.PrintValue()\n",
        "print(f\"Nazwa obiektu k: {GetObjectName(k)}, nazwa klasy: {k.__class__.__name__}, adres: {k}\")\n"
      ],
      "metadata": {
        "colab": {
          "base_uri": "https://localhost:8080/"
        },
        "id": "BfeqaHo5ev3s",
        "outputId": "9e8c7c57-9abd-469d-f545-5de929025af0"
      },
      "execution_count": 8,
      "outputs": [
        {
          "output_type": "stream",
          "name": "stdout",
          "text": [
            "Klasa MojaKlasa wartość zmiennej: Nowa instancja klasy\n",
            "Klasa MojaKlasa wartość zmiennej: Nowa instancja klasy\n",
            "Klasa MojaKlasa wartość zmiennej: Druga instancja klasy\n",
            "Nazwa obiektu d: k, nazwa klasy: MojaKlasa, adres: <__main__.MojaKlasa object at 0x7f597b7f7710>\n",
            "Klasa MojaKlasa wartość zmiennej: Druga instancja klasy\n",
            "Nazwa obiektu k: k, nazwa klasy: MojaKlasa, adres: <__main__.MojaKlasa object at 0x7f597b7f7710>\n"
          ]
        }
      ]
    },
    {
      "cell_type": "code",
      "source": [
        "def Singleton(class_):\n",
        "  instances = {}\n",
        "\n",
        "  def getinstance(*args, **kwargs):\n",
        "    if class_ not in instances:\n",
        "      instances[class_] = class_(*args, **kwargs)\n",
        "    return instances[class_]\n",
        "  return getinstance"
      ],
      "metadata": {
        "id": "LAaX6VUQg6Ur"
      },
      "execution_count": 9,
      "outputs": []
    },
    {
      "cell_type": "code",
      "source": [
        "@Singleton\n",
        "class MojaKlasa(object):   # object może byc dowolną klasą bazową\n",
        "  _value = None\n",
        "\n",
        "  def SetValue(self, val):\n",
        "    self._value = val\n",
        "\n",
        "  def PrintValue(self):\n",
        "    print(f\"Klasa {self.__class__.__name__} wartość zmiennej: {self._value}\")\n"
      ],
      "metadata": {
        "id": "deajH6cBi6AL"
      },
      "execution_count": 10,
      "outputs": []
    },
    {
      "cell_type": "code",
      "source": [
        "k = MojaKlasa()\n",
        "\n",
        "k.SetValue(\"Nowa instancja klasy\")\n",
        "k.PrintValue()\n",
        "\n",
        "d = MojaKlasa()\n",
        "d.PrintValue()\n",
        "\n",
        "d.SetValue(\"Druga instancja klasy\")\n",
        "d.PrintValue()\n",
        "print(f\"Nazwa obiektu d: {GetObjectName(d)}, nazwa klasy: {d.__class__.__name__}, adres: {d}\")\n",
        "\n",
        "k.PrintValue()\n",
        "print(f\"Nazwa obiektu k: {GetObjectName(k)}, nazwa klasy: {k.__class__.__name__}, adres: {k}\")"
      ],
      "metadata": {
        "colab": {
          "base_uri": "https://localhost:8080/"
        },
        "id": "wnEckPbci_qP",
        "outputId": "f8dde697-245b-489a-a305-ed7c6b76228d"
      },
      "execution_count": 11,
      "outputs": [
        {
          "output_type": "stream",
          "name": "stdout",
          "text": [
            "Klasa MojaKlasa wartość zmiennej: Nowa instancja klasy\n",
            "Klasa MojaKlasa wartość zmiennej: Nowa instancja klasy\n",
            "Klasa MojaKlasa wartość zmiennej: Druga instancja klasy\n",
            "Nazwa obiektu d: k, nazwa klasy: MojaKlasa, adres: <__main__.MojaKlasa object at 0x7f597366eb10>\n",
            "Klasa MojaKlasa wartość zmiennej: Druga instancja klasy\n",
            "Nazwa obiektu k: k, nazwa klasy: MojaKlasa, adres: <__main__.MojaKlasa object at 0x7f597366eb10>\n"
          ]
        }
      ]
    },
    {
      "cell_type": "code",
      "source": [
        "class Singleton(type):\n",
        "  _instances = {}\n",
        "  def __call__(cls, *args, **kwargs):\n",
        "      if cls not in cls._instances:\n",
        "        cls._instances[cls] = super(Singleton, cls).__call__(*args, *kwargs)\n",
        "      return cls._instances[cls]"
      ],
      "metadata": {
        "id": "LngXT8-LjlIB"
      },
      "execution_count": 15,
      "outputs": []
    },
    {
      "cell_type": "code",
      "source": [
        "class MojaKlasa(object, metaclass = Singleton):   # object może byc dowolną klasą bazową\n",
        "  _value = None\n",
        "\n",
        "  def SetValue(self, val):\n",
        "    self._value = val\n",
        "\n",
        "  def PrintValue(self):\n",
        "    print(f\"Klasa {self.__class__.__name__} wartość zmiennej: {self._value}\")"
      ],
      "metadata": {
        "id": "nqw6XlT9kQi3"
      },
      "execution_count": 16,
      "outputs": []
    },
    {
      "cell_type": "code",
      "source": [
        "k = MojaKlasa()\n",
        "\n",
        "k.SetValue(\"Nowa instancja klasy\")\n",
        "k.PrintValue()\n",
        "\n",
        "d = MojaKlasa()\n",
        "d.PrintValue()\n",
        "\n",
        "d.SetValue(\"Druga instancja klasy\")\n",
        "d.PrintValue()\n",
        "print(f\"Nazwa obiektu d: {GetObjectName(d)}, nazwa klasy: {d.__class__.__name__}, adres: {d}\")\n",
        "\n",
        "k.PrintValue()\n",
        "print(f\"Nazwa obiektu k: {GetObjectName(k)}, nazwa klasy: {k.__class__.__name__}, adres: {k}\")"
      ],
      "metadata": {
        "colab": {
          "base_uri": "https://localhost:8080/"
        },
        "id": "OewDqYYAkfgl",
        "outputId": "6c6e5cdf-c013-4237-c7ae-50e4c9b769b5"
      },
      "execution_count": 17,
      "outputs": [
        {
          "output_type": "stream",
          "name": "stdout",
          "text": [
            "Klasa MojaKlasa wartość zmiennej: Nowa instancja klasy\n",
            "Klasa MojaKlasa wartość zmiennej: Nowa instancja klasy\n",
            "Klasa MojaKlasa wartość zmiennej: Druga instancja klasy\n",
            "Nazwa obiektu d: k, nazwa klasy: MojaKlasa, adres: <__main__.MojaKlasa object at 0x7f597b7ab790>\n",
            "Klasa MojaKlasa wartość zmiennej: Druga instancja klasy\n",
            "Nazwa obiektu k: k, nazwa klasy: MojaKlasa, adres: <__main__.MojaKlasa object at 0x7f597b7ab790>\n"
          ]
        }
      ]
    },
    {
      "cell_type": "code",
      "source": [
        "class KlasaTestowa(metaclass = Singleton):\n",
        "  str = None\n",
        "\n",
        "  def __init__(self, val):\n",
        "    self.str = val"
      ],
      "metadata": {
        "id": "yry4gcLvk1YX"
      },
      "execution_count": 18,
      "outputs": []
    },
    {
      "cell_type": "code",
      "source": [
        "k1 = KlasaTestowa(\"Testowy komunikat\")\n",
        "k2 = KlasaTestowa(\"Drugi komunikat\")\n",
        "\n",
        "print(k1.str)\n",
        "print(k2.str)"
      ],
      "metadata": {
        "colab": {
          "base_uri": "https://localhost:8080/"
        },
        "id": "dh8zyUzClJUf",
        "outputId": "9b34cd34-7dcb-47fb-f06d-bb47dc227554"
      },
      "execution_count": 19,
      "outputs": [
        {
          "output_type": "stream",
          "name": "stdout",
          "text": [
            "Testowy komunikat\n",
            "Testowy komunikat\n"
          ]
        }
      ]
    },
    {
      "cell_type": "code",
      "source": [
        "from threading import Thread\n",
        "\n",
        "def test(str):\n",
        "  klasa = KlasaTestowa(str)\n",
        "  print(klasa.str)\n",
        "\n",
        "t1 = Thread(target=test, args=(\"PIERWSZY\", ))\n",
        "t2 = Thread(target=test, args=(\"DRUGI\", ))"
      ],
      "metadata": {
        "id": "ajyeWIdolgLN"
      },
      "execution_count": 23,
      "outputs": []
    },
    {
      "cell_type": "code",
      "source": [
        "class Singleton(type):\n",
        "  _instances = {}\n",
        "  def __call__(cls, *args, **kwargs):\n",
        "      if cls not in cls._instances:\n",
        "        cls._instances[cls] = super(Singleton, cls).__call__(*args, *kwargs)\n",
        "      return cls._instances[cls]"
      ],
      "metadata": {
        "id": "f9u8v-tsmlhK"
      },
      "execution_count": null,
      "outputs": []
    }
  ]
}