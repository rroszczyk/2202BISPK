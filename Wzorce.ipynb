{
  "nbformat": 4,
  "nbformat_minor": 0,
  "metadata": {
    "colab": {
      "name": "Wzorce.ipynb",
      "provenance": [],
      "collapsed_sections": [],
      "authorship_tag": "ABX9TyOsVuuT6Ld8qt5iwIrmQ1U+",
      "include_colab_link": true
    },
    "kernelspec": {
      "name": "python3",
      "display_name": "Python 3"
    },
    "language_info": {
      "name": "python"
    }
  },
  "cells": [
    {
      "cell_type": "markdown",
      "metadata": {
        "id": "view-in-github",
        "colab_type": "text"
      },
      "source": [
        "<a href=\"https://colab.research.google.com/github/rroszczyk/2202BISPK/blob/main/Wzorce.ipynb\" target=\"_parent\"><img src=\"https://colab.research.google.com/assets/colab-badge.svg\" alt=\"Open In Colab\"/></a>"
      ]
    },
    {
      "cell_type": "code",
      "execution_count": 1,
      "metadata": {
        "id": "7_CpLrvnVyRg"
      },
      "outputs": [],
      "source": [
        "def GetObjectName(arg):\n",
        "    try:\n",
        "        return arg.__name__\n",
        "    except AttributeError:\n",
        "        pass\n",
        "\n",
        "    for name, value in globals().items():\n",
        "        if value is arg and not name.startswith('_'):\n",
        "            return name\n"
      ]
    },
    {
      "cell_type": "markdown",
      "source": [
        "# SINGLETON"
      ],
      "metadata": {
        "id": "cad8mGQHdIeF"
      }
    },
    {
      "cell_type": "code",
      "source": [
        "class Singleton(object):\n",
        "  _instance = None\n",
        "\n",
        "  def __new__(class_, *args, **kwargs):\n",
        "      if not isinstance(class_._instance, class_):\n",
        "        class_._instance = object.__new__(class_, *args, **kwargs)\n",
        "      return class_._instance\n"
      ],
      "metadata": {
        "id": "X3_Fy41PdL0l"
      },
      "execution_count": 2,
      "outputs": []
    },
    {
      "cell_type": "code",
      "source": [
        "class MojaKlasa(Singleton, object):   # object może byc dowolną klasą bazową\n",
        "  _value = None\n",
        "\n",
        "  def SetValue(self, val):\n",
        "    self._value = val\n",
        "\n",
        "  def PrintValue(self):\n",
        "    print(f\"Klasa {self.__class__.__name__} wartość zmiennej: {self._value}\")\n",
        "\n",
        "  "
      ],
      "metadata": {
        "id": "e2mBfGLNeHDo"
      },
      "execution_count": 3,
      "outputs": []
    },
    {
      "cell_type": "code",
      "source": [
        "k = MojaKlasa()\n",
        "\n",
        "k.SetValue(\"Nowa instancja klasy\")\n",
        "k.PrintValue()\n",
        "\n",
        "d = MojaKlasa()\n",
        "d.PrintValue()\n",
        "\n",
        "d.SetValue(\"Druga instancja klasy\")\n",
        "d.PrintValue()\n",
        "print(f\"Nazwa obiektu d: {GetObjectName(d)}, nazwa klasy: {d.__class__.__name__}, adres: {d}\")\n",
        "\n",
        "k.PrintValue()\n",
        "print(f\"Nazwa obiektu k: {GetObjectName(k)}, nazwa klasy: {k.__class__.__name__}, adres: {k}\")\n"
      ],
      "metadata": {
        "colab": {
          "base_uri": "https://localhost:8080/"
        },
        "id": "BfeqaHo5ev3s",
        "outputId": "9e8c7c57-9abd-469d-f545-5de929025af0"
      },
      "execution_count": 8,
      "outputs": [
        {
          "output_type": "stream",
          "name": "stdout",
          "text": [
            "Klasa MojaKlasa wartość zmiennej: Nowa instancja klasy\n",
            "Klasa MojaKlasa wartość zmiennej: Nowa instancja klasy\n",
            "Klasa MojaKlasa wartość zmiennej: Druga instancja klasy\n",
            "Nazwa obiektu d: k, nazwa klasy: MojaKlasa, adres: <__main__.MojaKlasa object at 0x7f597b7f7710>\n",
            "Klasa MojaKlasa wartość zmiennej: Druga instancja klasy\n",
            "Nazwa obiektu k: k, nazwa klasy: MojaKlasa, adres: <__main__.MojaKlasa object at 0x7f597b7f7710>\n"
          ]
        }
      ]
    },
    {
      "cell_type": "code",
      "source": [
        "def Singleton(class_):\n",
        "  instances = {}\n",
        "\n",
        "  def getinstance(*args, **kwargs):\n",
        "    if class_ not in instances:\n",
        "      instances[class_] = class_(*args, **kwargs)\n",
        "    return instances[class_]\n",
        "  return getinstance"
      ],
      "metadata": {
        "id": "LAaX6VUQg6Ur"
      },
      "execution_count": 9,
      "outputs": []
    },
    {
      "cell_type": "code",
      "source": [
        "@Singleton\n",
        "class MojaKlasa(object):   # object może byc dowolną klasą bazową\n",
        "  _value = None\n",
        "\n",
        "  def SetValue(self, val):\n",
        "    self._value = val\n",
        "\n",
        "  def PrintValue(self):\n",
        "    print(f\"Klasa {self.__class__.__name__} wartość zmiennej: {self._value}\")\n"
      ],
      "metadata": {
        "id": "deajH6cBi6AL"
      },
      "execution_count": 10,
      "outputs": []
    },
    {
      "cell_type": "code",
      "source": [
        "k = MojaKlasa()\n",
        "\n",
        "k.SetValue(\"Nowa instancja klasy\")\n",
        "k.PrintValue()\n",
        "\n",
        "d = MojaKlasa()\n",
        "d.PrintValue()\n",
        "\n",
        "d.SetValue(\"Druga instancja klasy\")\n",
        "d.PrintValue()\n",
        "print(f\"Nazwa obiektu d: {GetObjectName(d)}, nazwa klasy: {d.__class__.__name__}, adres: {d}\")\n",
        "\n",
        "k.PrintValue()\n",
        "print(f\"Nazwa obiektu k: {GetObjectName(k)}, nazwa klasy: {k.__class__.__name__}, adres: {k}\")"
      ],
      "metadata": {
        "colab": {
          "base_uri": "https://localhost:8080/"
        },
        "id": "wnEckPbci_qP",
        "outputId": "f8dde697-245b-489a-a305-ed7c6b76228d"
      },
      "execution_count": 11,
      "outputs": [
        {
          "output_type": "stream",
          "name": "stdout",
          "text": [
            "Klasa MojaKlasa wartość zmiennej: Nowa instancja klasy\n",
            "Klasa MojaKlasa wartość zmiennej: Nowa instancja klasy\n",
            "Klasa MojaKlasa wartość zmiennej: Druga instancja klasy\n",
            "Nazwa obiektu d: k, nazwa klasy: MojaKlasa, adres: <__main__.MojaKlasa object at 0x7f597366eb10>\n",
            "Klasa MojaKlasa wartość zmiennej: Druga instancja klasy\n",
            "Nazwa obiektu k: k, nazwa klasy: MojaKlasa, adres: <__main__.MojaKlasa object at 0x7f597366eb10>\n"
          ]
        }
      ]
    },
    {
      "cell_type": "code",
      "source": [
        "class Singleton(type):\n",
        "  _instances = {}\n",
        "  def __call__(cls, *args, **kwargs):\n",
        "      if cls not in cls._instances:\n",
        "        cls._instances[cls] = super(Singleton, cls).__call__(*args, *kwargs)\n",
        "      return cls._instances[cls]"
      ],
      "metadata": {
        "id": "LngXT8-LjlIB"
      },
      "execution_count": 1,
      "outputs": []
    },
    {
      "cell_type": "code",
      "source": [
        "class MojaKlasa(object, metaclass = Singleton):   # object może byc dowolną klasą bazową\n",
        "  _value = None\n",
        "\n",
        "  def SetValue(self, val):\n",
        "    self._value = val\n",
        "\n",
        "  def PrintValue(self):\n",
        "    print(f\"Klasa {self.__class__.__name__} wartość zmiennej: {self._value}\")"
      ],
      "metadata": {
        "id": "nqw6XlT9kQi3"
      },
      "execution_count": 16,
      "outputs": []
    },
    {
      "cell_type": "code",
      "source": [
        "k = MojaKlasa()\n",
        "\n",
        "k.SetValue(\"Nowa instancja klasy\")\n",
        "k.PrintValue()\n",
        "\n",
        "d = MojaKlasa()\n",
        "d.PrintValue()\n",
        "\n",
        "d.SetValue(\"Druga instancja klasy\")\n",
        "d.PrintValue()\n",
        "print(f\"Nazwa obiektu d: {GetObjectName(d)}, nazwa klasy: {d.__class__.__name__}, adres: {d}\")\n",
        "\n",
        "k.PrintValue()\n",
        "print(f\"Nazwa obiektu k: {GetObjectName(k)}, nazwa klasy: {k.__class__.__name__}, adres: {k}\")"
      ],
      "metadata": {
        "colab": {
          "base_uri": "https://localhost:8080/"
        },
        "id": "OewDqYYAkfgl",
        "outputId": "6c6e5cdf-c013-4237-c7ae-50e4c9b769b5"
      },
      "execution_count": 17,
      "outputs": [
        {
          "output_type": "stream",
          "name": "stdout",
          "text": [
            "Klasa MojaKlasa wartość zmiennej: Nowa instancja klasy\n",
            "Klasa MojaKlasa wartość zmiennej: Nowa instancja klasy\n",
            "Klasa MojaKlasa wartość zmiennej: Druga instancja klasy\n",
            "Nazwa obiektu d: k, nazwa klasy: MojaKlasa, adres: <__main__.MojaKlasa object at 0x7f597b7ab790>\n",
            "Klasa MojaKlasa wartość zmiennej: Druga instancja klasy\n",
            "Nazwa obiektu k: k, nazwa klasy: MojaKlasa, adres: <__main__.MojaKlasa object at 0x7f597b7ab790>\n"
          ]
        }
      ]
    },
    {
      "cell_type": "code",
      "source": [
        "class KlasaTestowa(metaclass = Singleton):\n",
        "  str = None\n",
        "\n",
        "  def __init__(self, val):\n",
        "    self.str = val"
      ],
      "metadata": {
        "id": "yry4gcLvk1YX"
      },
      "execution_count": 2,
      "outputs": []
    },
    {
      "cell_type": "code",
      "source": [
        "k1 = KlasaTestowa(\"Testowy komunikat\")\n",
        "k2 = KlasaTestowa(\"Drugi komunikat\")\n",
        "\n",
        "print(k1.str)\n",
        "print(k2.str)"
      ],
      "metadata": {
        "colab": {
          "base_uri": "https://localhost:8080/"
        },
        "id": "dh8zyUzClJUf",
        "outputId": "9b34cd34-7dcb-47fb-f06d-bb47dc227554"
      },
      "execution_count": 19,
      "outputs": [
        {
          "output_type": "stream",
          "name": "stdout",
          "text": [
            "Testowy komunikat\n",
            "Testowy komunikat\n"
          ]
        }
      ]
    },
    {
      "cell_type": "code",
      "source": [
        "from threading import Thread, Lock\n",
        "\n",
        "def test(str):\n",
        "  klasa = KlasaTestowa(str)\n",
        "  print(klasa.str)\n",
        "\n",
        "t1 = Thread(target=test, args=(\"PIERWSZY\", ))\n",
        "t2 = Thread(target=test, args=(\"DRUGI\", ))\n",
        "\n",
        "t1.start()\n",
        "t2.start()"
      ],
      "metadata": {
        "colab": {
          "base_uri": "https://localhost:8080/"
        },
        "id": "ajyeWIdolgLN",
        "outputId": "2e8ac4e6-42e8-47e3-b21e-cad07bebf388"
      },
      "execution_count": 5,
      "outputs": [
        {
          "output_type": "stream",
          "name": "stdout",
          "text": [
            "PIERWSZY\n",
            "PIERWSZY\n"
          ]
        }
      ]
    },
    {
      "cell_type": "code",
      "source": [
        "class Singleton(type):\n",
        "  _instances = {}\n",
        "  _lock = Lock()\n",
        "  def __call__(cls, *args, **kwargs):\n",
        "      with cls._lock:\n",
        "        if cls not in cls._instances:\n",
        "          cls._instances[cls] = super(Singleton, cls).__call__(*args, *kwargs)\n",
        "      return cls._instances[cls]"
      ],
      "metadata": {
        "id": "f9u8v-tsmlhK"
      },
      "execution_count": 9,
      "outputs": []
    },
    {
      "cell_type": "code",
      "source": [
        "class KlasaTestowa(metaclass = Singleton):\n",
        "  str = None\n",
        "\n",
        "  def __init__(self, val):\n",
        "    self.str = val"
      ],
      "metadata": {
        "id": "odfJXtCduscl"
      },
      "execution_count": 10,
      "outputs": []
    },
    {
      "cell_type": "code",
      "source": [
        "def test(str):\n",
        "  klasa = KlasaTestowa(str)\n",
        "  print(klasa.str)\n",
        "\n",
        "t1 = Thread(target=test, args=(\"PIERWSZY\", ))\n",
        "t2 = Thread(target=test, args=(\"DRUGI\", ))\n",
        "\n",
        "t1.start()\n",
        "t2.start()"
      ],
      "metadata": {
        "colab": {
          "base_uri": "https://localhost:8080/"
        },
        "id": "VFEuOVDso1XO",
        "outputId": "f3f8b041-9497-48d6-ea1e-a983caf3e2ad"
      },
      "execution_count": 11,
      "outputs": [
        {
          "output_type": "stream",
          "name": "stdout",
          "text": [
            "PIERWSZY\n",
            "PIERWSZY\n"
          ]
        }
      ]
    },
    {
      "cell_type": "markdown",
      "source": [
        "# POOL OF OBJECT"
      ],
      "metadata": {
        "id": "yYn0bTJhueTO"
      }
    },
    {
      "cell_type": "code",
      "source": [
        "class Reusable(object):\n",
        "  __idx = None\n",
        "\n",
        "  def __init__(self, idx):\n",
        "      self.__idx = idx\n",
        "\n",
        "  def PrintInfo(self):\n",
        "    print(f\"Instancja obiektu: {self.__idx}\")"
      ],
      "metadata": {
        "id": "CV4y8SJ5ugWV"
      },
      "execution_count": 12,
      "outputs": []
    },
    {
      "cell_type": "code",
      "source": [
        "class ReusablePool(metaclass = Singleton):\n",
        "  def __init__(self, size):\n",
        "    self._reusable = [Reusable(i) for i in range(size)]\n",
        "\n",
        "  def acquire(self):\n",
        "    return self._reusable.pop()\n",
        "\n",
        "  def release(self, reusable):\n",
        "    self._reusable.append(reusable)"
      ],
      "metadata": {
        "id": "wokvbAqEvTcG"
      },
      "execution_count": 13,
      "outputs": []
    },
    {
      "cell_type": "code",
      "source": [
        "reusablePool = ReusablePool(10)\n",
        "\n",
        "r1 = reusablePool.acquire()\n",
        "r1.PrintInfo()\n",
        "reusablePool.release(r1)\n",
        "\n",
        "r1 = reusablePool.acquire()\n",
        "r1.PrintInfo()\n",
        "\n",
        "r2 = reusablePool.acquire()\n",
        "r2.PrintInfo()"
      ],
      "metadata": {
        "colab": {
          "base_uri": "https://localhost:8080/"
        },
        "id": "2Lm17bbHwHaj",
        "outputId": "cb03a314-2740-456e-a9ba-ba01fb65de51"
      },
      "execution_count": 15,
      "outputs": [
        {
          "output_type": "stream",
          "name": "stdout",
          "text": [
            "Instancja obiektu: 8\n",
            "Instancja obiektu: 8\n",
            "Instancja obiektu: 7\n"
          ]
        }
      ]
    },
    {
      "cell_type": "markdown",
      "source": [
        "# OBSERVER"
      ],
      "metadata": {
        "id": "TwRr7HdvyPm1"
      }
    },
    {
      "cell_type": "code",
      "source": [
        "class Subscriber(object):\n",
        "  def __init__(self, name):\n",
        "    self.name = name\n",
        "\n",
        "  def update(self, message):\n",
        "    print(f\"{self.name} otrzymał wiadomość: {message}\")"
      ],
      "metadata": {
        "id": "P8HEkQc6yRMj"
      },
      "execution_count": 16,
      "outputs": []
    },
    {
      "cell_type": "code",
      "source": [
        "class Publisher(object):\n",
        "  def __init__(self):\n",
        "    self.subscribers = set()\n",
        "\n",
        "  def register(self, who):\n",
        "    self.subscribers.add(who)\n",
        "                        \n",
        "  def unregister(self, who):\n",
        "    self.subscribers.discard(who)\n",
        "\n",
        "  def dispatch(self, message):\n",
        "    for subscriber in self.subscribers:\n",
        "      subscriber.update(message)"
      ],
      "metadata": {
        "id": "WH6xJM3jymAC"
      },
      "execution_count": 17,
      "outputs": []
    },
    {
      "cell_type": "code",
      "source": [
        "pub = Publisher()\n",
        "\n",
        "jan = Subscriber('Jan')\n",
        "alicja = Subscriber('Alicja')\n",
        "adam = Subscriber('Adam')\n",
        "\n",
        "pub.register(jan)\n",
        "pub.register(alicja)\n",
        "pub.register(adam)\n",
        "\n",
        "pub.dispatch(\"czas na obiad\")\n",
        "\n",
        "pub.unregister(adam)\n",
        "\n",
        "pub.dispatch(\"czas na kolację\")"
      ],
      "metadata": {
        "colab": {
          "base_uri": "https://localhost:8080/"
        },
        "id": "NNcqRicpzOCc",
        "outputId": "b183f9b1-9213-4f92-8234-40e9adca25a3"
      },
      "execution_count": 19,
      "outputs": [
        {
          "output_type": "stream",
          "name": "stdout",
          "text": [
            "Alicja otrzymał wiadomość: czas na obiad\n",
            "Jan otrzymał wiadomość: czas na obiad\n",
            "Adam otrzymał wiadomość: czas na obiad\n",
            "Alicja otrzymał wiadomość: czas na kolację\n",
            "Jan otrzymał wiadomość: czas na kolację\n"
          ]
        }
      ]
    },
    {
      "cell_type": "code",
      "source": [
        "class SubscriberOne(object):\n",
        "  def __init__(self, name):\n",
        "    self.name = name\n",
        "\n",
        "  def update(self, message):\n",
        "    print(f\"{self.name} otrzymał wiadomość: {message}\")\n",
        "\n",
        "class SubscriberTwo(object):\n",
        "  def __init__(self, name):\n",
        "    self.name = name\n",
        "\n",
        "  def receiver(self, message):\n",
        "    print(f\"{self.name} otrzymał wiadomość: {message}\")    "
      ],
      "metadata": {
        "id": "t2jqjc9dz5Vl"
      },
      "execution_count": 20,
      "outputs": []
    },
    {
      "cell_type": "code",
      "source": [
        "class Publisher(object):\n",
        "  def __init__(self):\n",
        "    self.subscribers = dict()\n",
        "\n",
        "  def register(self, who, callback = None):\n",
        "    if callback == None:\n",
        "      callback = getattr(who, 'update')\n",
        "    self.subscribers[who] = callback\n",
        "                        \n",
        "  def unregister(self, who):\n",
        "    del self.subscribers[who]\n",
        "\n",
        "  def dispatch(self, message):\n",
        "    for subscriber, callback in self.subscribers.items():\n",
        "      callback(message)"
      ],
      "metadata": {
        "id": "qsVBMqnG0J6F"
      },
      "execution_count": 22,
      "outputs": []
    },
    {
      "cell_type": "code",
      "source": [
        "pub = Publisher()\n",
        "\n",
        "jan = SubscriberOne('Jan')\n",
        "alicja = SubscriberTwo('Alicja')\n",
        "adam = SubscriberOne('Adam')\n",
        "\n",
        "pub.register(jan, jan.update)\n",
        "pub.register(alicja, alicja.receiver)\n",
        "pub.register(adam)\n",
        "\n",
        "pub.dispatch(\"czas na obiad\")\n",
        "\n",
        "pub.unregister(adam)\n",
        "\n",
        "pub.dispatch(\"czas na kolację\")"
      ],
      "metadata": {
        "colab": {
          "base_uri": "https://localhost:8080/"
        },
        "id": "MlySSuhN0p4c",
        "outputId": "81030153-d614-49cc-b081-e69c600bd377"
      },
      "execution_count": 23,
      "outputs": [
        {
          "output_type": "stream",
          "name": "stdout",
          "text": [
            "Jan otrzymał wiadomość: czas na obiad\n",
            "Alicja otrzymał wiadomość: czas na obiad\n",
            "Adam otrzymał wiadomość: czas na obiad\n",
            "Jan otrzymał wiadomość: czas na kolację\n",
            "Alicja otrzymał wiadomość: czas na kolację\n"
          ]
        }
      ]
    },
    {
      "cell_type": "code",
      "source": [
        "class Subscriber(object):\n",
        "  def __init__(self, name):\n",
        "    self.name = name\n",
        "\n",
        "  def update(self, message):\n",
        "    print(f\"{self.name} otrzymał wiadomość: {message}\")"
      ],
      "metadata": {
        "id": "VJeXifuK1sdB"
      },
      "execution_count": 24,
      "outputs": []
    },
    {
      "cell_type": "code",
      "source": [
        "class Publisher(object):\n",
        "  def __init__(self, events):\n",
        "    self.events = {event: dict() for event in events}\n",
        "\n",
        "  def getSubscribers(self, event):\n",
        "    return self.events[event]\n",
        "\n",
        "  def register(self, event, who, callback = None):\n",
        "    if callback == None:\n",
        "      callback = getattr(who, 'update')\n",
        "    self.getSubscribers(event)[who] = callback\n",
        "                        \n",
        "  def unregister(self, event, who):\n",
        "    del self.getSubscribers(event)[who]\n",
        "\n",
        "  def dispatch(self, event, message):\n",
        "    for subscriber, callback in self.getSubscribers(event).items():\n",
        "      callback(message)"
      ],
      "metadata": {
        "id": "O1frfkK11vF0"
      },
      "execution_count": 25,
      "outputs": []
    },
    {
      "cell_type": "code",
      "source": [
        "pub = Publisher(['obiad', 'kolacja'])\n",
        "\n",
        "jan = Subscriber('Jan')\n",
        "alicja = Subscriber('Alicja')\n",
        "adam = Subscriber('Adam')\n",
        "renata = SubscriberTwo('Reanata')\n",
        "\n",
        "pub.register('obiad', jan)\n",
        "pub.register('obiad', alicja)\n",
        "pub.register('obiad', adam)\n",
        "pub.register('kolacja', jan)\n",
        "pub.register('kolacja', alicja)\n",
        "pub.register('kolacja', renata, renata.receiver)\n",
        "\n",
        "pub.dispatch(\"obiad\", \"czas na obiad\")\n",
        "\n",
        "pub.dispatch(\"kolacja\", \"czas na kolację\")"
      ],
      "metadata": {
        "colab": {
          "base_uri": "https://localhost:8080/"
        },
        "id": "sHMlCovj2uBd",
        "outputId": "a373013f-a39e-4483-9262-deb0e9ae94db"
      },
      "execution_count": 28,
      "outputs": [
        {
          "output_type": "stream",
          "name": "stdout",
          "text": [
            "Jan otrzymał wiadomość: czas na obiad\n",
            "Alicja otrzymał wiadomość: czas na obiad\n",
            "Adam otrzymał wiadomość: czas na obiad\n",
            "Jan otrzymał wiadomość: czas na kolację\n",
            "Alicja otrzymał wiadomość: czas na kolację\n",
            "Reanata otrzymał wiadomość: czas na kolację\n"
          ]
        }
      ]
    },
    {
      "cell_type": "markdown",
      "source": [
        "### ZADANIE\n",
        "Zbudować rozwiązanie gdzie mamy pulę subskrybentów dołączanych do zdarzeń i oczekujących na dołączenie"
      ],
      "metadata": {
        "id": "6-8Ti1-s3x0I"
      }
    },
    {
      "cell_type": "code",
      "source": [
        "class Subscriber(object):\n",
        "  def __init__(self, id):\n",
        "    self.id = id\n",
        "\n",
        "  def setName(self, name):\n",
        "    self.name = name    \n",
        "\n",
        "  def update(self, message):\n",
        "    print(f\"{self.id} {self.name} otrzymał wiadomość: {message}\")\n",
        "\n",
        "class SubscribersPool(object):\n",
        "  def __init__(self, size):\n",
        "    self._reusable = [Subscriber(i) for i in range(size)]\n",
        "\n",
        "  def acquire(self, name):\n",
        "    sub = self._reusable.pop()\n",
        "    sub.setName(name)\n",
        "    return sub\n",
        "\n",
        "  def release(self, reusable):\n",
        "    self._reusable.append(reusable)"
      ],
      "metadata": {
        "id": "fbOb1ltC4IOs"
      },
      "execution_count": 31,
      "outputs": []
    },
    {
      "cell_type": "code",
      "source": [
        "pub = Publisher(['obiad', 'kolacja'])\n",
        "pool = SubscribersPool(10)\n",
        "\n",
        "jan = pool.acquire('Jan')\n",
        "alicja = pool.acquire('Alicja')\n",
        "adam = pool.acquire('Adam')\n",
        "\n",
        "pub.register('obiad', jan)\n",
        "pub.register('obiad', alicja)\n",
        "pub.register('obiad', adam)\n",
        "pub.register('kolacja', jan)\n",
        "pub.register('kolacja', alicja)\n",
        "pool.release(adam)"
      ],
      "metadata": {
        "id": "ToHupchN5OLX"
      },
      "execution_count": 35,
      "outputs": []
    },
    {
      "cell_type": "code",
      "source": [
        "pub.dispatch(\"obiad\", \"czas na obiad\")\n",
        "\n",
        "pub.dispatch(\"kolacja\", \"czas na kolację\")"
      ],
      "metadata": {
        "colab": {
          "base_uri": "https://localhost:8080/"
        },
        "id": "izWMkdZc5zRG",
        "outputId": "6b65bce6-d03c-4072-8377-15d919fca79a"
      },
      "execution_count": 36,
      "outputs": [
        {
          "output_type": "stream",
          "name": "stdout",
          "text": [
            "9 Jan otrzymał wiadomość: czas na obiad\n",
            "8 Alicja otrzymał wiadomość: czas na obiad\n",
            "7 Adam otrzymał wiadomość: czas na obiad\n",
            "9 Jan otrzymał wiadomość: czas na kolację\n",
            "8 Alicja otrzymał wiadomość: czas na kolację\n"
          ]
        }
      ]
    },
    {
      "cell_type": "markdown",
      "source": [
        "# ADAPTER"
      ],
      "metadata": {
        "id": "r9hNkZll7x3F"
      }
    },
    {
      "cell_type": "code",
      "source": [
        ""
      ],
      "metadata": {
        "id": "GTtM456_7zRC"
      },
      "execution_count": null,
      "outputs": []
    }
  ]
}