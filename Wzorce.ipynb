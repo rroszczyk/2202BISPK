{
  "nbformat": 4,
  "nbformat_minor": 0,
  "metadata": {
    "colab": {
      "name": "Wzorce.ipynb",
      "provenance": [],
      "collapsed_sections": [],
      "authorship_tag": "ABX9TyNkDZSsdqFqXM7m6AAdvaRc",
      "include_colab_link": true
    },
    "kernelspec": {
      "name": "python3",
      "display_name": "Python 3"
    },
    "language_info": {
      "name": "python"
    }
  },
  "cells": [
    {
      "cell_type": "markdown",
      "metadata": {
        "id": "view-in-github",
        "colab_type": "text"
      },
      "source": [
        "<a href=\"https://colab.research.google.com/github/rroszczyk/2202BISPK/blob/main/Wzorce.ipynb\" target=\"_parent\"><img src=\"https://colab.research.google.com/assets/colab-badge.svg\" alt=\"Open In Colab\"/></a>"
      ]
    },
    {
      "cell_type": "code",
      "execution_count": 1,
      "metadata": {
        "id": "7_CpLrvnVyRg"
      },
      "outputs": [],
      "source": [
        "def GetObjectName(arg):\n",
        "    try:\n",
        "        return arg.__name__\n",
        "    except AttributeError:\n",
        "        pass\n",
        "\n",
        "    for name, value in globals().items():\n",
        "        if value is arg and not name.startswith('_'):\n",
        "            return name\n"
      ]
    },
    {
      "cell_type": "markdown",
      "source": [
        "# SINGLETON"
      ],
      "metadata": {
        "id": "cad8mGQHdIeF"
      }
    },
    {
      "cell_type": "code",
      "source": [
        "class Singleton(object):\n",
        "  _instance = None\n",
        "\n",
        "  def __new__(class_, *args, **kwargs):\n",
        "      if not isinstance(class_._instance, class_):\n",
        "        class_._instance = object.__new__(class_, *args, **kwargs)\n",
        "      return class_._instance\n"
      ],
      "metadata": {
        "id": "X3_Fy41PdL0l"
      },
      "execution_count": 2,
      "outputs": []
    },
    {
      "cell_type": "code",
      "source": [
        "class MojaKlasa(Singleton, object):   # object może byc dowolną klasą bazową\n",
        "  _value = None\n",
        "\n",
        "  def SetValue(self, val):\n",
        "    self._value = val\n",
        "\n",
        "  def PrintValue(self):\n",
        "    print(f\"Klasa {self.__class__.__name__} wartość zmiennej: {self._value}\")\n",
        "\n",
        "  "
      ],
      "metadata": {
        "id": "e2mBfGLNeHDo"
      },
      "execution_count": 3,
      "outputs": []
    },
    {
      "cell_type": "code",
      "source": [
        "k = MojaKlasa()\n",
        "\n",
        "k.SetValue(\"Nowa instancja klasy\")\n",
        "k.PrintValue()\n",
        "\n",
        "d = MojaKlasa()\n",
        "d.PrintValue()\n",
        "\n",
        "d.SetValue(\"Druga instancja klasy\")\n",
        "d.PrintValue()\n",
        "print(f\"Nazwa obiektu d: {GetObjectName(d)}, nazwa klasy: {d.__class__.__name__}, adres: {d}\")\n",
        "\n",
        "k.PrintValue()\n",
        "print(f\"Nazwa obiektu k: {GetObjectName(k)}, nazwa klasy: {k.__class__.__name__}, adres: {k}\")\n"
      ],
      "metadata": {
        "colab": {
          "base_uri": "https://localhost:8080/"
        },
        "id": "BfeqaHo5ev3s",
        "outputId": "9e8c7c57-9abd-469d-f545-5de929025af0"
      },
      "execution_count": 8,
      "outputs": [
        {
          "output_type": "stream",
          "name": "stdout",
          "text": [
            "Klasa MojaKlasa wartość zmiennej: Nowa instancja klasy\n",
            "Klasa MojaKlasa wartość zmiennej: Nowa instancja klasy\n",
            "Klasa MojaKlasa wartość zmiennej: Druga instancja klasy\n",
            "Nazwa obiektu d: k, nazwa klasy: MojaKlasa, adres: <__main__.MojaKlasa object at 0x7f597b7f7710>\n",
            "Klasa MojaKlasa wartość zmiennej: Druga instancja klasy\n",
            "Nazwa obiektu k: k, nazwa klasy: MojaKlasa, adres: <__main__.MojaKlasa object at 0x7f597b7f7710>\n"
          ]
        }
      ]
    },
    {
      "cell_type": "code",
      "source": [
        "def Singleton(class_):\n",
        "  instances = {}\n",
        "\n",
        "  def getinstance(*args, **kwargs):\n",
        "    if class_ not in instances:\n",
        "      instances[class_] = class_(*args, **kwargs)\n",
        "    return instances[class_]\n",
        "  return getinstance"
      ],
      "metadata": {
        "id": "LAaX6VUQg6Ur"
      },
      "execution_count": 9,
      "outputs": []
    },
    {
      "cell_type": "code",
      "source": [
        "@Singleton\n",
        "class MojaKlasa(object):   # object może byc dowolną klasą bazową\n",
        "  _value = None\n",
        "\n",
        "  def SetValue(self, val):\n",
        "    self._value = val\n",
        "\n",
        "  def PrintValue(self):\n",
        "    print(f\"Klasa {self.__class__.__name__} wartość zmiennej: {self._value}\")\n"
      ],
      "metadata": {
        "id": "deajH6cBi6AL"
      },
      "execution_count": 10,
      "outputs": []
    },
    {
      "cell_type": "code",
      "source": [
        "k = MojaKlasa()\n",
        "\n",
        "k.SetValue(\"Nowa instancja klasy\")\n",
        "k.PrintValue()\n",
        "\n",
        "d = MojaKlasa()\n",
        "d.PrintValue()\n",
        "\n",
        "d.SetValue(\"Druga instancja klasy\")\n",
        "d.PrintValue()\n",
        "print(f\"Nazwa obiektu d: {GetObjectName(d)}, nazwa klasy: {d.__class__.__name__}, adres: {d}\")\n",
        "\n",
        "k.PrintValue()\n",
        "print(f\"Nazwa obiektu k: {GetObjectName(k)}, nazwa klasy: {k.__class__.__name__}, adres: {k}\")"
      ],
      "metadata": {
        "colab": {
          "base_uri": "https://localhost:8080/"
        },
        "id": "wnEckPbci_qP",
        "outputId": "f8dde697-245b-489a-a305-ed7c6b76228d"
      },
      "execution_count": 11,
      "outputs": [
        {
          "output_type": "stream",
          "name": "stdout",
          "text": [
            "Klasa MojaKlasa wartość zmiennej: Nowa instancja klasy\n",
            "Klasa MojaKlasa wartość zmiennej: Nowa instancja klasy\n",
            "Klasa MojaKlasa wartość zmiennej: Druga instancja klasy\n",
            "Nazwa obiektu d: k, nazwa klasy: MojaKlasa, adres: <__main__.MojaKlasa object at 0x7f597366eb10>\n",
            "Klasa MojaKlasa wartość zmiennej: Druga instancja klasy\n",
            "Nazwa obiektu k: k, nazwa klasy: MojaKlasa, adres: <__main__.MojaKlasa object at 0x7f597366eb10>\n"
          ]
        }
      ]
    },
    {
      "cell_type": "code",
      "source": [
        "class Singleton(type):\n",
        "  _instances = {}\n",
        "  def __call__(cls, *args, **kwargs):\n",
        "      if cls not in cls._instances:\n",
        "        cls._instances[cls] = super(Singleton, cls).__call__(*args, *kwargs)\n",
        "      return cls._instances[cls]"
      ],
      "metadata": {
        "id": "LngXT8-LjlIB"
      },
      "execution_count": 1,
      "outputs": []
    },
    {
      "cell_type": "code",
      "source": [
        "class MojaKlasa(object, metaclass = Singleton):   # object może byc dowolną klasą bazową\n",
        "  _value = None\n",
        "\n",
        "  def SetValue(self, val):\n",
        "    self._value = val\n",
        "\n",
        "  def PrintValue(self):\n",
        "    print(f\"Klasa {self.__class__.__name__} wartość zmiennej: {self._value}\")"
      ],
      "metadata": {
        "id": "nqw6XlT9kQi3"
      },
      "execution_count": 16,
      "outputs": []
    },
    {
      "cell_type": "code",
      "source": [
        "k = MojaKlasa()\n",
        "\n",
        "k.SetValue(\"Nowa instancja klasy\")\n",
        "k.PrintValue()\n",
        "\n",
        "d = MojaKlasa()\n",
        "d.PrintValue()\n",
        "\n",
        "d.SetValue(\"Druga instancja klasy\")\n",
        "d.PrintValue()\n",
        "print(f\"Nazwa obiektu d: {GetObjectName(d)}, nazwa klasy: {d.__class__.__name__}, adres: {d}\")\n",
        "\n",
        "k.PrintValue()\n",
        "print(f\"Nazwa obiektu k: {GetObjectName(k)}, nazwa klasy: {k.__class__.__name__}, adres: {k}\")"
      ],
      "metadata": {
        "colab": {
          "base_uri": "https://localhost:8080/"
        },
        "id": "OewDqYYAkfgl",
        "outputId": "6c6e5cdf-c013-4237-c7ae-50e4c9b769b5"
      },
      "execution_count": 17,
      "outputs": [
        {
          "output_type": "stream",
          "name": "stdout",
          "text": [
            "Klasa MojaKlasa wartość zmiennej: Nowa instancja klasy\n",
            "Klasa MojaKlasa wartość zmiennej: Nowa instancja klasy\n",
            "Klasa MojaKlasa wartość zmiennej: Druga instancja klasy\n",
            "Nazwa obiektu d: k, nazwa klasy: MojaKlasa, adres: <__main__.MojaKlasa object at 0x7f597b7ab790>\n",
            "Klasa MojaKlasa wartość zmiennej: Druga instancja klasy\n",
            "Nazwa obiektu k: k, nazwa klasy: MojaKlasa, adres: <__main__.MojaKlasa object at 0x7f597b7ab790>\n"
          ]
        }
      ]
    },
    {
      "cell_type": "code",
      "source": [
        "class KlasaTestowa(metaclass = Singleton):\n",
        "  str = None\n",
        "\n",
        "  def __init__(self, val):\n",
        "    self.str = val"
      ],
      "metadata": {
        "id": "yry4gcLvk1YX"
      },
      "execution_count": 2,
      "outputs": []
    },
    {
      "cell_type": "code",
      "source": [
        "k1 = KlasaTestowa(\"Testowy komunikat\")\n",
        "k2 = KlasaTestowa(\"Drugi komunikat\")\n",
        "\n",
        "print(k1.str)\n",
        "print(k2.str)"
      ],
      "metadata": {
        "colab": {
          "base_uri": "https://localhost:8080/"
        },
        "id": "dh8zyUzClJUf",
        "outputId": "9b34cd34-7dcb-47fb-f06d-bb47dc227554"
      },
      "execution_count": 19,
      "outputs": [
        {
          "output_type": "stream",
          "name": "stdout",
          "text": [
            "Testowy komunikat\n",
            "Testowy komunikat\n"
          ]
        }
      ]
    },
    {
      "cell_type": "code",
      "source": [
        "from threading import Thread, Lock\n",
        "\n",
        "def test(str):\n",
        "  klasa = KlasaTestowa(str)\n",
        "  print(klasa.str)\n",
        "\n",
        "t1 = Thread(target=test, args=(\"PIERWSZY\", ))\n",
        "t2 = Thread(target=test, args=(\"DRUGI\", ))\n",
        "\n",
        "t1.start()\n",
        "t2.start()"
      ],
      "metadata": {
        "colab": {
          "base_uri": "https://localhost:8080/"
        },
        "id": "ajyeWIdolgLN",
        "outputId": "2e8ac4e6-42e8-47e3-b21e-cad07bebf388"
      },
      "execution_count": 5,
      "outputs": [
        {
          "output_type": "stream",
          "name": "stdout",
          "text": [
            "PIERWSZY\n",
            "PIERWSZY\n"
          ]
        }
      ]
    },
    {
      "cell_type": "code",
      "source": [
        "class Singleton(type):\n",
        "  _instances = {}\n",
        "  _lock = Lock()\n",
        "  def __call__(cls, *args, **kwargs):\n",
        "      with cls._lock:\n",
        "        if cls not in cls._instances:\n",
        "          cls._instances[cls] = super(Singleton, cls).__call__(*args, *kwargs)\n",
        "      return cls._instances[cls]"
      ],
      "metadata": {
        "id": "f9u8v-tsmlhK"
      },
      "execution_count": 9,
      "outputs": []
    },
    {
      "cell_type": "code",
      "source": [
        "class KlasaTestowa(metaclass = Singleton):\n",
        "  str = None\n",
        "\n",
        "  def __init__(self, val):\n",
        "    self.str = val"
      ],
      "metadata": {
        "id": "odfJXtCduscl"
      },
      "execution_count": 10,
      "outputs": []
    },
    {
      "cell_type": "code",
      "source": [
        "def test(str):\n",
        "  klasa = KlasaTestowa(str)\n",
        "  print(klasa.str)\n",
        "\n",
        "t1 = Thread(target=test, args=(\"PIERWSZY\", ))\n",
        "t2 = Thread(target=test, args=(\"DRUGI\", ))\n",
        "\n",
        "t1.start()\n",
        "t2.start()"
      ],
      "metadata": {
        "colab": {
          "base_uri": "https://localhost:8080/"
        },
        "id": "VFEuOVDso1XO",
        "outputId": "f3f8b041-9497-48d6-ea1e-a983caf3e2ad"
      },
      "execution_count": 11,
      "outputs": [
        {
          "output_type": "stream",
          "name": "stdout",
          "text": [
            "PIERWSZY\n",
            "PIERWSZY\n"
          ]
        }
      ]
    },
    {
      "cell_type": "markdown",
      "source": [
        "# POOL OF OBJECT"
      ],
      "metadata": {
        "id": "yYn0bTJhueTO"
      }
    },
    {
      "cell_type": "code",
      "source": [
        "class Reusable(object):\n",
        "  __idx = None\n",
        "\n",
        "  def __init__(self, idx):\n",
        "      self.__idx = idx\n",
        "\n",
        "  def PrintInfo(self):\n",
        "    print(f\"Instancja obiektu: {self.__idx}\")"
      ],
      "metadata": {
        "id": "CV4y8SJ5ugWV"
      },
      "execution_count": 12,
      "outputs": []
    },
    {
      "cell_type": "code",
      "source": [
        "class ReusablePool(metaclass = Singleton):\n",
        "  def __init__(self, size):\n",
        "    self._reusable = [Reusable(i) for i in range(size)]\n",
        "\n",
        "  def acquire(self):\n",
        "    return self._reusable.pop()\n",
        "\n",
        "  def release(self, reusable):\n",
        "    self._reusable.append(reusable)"
      ],
      "metadata": {
        "id": "wokvbAqEvTcG"
      },
      "execution_count": 13,
      "outputs": []
    },
    {
      "cell_type": "code",
      "source": [
        "reusablePool = ReusablePool(10)\n",
        "\n",
        "r1 = reusablePool.acquire()\n",
        "r1.PrintInfo()\n",
        "reusablePool.release(r1)\n",
        "\n",
        "r1 = reusablePool.acquire()\n",
        "r1.PrintInfo()\n",
        "\n",
        "r2 = reusablePool.acquire()\n",
        "r2.PrintInfo()"
      ],
      "metadata": {
        "colab": {
          "base_uri": "https://localhost:8080/"
        },
        "id": "2Lm17bbHwHaj",
        "outputId": "cb03a314-2740-456e-a9ba-ba01fb65de51"
      },
      "execution_count": 15,
      "outputs": [
        {
          "output_type": "stream",
          "name": "stdout",
          "text": [
            "Instancja obiektu: 8\n",
            "Instancja obiektu: 8\n",
            "Instancja obiektu: 7\n"
          ]
        }
      ]
    },
    {
      "cell_type": "markdown",
      "source": [
        "# OBSERVER"
      ],
      "metadata": {
        "id": "TwRr7HdvyPm1"
      }
    },
    {
      "cell_type": "code",
      "source": [
        "class Subscriber(object):\n",
        "  def __init__(self, name):\n",
        "    self.name = name\n",
        "\n",
        "  def update(self, message):\n",
        "    print(f\"{self.name} otrzymał wiadomość: {message}\")"
      ],
      "metadata": {
        "id": "P8HEkQc6yRMj"
      },
      "execution_count": 16,
      "outputs": []
    },
    {
      "cell_type": "code",
      "source": [
        "class Publisher(object):\n",
        "  def __init__(self):\n",
        "    self.subscribers = set()\n",
        "\n",
        "  def register(self, who):\n",
        "    self.subscribers.add(who)\n",
        "                        \n",
        "  def unregister(self, who):\n",
        "    self.subscribers.discard(who)\n",
        "\n",
        "  def dispatch(self, message):\n",
        "    for subscriber in self.subscribers:\n",
        "      subscriber.update(message)"
      ],
      "metadata": {
        "id": "WH6xJM3jymAC"
      },
      "execution_count": 17,
      "outputs": []
    },
    {
      "cell_type": "code",
      "source": [
        "pub = Publisher()\n",
        "\n",
        "jan = Subscriber('Jan')\n",
        "alicja = Subscriber('Alicja')\n",
        "adam = Subscriber('Adam')\n",
        "\n",
        "pub.register(jan)\n",
        "pub.register(alicja)\n",
        "pub.register(adam)\n",
        "\n",
        "pub.dispatch(\"czas na obiad\")\n",
        "\n",
        "pub.unregister(adam)\n",
        "\n",
        "pub.dispatch(\"czas na kolację\")"
      ],
      "metadata": {
        "colab": {
          "base_uri": "https://localhost:8080/"
        },
        "id": "NNcqRicpzOCc",
        "outputId": "b183f9b1-9213-4f92-8234-40e9adca25a3"
      },
      "execution_count": 19,
      "outputs": [
        {
          "output_type": "stream",
          "name": "stdout",
          "text": [
            "Alicja otrzymał wiadomość: czas na obiad\n",
            "Jan otrzymał wiadomość: czas na obiad\n",
            "Adam otrzymał wiadomość: czas na obiad\n",
            "Alicja otrzymał wiadomość: czas na kolację\n",
            "Jan otrzymał wiadomość: czas na kolację\n"
          ]
        }
      ]
    },
    {
      "cell_type": "code",
      "source": [
        "class SubscriberOne(object):\n",
        "  def __init__(self, name):\n",
        "    self.name = name\n",
        "\n",
        "  def update(self, message):\n",
        "    print(f\"{self.name} otrzymał wiadomość: {message}\")\n",
        "\n",
        "class SubscriberTwo(object):\n",
        "  def __init__(self, name):\n",
        "    self.name = name\n",
        "\n",
        "  def receiver(self, message):\n",
        "    print(f\"{self.name} otrzymał wiadomość: {message}\")    "
      ],
      "metadata": {
        "id": "t2jqjc9dz5Vl"
      },
      "execution_count": 20,
      "outputs": []
    },
    {
      "cell_type": "code",
      "source": [
        "class Publisher(object):\n",
        "  def __init__(self):\n",
        "    self.subscribers = dict()\n",
        "\n",
        "  def register(self, who, callback = None):\n",
        "    if callback == None:\n",
        "      callback = getattr(who, 'update')\n",
        "    self.subscribers[who] = callback\n",
        "                        \n",
        "  def unregister(self, who):\n",
        "    del self.subscribers[who]\n",
        "\n",
        "  def dispatch(self, message):\n",
        "    for subscriber, callback in self.subscribers.items():\n",
        "      callback(message)"
      ],
      "metadata": {
        "id": "qsVBMqnG0J6F"
      },
      "execution_count": 22,
      "outputs": []
    },
    {
      "cell_type": "code",
      "source": [
        "pub = Publisher()\n",
        "\n",
        "jan = SubscriberOne('Jan')\n",
        "alicja = SubscriberTwo('Alicja')\n",
        "adam = SubscriberOne('Adam')\n",
        "\n",
        "pub.register(jan, jan.update)\n",
        "pub.register(alicja, alicja.receiver)\n",
        "pub.register(adam)\n",
        "\n",
        "pub.dispatch(\"czas na obiad\")\n",
        "\n",
        "pub.unregister(adam)\n",
        "\n",
        "pub.dispatch(\"czas na kolację\")"
      ],
      "metadata": {
        "colab": {
          "base_uri": "https://localhost:8080/"
        },
        "id": "MlySSuhN0p4c",
        "outputId": "81030153-d614-49cc-b081-e69c600bd377"
      },
      "execution_count": 23,
      "outputs": [
        {
          "output_type": "stream",
          "name": "stdout",
          "text": [
            "Jan otrzymał wiadomość: czas na obiad\n",
            "Alicja otrzymał wiadomość: czas na obiad\n",
            "Adam otrzymał wiadomość: czas na obiad\n",
            "Jan otrzymał wiadomość: czas na kolację\n",
            "Alicja otrzymał wiadomość: czas na kolację\n"
          ]
        }
      ]
    },
    {
      "cell_type": "code",
      "source": [
        "class Subscriber(object):\n",
        "  def __init__(self, name):\n",
        "    self.name = name\n",
        "\n",
        "  def update(self, message):\n",
        "    print(f\"{self.name} otrzymał wiadomość: {message}\")"
      ],
      "metadata": {
        "id": "VJeXifuK1sdB"
      },
      "execution_count": 24,
      "outputs": []
    },
    {
      "cell_type": "code",
      "source": [
        "class Publisher(object):\n",
        "  def __init__(self, events):\n",
        "    self.events = {event: dict() for event in events}\n",
        "\n",
        "  def getSubscribers(self, event):\n",
        "    return self.events[event]\n",
        "\n",
        "  def register(self, event, who, callback = None):\n",
        "    if callback == None:\n",
        "      callback = getattr(who, 'update')\n",
        "    self.getSubscribers(event)[who] = callback\n",
        "                        \n",
        "  def unregister(self, event, who):\n",
        "    del self.getSubscribers(event)[who]\n",
        "\n",
        "  def dispatch(self, event, message):\n",
        "    for subscriber, callback in self.getSubscribers(event).items():\n",
        "      callback(message)"
      ],
      "metadata": {
        "id": "O1frfkK11vF0"
      },
      "execution_count": 25,
      "outputs": []
    },
    {
      "cell_type": "code",
      "source": [
        "pub = Publisher(['obiad', 'kolacja'])\n",
        "\n",
        "jan = Subscriber('Jan')\n",
        "alicja = Subscriber('Alicja')\n",
        "adam = Subscriber('Adam')\n",
        "renata = SubscriberTwo('Reanata')\n",
        "\n",
        "pub.register('obiad', jan)\n",
        "pub.register('obiad', alicja)\n",
        "pub.register('obiad', adam)\n",
        "pub.register('kolacja', jan)\n",
        "pub.register('kolacja', alicja)\n",
        "pub.register('kolacja', renata, renata.receiver)\n",
        "\n",
        "pub.dispatch(\"obiad\", \"czas na obiad\")\n",
        "\n",
        "pub.dispatch(\"kolacja\", \"czas na kolację\")"
      ],
      "metadata": {
        "colab": {
          "base_uri": "https://localhost:8080/"
        },
        "id": "sHMlCovj2uBd",
        "outputId": "a373013f-a39e-4483-9262-deb0e9ae94db"
      },
      "execution_count": 28,
      "outputs": [
        {
          "output_type": "stream",
          "name": "stdout",
          "text": [
            "Jan otrzymał wiadomość: czas na obiad\n",
            "Alicja otrzymał wiadomość: czas na obiad\n",
            "Adam otrzymał wiadomość: czas na obiad\n",
            "Jan otrzymał wiadomość: czas na kolację\n",
            "Alicja otrzymał wiadomość: czas na kolację\n",
            "Reanata otrzymał wiadomość: czas na kolację\n"
          ]
        }
      ]
    },
    {
      "cell_type": "markdown",
      "source": [
        "### ZADANIE\n",
        "Zbudować rozwiązanie gdzie mamy pulę subskrybentów dołączanych do zdarzeń i oczekujących na dołączenie"
      ],
      "metadata": {
        "id": "6-8Ti1-s3x0I"
      }
    },
    {
      "cell_type": "code",
      "source": [
        "class Subscriber(object):\n",
        "  def __init__(self, id):\n",
        "    self.id = id\n",
        "\n",
        "  def setName(self, name):\n",
        "    self.name = name    \n",
        "\n",
        "  def update(self, message):\n",
        "    print(f\"{self.id} {self.name} otrzymał wiadomość: {message}\")\n",
        "\n",
        "class SubscribersPool(object):\n",
        "  def __init__(self, size):\n",
        "    self._reusable = [Subscriber(i) for i in range(size)]\n",
        "\n",
        "  def acquire(self, name):\n",
        "    sub = self._reusable.pop()\n",
        "    sub.setName(name)\n",
        "    return sub\n",
        "\n",
        "  def release(self, reusable):\n",
        "    self._reusable.append(reusable)"
      ],
      "metadata": {
        "id": "fbOb1ltC4IOs"
      },
      "execution_count": 31,
      "outputs": []
    },
    {
      "cell_type": "code",
      "source": [
        "pub = Publisher(['obiad', 'kolacja'])\n",
        "pool = SubscribersPool(10)\n",
        "\n",
        "jan = pool.acquire('Jan')\n",
        "alicja = pool.acquire('Alicja')\n",
        "adam = pool.acquire('Adam')\n",
        "\n",
        "pub.register('obiad', jan)\n",
        "pub.register('obiad', alicja)\n",
        "pub.register('obiad', adam)\n",
        "pub.register('kolacja', jan)\n",
        "pub.register('kolacja', alicja)\n",
        "pool.release(adam)"
      ],
      "metadata": {
        "id": "ToHupchN5OLX"
      },
      "execution_count": 35,
      "outputs": []
    },
    {
      "cell_type": "code",
      "source": [
        "pub.dispatch(\"obiad\", \"czas na obiad\")\n",
        "\n",
        "pub.dispatch(\"kolacja\", \"czas na kolację\")"
      ],
      "metadata": {
        "colab": {
          "base_uri": "https://localhost:8080/"
        },
        "id": "izWMkdZc5zRG",
        "outputId": "6b65bce6-d03c-4072-8377-15d919fca79a"
      },
      "execution_count": 36,
      "outputs": [
        {
          "output_type": "stream",
          "name": "stdout",
          "text": [
            "9 Jan otrzymał wiadomość: czas na obiad\n",
            "8 Alicja otrzymał wiadomość: czas na obiad\n",
            "7 Adam otrzymał wiadomość: czas na obiad\n",
            "9 Jan otrzymał wiadomość: czas na kolację\n",
            "8 Alicja otrzymał wiadomość: czas na kolację\n"
          ]
        }
      ]
    },
    {
      "cell_type": "markdown",
      "source": [
        "# ADAPTER"
      ],
      "metadata": {
        "id": "r9hNkZll7x3F"
      }
    },
    {
      "cell_type": "code",
      "source": [
        "class EuropejskieGniazdoInterfejs(object):\n",
        "  def voltage(self):\n",
        "    pass\n",
        "  \n",
        "  def live(self):\n",
        "    pass\n",
        "\n",
        "  def neutral(self):\n",
        "    pass\n",
        "\n",
        "  def earth(self):\n",
        "    pass\n",
        "\n",
        "class Gniazdo(EuropejskieGniazdoInterfejs):\n",
        "  def voltage(self):\n",
        "    return 230\n",
        "\n",
        "  def live(self):\n",
        "    return 1\n",
        "\n",
        "  def neutral(self):\n",
        "    return -1\n",
        "\n",
        "  def earth(self):\n",
        "    return 0"
      ],
      "metadata": {
        "id": "GTtM456_7zRC"
      },
      "execution_count": 37,
      "outputs": []
    },
    {
      "cell_type": "code",
      "source": [
        "class Czajnik:\n",
        "  __power = None\n",
        "\n",
        "  def __init__(self, power):\n",
        "    self.__power = power\n",
        "\n",
        "  def gotuj(self):\n",
        "    if self.__power.voltage() > 110:\n",
        "      print(\"Czajnik płonie !!!\")\n",
        "    else:\n",
        "      if self.__power.live() == 1 and self.__power.neutral() == -1:\n",
        "        print(\"Gotujemy wodę na kawę\")\n",
        "      else:\n",
        "        print(\"Brak zasilania\")"
      ],
      "metadata": {
        "id": "L4Af4Fui8oEa"
      },
      "execution_count": 38,
      "outputs": []
    },
    {
      "cell_type": "code",
      "source": [
        "gniazdo = Gniazdo()\n",
        "\n",
        "czajnik = Czajnik(gniazdo)\n",
        "czajnik.gotuj()"
      ],
      "metadata": {
        "colab": {
          "base_uri": "https://localhost:8080/"
        },
        "id": "x1CGbD6B9H-C",
        "outputId": "f81e31f2-25b1-48d7-b0ec-b32ced85adb5"
      },
      "execution_count": 39,
      "outputs": [
        {
          "output_type": "stream",
          "name": "stdout",
          "text": [
            "Czajnik płonie !!!\n"
          ]
        }
      ]
    },
    {
      "cell_type": "code",
      "source": [
        "class USAGniazdoInterfejs(object):\n",
        "  def voltage(self):\n",
        "    pass\n",
        "  \n",
        "  def live(self):\n",
        "    pass\n",
        "\n",
        "  def neutral(self):\n",
        "    pass\n",
        "\n",
        "class Adapter(USAGniazdoInterfejs):\n",
        "  __socket = None\n",
        "\n",
        "  def __init__(self, socket):\n",
        "    self.__socket = socket\n",
        "\n",
        "  def voltage(self):\n",
        "    return 110\n",
        "\n",
        "  def live(self):\n",
        "    return self.__socket.live()\n",
        "\n",
        "  def neutral(self):\n",
        "    return self.__socket.neutral()"
      ],
      "metadata": {
        "id": "rZCqSmdW9aUl"
      },
      "execution_count": 40,
      "outputs": []
    },
    {
      "cell_type": "code",
      "source": [
        "gniazdo = Gniazdo()\n",
        "\n",
        "adapter = Adapter(gniazdo)\n",
        "\n",
        "czajnik = Czajnik(adapter)\n",
        "czajnik.gotuj()"
      ],
      "metadata": {
        "colab": {
          "base_uri": "https://localhost:8080/"
        },
        "id": "79sK8_ti97nb",
        "outputId": "f08f479d-ceaa-4370-da03-705f148f8229"
      },
      "execution_count": 41,
      "outputs": [
        {
          "output_type": "stream",
          "name": "stdout",
          "text": [
            "Gotujemy wodę na kawę\n"
          ]
        }
      ]
    },
    {
      "cell_type": "code",
      "source": [
        "gniazdo = Gniazdo()\n",
        "\n",
        "czajnik = Czajnik(Adapter(gniazdo))\n",
        "czajnik.gotuj()"
      ],
      "metadata": {
        "colab": {
          "base_uri": "https://localhost:8080/"
        },
        "id": "V9w5dsNP-IRW",
        "outputId": "f2ef78d4-828f-4940-cbe2-67bdc485d13d"
      },
      "execution_count": 42,
      "outputs": [
        {
          "output_type": "stream",
          "name": "stdout",
          "text": [
            "Gotujemy wodę na kawę\n"
          ]
        }
      ]
    },
    {
      "cell_type": "code",
      "source": [
        "class MotorCycle:\n",
        "    def __init__(self):\n",
        "        self.name = \"MotorCycle\"\n",
        "\n",
        "    def TwoWheeler(self):\n",
        "        return \"dwu-kołowym\"\n",
        "\n",
        "\n",
        "class Truck:\n",
        "    def __init__(self):\n",
        "        self.name = \"Truck\"\n",
        "\n",
        "    def EightWheeler(self):\n",
        "        return \"ośmio-kołowym\"\n",
        "\n",
        "\n",
        "class Car:\n",
        "    def __init__(self):\n",
        "        self.name = \"Car\"\n",
        "\n",
        "    def FourWheeler(self):\n",
        "        return \"czetero-kołowym\""
      ],
      "metadata": {
        "id": "Qx4HE_7e-ZYY"
      },
      "execution_count": 43,
      "outputs": []
    },
    {
      "cell_type": "code",
      "source": [
        "class Adapter:\n",
        "    def __init__(self, obj, **adapted_methods):\n",
        "        self.obj = obj\n",
        "        self.__dict__.update(adapted_methods)\n",
        "\n",
        "    def __getattr__(self, attr):\n",
        "        return getattr(self.obj, attr)\n",
        "\n",
        "    def original_dict(self):\n",
        "        return self.obj.__dict__\n"
      ],
      "metadata": {
        "id": "mh0QflIf-yGU"
      },
      "execution_count": 44,
      "outputs": []
    },
    {
      "cell_type": "code",
      "source": [
        "o = []\n",
        "\n",
        "motorCycle = MotorCycle()\n",
        "o.append(Adapter(motorCycle, wheels = motorCycle.TwoWheeler))\n",
        "\n",
        "truck = Truck()\n",
        "o.append(Adapter(truck, wheels = truck.EightWheeler))\n",
        "\n",
        "car = Car()\n",
        "o.append(Adapter(car, wheels = car.FourWheeler))\n",
        "\n",
        "for obj in o:\n",
        "  print(f\"Obiekt {obj.name} jest pojazdem {obj.wheels()}\")"
      ],
      "metadata": {
        "colab": {
          "base_uri": "https://localhost:8080/"
        },
        "id": "jpkRZPLx_WeH",
        "outputId": "7d04c9a2-63f6-493b-a7d9-da974b3062bb"
      },
      "execution_count": 45,
      "outputs": [
        {
          "output_type": "stream",
          "name": "stdout",
          "text": [
            "Obiekt MotorCycle jest pojazdem dwu-kołowym\n",
            "Obiekt Truck jest pojazdem ośmio-kołowym\n",
            "Obiekt Car jest pojazdem czetero-kołowym\n"
          ]
        }
      ]
    },
    {
      "cell_type": "code",
      "source": [
        "motor = MotorCycle()\n",
        "\n",
        "m = Adapter(motor, kolo=motor.TwoWheeler)\n",
        "\n",
        "print(f\"{m.kolo()}\")"
      ],
      "metadata": {
        "colab": {
          "base_uri": "https://localhost:8080/"
        },
        "id": "k11-XrpbAe-M",
        "outputId": "c093a9ea-3e39-495a-90f9-ceb663ad0974"
      },
      "execution_count": 49,
      "outputs": [
        {
          "output_type": "stream",
          "name": "stdout",
          "text": [
            "dwu-kołowym\n"
          ]
        }
      ]
    },
    {
      "cell_type": "code",
      "source": [
        "class Subscriber(object):\n",
        "  def __init__(self, name):\n",
        "    self.name = name\n",
        "\n",
        "  def update(self, message):\n",
        "    print(f\"{self.name} otrzymał wiadomość: {message}\")\n",
        "\n",
        "class Publisher(object):\n",
        "  def __init__(self, events):\n",
        "    self.events = {event: dict() for event in events}\n",
        "\n",
        "  def getSubscribers(self, event):\n",
        "    return self.events[event]\n",
        "\n",
        "  def register(self, event, who, callback = None):\n",
        "    if callback == None:\n",
        "      callback = getattr(who, 'update')\n",
        "    self.getSubscribers(event)[who] = callback\n",
        "                        \n",
        "  def unregister(self, event, who):\n",
        "    del self.getSubscribers(event)[who]\n",
        "\n",
        "  def dispatch(self, event, message):\n",
        "    for subscriber, callback in self.getSubscribers(event).items():\n",
        "      callback(message)\n",
        "\n",
        "pub = Publisher(['obiad', 'kolacja'])\n",
        "\n",
        "jan = Subscriber('Jan')\n",
        "alicja = Subscriber('Alicja')\n",
        "adam = Subscriber('Adam')\n",
        "renata = SubscriberTwo('Reanata')\n",
        "\n",
        "adaptowanaRenata = Adapter(renata, update=renata.receiver)\n",
        "\n",
        "pub.register('obiad', jan)\n",
        "pub.register('obiad', alicja)\n",
        "pub.register('obiad', adam)\n",
        "pub.register('kolacja', jan)\n",
        "pub.register('kolacja', alicja)\n",
        "pub.register('kolacja', adaptowanaRenata)\n",
        "\n",
        "pub.dispatch(\"obiad\", \"czas na obiad\")\n",
        "\n",
        "pub.dispatch(\"kolacja\", \"czas na kolację\")"
      ],
      "metadata": {
        "colab": {
          "base_uri": "https://localhost:8080/"
        },
        "id": "dRU1SYjEBZ8s",
        "outputId": "87d52cb2-2547-4473-a581-f0f681569086"
      },
      "execution_count": 54,
      "outputs": [
        {
          "output_type": "stream",
          "name": "stdout",
          "text": [
            "Jan otrzymał wiadomość: czas na obiad\n",
            "Alicja otrzymał wiadomość: czas na obiad\n",
            "Adam otrzymał wiadomość: czas na obiad\n",
            "Jan otrzymał wiadomość: czas na kolację\n",
            "Alicja otrzymał wiadomość: czas na kolację\n",
            "Reanata otrzymał wiadomość: czas na kolację\n"
          ]
        }
      ]
    },
    {
      "cell_type": "markdown",
      "source": [
        "# COMPOSITE"
      ],
      "metadata": {
        "id": "fnpEz4WzK-1X"
      }
    },
    {
      "cell_type": "code",
      "source": [
        "class Leaf(object):\n",
        "  def __init__(self, position):\n",
        "    self._position = position\n",
        "\n",
        "  def ShowDetails(self):\n",
        "    print(\"\\t\", end=\"\")\n",
        "    print(self._position)"
      ],
      "metadata": {
        "id": "EuzSABjGLAT-"
      },
      "execution_count": 55,
      "outputs": []
    },
    {
      "cell_type": "code",
      "source": [
        "class Composite:\n",
        "  def __init__(self, position):\n",
        "    self._position = position\n",
        "    self._children = []\n",
        "\n",
        "  def add(self, child):\n",
        "    self._children.append(child)\n",
        "\n",
        "  def remove(self, child):\n",
        "    self._children.remove(child)\n",
        "\n",
        "  def ShowDetails(self):\n",
        "    print(self._position)\n",
        "    for child in self._children:\n",
        "      print(\"\\t\", end=\"\")\n",
        "      child.ShowDetails()"
      ],
      "metadata": {
        "id": "Lh4Qn5CzLgJ3"
      },
      "execution_count": 56,
      "outputs": []
    },
    {
      "cell_type": "code",
      "source": [
        "top = Composite(\"Rektor\")\n",
        "\n",
        "dziekan1 = Composite(\"Dziekan 1\")\n",
        "dziekan2 = Composite(\"Dziekan 2\")\n",
        "top.add(dziekan1)\n",
        "top.add(dziekan2)\n",
        "\n",
        "wykladowca11 = Leaf(\"Wykładowca 1\")\n",
        "wykladowca12 = Leaf(\"Wykładowca 2\")\n",
        "wykladowca21 = Leaf(\"Wykładowca 1\")\n",
        "wykladowca22 = Leaf(\"Wykładowca 2\")\n",
        "\n",
        "dziekan1.add(wykladowca11)\n",
        "dziekan1.add(wykladowca12)\n",
        "\n",
        "dziekan2.add(wykladowca21)\n",
        "dziekan2.add(wykladowca22)\n",
        "\n",
        "top.ShowDetails()"
      ],
      "metadata": {
        "colab": {
          "base_uri": "https://localhost:8080/"
        },
        "id": "-DetrveVMIes",
        "outputId": "df6223af-29f6-4954-f63b-61913165f98e"
      },
      "execution_count": 57,
      "outputs": [
        {
          "output_type": "stream",
          "name": "stdout",
          "text": [
            "Rektor\n",
            "\tDziekan 1\n",
            "\t\tWykładowca 1\n",
            "\t\tWykładowca 2\n",
            "\tDziekan 2\n",
            "\t\tWykładowca 1\n",
            "\t\tWykładowca 2\n"
          ]
        }
      ]
    },
    {
      "cell_type": "markdown",
      "source": [
        "### ZADANIE\n",
        "Przygotować adapter pozwalający na wykorzystanie elementu Leaf w taki sposób jak Composite"
      ],
      "metadata": {
        "id": "hZz5NV4CNIWC"
      }
    },
    {
      "cell_type": "code",
      "source": [
        "from __future__ import annotations\n",
        "from abc import ABC, abstractmethod\n",
        "from typing import List\n",
        "\n",
        "class Component(ABC):\n",
        "    \"\"\"\n",
        "    Klasa bazowa Component deklaruje wspólne operacje zarówno dla prostych, jak i\n",
        "    złożonych obiektów kompozycji.\n",
        "    \"\"\"\n",
        "\n",
        "    @property\n",
        "    def parent(self) -> Component:\n",
        "        return self._parent\n",
        "\n",
        "    @parent.setter\n",
        "    def parent(self, parent: Component):\n",
        "        \"\"\"\n",
        "        Opcjonalnie komponent bazowy może deklarować interfejs do ustawiania i\n",
        "        dostępu do rodzica komponentu w strukturze drzewa. Może on również\n",
        "        zapewnić domyślną implementację tych metod.\n",
        "        \"\"\"\n",
        "\n",
        "        self._parent = parent\n",
        "\n",
        "\n",
        "    def add(self, component: Component):\n",
        "        pass\n",
        "\n",
        "    def remove(self, component: Component):\n",
        "        pass\n",
        "\n",
        "    def is_composite(self) -> bool:\n",
        "        \"\"\"\n",
        "        Możesz dostarczyć metodę, która pozwoli kodowi klienta dowiedzieć się, czy komponent\n",
        "        może posiadać dzieci.\n",
        "        \"\"\"\n",
        "        return False\n",
        "\n",
        "    @abstractmethod\n",
        "    def operation(self):\n",
        "        \"\"\"\n",
        "        Komponent bazowy może zaimplementować pewne domyślne zachowanie lub pozostawić je\n",
        "        klasom konkretnym (poprzez zadeklarowanie metody zawierającej zachowanie jako\n",
        "        \"abstrakcyjna\").\n",
        "        \"\"\"\n",
        "        pass\n",
        "\n",
        "\n",
        "class Leaf(Component):\n",
        "    \"\"\"\n",
        "    Klasa Liść reprezentuje obiekty końcowe kompozycji. Liść nie może\n",
        "    mieć żadnych dzieci.\n",
        "\n",
        "    Zazwyczaj to obiekty klasy Liść wykonują faktyczną pracę, podczas gdy obiekty klasy Composite\n",
        "    tylko delegują zadania do swoich podkomponentów.\n",
        "    \"\"\"\n",
        "\n",
        "    def operation(self):\n",
        "        return \"Leaf\"\n",
        "\n",
        "\n",
        "class Composite(Component):\n",
        "    \"\"\"\n",
        "    Klasa Composite reprezentuje złożone komponenty, które mogą mieć\n",
        "    dzieci. Zazwyczaj obiekty Composite delegują właściwą pracę do swoich\n",
        "    dzieci, a następnie \"sumują\" wynik.\n",
        "    \"\"\"\n",
        "\n",
        "    def __init__(self):\n",
        "        self._children: List[Component] = []\n",
        "\n",
        "    def add(self, component: Component):\n",
        "        self._children.append(component)\n",
        "        component.parent = self\n",
        "\n",
        "    def remove(self, component: Component):\n",
        "        self._children.remove(component)\n",
        "        component.parent = None\n",
        "\n",
        "    def is_composite(self):\n",
        "        return True\n",
        "\n",
        "    def operation(self):\n",
        "        \"\"\"\n",
        "        Kompozyt realizuje swoją podstawową logikę w określony sposób. Na stronie\n",
        "        przechodzi rekursywnie przez wszystkie swoje dzieci, zbierając i sumując\n",
        "        ich wyniki. Ponieważ dzieci kompozytu przekazują te wywołania do swoich dzieci\n",
        "        i tak dalej, w rezultacie całe drzewo obiektów jest przemierzane.\n",
        "        \"\"\"\n",
        "\n",
        "        results = []\n",
        "        for child in self._children:\n",
        "            results.append(child.operation())\n",
        "        return f\"Branch({'+'.join(results)})\"\n",
        "\n",
        "\n",
        "def client_code(component: Component):\n",
        "    \"\"\"\n",
        "    Kod klienta współpracuje ze wszystkimi komponentami za pośrednictwem interfejsu podstawoweg\n",
        "    \"\"\"\n",
        "\n",
        "    print(f\"RESULT: {component.operation()}\", end=\"\")\n",
        "\n",
        "\n",
        "def client_code2(component1: Component, component2: Component):\n",
        "    \"\"\"\n",
        "    Dzięki temu, że operacje związane z zarządzaniem dziećmi są zadeklarowane w klasie\n",
        "    bazowej Component, kod klienta może pracować z dowolnym komponentem, prostym lub\n",
        "    złożonymi, bez konieczności korzystania z ich klas konkretnych.\n",
        "    \"\"\"\n",
        "\n",
        "    if component1.is_composite():\n",
        "        component1.add(component2)\n",
        "\n",
        "    print(f\"RESULT: {component1.operation()}\", end=\"\")"
      ],
      "metadata": {
        "id": "4E_FTD0cNWCW"
      },
      "execution_count": 61,
      "outputs": []
    },
    {
      "cell_type": "code",
      "source": [
        "simple = Leaf()\n",
        "print(\"Client: Mam prosty komponent:\")\n",
        "client_code(simple)\n",
        "print(\"\\n\")\n",
        "\n",
        "tree = Composite()\n",
        "\n",
        "branch1 = Composite()\n",
        "branch1.add(Leaf())\n",
        "branch1.add(Leaf())\n",
        "\n",
        "branch2 = Composite()\n",
        "branch2.add(Leaf())\n",
        "\n",
        "tree.add(branch1)\n",
        "tree.add(branch2)\n",
        "\n",
        "print(\"Client: Mam drzewo komponentów:\")\n",
        "client_code(tree)\n",
        "print(\"\\n\")\n",
        "\n",
        "print(\"Client: Nie trzeba sprawdzać klas komponentów nawet podczas przeglądania drzewa:\")\n",
        "client_code2(tree, simple)"
      ],
      "metadata": {
        "colab": {
          "base_uri": "https://localhost:8080/"
        },
        "id": "5xCIgiaWNdM5",
        "outputId": "d5f5a0a3-910d-4786-cc70-4f5aed73a222"
      },
      "execution_count": 62,
      "outputs": [
        {
          "output_type": "stream",
          "name": "stdout",
          "text": [
            "Client: Mam prosty komponent:\n",
            "RESULT: Leaf\n",
            "\n",
            "Client: Mam drzewo komponentów:\n",
            "RESULT: Branch(Branch(Leaf+Leaf)+Branch(Leaf))\n",
            "\n",
            "Client: Nie trzeba sprawdzać klas komponentów nawet podczas przeglądania drzewa:\n",
            "RESULT: Branch(Branch(Leaf+Leaf)+Branch(Leaf)+Leaf)"
          ]
        }
      ]
    },
    {
      "cell_type": "markdown",
      "source": [
        "# PROXY"
      ],
      "metadata": {
        "id": "ikdluCEzPaEq"
      }
    },
    {
      "cell_type": "code",
      "source": [
        "class Division(object):\n",
        "  def div(self, a, b):\n",
        "    return a / b"
      ],
      "metadata": {
        "id": "GkSKWl17Pbvh"
      },
      "execution_count": 65,
      "outputs": []
    },
    {
      "cell_type": "code",
      "source": [
        "klass = Division()\n",
        "\n",
        "print(klass.div(10, 5))\n",
        "print(klass.div(10, 0))"
      ],
      "metadata": {
        "colab": {
          "base_uri": "https://localhost:8080/",
          "height": 305
        },
        "id": "Tj75oKZzPxjo",
        "outputId": "24553ee3-0174-4fe5-c265-c6e33d870ce2"
      },
      "execution_count": 66,
      "outputs": [
        {
          "output_type": "stream",
          "name": "stdout",
          "text": [
            "2.0\n"
          ]
        },
        {
          "output_type": "error",
          "ename": "ZeroDivisionError",
          "evalue": "ignored",
          "traceback": [
            "\u001b[0;31m---------------------------------------------------------------------------\u001b[0m",
            "\u001b[0;31mZeroDivisionError\u001b[0m                         Traceback (most recent call last)",
            "\u001b[0;32m<ipython-input-66-fb06e860f16d>\u001b[0m in \u001b[0;36m<module>\u001b[0;34m()\u001b[0m\n\u001b[1;32m      2\u001b[0m \u001b[0;34m\u001b[0m\u001b[0m\n\u001b[1;32m      3\u001b[0m \u001b[0mprint\u001b[0m\u001b[0;34m(\u001b[0m\u001b[0mklass\u001b[0m\u001b[0;34m.\u001b[0m\u001b[0mdiv\u001b[0m\u001b[0;34m(\u001b[0m\u001b[0;36m10\u001b[0m\u001b[0;34m,\u001b[0m \u001b[0;36m5\u001b[0m\u001b[0;34m)\u001b[0m\u001b[0;34m)\u001b[0m\u001b[0;34m\u001b[0m\u001b[0;34m\u001b[0m\u001b[0m\n\u001b[0;32m----> 4\u001b[0;31m \u001b[0mprint\u001b[0m\u001b[0;34m(\u001b[0m\u001b[0mklass\u001b[0m\u001b[0;34m.\u001b[0m\u001b[0mdiv\u001b[0m\u001b[0;34m(\u001b[0m\u001b[0;36m10\u001b[0m\u001b[0;34m,\u001b[0m \u001b[0;36m0\u001b[0m\u001b[0;34m)\u001b[0m\u001b[0;34m)\u001b[0m\u001b[0;34m\u001b[0m\u001b[0;34m\u001b[0m\u001b[0m\n\u001b[0m",
            "\u001b[0;32m<ipython-input-65-f362d15f5823>\u001b[0m in \u001b[0;36mdiv\u001b[0;34m(self, a, b)\u001b[0m\n\u001b[1;32m      1\u001b[0m \u001b[0;32mclass\u001b[0m \u001b[0mDivision\u001b[0m\u001b[0;34m(\u001b[0m\u001b[0mobject\u001b[0m\u001b[0;34m)\u001b[0m\u001b[0;34m:\u001b[0m\u001b[0;34m\u001b[0m\u001b[0;34m\u001b[0m\u001b[0m\n\u001b[1;32m      2\u001b[0m   \u001b[0;32mdef\u001b[0m \u001b[0mdiv\u001b[0m\u001b[0;34m(\u001b[0m\u001b[0mself\u001b[0m\u001b[0;34m,\u001b[0m \u001b[0ma\u001b[0m\u001b[0;34m,\u001b[0m \u001b[0mb\u001b[0m\u001b[0;34m)\u001b[0m\u001b[0;34m:\u001b[0m\u001b[0;34m\u001b[0m\u001b[0;34m\u001b[0m\u001b[0m\n\u001b[0;32m----> 3\u001b[0;31m     \u001b[0;32mreturn\u001b[0m \u001b[0ma\u001b[0m \u001b[0;34m/\u001b[0m \u001b[0mb\u001b[0m\u001b[0;34m\u001b[0m\u001b[0;34m\u001b[0m\u001b[0m\n\u001b[0m",
            "\u001b[0;31mZeroDivisionError\u001b[0m: division by zero"
          ]
        }
      ]
    },
    {
      "cell_type": "code",
      "source": [
        "class ProxyDivision:\n",
        "  def __init__(self):\n",
        "    self._klas = Division()\n",
        "\n",
        "  def div(self, a, b):\n",
        "    try:\n",
        "      result = self._klas.div(a, b)\n",
        "      return result\n",
        "    except ZeroDivisionError:\n",
        "      print(\"Drugi argument wyowłania funkcji nie może być zerem\")"
      ],
      "metadata": {
        "id": "nE-Z0e7nQCi2"
      },
      "execution_count": 67,
      "outputs": []
    },
    {
      "cell_type": "code",
      "source": [
        "klass = ProxyDivision()\n",
        "\n",
        "print(klass.div(10, 5))\n",
        "print(klass.div(10, 0))"
      ],
      "metadata": {
        "colab": {
          "base_uri": "https://localhost:8080/"
        },
        "id": "hYJuR4niQkOs",
        "outputId": "10c09130-6244-41b9-ddd7-d49c781df5a2"
      },
      "execution_count": 68,
      "outputs": [
        {
          "output_type": "stream",
          "name": "stdout",
          "text": [
            "2.0\n",
            "Drugi argument wyowłania funkcji nie może być zerem\n",
            "None\n"
          ]
        }
      ]
    },
    {
      "cell_type": "code",
      "source": [
        "from abc import ABC, abstractmethod\n",
        "\n",
        "class Interface(ABC):\n",
        "  @abstractmethod\n",
        "  def functionA(self, str):\n",
        "    pass\n",
        "\n",
        "  @abstractmethod\n",
        "  def functionB(self, str):\n",
        "    pass    "
      ],
      "metadata": {
        "id": "B9dZkliQQwPY"
      },
      "execution_count": 69,
      "outputs": []
    },
    {
      "cell_type": "code",
      "source": [
        "class Concrete(Interface):\n",
        "  def functionA(self, str):\n",
        "    print(f\"Wykonuję pracę dla {str}\")\n",
        "\n",
        "  def functionB(self, str):\n",
        "    print(f\"Wykonuję pracę dla {str}\")"
      ],
      "metadata": {
        "id": "_R9Ur-fuRXuH"
      },
      "execution_count": 73,
      "outputs": []
    },
    {
      "cell_type": "code",
      "source": [
        "class Proxy(Interface):\n",
        "  def __init__(self):\n",
        "    self._concrete = Concrete()\n",
        "\n",
        "  def functionA(self, str):\n",
        "    print(f\"Wykonuję dodatkową pracę dla {str} oraz to co było w oryfinale\")\n",
        "    self._concrete.functionA(str)\n",
        "\n",
        "  def functionB(self, str):\n",
        "    self._concrete.functionA(str)"
      ],
      "metadata": {
        "id": "g3qyeWOrRjRw"
      },
      "execution_count": 79,
      "outputs": []
    },
    {
      "cell_type": "code",
      "source": [
        "klas = Proxy()\n",
        "\n",
        "klas.functionA(\"Piotra\")\n",
        "klas.functionB(\"Basi\")"
      ],
      "metadata": {
        "colab": {
          "base_uri": "https://localhost:8080/"
        },
        "id": "quNgHKHLR8V7",
        "outputId": "382c2c3b-6d65-411e-e9d2-d972c6fc844e"
      },
      "execution_count": 81,
      "outputs": [
        {
          "output_type": "stream",
          "name": "stdout",
          "text": [
            "Wykonuję dodatkową pracę dla Piotra oraz to co było w oryfinale\n",
            "Wykonuję pracę dla Piotra\n",
            "Wykonuję pracę dla Basi\n"
          ]
        }
      ]
    },
    {
      "cell_type": "code",
      "source": [
        "class Proxy(Interface):\n",
        "  def __init__(self):\n",
        "    self._concrete = None\n",
        "    print(f\"Ininicjalizuję mechanizm proxy\")\n",
        "\n",
        "  def functionA(self, str):\n",
        "    if self._concrete == None:\n",
        "      print(\"Zestawiam połączenie z zasobem odległym\")\n",
        "      self._concrete = Concrete()\n",
        "    self._concrete.functionA(str)\n",
        "\n",
        "  def functionB(self, str):\n",
        "    if self._concrete == None:\n",
        "      print(\"Zestawiam połączenie z zasobem odległym\")\n",
        "      self._concrete = Concrete()\n",
        "    self._concrete.functionA(str)"
      ],
      "metadata": {
        "id": "OhoKUGoyTPl8"
      },
      "execution_count": 87,
      "outputs": []
    },
    {
      "cell_type": "code",
      "source": [
        "klas = Proxy()\n",
        "\n",
        "klas.functionA(\"Piotra\")\n",
        "klas.functionB(\"Basi\")"
      ],
      "metadata": {
        "colab": {
          "base_uri": "https://localhost:8080/"
        },
        "id": "EhMEnZcvTURB",
        "outputId": "a53deb9e-e480-4352-fdbf-2165aa510666"
      },
      "execution_count": 88,
      "outputs": [
        {
          "output_type": "stream",
          "name": "stdout",
          "text": [
            "Ininicjalizuję mechanizm proxy\n",
            "Zestawiam połączenie z zasobem odległym\n",
            "Wykonuję pracę dla Piotra\n",
            "Wykonuję pracę dla Basi\n"
          ]
        }
      ]
    },
    {
      "cell_type": "markdown",
      "source": [
        "# COMMAND"
      ],
      "metadata": {
        "id": "MQPJtxj8WFxK"
      }
    },
    {
      "cell_type": "code",
      "source": [
        "from abc import ABCMeta, abstractmethod\n",
        "\n",
        "class ICommand(metaclass=ABCMeta):\n",
        "  @staticmethod\n",
        "  @abstractmethod\n",
        "  def execute():\n",
        "    pass"
      ],
      "metadata": {
        "id": "R3P2BqvvWHPa"
      },
      "execution_count": 89,
      "outputs": []
    },
    {
      "cell_type": "code",
      "source": [
        "class Invoker(object):\n",
        "  def __init__(self):\n",
        "      self._commands = {}\n",
        "\n",
        "  def register(self, commandName, command):\n",
        "    self._commands[commandName] = command\n",
        "\n",
        "  def execute(self, commandName):\n",
        "    if commandName in self._commands.keys():\n",
        "      self._commands[commandName].execute()\n",
        "    else:\n",
        "      print(f\"Nie wiem jak wykonać polecenie {commandName}\")"
      ],
      "metadata": {
        "id": "3EkrBrerWi9W"
      },
      "execution_count": 97,
      "outputs": []
    },
    {
      "cell_type": "code",
      "source": [
        "class Receiver(object):\n",
        "  def Komenda1(self):\n",
        "    print(\"Wykonuję komendę 1\")\n",
        "\n",
        "  def Komenda2(self):\n",
        "    print(\"Wykonuję komendę 2\")"
      ],
      "metadata": {
        "id": "ds-Nw7PoXOnd"
      },
      "execution_count": 102,
      "outputs": []
    },
    {
      "cell_type": "code",
      "source": [
        "class Komenda1(ICommand):\n",
        "  def __init__(self, receiver):\n",
        "    self._receiver = receiver\n",
        "\n",
        "  def execute(self):\n",
        "    self._receiver.Komenda1()\n",
        "\n",
        "class Komenda2(ICommand):\n",
        "  def __init__(self, receiver):\n",
        "    self._receiver = receiver\n",
        "\n",
        "  def execute(self):\n",
        "    self._receiver.Komenda2()"
      ],
      "metadata": {
        "id": "acQLHOTvXj8P"
      },
      "execution_count": 103,
      "outputs": []
    },
    {
      "cell_type": "code",
      "source": [
        "receiver = Receiver()\n",
        "\n",
        "command1 = Komenda1(receiver)\n",
        "command2 = Komenda2(receiver)\n",
        "\n",
        "invoker = Invoker()\n",
        "invoker.register(\"1\", command1)\n",
        "invoker.register(\"2\", command2)"
      ],
      "metadata": {
        "id": "AVUZQWZUX64N"
      },
      "execution_count": 104,
      "outputs": []
    },
    {
      "cell_type": "code",
      "source": [
        "invoker.execute(\"1\")\n",
        "invoker.execute(\"2\")\n",
        "invoker.execute(\"1\")\n",
        "invoker.execute(\"2\")"
      ],
      "metadata": {
        "colab": {
          "base_uri": "https://localhost:8080/"
        },
        "id": "3MRMMnfQYMdN",
        "outputId": "1207e9c7-a9c6-40e2-ee8f-d699094ba9f3"
      },
      "execution_count": 105,
      "outputs": [
        {
          "output_type": "stream",
          "name": "stdout",
          "text": [
            "Wykonuję komendę 1\n",
            "Wykonuję komendę 2\n",
            "Wykonuję komendę 1\n",
            "Wykonuję komendę 2\n"
          ]
        }
      ]
    },
    {
      "cell_type": "markdown",
      "source": [
        "# FACTORY"
      ],
      "metadata": {
        "id": "8dNJBIXSa5Mx"
      }
    },
    {
      "cell_type": "code",
      "source": [
        "class Format(object):\n",
        "  html = \"\"\n",
        "  def getHTML(self):\n",
        "    return self.html"
      ],
      "metadata": {
        "id": "BsPEtxv5a6vX"
      },
      "execution_count": 106,
      "outputs": []
    },
    {
      "cell_type": "code",
      "source": [
        "class Bold(Format):\n",
        "  html = \"<b></b>\"\n",
        "\n",
        "class Italic(Format):\n",
        "  html = \"<i></i>\"  \n",
        "\n",
        "class Underline(Format):\n",
        "  html = \"<u></u>\"    "
      ],
      "metadata": {
        "id": "MfzTl_CTbMVV"
      },
      "execution_count": 111,
      "outputs": []
    },
    {
      "cell_type": "code",
      "source": [
        "class FormatFactory(object):\n",
        "  def createFormat(self, typ):\n",
        "    targetClass = typ.capitalize()\n",
        "    return globals()[targetClass]()"
      ],
      "metadata": {
        "id": "KTMvqezfbX9x"
      },
      "execution_count": 112,
      "outputs": []
    },
    {
      "cell_type": "code",
      "source": [
        "obj = FormatFactory()\n",
        "\n",
        "print(obj.createFormat('bold').getHTML())\n",
        "print(obj.createFormat('italic').getHTML())\n",
        "print(obj.createFormat('underline').getHTML())"
      ],
      "metadata": {
        "colab": {
          "base_uri": "https://localhost:8080/"
        },
        "id": "_K7P0OdPb2Qa",
        "outputId": "9e1555a4-45fe-4636-a758-62ce9d2544cb"
      },
      "execution_count": 113,
      "outputs": [
        {
          "output_type": "stream",
          "name": "stdout",
          "text": [
            "<b></b>\n",
            "<i></i>\n",
            "<u></u>\n"
          ]
        }
      ]
    },
    {
      "cell_type": "code",
      "source": [
        "import json\n",
        "import xml.etree.ElementTree as et\n",
        "\n",
        "class Song:\n",
        "    def __init__(self, song_id, title, artist):\n",
        "        self.song_id = song_id\n",
        "        self.title = title\n",
        "        self.artist = artist\n",
        "\n",
        "class SongSerializer:\n",
        "    def serialize(self, song, format):\n",
        "        serializer = get_serializer(format)\n",
        "        return serializer(song)\n",
        "\n",
        "\n",
        "def get_serializer(format):\n",
        "    if format == 'JSON':\n",
        "        return _serialize_to_json\n",
        "    elif format == 'XML':\n",
        "        return _serialize_to_xml\n",
        "    else:\n",
        "        raise ValueError(format)\n",
        "\n",
        "\n",
        "def _serialize_to_json(song):\n",
        "    payload = {\n",
        "        'id': song.song_id,\n",
        "        'title': song.title,\n",
        "        'artist': song.artist\n",
        "    }\n",
        "    return json.dumps(payload)\n",
        "\n",
        "\n",
        "def _serialize_to_xml(song):\n",
        "    song_element = et.Element('song', attrib={'id': song.song_id})\n",
        "    title = et.SubElement(song_element, 'title')\n",
        "    title.text = song.title\n",
        "    artist = et.SubElement(song_element, 'artist')\n",
        "    artist.text = song.artist\n",
        "    return et.tostring(song_element, encoding='unicode')"
      ],
      "metadata": {
        "id": "uaolFBPXcsDt"
      },
      "execution_count": 114,
      "outputs": []
    },
    {
      "cell_type": "code",
      "source": [
        "song = Song('1', 'Water of Love', 'Dire Straits')\n",
        "serializer = SongSerializer()\n",
        "\n",
        "print(serializer.serialize(song, 'JSON'))\n",
        "print(serializer.serialize(song, 'XML'))"
      ],
      "metadata": {
        "colab": {
          "base_uri": "https://localhost:8080/"
        },
        "id": "Cw5SdRFTcwUy",
        "outputId": "26910883-58f2-4ddc-ee74-056826e1db17"
      },
      "execution_count": 115,
      "outputs": [
        {
          "output_type": "stream",
          "name": "stdout",
          "text": [
            "{\"id\": \"1\", \"title\": \"Water of Love\", \"artist\": \"Dire Straits\"}\n",
            "<song id=\"1\"><title>Water of Love</title><artist>Dire Straits</artist></song>\n"
          ]
        }
      ]
    },
    {
      "cell_type": "code",
      "source": [
        "import abc\n",
        "class Shape(metaclass=abc.ABCMeta):\n",
        "    @abc.abstractmethod\n",
        "    def calculate_area(self):\n",
        "        pass\n",
        "\n",
        "    @abc.abstractmethod\n",
        "    def calculate_perimeter(self):\n",
        "        pass\n",
        "\n",
        "class Rectangle(Shape):\n",
        "    def __init__(self, height, width):\n",
        "        self.height = height\n",
        "        self.width = width\n",
        "\n",
        "    def calculate_area(self):\n",
        "        return self.height * self.width\n",
        "\n",
        "    def calculate_perimeter(self):\n",
        "        return 2 * (self.height + self.width)\n",
        "\n",
        "class Square(Shape):\n",
        "    def __init__(self, width):\n",
        "        self.width = width\n",
        "\n",
        "    def calculate_area(self):\n",
        "        return self.width ** 2\n",
        "\n",
        "    def calculate_perimeter(self):\n",
        "        return 4 * self.width\n",
        "\n",
        "class Circle(Shape):\n",
        "    def __init__(self, radius):\n",
        "        self.radius = radius\n",
        "\n",
        "    def calculate_area(self):\n",
        "        return 3.14 * self.radius * self.radius\n",
        "\n",
        "    def calculate_perimeter(self):\n",
        "        return 2 * 3.14 * self.radius\n",
        "\n",
        "class ShapeFactory:\n",
        "    def create_shape(self, name):\n",
        "        if name == 'circle':\n",
        "            radius = input(\"Enter the radius of the circle: \")\n",
        "            return Circle(float(radius))\n",
        "\n",
        "        elif name == 'rectangle':\n",
        "            height = input(\"Enter the height of the rectangle: \")\n",
        "            width = input(\"Enter the width of the rectangle: \")\n",
        "            return Rectangle(int(height), int(width))\n",
        "\n",
        "        elif name == 'square':\n",
        "            width = input(\"Enter the width of the square: \")\n",
        "            return Square(int(width))"
      ],
      "metadata": {
        "id": "stYtresPd6KA"
      },
      "execution_count": 116,
      "outputs": []
    },
    {
      "cell_type": "code",
      "source": [
        "shape_factory = ShapeFactory()\n",
        "shape_name = input(\"Enter the name of the shape: \")\n",
        "\n",
        "shape = shape_factory.create_shape(shape_name)\n",
        "\n",
        "print(f\"The type of object created: {type(shape)}\")\n",
        "print(f\"The area of the {shape_name} is: {shape.calculate_area()}\")\n",
        "print(f\"The perimeter of the {shape_name} is: {shape.calculate_perimeter()}\")"
      ],
      "metadata": {
        "colab": {
          "base_uri": "https://localhost:8080/"
        },
        "id": "dT5ToViAeDQq",
        "outputId": "5015942f-33b8-4650-fdec-2a401b740246"
      },
      "execution_count": 117,
      "outputs": [
        {
          "output_type": "stream",
          "name": "stdout",
          "text": [
            "Enter the name of the shape: circle\n",
            "Enter the radius of the circle: 10\n",
            "The type of object created: <class '__main__.Circle'>\n",
            "The area of the circle is: 314.0\n",
            "The perimeter of the circle is: 62.800000000000004\n"
          ]
        }
      ]
    },
    {
      "cell_type": "markdown",
      "source": [
        "# LOGGER"
      ],
      "metadata": {
        "id": "Kah7X-BEh8_J"
      }
    },
    {
      "cell_type": "code",
      "source": [
        "import datetime\n",
        "\n",
        "def log(message):\n",
        "  with open(\"log.txt\", \"a+\") as f:\n",
        "    f.write(f\"{datetime.datetime.now()}: {message}\")"
      ],
      "metadata": {
        "id": "YjNP3DU-h_vk"
      },
      "execution_count": 118,
      "outputs": []
    },
    {
      "cell_type": "code",
      "source": [
        "log(\"coś się zadziało\")"
      ],
      "metadata": {
        "id": "Nhtq53IkixfL"
      },
      "execution_count": 119,
      "outputs": []
    },
    {
      "cell_type": "code",
      "source": [
        "from threading import Thread\n",
        "\n",
        "def testLogera(msg):\n",
        "  log(msg)\n",
        "\n",
        "t1 = Thread(target=testLogera, args=(\"pierwsza wiadomość do zalogowania\", ))\n",
        "t2 = Thread(target=testLogera, args=(\"drugi napis który chcemy zapisać\", ))\n",
        "t3 = Thread(target=testLogera, args=(\"coś co powinno trafić do loga\", ))"
      ],
      "metadata": {
        "id": "zcMk9fgCjPD3"
      },
      "execution_count": 120,
      "outputs": []
    },
    {
      "cell_type": "code",
      "source": [
        "t1.start()\n",
        "t2.start()\n",
        "t3.start()\n",
        "\n",
        "t1.join()\n",
        "t2.join()\n",
        "t3.join()\n",
        "\n",
        "print(\"Koniec\")"
      ],
      "metadata": {
        "id": "cWMjU5zcjxku"
      },
      "execution_count": null,
      "outputs": []
    },
    {
      "cell_type": "markdown",
      "source": [
        "TAK SIĘ NIE ROBI"
      ],
      "metadata": {
        "id": "fg9f8vbnkU0I"
      }
    },
    {
      "cell_type": "code",
      "source": [
        "import logging\n",
        "import sys\n",
        "\n",
        "logger = logging.getLogger()\n",
        "\n",
        "logging.warning(\"0: To jest jakieś ostrzeżenie wygenerowane przez program\")\n",
        "logging.info(\"0: To jest jakaś informacja wygenerowana przez program\")\n",
        "\n",
        "logger.setLevel(logging.INFO)\n",
        "\n",
        "\n",
        "logging.warning(\"1: To jest jakieś ostrzeżenie wygenerowane przez program\")\n",
        "logging.info(\"1: To jest jakaś informacja wygenerowana przez program\")"
      ],
      "metadata": {
        "colab": {
          "base_uri": "https://localhost:8080/"
        },
        "id": "AGEwbssWkqcH",
        "outputId": "34f5316c-4037-438a-ba3c-88a69699a330"
      },
      "execution_count": 125,
      "outputs": [
        {
          "output_type": "stream",
          "name": "stderr",
          "text": [
            "WARNING:root:0: To jest jakieś ostrzeżenie wygenerowane przez program\n",
            "WARNING:root:1: To jest jakieś ostrzeżenie wygenerowane przez program\n",
            "INFO:root:1: To jest jakaś informacja wygenerowana przez program\n"
          ]
        }
      ]
    },
    {
      "cell_type": "code",
      "source": [
        "FORMAT = '%(asctime)s.%(msecs)dZ:APP:%(name)s:%(levelname)s:%(message)s'\n",
        "\n",
        "formatter = logging.Formatter(FORMAT, datefmt=\"%Y-%m-%dT%H:%M%S\")\n",
        "\n",
        "handler = logging.StreamHandler(stream=sys.stdout)\n",
        "handler.setFormatter(formatter)\n",
        "\n",
        "logger = logging.getLogger()\n",
        "logger.setLevel(logging.INFO)\n",
        "logger.addHandler(handler)\n",
        "\n",
        "logging.warning(\"To jest jakieś ostrzeżenie wygenerowane przez program\")\n",
        "logging.info(\"To jest jakaś informacja wygenerowana przez program\")"
      ],
      "metadata": {
        "colab": {
          "base_uri": "https://localhost:8080/"
        },
        "id": "HgVv34_xltI8",
        "outputId": "ff24d46d-89df-41e0-e90b-9465a0503b46"
      },
      "execution_count": 133,
      "outputs": [
        {
          "output_type": "stream",
          "name": "stderr",
          "text": [
            "WARNING:root:To jest jakieś ostrzeżenie wygenerowane przez program\n"
          ]
        },
        {
          "output_type": "stream",
          "name": "stdout",
          "text": [
            "2022-03-20T13:5758.981Z:APP:root:WARNING:To jest jakieś ostrzeżenie wygenerowane przez program\n",
            "2022-03-20T13:5758.981Z:APP:root:WARNING:To jest jakieś ostrzeżenie wygenerowane przez program\n",
            "2022-03-20T13:5758Z:APP:root:WARNING:To jest jakieś ostrzeżenie wygenerowane przez program\n",
            "2022-03-20T13:5758.981Z:APP:root:WARNING:To jest jakieś ostrzeżenie wygenerowane przez program\n",
            "2022-03-20T13:5758.981Z:APP:root:WARNING:To jest jakieś ostrzeżenie wygenerowane przez program\n",
            "2022-03-20T13:5758.981Z:APP:root:WARNING:To jest jakieś ostrzeżenie wygenerowane przez program\n"
          ]
        },
        {
          "output_type": "stream",
          "name": "stderr",
          "text": [
            "--- Logging error ---\n",
            "Traceback (most recent call last):\n",
            "  File \"/usr/lib/python3.7/logging/__init__.py\", line 1025, in emit\n",
            "    msg = self.format(record)\n",
            "  File \"/usr/lib/python3.7/logging/__init__.py\", line 869, in format\n",
            "    return fmt.format(record)\n",
            "  File \"/usr/lib/python3.7/logging/__init__.py\", line 611, in format\n",
            "    s = self.formatMessage(record)\n",
            "  File \"/usr/lib/python3.7/logging/__init__.py\", line 580, in formatMessage\n",
            "    return self._style.format(record)\n",
            "  File \"/usr/lib/python3.7/logging/__init__.py\", line 422, in format\n",
            "    return self._fmt % record.__dict__\n",
            "KeyError: 'msec'\n",
            "Call stack:\n",
            "  File \"/usr/lib/python3.7/runpy.py\", line 193, in _run_module_as_main\n",
            "    \"__main__\", mod_spec)\n",
            "  File \"/usr/lib/python3.7/runpy.py\", line 85, in _run_code\n",
            "    exec(code, run_globals)\n",
            "  File \"/usr/local/lib/python3.7/dist-packages/ipykernel_launcher.py\", line 16, in <module>\n",
            "    app.launch_new_instance()\n",
            "  File \"/usr/local/lib/python3.7/dist-packages/traitlets/config/application.py\", line 846, in launch_instance\n",
            "    app.start()\n",
            "  File \"/usr/local/lib/python3.7/dist-packages/ipykernel/kernelapp.py\", line 499, in start\n",
            "    self.io_loop.start()\n",
            "  File \"/usr/local/lib/python3.7/dist-packages/tornado/platform/asyncio.py\", line 132, in start\n",
            "    self.asyncio_loop.run_forever()\n",
            "  File \"/usr/lib/python3.7/asyncio/base_events.py\", line 541, in run_forever\n",
            "    self._run_once()\n",
            "  File \"/usr/lib/python3.7/asyncio/base_events.py\", line 1786, in _run_once\n",
            "    handle._run()\n",
            "  File \"/usr/lib/python3.7/asyncio/events.py\", line 88, in _run\n",
            "    self._context.run(self._callback, *self._args)\n",
            "  File \"/usr/local/lib/python3.7/dist-packages/tornado/platform/asyncio.py\", line 122, in _handle_events\n",
            "    handler_func(fileobj, events)\n",
            "  File \"/usr/local/lib/python3.7/dist-packages/tornado/stack_context.py\", line 300, in null_wrapper\n",
            "    return fn(*args, **kwargs)\n",
            "  File \"/usr/local/lib/python3.7/dist-packages/zmq/eventloop/zmqstream.py\", line 452, in _handle_events\n",
            "    self._handle_recv()\n",
            "  File \"/usr/local/lib/python3.7/dist-packages/zmq/eventloop/zmqstream.py\", line 481, in _handle_recv\n",
            "    self._run_callback(callback, msg)\n",
            "  File \"/usr/local/lib/python3.7/dist-packages/zmq/eventloop/zmqstream.py\", line 431, in _run_callback\n",
            "    callback(*args, **kwargs)\n",
            "  File \"/usr/local/lib/python3.7/dist-packages/tornado/stack_context.py\", line 300, in null_wrapper\n",
            "    return fn(*args, **kwargs)\n",
            "  File \"/usr/local/lib/python3.7/dist-packages/ipykernel/kernelbase.py\", line 283, in dispatcher\n",
            "    return self.dispatch_shell(stream, msg)\n",
            "  File \"/usr/local/lib/python3.7/dist-packages/ipykernel/kernelbase.py\", line 233, in dispatch_shell\n",
            "    handler(stream, idents, msg)\n",
            "  File \"/usr/local/lib/python3.7/dist-packages/ipykernel/kernelbase.py\", line 399, in execute_request\n",
            "    user_expressions, allow_stdin)\n",
            "  File \"/usr/local/lib/python3.7/dist-packages/ipykernel/ipkernel.py\", line 208, in do_execute\n",
            "    res = shell.run_cell(code, store_history=store_history, silent=silent)\n",
            "  File \"/usr/local/lib/python3.7/dist-packages/ipykernel/zmqshell.py\", line 537, in run_cell\n",
            "    return super(ZMQInteractiveShell, self).run_cell(*args, **kwargs)\n",
            "  File \"/usr/local/lib/python3.7/dist-packages/IPython/core/interactiveshell.py\", line 2718, in run_cell\n",
            "    interactivity=interactivity, compiler=compiler, result=result)\n",
            "  File \"/usr/local/lib/python3.7/dist-packages/IPython/core/interactiveshell.py\", line 2822, in run_ast_nodes\n",
            "    if self.run_code(code, result):\n",
            "  File \"/usr/local/lib/python3.7/dist-packages/IPython/core/interactiveshell.py\", line 2882, in run_code\n",
            "    exec(code_obj, self.user_global_ns, self.user_ns)\n",
            "  File \"<ipython-input-133-b54758233ff5>\", line 12, in <module>\n",
            "    logging.warning(\"To jest jakieś ostrzeżenie wygenerowane przez program\")\n",
            "Message: 'To jest jakieś ostrzeżenie wygenerowane przez program'\n",
            "Arguments: ()\n",
            "INFO:root:To jest jakaś informacja wygenerowana przez program\n"
          ]
        },
        {
          "output_type": "stream",
          "name": "stdout",
          "text": [
            "2022-03-20T13:5759.5Z:APP:root:INFO:To jest jakaś informacja wygenerowana przez program\n",
            "2022-03-20T13:5759.5Z:APP:root:INFO:To jest jakaś informacja wygenerowana przez program\n",
            "2022-03-20T13:5759Z:APP:root:INFO:To jest jakaś informacja wygenerowana przez program\n",
            "2022-03-20T13:5759.5Z:APP:root:INFO:To jest jakaś informacja wygenerowana przez program\n",
            "2022-03-20T13:5759.5Z:APP:root:INFO:To jest jakaś informacja wygenerowana przez program\n",
            "2022-03-20T13:5759.5Z:APP:root:INFO:To jest jakaś informacja wygenerowana przez program\n"
          ]
        },
        {
          "output_type": "stream",
          "name": "stderr",
          "text": [
            "--- Logging error ---\n",
            "Traceback (most recent call last):\n",
            "  File \"/usr/lib/python3.7/logging/__init__.py\", line 1025, in emit\n",
            "    msg = self.format(record)\n",
            "  File \"/usr/lib/python3.7/logging/__init__.py\", line 869, in format\n",
            "    return fmt.format(record)\n",
            "  File \"/usr/lib/python3.7/logging/__init__.py\", line 611, in format\n",
            "    s = self.formatMessage(record)\n",
            "  File \"/usr/lib/python3.7/logging/__init__.py\", line 580, in formatMessage\n",
            "    return self._style.format(record)\n",
            "  File \"/usr/lib/python3.7/logging/__init__.py\", line 422, in format\n",
            "    return self._fmt % record.__dict__\n",
            "KeyError: 'msec'\n",
            "Call stack:\n",
            "  File \"/usr/lib/python3.7/runpy.py\", line 193, in _run_module_as_main\n",
            "    \"__main__\", mod_spec)\n",
            "  File \"/usr/lib/python3.7/runpy.py\", line 85, in _run_code\n",
            "    exec(code, run_globals)\n",
            "  File \"/usr/local/lib/python3.7/dist-packages/ipykernel_launcher.py\", line 16, in <module>\n",
            "    app.launch_new_instance()\n",
            "  File \"/usr/local/lib/python3.7/dist-packages/traitlets/config/application.py\", line 846, in launch_instance\n",
            "    app.start()\n",
            "  File \"/usr/local/lib/python3.7/dist-packages/ipykernel/kernelapp.py\", line 499, in start\n",
            "    self.io_loop.start()\n",
            "  File \"/usr/local/lib/python3.7/dist-packages/tornado/platform/asyncio.py\", line 132, in start\n",
            "    self.asyncio_loop.run_forever()\n",
            "  File \"/usr/lib/python3.7/asyncio/base_events.py\", line 541, in run_forever\n",
            "    self._run_once()\n",
            "  File \"/usr/lib/python3.7/asyncio/base_events.py\", line 1786, in _run_once\n",
            "    handle._run()\n",
            "  File \"/usr/lib/python3.7/asyncio/events.py\", line 88, in _run\n",
            "    self._context.run(self._callback, *self._args)\n",
            "  File \"/usr/local/lib/python3.7/dist-packages/tornado/platform/asyncio.py\", line 122, in _handle_events\n",
            "    handler_func(fileobj, events)\n",
            "  File \"/usr/local/lib/python3.7/dist-packages/tornado/stack_context.py\", line 300, in null_wrapper\n",
            "    return fn(*args, **kwargs)\n",
            "  File \"/usr/local/lib/python3.7/dist-packages/zmq/eventloop/zmqstream.py\", line 452, in _handle_events\n",
            "    self._handle_recv()\n",
            "  File \"/usr/local/lib/python3.7/dist-packages/zmq/eventloop/zmqstream.py\", line 481, in _handle_recv\n",
            "    self._run_callback(callback, msg)\n",
            "  File \"/usr/local/lib/python3.7/dist-packages/zmq/eventloop/zmqstream.py\", line 431, in _run_callback\n",
            "    callback(*args, **kwargs)\n",
            "  File \"/usr/local/lib/python3.7/dist-packages/tornado/stack_context.py\", line 300, in null_wrapper\n",
            "    return fn(*args, **kwargs)\n",
            "  File \"/usr/local/lib/python3.7/dist-packages/ipykernel/kernelbase.py\", line 283, in dispatcher\n",
            "    return self.dispatch_shell(stream, msg)\n",
            "  File \"/usr/local/lib/python3.7/dist-packages/ipykernel/kernelbase.py\", line 233, in dispatch_shell\n",
            "    handler(stream, idents, msg)\n",
            "  File \"/usr/local/lib/python3.7/dist-packages/ipykernel/kernelbase.py\", line 399, in execute_request\n",
            "    user_expressions, allow_stdin)\n",
            "  File \"/usr/local/lib/python3.7/dist-packages/ipykernel/ipkernel.py\", line 208, in do_execute\n",
            "    res = shell.run_cell(code, store_history=store_history, silent=silent)\n",
            "  File \"/usr/local/lib/python3.7/dist-packages/ipykernel/zmqshell.py\", line 537, in run_cell\n",
            "    return super(ZMQInteractiveShell, self).run_cell(*args, **kwargs)\n",
            "  File \"/usr/local/lib/python3.7/dist-packages/IPython/core/interactiveshell.py\", line 2718, in run_cell\n",
            "    interactivity=interactivity, compiler=compiler, result=result)\n",
            "  File \"/usr/local/lib/python3.7/dist-packages/IPython/core/interactiveshell.py\", line 2828, in run_ast_nodes\n",
            "    if self.run_code(code, result):\n",
            "  File \"/usr/local/lib/python3.7/dist-packages/IPython/core/interactiveshell.py\", line 2882, in run_code\n",
            "    exec(code_obj, self.user_global_ns, self.user_ns)\n",
            "  File \"<ipython-input-133-b54758233ff5>\", line 13, in <module>\n",
            "    logging.info(\"To jest jakaś informacja wygenerowana przez program\")\n",
            "Message: 'To jest jakaś informacja wygenerowana przez program'\n",
            "Arguments: ()\n"
          ]
        }
      ]
    },
    {
      "cell_type": "code",
      "source": [
        "import logging\n",
        "\n",
        "logging.basicConfig(filename=\"przyklad.log\", level=logging.INFO)  # encoding='utf-8'\n",
        "logging.warning(\"To jest jakieś ostrzeżenie wygenerowane przez program\")\n",
        "logging.info(\"To jest jakaś informacja wygenerowana przez program\")\n",
        "logging.error(\"To jest komunikat o błędzie krytycznym\")"
      ],
      "metadata": {
        "id": "zapy5hD-n1uF"
      },
      "execution_count": 3,
      "outputs": []
    },
    {
      "cell_type": "code",
      "source": [
        "import logging\n",
        "import requests\n",
        "\n",
        "URL = 'https://httpbin.org/status/500'\n",
        "logging.info(f'GET {URL}')\n",
        "response = requests.get(URL)\n",
        "status_code = response.status_code\n",
        "\n",
        "if status_code != 200:\n",
        "    logging.error(f'Error accessing {URL} status code {status_code}')"
      ],
      "metadata": {
        "colab": {
          "base_uri": "https://localhost:8080/"
        },
        "id": "dRBK30OzozSj",
        "outputId": "fa977477-d082-469c-9577-6fbf78d10442"
      },
      "execution_count": 1,
      "outputs": [
        {
          "output_type": "stream",
          "name": "stderr",
          "text": [
            "ERROR:root:Error accessing https://httpbin.org/status/500 status code 500\n"
          ]
        },
        {
          "output_type": "stream",
          "name": "stdout",
          "text": [
            "500\n"
          ]
        }
      ]
    },
    {
      "cell_type": "code",
      "source": [
        "import logging\n",
        "\n",
        "logger = logging.getLogger('simple_example')\n",
        "logger.setLevel(logging.DEBUG)\n",
        "\n",
        "ch = logging.StreamHandler()\n",
        "ch.setLevel(logging.DEBUG)\n",
        "\n",
        "formatter = logging.Formatter('%(asctime)s - %(name)s - %(levelname)s - %(message)s')\n",
        "\n",
        "ch.setFormatter(formatter)\n",
        "\n",
        "logger.addHandler(ch)\n",
        "\n",
        "logger.debug('debug message')\n",
        "logger.info('info message')\n",
        "logger.warning('warn message')\n",
        "logger.error('error message')\n",
        "logger.critical('critical message')\n",
        "\n",
        "logging.warning(\"To jest jakieś ostrzeżenie wygenerowane przez program\")"
      ],
      "metadata": {
        "colab": {
          "base_uri": "https://localhost:8080/"
        },
        "id": "vV0lANACpche",
        "outputId": "7ad18aa3-67fa-41cf-a657-afe5243efc2e"
      },
      "execution_count": 2,
      "outputs": [
        {
          "output_type": "stream",
          "name": "stderr",
          "text": [
            "2022-03-20 14:06:58,016 - simple_example - DEBUG - debug message\n",
            "2022-03-20 14:06:58,016 - simple_example - DEBUG - debug message\n",
            "2022-03-20 14:06:58,020 - simple_example - INFO - info message\n",
            "2022-03-20 14:06:58,020 - simple_example - INFO - info message\n",
            "2022-03-20 14:06:58,024 - simple_example - WARNING - warn message\n",
            "2022-03-20 14:06:58,024 - simple_example - WARNING - warn message\n",
            "2022-03-20 14:06:58,028 - simple_example - ERROR - error message\n",
            "2022-03-20 14:06:58,028 - simple_example - ERROR - error message\n",
            "2022-03-20 14:06:58,031 - simple_example - CRITICAL - critical message\n",
            "2022-03-20 14:06:58,031 - simple_example - CRITICAL - critical message\n",
            "WARNING:root:To jest jakieś ostrzeżenie wygenerowane przez program\n"
          ]
        }
      ]
    },
    {
      "cell_type": "code",
      "source": [
        "import logging.config\n",
        "\n",
        "logging.config.fileConfig('logger.conf')\n",
        "\n",
        "logger = logging.getLogger('simpleExample')\n",
        "\n",
        "logger.debug('debug message')\n",
        "logger.info('info message')\n",
        "logger.warning('warn message')\n",
        "logger.error('error message')\n",
        "logger.critical('critical message')"
      ],
      "metadata": {
        "colab": {
          "base_uri": "https://localhost:8080/"
        },
        "id": "rUHawBYQp-Xa",
        "outputId": "8c9930f6-d3d5-44a9-d0e3-37f21f416a20"
      },
      "execution_count": 3,
      "outputs": [
        {
          "output_type": "stream",
          "name": "stdout",
          "text": [
            "2022-03-20 14:09:55,405 - simpleExample - DEBUG - debug message\n",
            "2022-03-20 14:09:55,406 - simpleExample - INFO - info message\n",
            "2022-03-20 14:09:55,409 - simpleExample - WARNING - warn message\n",
            "2022-03-20 14:09:55,411 - simpleExample - ERROR - error message\n",
            "2022-03-20 14:09:55,414 - simpleExample - CRITICAL - critical message\n"
          ]
        }
      ]
    },
    {
      "cell_type": "code",
      "source": [
        "import logging\n",
        "\n",
        "logger = logging.getLogger(__name__)\n",
        "logger.setLevel(logging.DEBUG)\n",
        "\n",
        "ch = logging.StreamHandler()\n",
        "ch.setLevel(logging.DEBUG)\n",
        "\n",
        "formatter = logging.Formatter('%(asctime)s - %(name)s - %(levelname)s - %(message)s')\n",
        "\n",
        "ch.setFormatter(formatter)\n",
        "\n",
        "logger.addHandler(ch)\n",
        "\n",
        "logger.debug('debug message')\n",
        "logger.info('info message')\n",
        "logger.warning('warn message')\n",
        "logger.error('error message')\n",
        "logger.critical('critical message')"
      ],
      "metadata": {
        "colab": {
          "base_uri": "https://localhost:8080/"
        },
        "id": "03yceo8oq17a",
        "outputId": "637afde5-d40b-4a50-8d2b-a23be7dd641b"
      },
      "execution_count": 1,
      "outputs": [
        {
          "output_type": "stream",
          "name": "stderr",
          "text": [
            "2022-03-20 14:12:26,838 - __main__ - DEBUG - debug message\n",
            "2022-03-20 14:12:26,845 - __main__ - INFO - info message\n",
            "2022-03-20 14:12:26,849 - __main__ - WARNING - warn message\n",
            "2022-03-20 14:12:26,852 - __main__ - ERROR - error message\n",
            "2022-03-20 14:12:26,854 - __main__ - CRITICAL - critical message\n"
          ]
        }
      ]
    }
  ]
}