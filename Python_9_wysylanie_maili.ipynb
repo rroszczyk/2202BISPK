{
  "nbformat": 4,
  "nbformat_minor": 0,
  "metadata": {
    "colab": {
      "name": "Python B - wysylanie maili.ipynb",
      "provenance": [],
      "collapsed_sections": [],
      "include_colab_link": true
    },
    "kernelspec": {
      "name": "python3",
      "display_name": "Python 3"
    },
    "language_info": {
      "name": "python"
    }
  },
  "cells": [
    {
      "cell_type": "markdown",
      "metadata": {
        "id": "view-in-github",
        "colab_type": "text"
      },
      "source": [
        "<a href=\"https://colab.research.google.com/github/rroszczyk/2202BISPK/blob/main/Python_9_wysylanie_maili.ipynb\" target=\"_parent\"><img src=\"https://colab.research.google.com/assets/colab-badge.svg\" alt=\"Open In Colab\"/></a>"
      ]
    },
    {
      "cell_type": "code",
      "metadata": {
        "id": "tHXO9CjA_bcb"
      },
      "source": [
        "from __future__ import unicode_literals\n",
        "from email.mime.text import MIMEText\n",
        "from email.mime.multipart import MIMEMultipart\n",
        "import smtplib\n",
        "\n",
        "user = \"tu nalezy wpisac nazwe uzytkownika\"\n",
        "password = \"tu nalezy wpisac haslo\"\n",
        "server = \"smtp.mailtrap.io\""
      ],
      "execution_count": 4,
      "outputs": []
    },
    {
      "cell_type": "code",
      "metadata": {
        "id": "cJ1pEiPE_99q"
      },
      "source": [
        "mailFrom = \"Radoslaw Roszczyk\"\n",
        "mailTo = [\"python@roszczyk.net\", \"python@roszczyk.net\"]\n",
        "mailSubject = \"Testowa wiadomosc wyslana z Pythona\"\n",
        "messageBody = \"\"\"\n",
        "Czesc,\n",
        "\n",
        "To jest najprostrza wiadomosc testowa wyslana z poziomu Python'a.\n",
        "\n",
        "Pozdrawiam,\n",
        "Radek\n",
        "\"\"\"\n",
        "\n",
        "message = \"\"\"From: {}\n",
        "Subject: {}\n",
        "\n",
        "{}\n",
        "\"\"\".format(mailFrom, mailSubject, messageBody)"
      ],
      "execution_count": 5,
      "outputs": []
    },
    {
      "cell_type": "code",
      "metadata": {
        "id": "MHlyV7MzAP2x",
        "colab": {
          "base_uri": "https://localhost:8080/"
        },
        "outputId": "96273882-6324-4ecf-e4f0-84e50ff2deff"
      },
      "source": [
        "try:\n",
        "    srv = smtplib.SMTP(server, 2525)\n",
        "    srv.ehlo()  \n",
        "    srv.login(user, password)\n",
        "    srv.sendmail(user, mailTo, message)\n",
        "    srv.close()\n",
        "    print(\"Mail sent.\")\n",
        "except ConnectionRefusedError:\n",
        "    print('Failed to connect to the server. Bad connection settings?')\n",
        "except smtplib.SMTPServerDisconnected:\n",
        "    print('Failed to connect to the server. Wrong user/password?')\n",
        "except smtplib.SMTPException as e:\n",
        "    print('SMTP error occurred: ' + str(e))"
      ],
      "execution_count": 6,
      "outputs": [
        {
          "output_type": "stream",
          "name": "stdout",
          "text": [
            "SMTP error occurred: (535, b'5.7.0 Invalid login or password')\n"
          ]
        }
      ]
    },
    {
      "cell_type": "code",
      "metadata": {
        "id": "Ka3F_TYFHIDn"
      },
      "source": [
        "message = MIMEMultipart(\"alternative\")\n",
        "message[\"Subject\"] = \"Testowa wiadomość wyłana z Pythona\"\n",
        "message[\"From\"] = \"python@roszczyk.net\"\n",
        "message[\"To\"] = \"python@roszczyk.net\"\n",
        "message.set_charset(\"utf-8\")\n",
        "\n",
        "text = \"\"\"\n",
        "Czesc,\n",
        "\n",
        "To jest najprostrza wiadomosc testowa wyslana z poziomu Python'a.\n",
        "\n",
        "Pozdrawiam,\n",
        "Radek\n",
        "\"\"\"\n",
        "\n",
        "html = \"\"\"\n",
        "<html>\n",
        "  <body>\n",
        "    <h1>Cześć,</h1>\n",
        "    <p>To jest wiadomość która może zawierać już dowolne treści</p>\n",
        "    <p><a href=\"https://blog.roszczyk.net\">Zajrzyj na mojego bloga.</a></p>\n",
        "    <p>Cześć,<br>\n",
        "       Radosław Roszczyk</p>\n",
        "  </body>\n",
        "</html>\n",
        "\"\"\"\n"
      ],
      "execution_count": 7,
      "outputs": []
    },
    {
      "cell_type": "code",
      "metadata": {
        "id": "NfhoC7ljIKzD",
        "colab": {
          "base_uri": "https://localhost:8080/"
        },
        "outputId": "3ebecd59-1543-4757-a37d-3519d28419a1"
      },
      "source": [
        "part1 = MIMEText(text, \"plain\")\n",
        "part2 = MIMEText(html, \"html\")\n",
        "message.attach(part1)\n",
        "message.attach(part2)\n",
        "\n",
        "try:\n",
        "    srv = smtplib.SMTP(server, 2525)\n",
        "    srv.ehlo()  \n",
        "    srv.login(user, password)\n",
        "    srv.sendmail(message[\"From\"], message[\"To\"], message.as_string())\n",
        "    srv.close()\n",
        "    print(\"Mail sent.\")\n",
        "except ConnectionRefusedError:\n",
        "    print('Failed to connect to the server. Bad connection settings?')\n",
        "except smtplib.SMTPServerDisconnected:\n",
        "    print('Failed to connect to the server. Wrong user/password?')\n",
        "except smtplib.SMTPException as e:\n",
        "    print('SMTP error occurred: ' + str(e))"
      ],
      "execution_count": 8,
      "outputs": [
        {
          "output_type": "stream",
          "name": "stdout",
          "text": [
            "SMTP error occurred: (535, b'5.7.0 Invalid login or password')\n"
          ]
        }
      ]
    }
  ]
}