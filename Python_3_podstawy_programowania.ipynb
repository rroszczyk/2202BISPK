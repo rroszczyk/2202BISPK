{
  "nbformat": 4,
  "nbformat_minor": 0,
  "metadata": {
    "colab": {
      "name": "Python 3 - podstawy programowania.ipynb",
      "provenance": [],
      "collapsed_sections": [],
      "include_colab_link": true
    },
    "kernelspec": {
      "name": "python3",
      "display_name": "Python 3"
    }
  },
  "cells": [
    {
      "cell_type": "markdown",
      "metadata": {
        "id": "view-in-github",
        "colab_type": "text"
      },
      "source": [
        "<a href=\"https://colab.research.google.com/github/rroszczyk/2202BISPK/blob/main/Python_3_podstawy_programowania.ipynb\" target=\"_parent\"><img src=\"https://colab.research.google.com/assets/colab-badge.svg\" alt=\"Open In Colab\"/></a>"
      ]
    },
    {
      "cell_type": "markdown",
      "metadata": {
        "id": "OvCYgrUU-t74"
      },
      "source": [
        "# Bazowe operacje na listach tekstowych"
      ]
    },
    {
      "cell_type": "code",
      "metadata": {
        "id": "8uF7EOjJBExV",
        "outputId": "ce13cc73-963b-4426-bc81-311255480ac0",
        "colab": {
          "base_uri": "https://localhost:8080/"
        }
      },
      "source": [
        "bicycles = ['trekingowy', 'górski', 'miejski', 'szosowy']\n",
        "message = \"Moim pierwszym rowerem był rower \" + bicycles[0].title() + \".\"\n",
        "\n",
        "print(message)\n"
      ],
      "execution_count": null,
      "outputs": [
        {
          "output_type": "stream",
          "name": "stdout",
          "text": [
            "Moim pierwszym rowerem był rower Trekingowy.\n"
          ]
        }
      ]
    },
    {
      "cell_type": "code",
      "metadata": {
        "id": "auyYBTAI-a9E",
        "outputId": "52835619-a0b7-4333-fca5-b3590a21ff3b",
        "colab": {
          "base_uri": "https://localhost:8080/"
        }
      },
      "source": [
        "auta = ['fiat', 'syrena', 'polonez', 'warszawa', 'mikrus', 'smyk']\n",
        "\n",
        "print(\"Oto lista początkowa:\")\n",
        "print(auta)\n",
        "\n",
        "print(\"\\nOto lista posortowana:\")\n",
        "print(sorted(auta))\n",
        "\n",
        "print(\"\\nOto lista posortowana:\")\n",
        "print(sorted(auta))\n",
        "\n",
        "print(\"\\nOto lista w odwrotnej kolejności alfabetycznej:\")\n",
        "print(sorted(auta, reverse=True))\n",
        "\n",
        "print(\"\\nOto ponownie lista początkowa:\")\n",
        "print(auta)\n",
        "\n",
        "auta.sort();\n",
        "print(\"\\nOto lista posortowana:\")\n",
        "print(auta) # teraz nie można wrócić do listy pierwotnej\n"
      ],
      "execution_count": null,
      "outputs": [
        {
          "output_type": "stream",
          "name": "stdout",
          "text": [
            "Oto lista początkowa:\n",
            "['fiat', 'syrena', 'polonez', 'warszawa', 'mikrus', 'smyk']\n",
            "\n",
            "Oto lista posortowana:\n",
            "['fiat', 'mikrus', 'polonez', 'smyk', 'syrena', 'warszawa']\n",
            "\n",
            "Oto lista posortowana:\n",
            "['fiat', 'mikrus', 'polonez', 'smyk', 'syrena', 'warszawa']\n",
            "\n",
            "Oto lista w odwrotnej kolejności alfabetycznej:\n",
            "['warszawa', 'syrena', 'smyk', 'polonez', 'mikrus', 'fiat']\n",
            "\n",
            "Oto ponownie lista początkowa:\n",
            "['fiat', 'syrena', 'polonez', 'warszawa', 'mikrus', 'smyk']\n",
            "\n",
            "Oto lista posortowana:\n",
            "['fiat', 'mikrus', 'polonez', 'smyk', 'syrena', 'warszawa']\n"
          ]
        }
      ]
    },
    {
      "cell_type": "code",
      "metadata": {
        "id": "x4iH7q4F_arz",
        "outputId": "a0c82216-beda-46d3-e929-66481c3bc377",
        "colab": {
          "base_uri": "https://localhost:8080/"
        }
      },
      "source": [
        "motocykle = ['romet', 'wsk', 'gad', 'lech', 'sm', 'perkun', 'mz'] \n",
        "print(motocykle)\n",
        "\n",
        "niemiecki = 'mz'\n",
        "motocykle.remove(niemiecki)\n",
        "print(motocykle)\n",
        "print(\"\\nMotocykl \" + niemiecki.title() + \" nie jest polskiej produkcji.\")\n"
      ],
      "execution_count": null,
      "outputs": [
        {
          "output_type": "stream",
          "name": "stdout",
          "text": [
            "['romet', 'wsk', 'gad', 'lech', 'sm', 'perkun', 'mz']\n",
            "['romet', 'wsk', 'gad', 'lech', 'sm', 'perkun']\n",
            "\n",
            "Motocykl Mz nie jest polskiej produkcji.\n"
          ]
        }
      ]
    },
    {
      "cell_type": "code",
      "metadata": {
        "id": "05sPQNJZBOT6",
        "outputId": "847bb0dd-f9be-49e0-96ac-0aef7a25d8c8",
        "colab": {
          "base_uri": "https://localhost:8080/"
        }
      },
      "source": [
        "auta = ['fiat', 'syrena', 'polonez', 'warszawa', 'mikrus', 'smyk']\n",
        "motocykle = ['romet', 'wsk', 'gad', 'lech', 'sm', 'perkun', 'mz'] \n",
        "\n",
        "pojazdy = auta + motocykle\n",
        "print(pojazdy)"
      ],
      "execution_count": null,
      "outputs": [
        {
          "output_type": "stream",
          "name": "stdout",
          "text": [
            "['fiat', 'syrena', 'polonez', 'warszawa', 'mikrus', 'smyk', 'romet', 'wsk', 'gad', 'lech', 'sm', 'perkun', 'mz']\n"
          ]
        }
      ]
    },
    {
      "cell_type": "code",
      "metadata": {
        "id": "n1qA9bOxB9dg",
        "outputId": "a255d9ea-d4c0-4aa2-a0aa-6c291f519eff",
        "colab": {
          "base_uri": "https://localhost:8080/"
        }
      },
      "source": [
        "pojazdy.append('ikarus')\n",
        "pojazdy.append('autosan')\n",
        "\n",
        "print(pojazdy)"
      ],
      "execution_count": null,
      "outputs": [
        {
          "output_type": "stream",
          "name": "stdout",
          "text": [
            "['fiat', 'syrena', 'polonez', 'warszawa', 'mikrus', 'smyk', 'romet', 'wsk', 'gad', 'lech', 'sm', 'perkun', 'mz', 'ikarus', 'autosan']\n"
          ]
        }
      ]
    },
    {
      "cell_type": "code",
      "metadata": {
        "id": "nb3A02muDFFl",
        "outputId": "5466cf15-a0da-42a7-cd85-43da7b9398bc",
        "colab": {
          "base_uri": "https://localhost:8080/"
        }
      },
      "source": [
        "my_foods = ['pizza', 'falafel', 'ciasto z marchwi'] \n",
        "friend_foods = my_foods[:] \n",
        "\n",
        "my_foods.append('cannolo') \n",
        "friend_foods.append('lody') \n",
        "\n",
        "print(\"Moje ulubione potrawy to:\")\n",
        "print(my_foods)\n",
        "\n",
        "print(\"\\nUlubione potrawy mojego przyjaciela to:\")\n",
        "print(friend_foods)\n"
      ],
      "execution_count": null,
      "outputs": [
        {
          "output_type": "stream",
          "name": "stdout",
          "text": [
            "Moje ulubione potrawy to:\n",
            "['pizza', 'falafel', 'ciasto z marchwi', 'cannolo']\n",
            "\n",
            "Ulubione potrawy mojego przyjaciela to:\n",
            "['pizza', 'falafel', 'ciasto z marchwi', 'lody']\n"
          ]
        }
      ]
    },
    {
      "cell_type": "code",
      "metadata": {
        "id": "aCtVOP_FDPfy",
        "outputId": "214986e9-523c-445d-bacc-7c576c970e90",
        "colab": {
          "base_uri": "https://localhost:8080/"
        }
      },
      "source": [
        "players = ['karol', 'martyna', 'michał', 'florian', 'ela'] \n",
        "\n",
        "print(\"Oto trzech pierwszych graczy naszej drużyny:\")\n",
        "for player in players[:3]:\n",
        "    print(player.title())"
      ],
      "execution_count": null,
      "outputs": [
        {
          "output_type": "stream",
          "name": "stdout",
          "text": [
            "Oto trzech pierwszych graczy naszej drużyny:\n",
            "Karol\n",
            "Martyna\n",
            "Michał\n"
          ]
        }
      ]
    },
    {
      "cell_type": "code",
      "metadata": {
        "id": "mHby6-7aDWlL",
        "outputId": "94926b22-fe17-4e27-a709-57a80ed75725",
        "colab": {
          "base_uri": "https://localhost:8080/"
        }
      },
      "source": [
        "magicians = ['alicja', 'dawid', 'karolina'] \n",
        "for magician in magicians: \n",
        "    print(magician.title() + \", to była doskonała sztuczka!\")  \n",
        "    print(\"Nie mogę się doczekać Twojej kolejnej sztuczki, \" + magician.title() + \".\\n\") \n",
        "    \n",
        "print(\"Dziękuję wszystkim. To był naprawdę wspaniały występ!\")\n"
      ],
      "execution_count": null,
      "outputs": [
        {
          "output_type": "stream",
          "name": "stdout",
          "text": [
            "Alicja, to była doskonała sztuczka!\n",
            "Nie mogę się doczekać Twojej kolejnej sztuczki, Alicja.\n",
            "\n",
            "Dawid, to była doskonała sztuczka!\n",
            "Nie mogę się doczekać Twojej kolejnej sztuczki, Dawid.\n",
            "\n",
            "Karolina, to była doskonała sztuczka!\n",
            "Nie mogę się doczekać Twojej kolejnej sztuczki, Karolina.\n",
            "\n",
            "Dziękuję wszystkim. To był naprawdę wspaniały występ!\n"
          ]
        }
      ]
    },
    {
      "cell_type": "code",
      "metadata": {
        "id": "0lEzt8n6RQQu",
        "colab": {
          "base_uri": "https://localhost:8080/"
        },
        "outputId": "34dda3a2-2a31-45e2-89d2-505d8f618538"
      },
      "source": [
        "auta = ['fiat', 'syrena', 'polonez', 'warszawa', 'mikrus', 'smyk']\n",
        "motocykle = ['romet', 'wsk', 'gad', 'lech', 'sm', 'perkun', 'mz'] \n",
        "\n",
        "pojazdy = auta + motocykle\n",
        "\n",
        "mojePojazdy = auta[4:5] + motocykle[2:]\n",
        "\n",
        "del pojazdy[3:4]\n",
        "\n",
        "print('Wszystkie pojazdy', sorted(pojazdy), 'w sumie jest ich', len(pojazdy))\n",
        "print('Wszystkie pojazdy', mojePojazdy, 'w sumie jest ich', len(mojePojazdy))\n",
        "\n",
        "print(\"\\nPojazd\", \"\\t:\\t\", \"długość napisu\")\n",
        "for pojazd in sorted(mojePojazdy):\n",
        "    print(pojazd.title(), \"\\t:\\t\", len(pojazd), \"\")"
      ],
      "execution_count": null,
      "outputs": [
        {
          "output_type": "stream",
          "name": "stdout",
          "text": [
            "Wszystkie pojazdy ['fiat', 'gad', 'lech', 'mikrus', 'mz', 'perkun', 'polonez', 'romet', 'sm', 'smyk', 'syrena', 'wsk'] w sumie jest ich 12\n",
            "Wszystkie pojazdy ['mikrus', 'gad', 'lech', 'sm', 'perkun', 'mz'] w sumie jest ich 6\n",
            "\n",
            "Pojazd \t:\t długość napisu\n",
            "Gad \t:\t 3 \n",
            "Lech \t:\t 4 \n",
            "Mikrus \t:\t 6 \n",
            "Mz \t:\t 2 \n",
            "Perkun \t:\t 6 \n",
            "Sm \t:\t 2 \n"
          ]
        }
      ]
    },
    {
      "cell_type": "markdown",
      "metadata": {
        "id": "_EOIHZ-JDmam"
      },
      "source": [
        "# Operacje na listach numerycznych"
      ]
    },
    {
      "cell_type": "code",
      "metadata": {
        "id": "cuF5CyhiDsZm",
        "outputId": "c9879c9a-2a6f-4a2f-94ef-58fd994bd78c",
        "colab": {
          "base_uri": "https://localhost:8080/"
        }
      },
      "source": [
        "numbers = list(range(1,6)) \n",
        "print(numbers) \n"
      ],
      "execution_count": null,
      "outputs": [
        {
          "output_type": "stream",
          "name": "stdout",
          "text": [
            "[1, 2, 3, 4, 5]\n"
          ]
        }
      ]
    },
    {
      "cell_type": "code",
      "metadata": {
        "id": "ExzXZoBcDu_-",
        "outputId": "170a8a6a-dbcf-4d00-c69d-a923fda9bf5e",
        "colab": {
          "base_uri": "https://localhost:8080/"
        }
      },
      "source": [
        "even_numbers = list(range(2,11,2)) \n",
        "print(even_numbers)\n"
      ],
      "execution_count": null,
      "outputs": [
        {
          "output_type": "stream",
          "name": "stdout",
          "text": [
            "[2, 4, 6, 8, 10]\n"
          ]
        }
      ]
    },
    {
      "cell_type": "code",
      "metadata": {
        "id": "QPmrdIOoDy2H",
        "outputId": "4c259e73-4f51-4d39-dcc4-466f28f931db",
        "colab": {
          "base_uri": "https://localhost:8080/"
        }
      },
      "source": [
        "squares = []\n",
        "for value in range(1,11):\n",
        "    square = value**2\n",
        "    squares.append(square)\n",
        "    \n",
        "print(squares)\n"
      ],
      "execution_count": null,
      "outputs": [
        {
          "output_type": "stream",
          "name": "stdout",
          "text": [
            "[1, 4, 9, 16, 25, 36, 49, 64, 81, 100]\n"
          ]
        }
      ]
    },
    {
      "cell_type": "code",
      "metadata": {
        "id": "EZLiCPrRRHIi",
        "colab": {
          "base_uri": "https://localhost:8080/"
        },
        "outputId": "7947f78d-0669-408f-c2f6-2d121f96a0ed"
      },
      "source": [
        "cubes = []\n",
        "numbers = list(range(1,11))\n",
        "\n",
        "for value in numbers:\n",
        "    cube = value**3\n",
        "    cubes.append(cube)\n",
        "    \n",
        "print(cubes)\n",
        "\n",
        "cubes = [x**3 for x in numbers]\n",
        "print(cubes)\n",
        "\n",
        "cubes = list(map(lambda x: x**3, numbers))\n",
        "print(cubes)"
      ],
      "execution_count": null,
      "outputs": [
        {
          "output_type": "stream",
          "name": "stdout",
          "text": [
            "[1, 8, 27, 64, 125, 216, 343, 512, 729, 1000]\n",
            "[1, 8, 27, 64, 125, 216, 343, 512, 729, 1000]\n",
            "[1, 8, 27, 64, 125, 216, 343, 512, 729, 1000]\n"
          ]
        }
      ]
    },
    {
      "cell_type": "code",
      "metadata": {
        "id": "u7Sq1MTaD5vM",
        "outputId": "2d712f6a-2407-470e-b356-1e4a39f2853e",
        "colab": {
          "base_uri": "https://localhost:8080/"
        }
      },
      "source": [
        "wymiary = [200, 50]\n",
        "print(\"Wymiary początkowe w cm:\")\n",
        "for wymiar in wymiary:\n",
        "    print(wymiar)\n",
        "    \n",
        "wymiary = [400, 100]\n",
        "print(\"\\nWymiary po modyfikacji w cm:\")\n",
        "for wymiar in wymiary:\n",
        "    print(wymiar)\n",
        "\n",
        "print(\"\\nWymiary w m:\")\n",
        "for wymiar in wymiary:\n",
        "    print(wymiar / 100)\n",
        "\n",
        "wymiaryWMetrach = [x / 100 for x in wymiary]\n",
        "print(\"\\nWymiary w m:\")\n",
        "for wymiar in wymiaryWMetrach:\n",
        "    print(wymiar)\n",
        "\n",
        "wymiaryWMetrach = map(lambda x: x/100, wymiary)\n",
        "print(\"\\nWymiary w m:\")\n",
        "for wymiar in wymiaryWMetrach:\n",
        "    print(wymiar)\n",
        "\n"
      ],
      "execution_count": null,
      "outputs": [
        {
          "output_type": "stream",
          "name": "stdout",
          "text": [
            "Wymiary początkowe w cm:\n",
            "200\n",
            "50\n",
            "\n",
            "Wymiary po modyfikacji w cm:\n",
            "400\n",
            "100\n",
            "\n",
            "Wymiary w m:\n",
            "4.0\n",
            "1.0\n",
            "\n",
            "Wymiary w m:\n",
            "4.0\n",
            "1.0\n",
            "\n",
            "Wymiary w m:\n",
            "4.0\n",
            "1.0\n"
          ]
        }
      ]
    },
    {
      "cell_type": "code",
      "metadata": {
        "id": "BHj9fo8LEiFG",
        "outputId": "8f1a007e-b267-431e-a815-a6f57f1c3fd2",
        "colab": {
          "base_uri": "https://localhost:8080/"
        }
      },
      "source": [
        "import numpy\n",
        "\n",
        "metr = 100 # liczba cm w m\n",
        "wymiaryWCentyMetrach = numpy.array(wymiary)\n",
        "wymiaryWMetrach = wymiaryWCentyMetrach/metr\n",
        "\n",
        "print(\"\\nWymiary w cm:\")\n",
        "for wymiar in wymiaryWCentyMetrach:\n",
        "    print(wymiar)\n",
        "\n",
        "print(\"\\nWymiary w m:\")\n",
        "for wymiar in wymiaryWMetrach:\n",
        "    print(wymiar)"
      ],
      "execution_count": null,
      "outputs": [
        {
          "output_type": "stream",
          "name": "stdout",
          "text": [
            "\n",
            "Wymiary w cm:\n",
            "400\n",
            "100\n",
            "\n",
            "Wymiary w m:\n",
            "4.0\n",
            "1.0\n"
          ]
        }
      ]
    }
  ]
}