{
  "nbformat": 4,
  "nbformat_minor": 0,
  "metadata": {
    "kernelspec": {
      "display_name": "Python 3",
      "language": "python",
      "name": "python3"
    },
    "language_info": {
      "codemirror_mode": {
        "name": "ipython",
        "version": 3
      },
      "file_extension": ".py",
      "mimetype": "text/x-python",
      "name": "python",
      "nbconvert_exporter": "python",
      "pygments_lexer": "ipython3",
      "version": "3.6.8"
    },
    "colab": {
      "name": "Python 1 - podstawy programowania.ipynb",
      "provenance": [],
      "include_colab_link": true
    }
  },
  "cells": [
    {
      "cell_type": "markdown",
      "metadata": {
        "id": "view-in-github",
        "colab_type": "text"
      },
      "source": [
        "<a href=\"https://colab.research.google.com/github/rroszczyk/2202BISPK/blob/main/Python_1_podstawy_programowania.ipynb\" target=\"_parent\"><img src=\"https://colab.research.google.com/assets/colab-badge.svg\" alt=\"Open In Colab\"/></a>"
      ]
    },
    {
      "cell_type": "markdown",
      "metadata": {
        "id": "m7S7ERNMQK8y"
      },
      "source": [
        "# Python 1 - podstawy programowania\n",
        "\n",
        "Standardowym programem pisanym w nowym środowisku jest \"Hello World!\", którego jedynym zadaniem jest wypisanie na ekranie komputera. Do wypisywania ciągów znaków na ekranie wykorzystywane jest polecenie print. Odpowiedni kod przyjmuje więc postać:"
      ]
    },
    {
      "cell_type": "code",
      "metadata": {
        "id": "v6ZsktvnQK8z",
        "outputId": "1cf0b04b-40db-4488-d838-2097ad1b2c6b",
        "colab": {
          "base_uri": "https://localhost:8080/"
        }
      },
      "source": [
        "print(\"Witaj świecie!\")"
      ],
      "execution_count": null,
      "outputs": [
        {
          "output_type": "stream",
          "name": "stdout",
          "text": [
            "Witaj świecie!\n"
          ]
        }
      ]
    },
    {
      "cell_type": "markdown",
      "metadata": {
        "id": "nfWHecSFQK84"
      },
      "source": [
        "Uwagi:\n",
        "* Python jako jeden z niewielu języków programowania nie potrzebuje zakończenia linijki znakiem średnika. Jego umieszczenie nie jest błędem, ale flagowane jako coś do usunięcia.\n",
        "* Komenda print nie może być odsunięta od lewej krawędzi pliku ani spacją ani znakiem tabulatora."
      ]
    },
    {
      "cell_type": "markdown",
      "metadata": {
        "id": "9vnk-GvrQK85"
      },
      "source": [
        "## Łańcuchy znaków\n",
        "Pierwszym poznanym dla nas typem danych będzie łańcuch znaków (String). W Pythonie występują aż 4 sposoby na ich tworzenie \n",
        "\n"
      ]
    },
    {
      "cell_type": "code",
      "metadata": {
        "id": "kr7ne1vCQK85",
        "outputId": "449c46ae-2bbd-422d-e1f0-bc021b46878d",
        "colab": {
          "base_uri": "https://localhost:8080/"
        }
      },
      "source": [
        "print(\"Witaj świecie!\")\n",
        "print('Witaj świecie!')\n",
        "print('''Witaj świecie!''')\n",
        "print(\"\"\"Witaj świecie!\"\"\")"
      ],
      "execution_count": null,
      "outputs": [
        {
          "output_type": "stream",
          "name": "stdout",
          "text": [
            "Witaj świecie!\n",
            "Witaj świecie!\n",
            "Witaj świecie!\n",
            "Witaj świecie!\n"
          ]
        }
      ]
    },
    {
      "cell_type": "markdown",
      "metadata": {
        "id": "dQ1sOkh1QK88"
      },
      "source": [
        "* Obowiązuje zasada, że znak który otwierał łańcuch musi go zamknąć. Stąd w łańcuchach tworzonych przed \"\" można np. umieścić ' bez obawy o to że uszkodzą skrypt\n",
        "* Rezerwuje się znak \"\"\" jako znak komentarza dokumentującego i stąd nie zaleca się go tworzenia słów\n",
        "* Potrójne cudzysłowy można używać do tekstów zajmujących wiele linijek kodu"
      ]
    },
    {
      "cell_type": "markdown",
      "metadata": {
        "id": "IeHGSIy0QK89"
      },
      "source": [
        "### Konkatencja\n",
        "\n",
        "Konkatencją nazywaną operację łączenia dwóch lub więcej ciągów znaków w pojedynczy ciąg znaków.\n",
        "Przyjrzyjmy się: dwóch linijkom kodu\n"
      ]
    },
    {
      "cell_type": "code",
      "metadata": {
        "id": "nRgW0NpVQK8-",
        "outputId": "a87f467c-2007-49a2-a152-56ecd5648e19",
        "colab": {
          "base_uri": "https://localhost:8080/"
        }
      },
      "source": [
        "print(\"Witaj\",\"świecie!\")\n",
        "print(\"Witaj\"+\"świecie!\")"
      ],
      "execution_count": null,
      "outputs": [
        {
          "output_type": "stream",
          "name": "stdout",
          "text": [
            "Witaj świecie!\n",
            "Witajświecie!\n"
          ]
        }
      ]
    },
    {
      "cell_type": "markdown",
      "metadata": {
        "id": "mK51QihkQK9A"
      },
      "source": [
        "* Operacja pierwsza, nie przeprowadza konkatenacji. Pokazuje natomiast, że można przekazać wiele parametrów do funkcji print celem wyświetlenia.\n",
        "* Operacja druga wykonuje konkatenacje dwóch łańcuchów (operator+) i przekazuje do funkcji print pojedynczy parametr."
      ]
    },
    {
      "cell_type": "markdown",
      "metadata": {
        "id": "XORPCSawQK9B"
      },
      "source": [
        "## Komentarze\n",
        "\n",
        "Praca z programowaniem jest znacznie prostsza kiedy w skrypcie występują odpowiednie komentarze. W Pythonie mamy dwa rodzaje komentarzy:\n",
        "\n",
        "* Komentarz linijkowy rozpoczynany znakiem #\n",
        "* Komentarz wielolinijkowy (dokumentujący) ograniczany przez \"\"\" "
      ]
    },
    {
      "cell_type": "code",
      "metadata": {
        "id": "DhWYJD0XQK9C",
        "outputId": "cbbee719-0f2f-4fb4-8196-d22fe8ddc44d",
        "colab": {
          "base_uri": "https://localhost:8080/",
          "height": 35
        }
      },
      "source": [
        "# to jest komentarz\n",
        "\n",
        "\"\"\"\n",
        "To jest komentarz wielolinijkowy\n",
        "\"\"\""
      ],
      "execution_count": null,
      "outputs": [
        {
          "output_type": "execute_result",
          "data": {
            "application/vnd.google.colaboratory.intrinsic+json": {
              "type": "string"
            },
            "text/plain": [
              "'\\nTo jest komentarz wielolinijkowy\\n'"
            ]
          },
          "metadata": {},
          "execution_count": 4
        }
      ]
    },
    {
      "cell_type": "markdown",
      "metadata": {
        "id": "_C_GMuQAQK9E"
      },
      "source": [
        "## Zmienne\n",
        "\n",
        "* Zmienne w Python podlegają tzw. leniwej inicjalizacji. Tzn. odpowiednia pamięć jest rezerwowana dopiera w chwili wywołania przypisania. O zmiennych w Pythonie można myśleć jak o etykietach do których mogą być przypisane twory dowolnych typów.\n",
        "* Nie ma zatem potrzeby deklarowania typu dla zmiennych, jak np. w Javie czy C++. Nie oznacza to jednak, że Python nie ochrania zmiennych przed próbami zmiany typów. Typy są pilnowanen tylko z programisty został zdjęty obowiązek jawnego ich ogłoszenia. Przypomina to po części mechanizm auto z języka C++, ale naprawdę jego budowa jest zdecydowanie inna (gdyż auto tworzy zmienne w pamięci operacyjnej, natomiast przypisania w pythonie dotyczą jedynie etykiet.\n",
        "* Tak jak w większości języków programowania do tworzenia zmiennych używany jest operator= czyli tzw. operator przypisania.\n"
      ]
    },
    {
      "cell_type": "code",
      "metadata": {
        "id": "YsvJ21nUQK9F",
        "outputId": "5b12d156-a657-4cd9-b541-ea77d3a5dce1",
        "colab": {
          "base_uri": "https://localhost:8080/"
        }
      },
      "source": [
        "x=3\n",
        "y=4\n",
        "print(x,\"+\",y,\"=\",x+y)"
      ],
      "execution_count": null,
      "outputs": [
        {
          "output_type": "stream",
          "name": "stdout",
          "text": [
            "3 + 4 = 7\n"
          ]
        }
      ]
    },
    {
      "cell_type": "markdown",
      "metadata": {
        "id": "RId_D5C-QK9H"
      },
      "source": [
        "## Rzutowanie zmiennych\n",
        "\n",
        "Możliwa jest bardzo prosta zmiana typu danych dla typów podstawowych. Wystarczy odnosić się po prostu do typów w połączeniu z operatorem (), tj. operacjami\n",
        "\n",
        "* int()\n",
        "* float()\n",
        "* str()"
      ]
    },
    {
      "cell_type": "code",
      "metadata": {
        "id": "JQWxuDcLQK9I",
        "outputId": "894d6009-e67f-430b-9e3a-935571af2514",
        "colab": {
          "base_uri": "https://localhost:8080/"
        }
      },
      "source": [
        "x = 3.14\n",
        "calkowity_x = int(x)\n",
        "print(calkowity_x)"
      ],
      "execution_count": null,
      "outputs": [
        {
          "output_type": "stream",
          "name": "stdout",
          "text": [
            "3\n"
          ]
        }
      ]
    },
    {
      "cell_type": "markdown",
      "metadata": {
        "id": "FwZRSFLgQK9L"
      },
      "source": [
        "## Podstawowe kolekcje\n",
        "\n",
        "Częściej od zmiennych przechowujących pojedyncze dane potrzebować będziemy struktur przechowujących duże ich zbiory tj. kolekcje.\n",
        "\n",
        "W Pythonie występują 3 podstawowe kolekcje\n",
        "\n",
        "* Krotki - odpowiedniki tablic, ale bez ograniczeń typowych\n",
        "* Listy - rozszerzalne struktury dynamicznie\n",
        "* Słowniki - tablice asocjacyjne, mapy.\n"
      ]
    },
    {
      "cell_type": "markdown",
      "metadata": {
        "id": "BxE59-I6QK9M"
      },
      "source": [
        "### Krotki\n",
        "\n",
        "Krotki uzyskujemy grupując kilka zmiennych z wykorzystaniem nawiasu i przecinka jako symbolu rozdzialającego\n",
        "\n"
      ]
    },
    {
      "cell_type": "code",
      "metadata": {
        "id": "FbrHjxgwQK9N"
      },
      "source": [
        "x = \"Witaj\"\n",
        "y = \"Świecie\"\n",
        "krotka= (x, y)"
      ],
      "execution_count": null,
      "outputs": []
    },
    {
      "cell_type": "code",
      "metadata": {
        "id": "-AzU2U06QK9Q",
        "outputId": "cc6bc05b-4f2c-4608-86d8-a731aba7fed6",
        "colab": {
          "base_uri": "https://localhost:8080/"
        }
      },
      "source": [
        "print(krotka)"
      ],
      "execution_count": null,
      "outputs": [
        {
          "output_type": "stream",
          "name": "stdout",
          "text": [
            "('Witaj', 'Świecie')\n"
          ]
        }
      ]
    },
    {
      "cell_type": "markdown",
      "metadata": {
        "id": "QZOO0Av1QK9V"
      },
      "source": [
        "Krotki są tworą niezmienniczymi (Immutable). Nie można zmodyfikować składowych krotek. Ich przetwarzanie pozwala jedynie na kopiowanie poszczególnych składowych.\n",
        "\n",
        "Do uzyskania dostępu do składowych wykorzystywany jest operator$[]$. W nawias wprowadzane są interesujące nas indeksy. Tablice w Pythonie numerowane są od 0 w górę. Można również odnosić się do tablic w numeracji od końca z wykorzystaniem indeksów ujemnych (-1,-2,...). Oraz zakresów  "
      ]
    },
    {
      "cell_type": "code",
      "metadata": {
        "id": "x21yAeg2QK9W",
        "outputId": "2e00b4d2-049c-43f1-9b2e-8743346276eb",
        "colab": {
          "base_uri": "https://localhost:8080/"
        }
      },
      "source": [
        "x=\"Witaj\"\n",
        "y=\"Świecie\"\n",
        "krotka=(x,y,x,y,x,x,y)\n",
        "print(krotka[1]) \n",
        "print(krotka[-2])\n",
        "print(krotka[0:3])\n",
        "print(krotka[:]) #kopia całej krotki\n",
        "#krotka[2]=\"Slonce\" #błąd krotka jest niezmiennicza"
      ],
      "execution_count": null,
      "outputs": [
        {
          "output_type": "stream",
          "name": "stdout",
          "text": [
            "Świecie\n",
            "Witaj\n",
            "('Witaj', 'Świecie', 'Witaj')\n",
            "('Witaj', 'Świecie', 'Witaj', 'Świecie', 'Witaj', 'Witaj', 'Świecie')\n"
          ]
        }
      ]
    },
    {
      "cell_type": "markdown",
      "metadata": {
        "id": "sc4s7Fr9QK9Y"
      },
      "source": [
        "### Listy\n",
        "\n",
        "Listy to dynamicznie rozszerzalne tablice. Można je tworzyć poprzez nawiasy $[]$\n",
        "\n"
      ]
    },
    {
      "cell_type": "code",
      "metadata": {
        "id": "6gHSYA9XQK9Z"
      },
      "source": [
        "x= \"Witaj\"\n",
        "y= \"Świecie\"\n",
        "lista= [x,y]\n",
        "pusta_lista = []"
      ],
      "execution_count": null,
      "outputs": []
    },
    {
      "cell_type": "markdown",
      "metadata": {
        "id": "d3346BZSQK9b"
      },
      "source": [
        "Listy są rozszerzalne i zmiennicze (mutable). Można wstawiać, zmieniać i usuwać jej elementy; Dostęp uzyskujemy analogicznie jak w przypadku krotek\n"
      ]
    },
    {
      "cell_type": "code",
      "metadata": {
        "id": "Xgu2fKGxQK9b",
        "outputId": "51f4288b-bcc5-4427-878c-5861e89a433b",
        "colab": {
          "base_uri": "https://localhost:8080/"
        }
      },
      "source": [
        "lista.append('jesteś wspaniały')\n",
        "print(lista)"
      ],
      "execution_count": null,
      "outputs": [
        {
          "output_type": "stream",
          "name": "stdout",
          "text": [
            "['Witaj', 'Świecie', 'jesteś wspaniały']\n"
          ]
        }
      ]
    },
    {
      "cell_type": "code",
      "metadata": {
        "id": "PvQT-XO0QK9e",
        "outputId": "ba7bb46e-086c-4f43-f45d-68750ab3abd6",
        "colab": {
          "base_uri": "https://localhost:8080/"
        }
      },
      "source": [
        "lista[1] ='mój świecie'\n",
        "print(lista)"
      ],
      "execution_count": null,
      "outputs": [
        {
          "output_type": "stream",
          "name": "stdout",
          "text": [
            "['Witaj', 'mój świecie', 'jesteś wspaniały']\n"
          ]
        }
      ]
    },
    {
      "cell_type": "markdown",
      "metadata": {
        "id": "wlQiYamdQK9g"
      },
      "source": [
        "### Słowniki\n",
        "Słowniki są odpowiednikami map, nazywamy również tablicami asocjacyjnymi. Pozwalają przechowywać przypisane do siebie argumenty i wartości na zasadach klucz : wartość. Wytwarzamy je z wykorzystaniem nawiasów {} rozdzielając klucze i wartości symbolem :"
      ]
    },
    {
      "cell_type": "code",
      "metadata": {
        "id": "WuRpw8M7QK9g",
        "outputId": "2984a83c-2227-4b3d-e4f0-54a72eff25c7",
        "colab": {
          "base_uri": "https://localhost:8080/"
        }
      },
      "source": [
        "slownik = { \"koń\": \"horse\", \"pies\": \"dog\", \"matematyka\": \"mathematics\" }\n",
        "print(slownik[\"matematyka\"])"
      ],
      "execution_count": null,
      "outputs": [
        {
          "output_type": "stream",
          "name": "stdout",
          "text": [
            "mathematics\n"
          ]
        }
      ]
    },
    {
      "cell_type": "markdown",
      "metadata": {
        "id": "Kdvb56uHQK9j"
      },
      "source": [
        "# Komendy sterujące \n",
        "\n",
        "## Bloki kodu\n",
        "\n",
        "Wspominane było, że linie kodu nie mogą być poprzedzone znakiem spacji czy tabulatora. Wyjaśnimy czemu do tej pory tak musiało być. Powodem są bloki kodu\n",
        "\n",
        "Blokiem kodu nazywamy ciągi instrukcji posiadających własną przestrzeń nazw (dodatkową) wyszczególnioną w specjalny sposób.\n",
        "\n",
        "Bloki kodu są np. wykonywane w instrukcjach warunkowych czy pętlach. W javie czy c++ np.\n",
        "```cpp\n",
        "if (warunek) {\n",
        "   \\\\Blok instrukcji\n",
        "   czynnosc1();\n",
        "   czynnosc2();\n",
        "}\n",
        "```\n",
        "Najcześciej spotykane w programowaniu jest grupowanie bloków z wykorzystaniem nawiasów klamrowych. Oprócz tego wszyscy programiści zalecali robienie wcięć dla instrukcji w bloku - aby wyszczególnić jednakowe przestrzenie nazw i odróżniać instrukcje warunkowe od ogólnych, powtarzane od jednokrotnych.\n",
        "\n",
        "Twórcy Pythona dostrzegli w tym nadmiarowość formy. Zdecydowali się odrzucić klamry. W ten sposób bloki kodu określane są na podstawie **wcięć kodu**.\n",
        "\n",
        "Jak wygląda praca z tymi wcięciami przekonamy się już za chwilę:\n",
        "\n",
        "Miejsca gdzie występują bloki kodu:\n",
        "* Instrukcje warunkowe\n",
        "* Pętle\n",
        "* Funkcje\n",
        "* Implementacje klas\n",
        "* Bloki with\n",
        "\n"
      ]
    },
    {
      "cell_type": "markdown",
      "metadata": {
        "id": "mmcWYio9QK9j"
      },
      "source": [
        "## Instrukcja warunkowa IF\n",
        "\n",
        "Podstawową instrukcją warunkową w Pythonie jest if-elif-else. Podobnie jak w innych technologiach programistycznych, bloki elif i else można pomijać. Ogólna postać takiej instrukcji wygląda następująco:\n",
        "```python\n",
        "if warunek1:\n",
        "    #czynnosc1\n",
        "elif warunek2:\n",
        "    #czynnosc2\n",
        "else:\n",
        "    #czynnosc3\n",
        "```\n",
        "Np:\n"
      ]
    },
    {
      "cell_type": "code",
      "metadata": {
        "id": "pqw2qqIWQK9k",
        "outputId": "8673f77d-e245-4dff-9b50-e9cefa322e41",
        "colab": {
          "base_uri": "https://localhost:8080/"
        }
      },
      "source": [
        "x = 5\n",
        "if x % 2 == 1:\n",
        "    print('X jest liczbą nieparzystą')\n",
        "else:\n",
        "    print('X jest liczbą parzystą')\n",
        "print('Tu blok już się zakończył i wykonuje się on niezależnie od wartości sprawdzanego warunku')"
      ],
      "execution_count": null,
      "outputs": [
        {
          "output_type": "stream",
          "name": "stdout",
          "text": [
            "X jest liczbą nieparzystą\n",
            "Tu blok już się zakończył i wykonuje się on niezależnie od wartości sprawdzanego warunku\n"
          ]
        }
      ]
    },
    {
      "cell_type": "markdown",
      "metadata": {
        "id": "Dw_Xjre4QK9n"
      },
      "source": [
        "* Instrukcja warunkowa musi mieć blok if\n",
        "* Instrukcja może mieć najwyżej jeden blok else,\n",
        "* Instrukcja może mieć dowolną ilość bloków elif\n",
        "* Koniec wcięcia oznacza koniec bloku,\n",
        "* Linijka początkowa bloku musi kończyć się znakiem :"
      ]
    },
    {
      "cell_type": "markdown",
      "metadata": {
        "id": "AHBA8n1YQK9o"
      },
      "source": [
        "## IF połączone z IN\n",
        "\n",
        "Z instrukcją if możemy łatwo sprawdzać czy element występuje we wskazanej a wcześniej poznanej kolekcji. Np. czy ciąg znaków zawiera daną literę:\n"
      ]
    },
    {
      "cell_type": "code",
      "metadata": {
        "id": "gnyCIy97QK9p",
        "outputId": "2cb7c585-03e7-4576-b6eb-a67d58a93172",
        "colab": {
          "base_uri": "https://localhost:8080/"
        }
      },
      "source": [
        "zdanie = \"Ala ma kota!\"\n",
        "if \"k\" in zdanie:\n",
        "    print(\"Zdanie ma literke k\")\n",
        "if \"kot\" in zdanie:\n",
        "    print(\"Zdanie ma kota!\")"
      ],
      "execution_count": null,
      "outputs": [
        {
          "output_type": "stream",
          "name": "stdout",
          "text": [
            "Zdanie ma literke k\n",
            "Zdanie ma kota!\n"
          ]
        }
      ]
    },
    {
      "cell_type": "markdown",
      "metadata": {
        "id": "CsYMfIxpQK9t"
      },
      "source": [
        "## Pętle For\n",
        "\n",
        "Język Python wspiera również wykonywanie powtarzalnych obliczeń z wykorzystaniem konstrukcji pętli. Najczęściej do realizacji powtórzeń w Pythonie stosowana jest pętla for \n",
        "\n",
        "* wykorzystująca kolekcje:\n",
        "for element in lista:\n",
        "    #blok instrukcji\n",
        "* wykorzystująca licznik:\n",
        "for i in range(begin,end,step):\n",
        "    #blok instrukcji\n"
      ]
    },
    {
      "cell_type": "code",
      "metadata": {
        "id": "nloQzWs6QK9u",
        "outputId": "062cdfb6-df00-4b08-c113-278d560e59cc",
        "colab": {
          "base_uri": "https://localhost:8080/"
        }
      },
      "source": [
        "lista = ['raz', 'dwa', 'trzy']\n",
        "for element in lista:\n",
        "    print('Teraz kolej na', element)\n",
        "\n",
        "for i in range(0,10,2):\n",
        "    print('Kolejna liczba to ',i)"
      ],
      "execution_count": null,
      "outputs": [
        {
          "output_type": "stream",
          "name": "stdout",
          "text": [
            "Teraz kolej na raz\n",
            "Teraz kolej na dwa\n",
            "Teraz kolej na trzy\n",
            "Kolejna liczba to  0\n",
            "Kolejna liczba to  2\n",
            "Kolejna liczba to  4\n",
            "Kolejna liczba to  6\n",
            "Kolejna liczba to  8\n"
          ]
        }
      ]
    },
    {
      "cell_type": "markdown",
      "metadata": {
        "id": "L0RtL2WLQK9x"
      },
      "source": [
        "## Pętle while\n",
        "\n",
        "Czasem spotykamy również inny rodzaj pętli - pętle while\n",
        "\n",
        "```python\n",
        "while warunek:\n",
        "    #blok kodu\n",
        "```"
      ]
    },
    {
      "cell_type": "code",
      "metadata": {
        "id": "Ne2Nv5bDQK9x",
        "outputId": "7e3965dd-8855-4fec-af98-0fb122c6cb1c",
        "colab": {
          "base_uri": "https://localhost:8080/"
        }
      },
      "source": [
        "i = 0\n",
        "while i <= 10:\n",
        "    i += 1\n",
        "    print('Obecna wartosc to ', i)"
      ],
      "execution_count": null,
      "outputs": [
        {
          "output_type": "stream",
          "name": "stdout",
          "text": [
            "Obecna wartosc to  1\n",
            "Obecna wartosc to  2\n",
            "Obecna wartosc to  3\n",
            "Obecna wartosc to  4\n",
            "Obecna wartosc to  5\n",
            "Obecna wartosc to  6\n",
            "Obecna wartosc to  7\n",
            "Obecna wartosc to  8\n",
            "Obecna wartosc to  9\n",
            "Obecna wartosc to  10\n",
            "Obecna wartosc to  11\n"
          ]
        }
      ]
    },
    {
      "cell_type": "markdown",
      "metadata": {
        "id": "BvDLBRDfQK90"
      },
      "source": [
        "Najczęściej jest ona wykorzystywana razem z komendami break i continue\n",
        "\n",
        "* break - powoduje przerwanie działania petli i opuszczenie jej całkowicie\n",
        "* continue - powoduje natychmiastowe przejście do wykonywania następnej petli\n"
      ]
    },
    {
      "cell_type": "code",
      "metadata": {
        "id": "NFPa9QrnQK90",
        "outputId": "db8fa4b2-d499-42b0-aeca-831776511e79",
        "colab": {
          "base_uri": "https://localhost:8080/"
        }
      },
      "source": [
        "i = 0\n",
        "while True:\n",
        "    i += 1\n",
        "    if (i % 7 == 0): \n",
        "        continue\n",
        "    if (i >= 15):\n",
        "        break\n",
        "    print('Przetwarzam ', i)"
      ],
      "execution_count": null,
      "outputs": [
        {
          "output_type": "stream",
          "name": "stdout",
          "text": [
            "Przetwarzam  1\n",
            "Przetwarzam  2\n",
            "Przetwarzam  3\n",
            "Przetwarzam  4\n",
            "Przetwarzam  5\n",
            "Przetwarzam  6\n",
            "Przetwarzam  8\n",
            "Przetwarzam  9\n",
            "Przetwarzam  10\n",
            "Przetwarzam  11\n",
            "Przetwarzam  12\n",
            "Przetwarzam  13\n"
          ]
        }
      ]
    },
    {
      "cell_type": "markdown",
      "metadata": {
        "id": "rrKs-v6LQK93"
      },
      "source": [
        "# Funkcje\n",
        "\n",
        "Python pozwala w sposób dość swobodny tworzyć funkcje. Zanim jednak utworzymy pierwszą kilka uwag o zasadach ich tworzenia:\n",
        "\n",
        "* W odróżnieniu od wielu języków programowania w Pythonie nie ma możliwości przeciążania funkcji. W danej przestrzeni nazw może występować tylko raz nazwa danej funkcji\n",
        "* Parametry z wartością domyślną muszą być podane na końcu\n",
        "* Funkcje poprzedzone są słowem kluczowym def\n",
        "* Python wspiera funkcje lambda (* więcej o nich w części rozszerzonej)\n"
      ]
    },
    {
      "cell_type": "code",
      "metadata": {
        "id": "4W6F1LcXQK94"
      },
      "source": [
        "def moja_funkcja(x, parametry):\n",
        "    \"\"\"\n",
        "    Komentarz o funkcji\n",
        "    \"\"\"\n",
        "    return x+1"
      ],
      "execution_count": null,
      "outputs": []
    },
    {
      "cell_type": "code",
      "metadata": {
        "id": "gyz-CjmGQK96",
        "outputId": "05b53d98-47ee-4252-bba4-430c4be5f7c9",
        "colab": {
          "base_uri": "https://localhost:8080/"
        }
      },
      "source": [
        "print(moja_funkcja(1,0))"
      ],
      "execution_count": null,
      "outputs": [
        {
          "output_type": "stream",
          "name": "stdout",
          "text": [
            "2\n"
          ]
        }
      ]
    },
    {
      "cell_type": "markdown",
      "metadata": {
        "id": "64Z7cvtXQK99"
      },
      "source": [
        "## Funkcje zwracające krotki \n",
        "\n",
        "W pythonie wreszcie został wprowadzony sprawny mechanizm automated-unboxing. Pozwala on na łatwy i czytelny na zwracanie więcej niż jednej wartości. Mechanizm wymaga jednak aby zawsze zwrócone były wszystkie elementy wyniku funkcji (oraz przyjęte)\n",
        "\n",
        "\n"
      ]
    },
    {
      "cell_type": "code",
      "metadata": {
        "id": "U-rR4n7LQK99",
        "outputId": "2f268125-9903-4e28-e6a4-e1c5c344605f",
        "colab": {
          "base_uri": "https://localhost:8080/"
        }
      },
      "source": [
        "def moja_funkcja():\n",
        "    x=\"Zmienna 1 ma wartosc\"\n",
        "    y=3\n",
        "    return x, y\n",
        "\n",
        "#krotka = moja_funkcja() # tak można już było wcześniej\n",
        "#a = krotka[0]\n",
        "#b = krotka[1]\n",
        "a, b = moja_funkcja() # a tak dopiero w Pythonie\n",
        "print('A wynosi', a)\n",
        "print('B wynosi', b)"
      ],
      "execution_count": null,
      "outputs": [
        {
          "output_type": "stream",
          "name": "stdout",
          "text": [
            "A wynosi Zmienna 1 ma wartosc\n",
            "B wynosi 3\n"
          ]
        }
      ]
    },
    {
      "cell_type": "markdown",
      "metadata": {
        "id": "zlUwxmzPQK-A"
      },
      "source": [
        "# Operatory\n",
        "\n",
        "W Pythonie najprostszymi funkcjami są operatory. Czyli akcje wykonywane przez Python w odpowiedzi na znaki +,- oraz podobne. W Pythonie istnieją następujące grupy operatorów\n",
        "\n",
        "* arytmetryczne,\n",
        "* relacyjne (porównawcze),\n",
        "* logiczne,\n",
        "* bitowe,\n",
        "* przypisania,\n",
        "* identycznościowe,\n",
        "* przynależności.\n",
        "\n",
        "## Operatory arytmetyczne \n",
        "\n",
        "Do operatorów zaliczamy \n",
        "\n",
        "* dodawanie '+'\n",
        "* odejmowanie '-'\n",
        "* mnożenie '*'\n",
        "* dzielenie '/'\n",
        "* dzielenie modulo '%'\n",
        "* potęgę '**'\n",
        "* dzielenie całkowitoliczbowe '//'\n",
        "\n",
        "Do najciekawszego do zaprezentowania tu jest różnica pomiędzy dwoma rodzajami dzieleń. W znacznej większości języków programowania operatory zwracaja zawsze typ zgodny z operandami. W efekcie zdarza się, że programista bywa czasem zaskoczony działaniem swojego programu. Np. w C++\n",
        "\n",
        "```cpp\n",
        "int x = 3;\n",
        "int y = 2;\n",
        "cout << x/y;\n",
        "```\n",
        "\n",
        "zwróciło by jako wynik $1$. Twórcy Pythona uznali, że warto złamać zasadę o zgodności typów wyniku i operandu - bo w większości przypadków dla powyższego kodu programista spodziewałby się otrzymać 1.5. Istotnie\n",
        "\n"
      ]
    },
    {
      "cell_type": "code",
      "metadata": {
        "id": "HqQ41syhQK-B",
        "outputId": "7190f57d-f138-40a6-9fe5-4d0270dcbbef",
        "colab": {
          "base_uri": "https://localhost:8080/"
        }
      },
      "source": [
        "x = int(3)\n",
        "y= int(2)\n",
        "wynik = x/y\n",
        "print(wynik)\n",
        "print(type(wynik))"
      ],
      "execution_count": null,
      "outputs": [
        {
          "output_type": "stream",
          "name": "stdout",
          "text": [
            "1.5\n",
            "<class 'float'>\n"
          ]
        }
      ]
    },
    {
      "cell_type": "markdown",
      "metadata": {
        "id": "B6TcL63jQK-E"
      },
      "source": [
        "Jednak aby osługiwać pryzpadki w których programiście właśnie na uzyskaniu wyniku całkowitoliczbowego zależało - dodano kolejny operator '//'. "
      ]
    },
    {
      "cell_type": "code",
      "metadata": {
        "id": "3owkFtneQK-E",
        "outputId": "b50c4213-933e-444c-fc0d-2021da56114d",
        "colab": {
          "base_uri": "https://localhost:8080/"
        }
      },
      "source": [
        "print(x//y)"
      ],
      "execution_count": null,
      "outputs": [
        {
          "output_type": "stream",
          "name": "stdout",
          "text": [
            "1\n"
          ]
        }
      ]
    },
    {
      "cell_type": "markdown",
      "metadata": {
        "id": "z8o1AzwbQK-H"
      },
      "source": [
        "## Operatory relacyjne\n",
        "\n",
        "Wśród operatorów relacyjnych wyróżniamy\n",
        "\n",
        "* równość '=='\n",
        "* nierówność '!='\n",
        "* mniejsze oraz większe ('<' i '>')\n",
        "* mniejsze lub równe oraz większe lub równe ('<=' i '>=')\n"
      ]
    },
    {
      "cell_type": "code",
      "metadata": {
        "id": "G4PFmPVHQK-I",
        "outputId": "dba2dbc0-cec0-4a1e-88b4-cbab9a3671b3",
        "colab": {
          "base_uri": "https://localhost:8080/"
        }
      },
      "source": [
        "if 3 < 5:\n",
        "    print('3 jest mniejsze od 5')"
      ],
      "execution_count": null,
      "outputs": [
        {
          "output_type": "stream",
          "name": "stdout",
          "text": [
            "3 jest mniejsze od 5\n"
          ]
        }
      ]
    },
    {
      "cell_type": "markdown",
      "metadata": {
        "id": "dA50YI8qQK-K"
      },
      "source": [
        "Co ciekawe dopuszczalne są również (a niedostępne w innych językach programowania) następujące ciągi relacji"
      ]
    },
    {
      "cell_type": "code",
      "metadata": {
        "id": "sI60ypClQK-L",
        "outputId": "0097a4e6-7813-4ec8-e6a7-543203d1960c",
        "colab": {
          "base_uri": "https://localhost:8080/"
        }
      },
      "source": [
        "liczba = 4\n",
        "if 3 < liczba <= 5:\n",
        "    print('Liczba ta należy do przedziału (3,5]')"
      ],
      "execution_count": null,
      "outputs": [
        {
          "output_type": "stream",
          "name": "stdout",
          "text": [
            "Liczba ta należy do przedziału (3,5]\n"
          ]
        }
      ]
    },
    {
      "cell_type": "markdown",
      "metadata": {
        "id": "Y2i2xvj9QK-N"
      },
      "source": [
        "## Operatory logiczne\n",
        "\n",
        "Specjalna grupa operatorów jest zarezerwowana dla typów logicznych. Wyszczególniamy\n",
        "\n",
        "* logiczne i 'and',\n",
        "* logiczne lub 'or',\n",
        "* logiczne nie 'not'."
      ]
    },
    {
      "cell_type": "code",
      "metadata": {
        "id": "EKYIGJClQK-O",
        "outputId": "0ea5da99-471b-4ae8-ae44-8cbc6ce68a34",
        "colab": {
          "base_uri": "https://localhost:8080/"
        }
      },
      "source": [
        "liczba = 14\n",
        "if liczba % 3 == 0 and liczba % 2 ==0 :\n",
        "    print('Liczba jest podzielna przez 3 oraz 2')\n",
        "else :\n",
        "    print('Liczba nie jest podzielna przez 3 oraz 2')"
      ],
      "execution_count": null,
      "outputs": [
        {
          "output_type": "stream",
          "name": "stdout",
          "text": [
            "Liczba nie jest podzielna przez 3 oraz 2\n"
          ]
        }
      ]
    },
    {
      "cell_type": "markdown",
      "metadata": {
        "id": "1Gerh712QK-Q"
      },
      "source": [
        "## Operatory bitowe\n",
        "\n",
        "Operatory bitowe są stosowane do pracy na bitowych reprezentacjach dla danych. Dla operatorów tych nie jest istotne jaki typ danych przekształcają gdyż zawsze pracują na ich bitowym zapisie.\n",
        "\n",
        "Operatorami takimi są \n",
        "\n",
        "* Bitowe i '&' - gdzie dany bit zostaje ustalony na 1 tylko jeśli oba operandy miały 1 na tym bicie\n",
        "* Bitowe lub '|' - gdzie dany bit zostaje ustalony na 1 tylko jeśli dowolny operand miał 1 na tym bicie\n",
        "* Bitowe xor '^' - gdzie dany bit zostaje ustalony na 1 tylko jeśli dokładnie jeden operand miał 1 na tym bicie\n",
        "* Bitowe not '~' - gdzie dany bit zostaje ustalony na 1 tylko jeśli operand (jedyny operand) miał 0 na tym bicie\n",
        "* Bitowe przesunięcie w lewo '<<' - gdzie bity są przesuwane zgodnie w reprezentacji na miejsca bardziej po lewo, bity wysunięte poza zakres są tracone, a od lewej strony reprezentacja jest uzupełniana zerami\n",
        "* Bitowe przesunięcie w prawo '>>' - gdzie bity są przesuwane zgodnie w reprezentacji na miejsca bardziej po prawo, bity wysunięte poza zakres są tracone, a od lewej strony reprezentacja jest uzupełniana zerami"
      ]
    },
    {
      "cell_type": "code",
      "metadata": {
        "id": "0V5Sb5vgQK-R",
        "outputId": "5dae54fc-1653-4555-a12e-7996fe47db8d",
        "colab": {
          "base_uri": "https://localhost:8080/"
        }
      },
      "source": [
        "x = 0b0011 #tak można zadawać liczby w postaci dwójkowej\n",
        "y = 0b1110\n",
        "print('x ma wartość', x, 'y ma wartość', y)"
      ],
      "execution_count": null,
      "outputs": [
        {
          "output_type": "stream",
          "name": "stdout",
          "text": [
            "x ma wartość 3 y ma wartość 14\n"
          ]
        }
      ]
    },
    {
      "cell_type": "code",
      "metadata": {
        "id": "Egmj6pEQQK-T",
        "outputId": "a7352892-c72b-4136-9887-ee277c0af276",
        "colab": {
          "base_uri": "https://localhost:8080/"
        }
      },
      "source": [
        "z = x & y\n",
        "print('Wynik {0:{fill}4b}'.format(z,fill='0'))"
      ],
      "execution_count": null,
      "outputs": [
        {
          "output_type": "stream",
          "name": "stdout",
          "text": [
            "Wynik 0010\n"
          ]
        }
      ]
    },
    {
      "cell_type": "markdown",
      "metadata": {
        "id": "PIL3FZFkQK-Z"
      },
      "source": [
        "Zaprezentujemy jeszcze działanie przesuniecia"
      ]
    },
    {
      "cell_type": "code",
      "metadata": {
        "id": "j_uDERHxQK-Z",
        "outputId": "29c1d2df-11dd-4f08-c4d7-e1f1afd08f7d",
        "colab": {
          "base_uri": "https://localhost:8080/"
        }
      },
      "source": [
        "print('Wynik {0:{fill}4b}'.format(x<<1,fill='0'))"
      ],
      "execution_count": null,
      "outputs": [
        {
          "output_type": "stream",
          "name": "stdout",
          "text": [
            "Wynik 0110\n"
          ]
        }
      ]
    },
    {
      "cell_type": "markdown",
      "metadata": {
        "id": "nzKi4iF7QK-d"
      },
      "source": [
        "## Operatory przypisania \n",
        "\n",
        "Kolejną grupą operatorów są operatory przypisania. Do grupy tej zaliczamy\n",
        "\n",
        "* operator '=',\n",
        "* operatory przypisania arytmetycznego '+=', '-=', '*=', '/=', '%=', '//=', '**=',\n",
        "* operatory przypisania logicznego '&=', '|=', '^=',\n",
        "* operatory przypisania przesuniętego, '<<=' i '>>='\n",
        "\n",
        "Pierwszy operator służy do przypisania wartości do zmiennej\n",
        "\n",
        "```python\n",
        "zmienna = wartosc\n",
        "```\n",
        "\n",
        "Przede wszystkim nie należy pomylić operatora relacyjnej równości z tym operatorem. Pozostałe operatory mają łatwe do zrozumienia działanie. Widząc linijkę z operatorem \n",
        "```python \n",
        "zmienna ?= wartosc\n",
        "``` \n",
        "(? jest dowolnym z dopuszczalnych symboli) nalezy widzieć wykonanie następującej akcji \n",
        "```python\n",
        "zmienna = zmienna ? wartosc\n",
        "```\n",
        "I tak"
      ]
    },
    {
      "cell_type": "code",
      "metadata": {
        "id": "N_IiNYl2QK-d",
        "outputId": "4783218a-4d68-4fa0-f6f7-82672da0f803",
        "colab": {
          "base_uri": "https://localhost:8080/"
        }
      },
      "source": [
        "x = 5\n",
        "x += 3\n",
        "print(x)"
      ],
      "execution_count": null,
      "outputs": [
        {
          "output_type": "stream",
          "name": "stdout",
          "text": [
            "8\n"
          ]
        }
      ]
    },
    {
      "cell_type": "markdown",
      "metadata": {
        "id": "UvK73mhFQK-f"
      },
      "source": [
        "## Operatory identycznościowe\n",
        "\n",
        "Są operatorami mającymi za zadanie sprawdzić czy dany dwie etykiety przechowują ten sam lub nie ten sam obiekt. \n",
        "Operatorami tymi są \n",
        "* is\n",
        "* is not\n",
        "Sens prezentuje poniższy przykład"
      ]
    },
    {
      "cell_type": "code",
      "metadata": {
        "id": "ZYf09Sz9QK-g",
        "outputId": "10744492-ced8-48cd-a34a-a0ab6d1e30fa",
        "colab": {
          "base_uri": "https://localhost:8080/"
        }
      },
      "source": [
        "a = [5]\n",
        "b = [5]\n",
        "if a is b:\n",
        "    print('To ten sam obiekt')\n",
        "else :\n",
        "    print('To różne obiekty')\n",
        "    \n",
        "if a == b:\n",
        "    print('Obiekty mają takie same wartości')"
      ],
      "execution_count": null,
      "outputs": [
        {
          "output_type": "stream",
          "name": "stdout",
          "text": [
            "To różne obiekty\n",
            "Obiekty mają takie same wartości\n"
          ]
        }
      ]
    },
    {
      "cell_type": "code",
      "metadata": {
        "id": "FCrYxCTIQK-i",
        "outputId": "cc14814b-e2a6-499f-a89c-12a84430794f",
        "colab": {
          "base_uri": "https://localhost:8080/"
        }
      },
      "source": [
        "a = [5]\n",
        "b = a\n",
        "if a is b:\n",
        "    print('To ten sam obiekt')\n",
        "else :\n",
        "    print('To różne obiekty')\n",
        "    \n",
        "if a == b:\n",
        "    print('Obiekty mają takie same wartości')"
      ],
      "execution_count": null,
      "outputs": [
        {
          "output_type": "stream",
          "name": "stdout",
          "text": [
            "To ten sam obiekt\n",
            "Obiekty mają takie same wartości\n"
          ]
        }
      ]
    },
    {
      "cell_type": "markdown",
      "metadata": {
        "id": "DfOT0sVpQK-l"
      },
      "source": [
        "Co ciekawe rozpoznanie to nie działa na typach prostych"
      ]
    },
    {
      "cell_type": "code",
      "metadata": {
        "id": "2nSJZb1nQK-m",
        "outputId": "2447f738-753f-46c5-b813-de71a02a560e",
        "colab": {
          "base_uri": "https://localhost:8080/"
        }
      },
      "source": [
        "a = 5\n",
        "b = 5\n",
        "a is b"
      ],
      "execution_count": null,
      "outputs": [
        {
          "output_type": "execute_result",
          "data": {
            "text/plain": [
              "True"
            ]
          },
          "metadata": {},
          "execution_count": 33
        }
      ]
    },
    {
      "cell_type": "markdown",
      "metadata": {
        "id": "NaFB69uaQK-p"
      },
      "source": [
        "Najczęściej jednak operatora tego stosuje się do kontroli typu"
      ]
    },
    {
      "cell_type": "code",
      "metadata": {
        "id": "3KyTfwlUQK-q",
        "outputId": "ee602cc6-037f-4096-c33f-7cbe4c1f4713",
        "colab": {
          "base_uri": "https://localhost:8080/"
        }
      },
      "source": [
        "a = 5\n",
        "type(a) is int"
      ],
      "execution_count": null,
      "outputs": [
        {
          "output_type": "execute_result",
          "data": {
            "text/plain": [
              "True"
            ]
          },
          "metadata": {},
          "execution_count": 34
        }
      ]
    },
    {
      "cell_type": "code",
      "metadata": {
        "id": "dqQCGjIEQK-s",
        "outputId": "10284c40-5d17-47fa-c60e-1ae47da95a4a",
        "colab": {
          "base_uri": "https://localhost:8080/"
        }
      },
      "source": [
        "type(a) is not str"
      ],
      "execution_count": null,
      "outputs": [
        {
          "output_type": "execute_result",
          "data": {
            "text/plain": [
              "True"
            ]
          },
          "metadata": {},
          "execution_count": 35
        }
      ]
    },
    {
      "cell_type": "markdown",
      "metadata": {
        "id": "aIUNvaffQK-u"
      },
      "source": [
        "Często wykorzystuje się go do sprawdzenia czy dany obiekt został zainicjowany"
      ]
    },
    {
      "cell_type": "code",
      "metadata": {
        "id": "GqAxUjhjQK-u",
        "outputId": "e5516b32-87e3-4da4-8bdd-3faa0100126e",
        "colab": {
          "base_uri": "https://localhost:8080/"
        }
      },
      "source": [
        "a = None\n",
        "\n",
        "if a is None:\n",
        "    print('a jest niezainicjowane')\n",
        "else:\n",
        "    print('a jest zainicjowane')"
      ],
      "execution_count": null,
      "outputs": [
        {
          "output_type": "stream",
          "name": "stdout",
          "text": [
            "a jest niezainicjowane\n"
          ]
        }
      ]
    },
    {
      "cell_type": "markdown",
      "metadata": {
        "id": "RahZLsedQK-w"
      },
      "source": [
        "## Operatory przynależności\n",
        "\n",
        "Ostatnią grupą operatorów są te które weryfikują czy element należy do kolekcji. Są to dwa operatory\n",
        "* in \n",
        "* not in\n",
        "\n",
        "z klasycznymi przykładami"
      ]
    },
    {
      "cell_type": "code",
      "metadata": {
        "id": "KkEjvef4QK-w",
        "outputId": "69bc6b6a-5339-4f81-9f31-668e4ccde960",
        "colab": {
          "base_uri": "https://localhost:8080/"
        }
      },
      "source": [
        "zoo = ['lew', 'słoń', 'małpa']\n",
        "if 'kot' in zoo:\n",
        "    print('Zoo ma kota')\n",
        "else:\n",
        "    print('Zoo nie ma kota')"
      ],
      "execution_count": null,
      "outputs": [
        {
          "output_type": "stream",
          "name": "stdout",
          "text": [
            "Zoo nie ma kota\n"
          ]
        }
      ]
    },
    {
      "cell_type": "markdown",
      "metadata": {
        "id": "UFVuxqirQK-0"
      },
      "source": [
        "oraz"
      ]
    },
    {
      "cell_type": "code",
      "metadata": {
        "id": "S4Qawoa-QK-1",
        "outputId": "9973718f-303c-4382-de3e-0e8f70c5d1a4",
        "colab": {
          "base_uri": "https://localhost:8080/"
        }
      },
      "source": [
        "if 'm' in 'Ala ma kota':\n",
        "    print('W zdaniu Ala ma kota występuje literka m')"
      ],
      "execution_count": null,
      "outputs": [
        {
          "output_type": "stream",
          "name": "stdout",
          "text": [
            "W zdaniu Ala ma kota występuje literka m\n"
          ]
        }
      ]
    }
  ]
}