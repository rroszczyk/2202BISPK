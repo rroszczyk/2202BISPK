{
  "cells": [
    {
      "cell_type": "markdown",
      "metadata": {
        "id": "view-in-github",
        "colab_type": "text"
      },
      "source": [
        "<a href=\"https://colab.research.google.com/github/rroszczyk/2202BISPK/blob/main/Python_5_programowanie_obiektowe.ipynb\" target=\"_parent\"><img src=\"https://colab.research.google.com/assets/colab-badge.svg\" alt=\"Open In Colab\"/></a>"
      ]
    },
    {
      "cell_type": "markdown",
      "metadata": {
        "id": "9dw4nnGSgz7f"
      },
      "source": [
        "# Programowanie obiektowe\n",
        "\n",
        "Python jest językiem programowania wspierającym programowanie obiektowe. W odróżnieniu np. od Javy, nie wymaga on jednak umieszczania wszystkiego we wnętrzach klas. Korzystanie z klas jest dobrowolne - i jeśli potrzeba, można posługiwać się instrukcjami zdefiniowanymi w zakresie globalnym (brak wcięcia). Klasy i obiekty są jednak jedyną drogą dostępną dla programistów Pythona jeśli chodzi o tworzenie nowych typów - i między innymi z tego powodu warto ją omówić.\n",
        "\n",
        "# Wykorzystanie obiektów do programowania strukturalnego\n",
        "\n",
        "Jednym z paradygmatów (t.j. zbiór zasad \"dobrego\") programowania jest programowanie w sposób strukturalny. Sposób tego programowania jest ścisle związany ze słowem kluczowym języka C/C++ ``` struct``` służącym do tworzenia nowych typów. Warto jednak wyjaśnić, po co byłyby nam w ogóle nowe typy danych.\n",
        "\n",
        "Wyobraźmy sobie przykład - _mamy napisać program, który gromadzi nasze dane osobowe i wypisuje nam na ekranie ich podsumowanie._ Mogłoby to wyglądać następująco: \n"
      ]
    },
    {
      "cell_type": "code",
      "execution_count": null,
      "metadata": {
        "id": "8JX5s_FNgz7i"
      },
      "outputs": [],
      "source": [
        "def wypisz_podsumowanie(imie, nazwisko, wiek):\n",
        "    print(f'Imię: {imie},     nazwisko: {nazwisko},     lat {wiek}')\n",
        "    \n",
        "imie = input('Podaj swoje imie\\n>')\n",
        "nazwisko = input('Podaj swoje nazwisko\\n>')\n",
        "wiek = int(input('Podaj swój obecny wiek\\n>'))\n",
        "\n",
        "wypisz_podsumowanie(imie, nazwisko, wiek)"
      ]
    },
    {
      "cell_type": "code",
      "source": [
        "dir()"
      ],
      "metadata": {
        "id": "eFtlD6yMdJ9y"
      },
      "execution_count": null,
      "outputs": []
    },
    {
      "cell_type": "markdown",
      "metadata": {
        "id": "qHqvLVoAgz7k"
      },
      "source": [
        "Wyobraźmy sobie, że chcielibyśmy rozwinąć tę naszą funkcję o jeszcze więcej informacji o danej osobie. Np. o adres i numer telefonu oraz email. Dla pewnego celu - umieśćmy jeszcze wszystkie inputy w jednej funkcji o nazwie _wczytaj_dane_osobowe_."
      ]
    },
    {
      "cell_type": "code",
      "execution_count": null,
      "metadata": {
        "id": "AlBD7yk_gz7l"
      },
      "outputs": [],
      "source": [
        "def wczytaj_dane_osobowe():\n",
        "    imie = input('Podaj swoje imie\\n>')\n",
        "    nazwisko = input('Podaj swoje nazwisko\\n>')\n",
        "    wiek = int(input('Podaj swój obecny wiek\\n>'))\n",
        "    panstwo = input('Podaj państwo zamieszkania\\n>')\n",
        "    miasto = input('Podaj miasto zamieszkania\\n>')\n",
        "    ulica = input('Podaj ulicę zamieszkania\\n')\n",
        "    numer = input('Podaj numer posesji\\n>')\n",
        "    numer_domu = input('Podaj numer mieszkania lub zostaw puste jeśli n/d\\n>')\n",
        "    numer_domu = None if numer_domu == '' else numer_domu\n",
        "    kod_pocztowy = input('Podaj kod pocztowy w formacie XX-XXX\\n>')\n",
        "    kierunkowy = input('Podaj krajowy numer kierunkowy (pomiń +, np. 48 dla Polski)\\n>')\n",
        "    telefon = input('Podaj 9 cyfrowy numer telefonu\\n>')\n",
        "    email = input('Podaj swoj adres email\\n>')\n",
        "    return imie, nazwisko, wiek, panstwo, miasto, kod_pocztowy, ulica, \\\n",
        "            numer, numer_domu, telefon, kierunkowy, email\n",
        "    \n",
        "def wypisz_podsumowanie(imie, nazwisko, wiek, panstwo, miasto, kod_pocztowy, ulica, \\\n",
        "                        numer, numer_domu, telefon, kierunkowy, email):\n",
        "    print(f'Imię:  {imie},     nazwisko: {nazwisko},     lat {wiek}')\n",
        "    nd = '' if numer_domu is None else 'm. ' + numer_domu \n",
        "    print(f'Adres: ul. {ulica} {numer} {nd}')\n",
        "    print(f'       {miasto}, {kod_pocztowy}, {panstwo}')\n",
        "    print(f'Tel:   {kierunkowy}-{telefon}')\n",
        "    print(f'Email: {email}')\n",
        "    \n",
        "imie, nazwisko, wiek, panstwo, miasto, kod_pocztowy, ulica, numer, numer_domu, telefon,  kierunkowy, email = wczytaj_dane_osobowe()\n",
        "wypisz_podsumowanie(imie, nazwisko, wiek, panstwo, miasto, kod_pocztowy, ulica, numer, numer_domu, telefon, kierunkowy, email)"
      ]
    },
    {
      "cell_type": "markdown",
      "metadata": {
        "id": "ZP_nmHxSgz7m"
      },
      "source": [
        "Z punktu widzenia programisty - wszystko jest w porządku - działa płynnie. Ale z przygotowanych przez niego funkcji:\n",
        "\n",
        "* trudno korzystać,\n",
        "* łatwo pogubić się w kolejności,\n",
        "* trudno zrozumieć cel poszczególnych linii kodu i funkcji. \n",
        "\n",
        "Nawet napisanie prostego wywołania wiąże się tu ze znacznym obciążeniem. Staje się to szczególnie wyraźne, gdy wyobrazimy sobie, że w kodzie mamy wypisać podsumowania 2-3 osób. Jak to poprawić?\n",
        "\n",
        "Szczególnie podczas nauki programowania, warto przyswoić sobie następującą zasadę: _Jeśli piszesz funkcję, i zastanawiasz się jakie powinny być jej argumenty -> Pomyśl o niej jak koleżance/koledze, którego prosisz o pomoc._ W tym wypadku w mojej głowie wywiązałby się następujący dialog:\n",
        "\n",
        "* Słuchaj - pomógłbyś mi wypisać na ekranie krótkie podsumowanie o mojej osobie?\n",
        "* Jasne, nie ma sprawy - tylko musisz mi dać swoje dane osobowe.\n",
        "* Dane osobowe?\n",
        "* No dane osobowe. \n",
        "* Co rozumiesz przez dane osobowe?\n",
        "* No wiesz: imię, nazwisko, wiek , ....\n",
        "* Aha, okey. Jasne... (opada kurtyna)\n",
        "\n",
        "W dialogu tym najpierw padło sformułowanie _dane osobowe_. Kolega odnosi się do nich tak jakby stanowiły całość, 1 element zbioru. Dopiero dopytany podaje z czego powinny się składać.\n",
        "\n",
        "Zatem zadanie które przed sobą teraz stawiamy to połączenie tych wszystkich danych w całość, jeden krojony na miarę kompozyt. I osiągniemy to definiując bardzo podstawową klasę."
      ]
    },
    {
      "cell_type": "markdown",
      "metadata": {
        "id": "q9IlfhMOgz7n"
      },
      "source": [
        "## Definiowanie klas\n",
        "\n",
        "Definicję klasy rozpoczyna następująca linijka i jej treść jest zawarta w bloku przez nią rozpoczętym (osobne wcięcie)\n",
        "\n",
        "```python\n",
        "class Klasa_Przykładowa(object):\n",
        "    ... składowe klasy ...\n",
        "```\n",
        "\n",
        "Wszystko co chcemy umieścić we wnętrzu naszej klasy powinno zostać zdefiniowane w tymże bloku. \n",
        "\n",
        "Jeszcze jedna ważna zasada - wyjątkowo ważna bo to powszechnie uznana umowa nazywania klas. \n",
        "\n",
        "**Klasy w Pythonie nazywamy z wielkiej litery**\n",
        "\n",
        "Dwa uznane sposoby to nazywanie klas to \n",
        "* CamelCase (notacja wielbłądzia) ```JesliNazwaKlasySkladaSieZWieluSlowKazdeNoweSlowoZaczynamyWielkaLitera```\n",
        "* Z uwagi na to, że Python dopuszcza w nazwach podkreślnik często spotyka się również ```Jesli_Nazwa_Klasy_Sklada_Sie_Z_Wielu_Slow_Kazde_Nowe_Slowo_Zaczynamy_Wielka_Litera```\n",
        "\n",
        "Obie popularne notacje zakładają jednak rozpoczęcie nazwy typu z wielkiej litery.\n",
        "\n",
        "\n",
        "Zdecydowanie jesteśmy w takim punkcie, że nie przez teorię - ale przez przykład - pójdziemy dalej. Jak z pomocą klasy możemy poprawić kod naszego zadania powyżej? Potrzebna jest nam klasa oczywiście klasa"
      ]
    },
    {
      "cell_type": "code",
      "execution_count": null,
      "metadata": {
        "id": "i_G4sU5Wgz7o"
      },
      "outputs": [],
      "source": [
        "class Dane_Osobowe(object):\n",
        "    pass"
      ]
    },
    {
      "cell_type": "markdown",
      "metadata": {
        "id": "-aJYsDLmgz7p"
      },
      "source": [
        "Ten przykład jest na razie wyraźnie niekompletny. Jeszcze za chwilę powrócimy do tego, dlaczego jest tu tak pusto. ```pass``` bowiem oznacza tyle samo co w grach karcianych _\"nic nie mam - kończę\"._ A jak to zmienia działanie naszego kodu.\n",
        "Najpierw naprawimy _wczytywanie danych osobowych_"
      ]
    },
    {
      "cell_type": "code",
      "execution_count": null,
      "metadata": {
        "id": "FXGSji53gz7q"
      },
      "outputs": [],
      "source": [
        "def wczytaj_dane_osobowe():\n",
        "    dane = Dane_Osobowe()\n",
        "    dane.imie = input('Podaj swoje imie\\n>')\n",
        "    dane.nazwisko = input('Podaj swoje nazwisko\\n>')\n",
        "    dane.wiek = int(input('Podaj swój obecny wiek\\n>'))\n",
        "    dane.panstwo = input('Podaj państwo zamieszkania\\n>')\n",
        "    dane.miasto = input('Podaj miasto zamieszkania\\n>')\n",
        "    dane.ulica = input('Podaj ulicę zamieszkania\\n')\n",
        "    dane.numer = input('Podaj numer posesji\\n>')\n",
        "    numer_domu = input('Podaj numer mieszkania lub zostaw puste jeśli n/d\\n>')\n",
        "    dane.numer_domu = None if numer_domu == '' else numer_domu\n",
        "    dane.kod_pocztowy = input('Podaj kod pocztowy w formacie XX-XXX\\n>')\n",
        "    dane.kierunkowy = input('Podaj krajowy numer kierunkowy (pomiń +, np. 48 dla Polski)\\n>')\n",
        "    dane.telefon = input('Podaj 9 cyfrowy numer telefonu\\n>')\n",
        "    dane.email = input('Podaj swoj adres email\\n>')\n",
        "    return dane"
      ]
    },
    {
      "cell_type": "code",
      "source": [
        "#dane = wczytaj_dane_osobowe()\n",
        "\n",
        "for k in dane.__dict__:\n",
        "  print(f\"{k}\\n\")\n",
        "\n",
        "print(dane.__dict__)\n"
      ],
      "metadata": {
        "id": "QZkuy2WtdzKt"
      },
      "execution_count": null,
      "outputs": []
    },
    {
      "cell_type": "markdown",
      "metadata": {
        "id": "CV2rx3ezgz7r"
      },
      "source": [
        "Kluczowa okazuje się linijka ```dane = Dane_Osobowe()``` gdzie tworzona jest zmienna typu Dane_Osobowe (tworzony jest obiekt tej klasy). Dzięki temu niejako zbierane informacje możemy wkładać do środka, do wnętrza tego obiektu. wtedy ``` return dane``` przekaże na zewnątrz wszystkie dane na raz.\n",
        "Ponadto warto zwrócić uwagę na składnię\n",
        "```python\n",
        "obiekt.pole\n",
        "```\n",
        "który pokazuje w jaki sposób należy odnosić do elementów wewnętrznych (składowych) obiektu. A jak wygląda poprawiona druga funkcja?"
      ]
    },
    {
      "cell_type": "code",
      "execution_count": null,
      "metadata": {
        "id": "6bM5aNGMgz7s"
      },
      "outputs": [],
      "source": [
        "def wypisz_podsumowanie(osoba):\n",
        "    print(f'Imię:  {osoba.imie},     nazwisko: {osoba.nazwisko},     lat {osoba.wiek}')\n",
        "    nd = '' if osoba.numer_domu is None else 'm. ' + osoba.numer_domu \n",
        "    print(f'Adres: ul. {osoba.ulica} {osoba.numer} {nd}')\n",
        "    print(f'       {osoba.miasto}, {osoba.kod_pocztowy}, {osoba.panstwo}')\n",
        "    print(f'Tel:   {osoba.kierunkowy}-{osoba.telefon}')\n",
        "    print(f'Email: {osoba.email}')"
      ]
    },
    {
      "cell_type": "markdown",
      "metadata": {
        "id": "MCMJhAgxgz7s"
      },
      "source": [
        "Czyli tu musi zajść proces odwrotny. Skoro dane były wprowadzane do wnętrza, teraz należy je wydobyć. Pozwala to nam zapisać nasz program w poniższy sposób:\n"
      ]
    },
    {
      "cell_type": "code",
      "execution_count": null,
      "metadata": {
        "id": "8KU9BKcogz7s"
      },
      "outputs": [],
      "source": [
        "#dane = wczytaj_dane_osobowe()\n",
        "wypisz_podsumowanie(dane)"
      ]
    },
    {
      "cell_type": "markdown",
      "metadata": {
        "id": "4pEGLNZmgz7t"
      },
      "source": [
        "No - to teraz rozumiemy po co było to wszystko. Tak zapisany kod naszego skryptu - to zupełnie inna czytelność zaprezentowanych teraz dwóch linijek. Teraz z łatwością z nazw funkcji można odczytać, co ma się w tych dwóch linijkach wydarzyć. Poza tym, proponowane rozwiązanie ma następujące własności:\n",
        "\n",
        "* żadnych problemów ze zgubieniem parametru;\n",
        "* żadnych problemów z kolejnością;\n",
        "* nawet jeśli byśmy mieli kilka obiektów z danymi osobowymi - łatwo się nie pomylimy - kiedy o który nam chodzi.\n",
        "\n",
        "Tylko czemu ta nasza definicja klasy była taka pusta? Bo Python na to pozwala. W odróżnieniu od C++, Javy czy innych języków 3 generacji - nie trzeba z góry definiować, jakie są składowe klasy (pola). Jeśli chcemy to zrobić, np. aby nadać wartości domyślne dla pól, to trzeba posłużyć się poniższą wersją. Na razie bez wyjaśnienia kilku słów kluczowych jakie się tam pojawiły. Poniższy zapis już pomaga narzędziom IDE takim jak PyCharm, aby podpowiadały nam one nazwy składowych obiektów."
      ]
    },
    {
      "cell_type": "code",
      "execution_count": null,
      "metadata": {
        "id": "pRKdFj9_gz7t"
      },
      "outputs": [],
      "source": [
        "class Dane_Osobowe(object):\n",
        "    def __init__(self):\n",
        "        self.imie = None\n",
        "        self.nazwisko = None\n",
        "        self.wiek = None\n",
        "        self.panstwo = None\n",
        "        self.miasto = None\n",
        "        self.kod_pocztowy = None\n",
        "        self.ulica = None\n",
        "        self.numer = None\n",
        "        self.numer_domu = None\n",
        "        self.telefon = None\n",
        "        self.kierunkowy = None\n",
        "        self.email = None"
      ]
    },
    {
      "cell_type": "markdown",
      "metadata": {
        "id": "qiOpBl1Lgz7t"
      },
      "source": [
        "Nie wszystko co jest w kodzie powyżej może być od razu oczywiste. W dalszej części opowiemy sobie o tym, czym w tym wszystkim jest self. Po wyjaśnienie czym jest ```def __init__(self)``` trzeba będzie się już udać do części dodatkowej, gdzie można przeczytać więcej na temat konstruktorów klas."
      ]
    },
    {
      "cell_type": "markdown",
      "metadata": {
        "id": "_gVMSP7Mgz7u"
      },
      "source": [
        "# Co może w klasie siedzieć\n",
        "\n",
        "Co można umieścić w bloku danej klasy w Pythonie. W zasadzie to wszystko!\n",
        "\n",
        "* Zmienne - stają się one wtedy zmiennymi klasowymi,\n",
        "* Funkcje - w tym szczególnie typowe dla klas nazywane 'metodami',\n",
        "* Inne klasy,\n",
        "* Kod wykonywalny (ale tego lepiej nie róbmy, bo ma to niewielki sens w programowaniu - więc łatwo zrobić coś trudnego do przewidzenia w skutkach).\n",
        "\n",
        "## Zmienne klasowe\n",
        "\n",
        "Zmienne klasowe są to zmienne dostępne dla wszystkich obiektów danej klasy. Stanowią one jednak obszar w pewien sposób współdzielony. Są więc idealne do definiowania stałych dla klasy."
      ]
    },
    {
      "cell_type": "code",
      "execution_count": null,
      "metadata": {
        "id": "L9AGFUoigz7u"
      },
      "outputs": [],
      "source": [
        "class A(object):\n",
        "    x = 7\n",
        "\n",
        "a = A()"
      ]
    },
    {
      "cell_type": "markdown",
      "metadata": {
        "id": "U9ha7nt3gz7u"
      },
      "source": [
        "Możemy wejrzeć do tej zmiennej poprzez obiekt"
      ]
    },
    {
      "cell_type": "code",
      "execution_count": null,
      "metadata": {
        "id": "nXy4ICo-gz7u"
      },
      "outputs": [],
      "source": [
        "a.x"
      ]
    },
    {
      "cell_type": "markdown",
      "metadata": {
        "id": "Z5xzHc4Vgz7v"
      },
      "source": [
        "lub poprzez całą klasę"
      ]
    },
    {
      "cell_type": "code",
      "execution_count": null,
      "metadata": {
        "id": "GxfLMSXvgz7v"
      },
      "outputs": [],
      "source": [
        "A.x"
      ]
    },
    {
      "cell_type": "markdown",
      "metadata": {
        "id": "wLMF-iiQgz7v"
      },
      "source": [
        "Możemy zdefiniować sobie wiele obiektów danej klasy"
      ]
    },
    {
      "cell_type": "code",
      "execution_count": null,
      "metadata": {
        "id": "QJJ6rhEcgz7v"
      },
      "outputs": [],
      "source": [
        "b = A()\n",
        "b.x"
      ]
    },
    {
      "cell_type": "code",
      "execution_count": null,
      "metadata": {
        "id": "fnrYKaR-gz7w"
      },
      "outputs": [],
      "source": [
        "b.x = 6\n",
        "b.x"
      ]
    },
    {
      "cell_type": "markdown",
      "metadata": {
        "id": "64aTlQi5gz7w"
      },
      "source": [
        "Jednak ta zmiana nie powoduje zmian widocznych w innych obiektach"
      ]
    },
    {
      "cell_type": "code",
      "execution_count": null,
      "metadata": {
        "id": "maRQubp2gz7w"
      },
      "outputs": [],
      "source": [
        "A.x"
      ]
    },
    {
      "cell_type": "code",
      "execution_count": null,
      "metadata": {
        "id": "zep7YQbggz7w"
      },
      "outputs": [],
      "source": [
        "a.x "
      ]
    },
    {
      "cell_type": "markdown",
      "metadata": {
        "id": "MwGNrqNwgz7x"
      },
      "source": [
        "Definiowanie jednak zmiennych w klasach Pythonowych w ten powyższy sposób jest nienaturalne i lepiej go unikać. Czyli\n",
        "\n",
        "**TEGO POWYŻEJ NIE POWTARZAMY.**\n",
        "\n",
        "## Funkcje w klasie\n",
        "\n",
        "A gdyby tak zdefiniować funkcję we wnętrzu klasy. Hmmm"
      ]
    },
    {
      "cell_type": "code",
      "execution_count": null,
      "metadata": {
        "id": "61npnAfkgz7x"
      },
      "outputs": [],
      "source": [
        "class A(object):\n",
        "    \n",
        "    def funkcja():\n",
        "        print('Witaj świecie')\n",
        "        \n",
        "\n",
        "A.funkcja()"
      ]
    },
    {
      "cell_type": "markdown",
      "metadata": {
        "id": "AFNcex-tgz7x"
      },
      "source": [
        "No niby działa. Ale zobaczmy, że już"
      ]
    },
    {
      "cell_type": "code",
      "execution_count": null,
      "metadata": {
        "id": "1i1_KtTJgz7y"
      },
      "outputs": [],
      "source": [
        "a = A()\n",
        "a.funkcja()"
      ]
    },
    {
      "cell_type": "markdown",
      "metadata": {
        "id": "pTziMMH7gz7y"
      },
      "source": [
        "Nie działa. To ponownie ponieważ pisanie takich funkcji jest nienaturalne w programowaniu obiektowym. Funkcje napisane w ten sposób w Pythonie pojawiają się w sposób sporadyczny - i zawsze w odpowiedzi na bardzo ważny powód. Więc ponownie\n",
        "\n",
        "**TEGO POWYŻEJ NIE POWTARZAMY.**\n",
        "\n",
        "Programowanie obiektowe ma swój osobliwy sposób patrzenia na świat. I aby go wdrożyć i programować zgodnie z tym jak klas powinno się używać potrzebny będzie przykład. Teraz - bo już omówiliśmy najważniejsze sposoby w jaki klas nie należy używać - przejdźmy do tego jak powinno się to robić.\n",
        "\n",
        "## Świat złożony z obiektów\n",
        "\n",
        "Wyobraźmy sobie taki prototyp wyrażony w kodzie Pythona.\n",
        "\n",
        "```python\n",
        "def podnies(reka):\n",
        "    # ....\n",
        "class Reka(object):\n",
        "    # ...\n",
        "    \n",
        "class Czlowiek(object):\n",
        "    # ...\n",
        "        reka_prawa = Reka()\n",
        "    \n",
        "ludzik = Czlowiek()\n",
        "podnies(ludzik.reka_prawa)\n",
        "```\n",
        "\n",
        "W sumie tak pewnie do tej pory byśmy to napisali. Teraz wyobraźmy sobie dwoje ludzi rozmawiających o tym kodzie\n",
        "\n",
        "_No więc napisałem funkcję. I ta funkcja .. no dajesz jej rekę, którą możesz sobie wyjąć z człowieka i ona ją podnosi - rozumiesz?_\n",
        "\n",
        "_No właśnie nie bardzo - to ten człowiek nie może jej sam podnieść?_\n",
        "\n",
        "Pisanie kodu w powyższy sposób sugeruje, że potrzeba nad wszystkim pracować - jak nad plasteliną. Tymczasem są również rzeczy i istoty, które coś umieją zrobić. Posiadają zdolności oraz umiejętności. Są w stanie wykonywać określoną pracę, wyliczać, szukać, ... . I teraz skupimy się nad tym jak nauczyć nasze obiekty by mogły działać. Tak aby odwrócić spojrzenie na wykonanie funkcji i zmienić\n",
        "```python\n",
        "podniesc(ludzik.reka)\n",
        "```\n",
        "w to\n",
        "```python\n",
        "ludzik.podniesc_reke()\n",
        "```\n",
        "\n",
        "## Tworzenie metod \n",
        "\n",
        "W klasie najlepiej (czyli bez wyraźnej potrzeby) ograniczyć się do pisania specjalnej odmiany funkcji - tzw. metod. Co szczególnego jest w metodach. Mają zawsze pewien początkowy parametr. \n",
        "\n",
        "### Metoda bezparametryczna\n",
        "\n",
        "Obejrzyjmy najpierw możliwie najprostszy przykład metody - bezparametrycznej. Co jest trochę ironiczne - bo jak zobaczymy definicje - to parametr tam jest - tylko jego wywołanie będzie ukryte.\n"
      ]
    },
    {
      "cell_type": "code",
      "execution_count": null,
      "metadata": {
        "id": "yQYti3Gpgz7y"
      },
      "outputs": [],
      "source": [
        "class A(object):\n",
        "    \n",
        "    def metoda(self):\n",
        "        print('Witaj świecie')\n"
      ]
    },
    {
      "cell_type": "markdown",
      "metadata": {
        "id": "1o5QK8XCgz7y"
      },
      "source": [
        "Wtedy chcąc użyć metody napiszemy"
      ]
    },
    {
      "cell_type": "code",
      "execution_count": null,
      "metadata": {
        "id": "xWRTHd-6gz7y"
      },
      "outputs": [],
      "source": [
        "a = A()\n",
        "a.metoda()"
      ]
    },
    {
      "cell_type": "markdown",
      "metadata": {
        "id": "TJUKoJ7bgz7z"
      },
      "source": [
        "A co się stało z tym parametrem self? Zapis powyżej działa jakby zostało wywołane to, tylko automatycznie odczytano o jaką klasę chodzi."
      ]
    },
    {
      "cell_type": "code",
      "execution_count": null,
      "metadata": {
        "id": "OCgOmfxmgz7z"
      },
      "outputs": [],
      "source": [
        "A.metoda(a)"
      ]
    },
    {
      "cell_type": "markdown",
      "metadata": {
        "id": "I_7KDAeegz7z"
      },
      "source": [
        "Jednak odczyt tego jest zupełnie inny. Patrząc na ten powiedzielibyśmy, że linijką\n",
        "```python\n",
        "a.metoda()\n",
        "```\n",
        "Obiekt ```a``` wywołał swoją metodę o nazwie (mylącej) ```metoda()```. Czyli tak jak człowiek podniósłby swoją rękę. Doszło do odwrócenia patrzenia na to co kod ma reprezentować. Ponadto przez to, że ```metoda()``` ma pusty nawias parametrów - wygląda tak jakbyśmy wywołali funkcję bezparametryczną. Stąd nazwanie tego metodą bezparametryczną jest zasadne.\n",
        "\n",
        "### Metoda parametryczna\n",
        "\n",
        "Co jeśli podamy więcej parametrów do metody? Żaden problem. Obowiązuje zasada, że musi być podany pierwszy self i to bez wartości domyślnej. Poza tym jest dość dowolnie. Od razu pokaże Państwu jak używać ```self``` do edytowania stanu obiektu"
      ]
    },
    {
      "cell_type": "code",
      "execution_count": null,
      "metadata": {
        "id": "ULzdN-Qmgz7z"
      },
      "outputs": [],
      "source": [
        "class A(object):\n",
        "    \n",
        "    def zapisz(self, wartosc):\n",
        "        self.pole = wartosc\n",
        "    \n",
        "    def odczyt(self):\n",
        "        return self.pole\n",
        "    \n",
        "a = A()\n",
        "\n",
        "a.zapisz(7)\n",
        "\n",
        "b = a.odczyt()\n",
        "\n",
        "print(f'Odzyskałem wartość równą {b}')"
      ]
    },
    {
      "cell_type": "markdown",
      "metadata": {
        "id": "w7Svt1_Tgz70"
      },
      "source": [
        "```self``` najbezpieczniej jest traktować jest jak uchwyt do obiektu na rzecz, które metoda została wywołana. \n",
        "\n",
        "Zachęcam do ćwiczenia i poznawania świata obiektów (tak w Pythonie, jak i innych technologiach) i po więcej materiałów kieruje do sekcji materiałów dodatkowych, gdzie m.in. wyjaśniono:\n",
        "\n",
        "* czym jest konstruktor,\n",
        "* czym są metody prywatne, \n",
        "* czym są pola prywatne,\n",
        "* co to jest dziedziczenie, \n",
        "* czy można przecieżać obiekty, \n",
        "* co to jest dekorator."
      ]
    },
    {
      "cell_type": "markdown",
      "metadata": {
        "id": "iL_3BLuygz70"
      },
      "source": [
        "### Przykład \n",
        "\n",
        "W ramach przećwiczenia możliwości używania klas w języku Python w zakresie, który został przedstawiony powyżej, proponuję następujące ćwiczenie. Uzupełnij kod klasy:"
      ]
    },
    {
      "cell_type": "code",
      "execution_count": null,
      "metadata": {
        "id": "XYeHS21Hgz70"
      },
      "outputs": [],
      "source": [
        "class Ulamek(object):\n",
        "    \n",
        "    def __init__(self):\n",
        "        self.licznik = 1\n",
        "        self.mianownik = 1\n",
        "    \n",
        "    def dodaj(self, drugiUlamek):\n",
        "        wynik = Ulamek()        \n",
        "        # w tym miejscu kod wymaga uzupełnienia!\n",
        "        return wynik"
      ]
    },
    {
      "cell_type": "markdown",
      "metadata": {
        "id": "5Ko7pyP2gz70"
      },
      "source": [
        "Tak, aby poniższy program prawidłowo dodawał ułamki (pod warunkiem, że podane mianowniki nie będą wynosiły 0):"
      ]
    },
    {
      "cell_type": "code",
      "execution_count": null,
      "metadata": {
        "id": "s47UC9Vhgz70"
      },
      "outputs": [],
      "source": [
        "a = Ulamek()\n",
        "a.licznik = int(input('Podaj pierwszy licznik: '))\n",
        "a.mianownik = int(input('Podaj pierwszy mianownik: '))\n",
        "b = Ulamek()\n",
        "b.licznik = int(input('Podaj drugi licznik: '))\n",
        "b.mianownik = int(input('Podaj drugi mianownik: '))\n",
        "\n",
        "suma = a.dodaj(b)\n",
        "\n",
        "print('Wynik: %d/%d' % (suma.licznik, suma.mianownik))"
      ]
    },
    {
      "cell_type": "markdown",
      "metadata": {
        "id": "OsQ5nqcKgz70"
      },
      "source": [
        "Na przykład (przy rozwiązaniu bardzo dobrym, które uwzględniłoby potrzebę skracania ułamków - czyli skorzystać z algorytmu NWD):"
      ]
    },
    {
      "cell_type": "markdown",
      "metadata": {
        "id": "-VdSvRPZgz70"
      },
      "source": [
        "```Podaj pierwszy licznik: 1```\n",
        "\n",
        "```Podaj pierwszy mianownik: 6```\n",
        "\n",
        "```Podaj drugi licznik: 2```\n",
        "\n",
        "```Podaj drugi mianownik: 9```\n",
        "\n",
        "```Wynik: 7/18```"
      ]
    },
    {
      "cell_type": "code",
      "execution_count": null,
      "metadata": {
        "id": "Q-MHwpU2gz71"
      },
      "outputs": [],
      "source": [
        ""
      ]
    }
  ],
  "metadata": {
    "kernelspec": {
      "display_name": "Python 3",
      "language": "python",
      "name": "python3"
    },
    "language_info": {
      "codemirror_mode": {
        "name": "ipython",
        "version": 3
      },
      "file_extension": ".py",
      "mimetype": "text/x-python",
      "name": "python",
      "nbconvert_exporter": "python",
      "pygments_lexer": "ipython3",
      "version": "3.8.2"
    },
    "colab": {
      "name": "Python 5 - programowanie obiektowe.ipynb",
      "provenance": [],
      "collapsed_sections": [],
      "include_colab_link": true
    }
  },
  "nbformat": 4,
  "nbformat_minor": 0
}