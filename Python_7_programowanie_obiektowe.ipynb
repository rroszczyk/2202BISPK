{
  "nbformat": 4,
  "nbformat_minor": 0,
  "metadata": {
    "colab": {
      "name": "Python 7 - programowanie obiektowe.ipynb",
      "provenance": [],
      "collapsed_sections": [],
      "include_colab_link": true
    },
    "kernelspec": {
      "name": "python3",
      "display_name": "Python 3"
    },
    "language_info": {
      "name": "python"
    }
  },
  "cells": [
    {
      "cell_type": "markdown",
      "metadata": {
        "id": "view-in-github",
        "colab_type": "text"
      },
      "source": [
        "<a href=\"https://colab.research.google.com/github/rroszczyk/2202BISPK/blob/main/Python_7_programowanie_obiektowe.ipynb\" target=\"_parent\"><img src=\"https://colab.research.google.com/assets/colab-badge.svg\" alt=\"Open In Colab\"/></a>"
      ]
    },
    {
      "cell_type": "code",
      "metadata": {
        "id": "dwohhbrV4QJY"
      },
      "source": [
        "from abc import ABC, abstractmethod"
      ],
      "execution_count": 9,
      "outputs": []
    },
    {
      "cell_type": "code",
      "metadata": {
        "id": "Zp9Udy8I0--r",
        "colab": {
          "base_uri": "https://localhost:8080/"
        },
        "outputId": "dc3a087a-a71c-48a5-8884-27659193a301"
      },
      "source": [
        "napis = \"ala ma kota\"\n",
        "\n",
        "#dir(napis)\n",
        "#for s in dir(napis):\n",
        "#  eval(f\"print(f'napis.{s}   -> ', napis.{s})\")\n",
        "\n",
        "print(napis.__doc__)"
      ],
      "execution_count": 10,
      "outputs": [
        {
          "output_type": "stream",
          "name": "stdout",
          "text": [
            "str(object='') -> str\n",
            "str(bytes_or_buffer[, encoding[, errors]]) -> str\n",
            "\n",
            "Create a new string object from the given object. If encoding or\n",
            "errors is specified, then the object must expose a data buffer\n",
            "that will be decoded using the given encoding and error handler.\n",
            "Otherwise, returns the result of object.__str__() (if defined)\n",
            "or repr(object).\n",
            "encoding defaults to sys.getdefaultencoding().\n",
            "errors defaults to 'strict'.\n"
          ]
        }
      ]
    },
    {
      "cell_type": "code",
      "source": [
        "dir(napis)"
      ],
      "metadata": {
        "colab": {
          "base_uri": "https://localhost:8080/"
        },
        "id": "VYnKycwdHHG4",
        "outputId": "cb12cc51-5b7c-4007-ed7a-fac049e76b3c"
      },
      "execution_count": 11,
      "outputs": [
        {
          "output_type": "execute_result",
          "data": {
            "text/plain": [
              "['__add__',\n",
              " '__class__',\n",
              " '__contains__',\n",
              " '__delattr__',\n",
              " '__dir__',\n",
              " '__doc__',\n",
              " '__eq__',\n",
              " '__format__',\n",
              " '__ge__',\n",
              " '__getattribute__',\n",
              " '__getitem__',\n",
              " '__getnewargs__',\n",
              " '__gt__',\n",
              " '__hash__',\n",
              " '__init__',\n",
              " '__init_subclass__',\n",
              " '__iter__',\n",
              " '__le__',\n",
              " '__len__',\n",
              " '__lt__',\n",
              " '__mod__',\n",
              " '__mul__',\n",
              " '__ne__',\n",
              " '__new__',\n",
              " '__reduce__',\n",
              " '__reduce_ex__',\n",
              " '__repr__',\n",
              " '__rmod__',\n",
              " '__rmul__',\n",
              " '__setattr__',\n",
              " '__sizeof__',\n",
              " '__str__',\n",
              " '__subclasshook__',\n",
              " 'capitalize',\n",
              " 'casefold',\n",
              " 'center',\n",
              " 'count',\n",
              " 'encode',\n",
              " 'endswith',\n",
              " 'expandtabs',\n",
              " 'find',\n",
              " 'format',\n",
              " 'format_map',\n",
              " 'index',\n",
              " 'isalnum',\n",
              " 'isalpha',\n",
              " 'isascii',\n",
              " 'isdecimal',\n",
              " 'isdigit',\n",
              " 'isidentifier',\n",
              " 'islower',\n",
              " 'isnumeric',\n",
              " 'isprintable',\n",
              " 'isspace',\n",
              " 'istitle',\n",
              " 'isupper',\n",
              " 'join',\n",
              " 'ljust',\n",
              " 'lower',\n",
              " 'lstrip',\n",
              " 'maketrans',\n",
              " 'partition',\n",
              " 'replace',\n",
              " 'rfind',\n",
              " 'rindex',\n",
              " 'rjust',\n",
              " 'rpartition',\n",
              " 'rsplit',\n",
              " 'rstrip',\n",
              " 'split',\n",
              " 'splitlines',\n",
              " 'startswith',\n",
              " 'strip',\n",
              " 'swapcase',\n",
              " 'title',\n",
              " 'translate',\n",
              " 'upper',\n",
              " 'zfill']"
            ]
          },
          "metadata": {},
          "execution_count": 11
        }
      ]
    },
    {
      "cell_type": "code",
      "metadata": {
        "id": "_9Gg3w5rE-fz"
      },
      "source": [
        "class Samochod:\n",
        "  \"Klasa definiująca samochód\"\n",
        "  def __init__(self, marka, kolor, drzwi):\n",
        "    self.marka = marka    \n",
        "    self.kolor = kolor\n",
        "    self.drzwi = drzwi"
      ],
      "execution_count": 12,
      "outputs": []
    },
    {
      "cell_type": "code",
      "metadata": {
        "id": "gT2_G4cepR-L"
      },
      "source": [
        "class Punkt:\n",
        "  \"\"\"Klasa definiujaca punkt w przestrzeni dwuwymiarowej\"\"\"\n",
        "  def __init__(self, x, y):\n",
        "    self.x = x\n",
        "    self.y = y"
      ],
      "execution_count": 13,
      "outputs": []
    },
    {
      "cell_type": "code",
      "metadata": {
        "id": "n6CBby0i6fMM",
        "colab": {
          "base_uri": "https://localhost:8080/"
        },
        "outputId": "6bfabade-b89b-481a-8287-87cbcdc6c704"
      },
      "source": [
        "dir()"
      ],
      "execution_count": 20,
      "outputs": [
        {
          "output_type": "execute_result",
          "data": {
            "text/plain": [
              "['ABC',\n",
              " 'CzerwonaSkoda',\n",
              " 'In',\n",
              " 'Out',\n",
              " 'P0',\n",
              " 'Punkt',\n",
              " 'Samochod',\n",
              " 'ZoltaHonda',\n",
              " '_',\n",
              " '_11',\n",
              " '_14',\n",
              " '_16',\n",
              " '_17',\n",
              " '_3',\n",
              " '_4',\n",
              " '_5',\n",
              " '_7',\n",
              " '__',\n",
              " '___',\n",
              " '__builtin__',\n",
              " '__builtins__',\n",
              " '__doc__',\n",
              " '__loader__',\n",
              " '__name__',\n",
              " '__package__',\n",
              " '__spec__',\n",
              " '_dh',\n",
              " '_i',\n",
              " '_i1',\n",
              " '_i10',\n",
              " '_i11',\n",
              " '_i12',\n",
              " '_i13',\n",
              " '_i14',\n",
              " '_i15',\n",
              " '_i16',\n",
              " '_i17',\n",
              " '_i18',\n",
              " '_i19',\n",
              " '_i2',\n",
              " '_i20',\n",
              " '_i3',\n",
              " '_i4',\n",
              " '_i5',\n",
              " '_i6',\n",
              " '_i7',\n",
              " '_i8',\n",
              " '_i9',\n",
              " '_ih',\n",
              " '_ii',\n",
              " '_iii',\n",
              " '_oh',\n",
              " '_sh',\n",
              " 'abstractmethod',\n",
              " 'exit',\n",
              " 'get_ipython',\n",
              " 'napis',\n",
              " 'quit',\n",
              " 'samochod']"
            ]
          },
          "metadata": {},
          "execution_count": 20
        }
      ]
    },
    {
      "cell_type": "code",
      "metadata": {
        "id": "Zk-4Io1YFQWF"
      },
      "source": [
        "ZoltaHonda = Samochod(\"Honda\", \"zółty\", 4)\n",
        "CzerwonaSkoda = Samochod(\"Skoda\", \"czerwony\", 5)\n",
        "\n",
        "P0 = Punkt(0, 0)"
      ],
      "execution_count": 15,
      "outputs": []
    },
    {
      "cell_type": "code",
      "metadata": {
        "id": "dGcZH2BO6xFY",
        "colab": {
          "base_uri": "https://localhost:8080/"
        },
        "outputId": "283adc65-ad2f-4c14-d2b6-06091f06d1b5"
      },
      "source": [
        "print(ZoltaHonda.marka, ZoltaHonda.kolor)\n",
        "print(CzerwonaSkoda.marka, CzerwonaSkoda.kolor)"
      ],
      "execution_count": 21,
      "outputs": [
        {
          "output_type": "stream",
          "name": "stdout",
          "text": [
            "Honda zółty\n",
            "Skoda czerwony\n"
          ]
        }
      ]
    },
    {
      "cell_type": "code",
      "metadata": {
        "id": "E9EnXoiSxaC5",
        "colab": {
          "base_uri": "https://localhost:8080/"
        },
        "outputId": "bf159e0a-02d2-4313-d109-fd4e9289cdfe"
      },
      "source": [
        "class Samochod:\n",
        "  \"Klasa definiująca samochód\"\n",
        "  def __init__(self):\n",
        "    self.marka = \"Honda\"\n",
        "    self.kolor = \"czerwony\"\n",
        "    drzwi = 5\n",
        "\n",
        "samochod = Samochod()\n",
        "print(f\"{samochod.marka} {samochod.kolor}\")\n",
        "\n",
        "samochod.drzwi = 15\n",
        "print(samochod.drzwi)\n"
      ],
      "execution_count": 8,
      "outputs": [
        {
          "output_type": "stream",
          "name": "stdout",
          "text": [
            "Honda czerwony\n",
            "15\n"
          ]
        }
      ]
    },
    {
      "cell_type": "code",
      "source": [
        "dir(samochod)"
      ],
      "metadata": {
        "colab": {
          "base_uri": "https://localhost:8080/"
        },
        "id": "eiJzyPOxE7xt",
        "outputId": "055fd7f9-0252-4df6-eb9c-83d3c53b9c6c"
      },
      "execution_count": 5,
      "outputs": [
        {
          "output_type": "execute_result",
          "data": {
            "text/plain": [
              "['__class__',\n",
              " '__delattr__',\n",
              " '__dict__',\n",
              " '__dir__',\n",
              " '__doc__',\n",
              " '__eq__',\n",
              " '__format__',\n",
              " '__ge__',\n",
              " '__getattribute__',\n",
              " '__gt__',\n",
              " '__hash__',\n",
              " '__init__',\n",
              " '__init_subclass__',\n",
              " '__le__',\n",
              " '__lt__',\n",
              " '__module__',\n",
              " '__ne__',\n",
              " '__new__',\n",
              " '__reduce__',\n",
              " '__reduce_ex__',\n",
              " '__repr__',\n",
              " '__setattr__',\n",
              " '__sizeof__',\n",
              " '__str__',\n",
              " '__subclasshook__',\n",
              " '__weakref__',\n",
              " 'kolor',\n",
              " 'marka']"
            ]
          },
          "metadata": {},
          "execution_count": 5
        }
      ]
    },
    {
      "cell_type": "code",
      "metadata": {
        "id": "wKB6pGU-OQ_l",
        "colab": {
          "base_uri": "https://localhost:8080/"
        },
        "outputId": "0349e407-c117-4ce5-f52b-87a45584781d"
      },
      "source": [
        "dir(samochod)"
      ],
      "execution_count": 7,
      "outputs": [
        {
          "output_type": "execute_result",
          "data": {
            "text/plain": [
              "['__class__',\n",
              " '__delattr__',\n",
              " '__dict__',\n",
              " '__dir__',\n",
              " '__doc__',\n",
              " '__eq__',\n",
              " '__format__',\n",
              " '__ge__',\n",
              " '__getattribute__',\n",
              " '__gt__',\n",
              " '__hash__',\n",
              " '__init__',\n",
              " '__init_subclass__',\n",
              " '__le__',\n",
              " '__lt__',\n",
              " '__module__',\n",
              " '__ne__',\n",
              " '__new__',\n",
              " '__reduce__',\n",
              " '__reduce_ex__',\n",
              " '__repr__',\n",
              " '__setattr__',\n",
              " '__sizeof__',\n",
              " '__str__',\n",
              " '__subclasshook__',\n",
              " '__weakref__',\n",
              " 'drzwi',\n",
              " 'kolor',\n",
              " 'marka']"
            ]
          },
          "metadata": {},
          "execution_count": 7
        }
      ]
    },
    {
      "cell_type": "code",
      "metadata": {
        "id": "YqZ3isEPOV9s",
        "colab": {
          "base_uri": "https://localhost:8080/"
        },
        "outputId": "15f72516-33b2-4b66-be49-87ad1231dcca"
      },
      "source": [
        "print(samochod.__doc__)"
      ],
      "execution_count": 22,
      "outputs": [
        {
          "output_type": "stream",
          "name": "stdout",
          "text": [
            "Klasa definiująca samochód\n"
          ]
        }
      ]
    },
    {
      "cell_type": "code",
      "metadata": {
        "id": "cYTQNprWy93O",
        "colab": {
          "base_uri": "https://localhost:8080/"
        },
        "outputId": "dba6c48d-80f1-4d35-eb08-7ca2a112f77e"
      },
      "source": [
        "for s in dir(samochod):\n",
        "  eval(f\"print(f'samochod.{s}   -> ', samochod.{s})\")\n"
      ],
      "execution_count": 23,
      "outputs": [
        {
          "output_type": "stream",
          "name": "stdout",
          "text": [
            "samochod.__class__   ->  <class '__main__.Samochod'>\n",
            "samochod.__delattr__   ->  <method-wrapper '__delattr__' of Samochod object at 0x7f0efa877e90>\n",
            "samochod.__dict__   ->  {'marka': 'Honda', 'kolor': 'czerwony', 'drzwi': 15}\n",
            "samochod.__dir__   ->  <built-in method __dir__ of Samochod object at 0x7f0efa877e90>\n",
            "samochod.__doc__   ->  Klasa definiująca samochód\n",
            "samochod.__eq__   ->  <method-wrapper '__eq__' of Samochod object at 0x7f0efa877e90>\n",
            "samochod.__format__   ->  <built-in method __format__ of Samochod object at 0x7f0efa877e90>\n",
            "samochod.__ge__   ->  <method-wrapper '__ge__' of Samochod object at 0x7f0efa877e90>\n",
            "samochod.__getattribute__   ->  <method-wrapper '__getattribute__' of Samochod object at 0x7f0efa877e90>\n",
            "samochod.__gt__   ->  <method-wrapper '__gt__' of Samochod object at 0x7f0efa877e90>\n",
            "samochod.__hash__   ->  <method-wrapper '__hash__' of Samochod object at 0x7f0efa877e90>\n",
            "samochod.__init__   ->  <bound method Samochod.__init__ of <__main__.Samochod object at 0x7f0efa877e90>>\n",
            "samochod.__init_subclass__   ->  <built-in method __init_subclass__ of type object at 0x56322c2c4d20>\n",
            "samochod.__le__   ->  <method-wrapper '__le__' of Samochod object at 0x7f0efa877e90>\n",
            "samochod.__lt__   ->  <method-wrapper '__lt__' of Samochod object at 0x7f0efa877e90>\n",
            "samochod.__module__   ->  __main__\n",
            "samochod.__ne__   ->  <method-wrapper '__ne__' of Samochod object at 0x7f0efa877e90>\n",
            "samochod.__new__   ->  <built-in method __new__ of type object at 0x563229477ba0>\n",
            "samochod.__reduce__   ->  <built-in method __reduce__ of Samochod object at 0x7f0efa877e90>\n",
            "samochod.__reduce_ex__   ->  <built-in method __reduce_ex__ of Samochod object at 0x7f0efa877e90>\n",
            "samochod.__repr__   ->  <method-wrapper '__repr__' of Samochod object at 0x7f0efa877e90>\n",
            "samochod.__setattr__   ->  <method-wrapper '__setattr__' of Samochod object at 0x7f0efa877e90>\n",
            "samochod.__sizeof__   ->  <built-in method __sizeof__ of Samochod object at 0x7f0efa877e90>\n",
            "samochod.__str__   ->  <method-wrapper '__str__' of Samochod object at 0x7f0efa877e90>\n",
            "samochod.__subclasshook__   ->  <built-in method __subclasshook__ of type object at 0x56322c2c4d20>\n",
            "samochod.__weakref__   ->  None\n",
            "samochod.drzwi   ->  15\n",
            "samochod.kolor   ->  czerwony\n",
            "samochod.marka   ->  Honda\n"
          ]
        }
      ]
    },
    {
      "cell_type": "code",
      "metadata": {
        "id": "TOqBv60tEfEX"
      },
      "source": [
        "class Samochod:\n",
        "  \"Klasa definiujaca samochod\"\n",
        "  Predkosc = 120\n",
        "  def __init__(self):\n",
        "    self.marka = \"Honda\"\n",
        "    self.kolor = \"czerwony\"\n"
      ],
      "execution_count": 24,
      "outputs": []
    },
    {
      "cell_type": "code",
      "metadata": {
        "id": "PwaG69gcHvC5",
        "colab": {
          "base_uri": "https://localhost:8080/",
          "height": 313
        },
        "outputId": "908305ea-47e8-48bd-b3c5-b80c2a07f265"
      },
      "source": [
        "samochod = Samochod()\n",
        "\n",
        "print(samochod.Predkosc)\n",
        "print(samochod.marka)\n",
        "print(samochod.kolor)\n",
        "print(\"*\" * 40)\n",
        "print(Samochod.Predkosc)\n",
        "print(Samochod.marka)\n",
        "print(Samochod.kolor)"
      ],
      "execution_count": 25,
      "outputs": [
        {
          "output_type": "stream",
          "name": "stdout",
          "text": [
            "120\n",
            "Honda\n",
            "czerwony\n",
            "****************************************\n",
            "120\n"
          ]
        },
        {
          "output_type": "error",
          "ename": "AttributeError",
          "evalue": "ignored",
          "traceback": [
            "\u001b[0;31m---------------------------------------------------------------------------\u001b[0m",
            "\u001b[0;31mAttributeError\u001b[0m                            Traceback (most recent call last)",
            "\u001b[0;32m<ipython-input-25-5f36ac4ec72f>\u001b[0m in \u001b[0;36m<module>\u001b[0;34m()\u001b[0m\n\u001b[1;32m      6\u001b[0m \u001b[0mprint\u001b[0m\u001b[0;34m(\u001b[0m\u001b[0;34m\"*\"\u001b[0m \u001b[0;34m*\u001b[0m \u001b[0;36m40\u001b[0m\u001b[0;34m)\u001b[0m\u001b[0;34m\u001b[0m\u001b[0;34m\u001b[0m\u001b[0m\n\u001b[1;32m      7\u001b[0m \u001b[0mprint\u001b[0m\u001b[0;34m(\u001b[0m\u001b[0mSamochod\u001b[0m\u001b[0;34m.\u001b[0m\u001b[0mPredkosc\u001b[0m\u001b[0;34m)\u001b[0m\u001b[0;34m\u001b[0m\u001b[0;34m\u001b[0m\u001b[0m\n\u001b[0;32m----> 8\u001b[0;31m \u001b[0mprint\u001b[0m\u001b[0;34m(\u001b[0m\u001b[0mSamochod\u001b[0m\u001b[0;34m.\u001b[0m\u001b[0mmarka\u001b[0m\u001b[0;34m)\u001b[0m\u001b[0;34m\u001b[0m\u001b[0;34m\u001b[0m\u001b[0m\n\u001b[0m\u001b[1;32m      9\u001b[0m \u001b[0mprint\u001b[0m\u001b[0;34m(\u001b[0m\u001b[0mSamochod\u001b[0m\u001b[0;34m.\u001b[0m\u001b[0mkolor\u001b[0m\u001b[0;34m)\u001b[0m\u001b[0;34m\u001b[0m\u001b[0;34m\u001b[0m\u001b[0m\n",
            "\u001b[0;31mAttributeError\u001b[0m: type object 'Samochod' has no attribute 'marka'"
          ]
        }
      ]
    },
    {
      "cell_type": "code",
      "metadata": {
        "id": "SWqB_yPuHvz9",
        "colab": {
          "base_uri": "https://localhost:8080/"
        },
        "outputId": "a0abca14-5305-4dbc-d354-6217a3e49119"
      },
      "source": [
        "Samochod.Predkosc = 180\n",
        "honda = Samochod()\n",
        "print(f\"Honda: {honda.Predkosc}\")\n",
        "\n",
        "Samochod.Predkosc = 80\n",
        "star = Samochod()\n",
        "print(f\"Star: {star.Predkosc}\")\n",
        "\n",
        "print(\"*\" * 40)\n",
        "honda.Predkosc = 200\n",
        "Samochod.Predkosc = 400\n",
        "#honda.Predkosc = 200\n",
        "\n",
        "print(f\"Honda: {honda.Predkosc}\")\n",
        "print(f\"Star: {star.Predkosc}\")\n"
      ],
      "execution_count": 26,
      "outputs": [
        {
          "output_type": "stream",
          "name": "stdout",
          "text": [
            "Honda: 180\n",
            "Star: 80\n",
            "****************************************\n",
            "Honda: 200\n",
            "Star: 400\n"
          ]
        }
      ]
    },
    {
      "cell_type": "code",
      "metadata": {
        "id": "1aYtyFUsJM0e",
        "colab": {
          "base_uri": "https://localhost:8080/"
        },
        "outputId": "e46f4a0d-4de3-4e32-bfd5-8ae3c3ed9442"
      },
      "source": [
        "honda = Samochod()\n",
        "honda.Predkosc = 180;\n",
        "print(f\"Honda: {honda.Predkosc}\")\n",
        "\n",
        "star = Samochod()\n",
        "star.Predkosc = 80\n",
        "print(f\"Star: {star.Predkosc}\")\n",
        "\n",
        "print(\"*\" * 40)\n",
        "\n",
        "print(f\"Honda: {honda.Predkosc}\")\n",
        "print(f\"Star: {star.Predkosc}\")\n",
        "\n",
        "Samochod.Predkosc = 10;\n",
        "skoda = Samochod()\n",
        "\n",
        "print(\"*\" * 40)\n",
        "\n",
        "print(f\"Honda: {honda.Predkosc}\")\n",
        "print(f\"Star: {star.Predkosc}\")\n",
        "print(f\"Skoda: {skoda.Predkosc}\")"
      ],
      "execution_count": 28,
      "outputs": [
        {
          "output_type": "stream",
          "name": "stdout",
          "text": [
            "Honda: 180\n",
            "Star: 80\n",
            "****************************************\n",
            "Honda: 180\n",
            "Star: 80\n",
            "****************************************\n",
            "Honda: 180\n",
            "Star: 80\n",
            "Skoda: 10\n"
          ]
        }
      ]
    },
    {
      "cell_type": "code",
      "metadata": {
        "id": "icAG4hw5Kgha",
        "colab": {
          "base_uri": "https://localhost:8080/"
        },
        "outputId": "faef4f8e-6a72-4e17-fe4a-caed882fe716"
      },
      "source": [
        "class Samochod:\n",
        "  \"Klasa definiujaca samochod\"\n",
        "  Predkosc = 120\n",
        "  def __init__(self):\n",
        "    self.marka = \"Honda\"\n",
        "  def DrukujPredkosc(self):\n",
        "    print(f\"Samochód {self.marka} jeździ z prędkością {self.Predkosc} km/h\")\n",
        "\n",
        "honda = Samochod()\n",
        "\n",
        "print(honda.Predkosc)\n",
        "print(honda.marka)\n",
        "honda.DrukujPredkosc()\n",
        "\n",
        "Samochod.Predkosc = 400\n",
        "honda.DrukujPredkosc()\n",
        "honda.Predkosc = 180\n",
        "\n",
        "#Samochod.DrukujPredkosc()"
      ],
      "execution_count": 29,
      "outputs": [
        {
          "output_type": "stream",
          "name": "stdout",
          "text": [
            "120\n",
            "Honda\n",
            "Samochód Honda jeździ z prędkością 120 km/h\n",
            "Samochód Honda jeździ z prędkością 400 km/h\n"
          ]
        }
      ]
    },
    {
      "cell_type": "code",
      "metadata": {
        "id": "dwCFUBzpNOGb"
      },
      "source": [
        "class Samochod:\n",
        "  \"Klasa definiujaca samochod\"\n",
        "  Predkosc = 120\n",
        "  def __init__(self):\n",
        "    self.marka = \"Honda\"\n",
        "  def DrukujPredkosc(self):\n",
        "    print(f\"Samochód {self.marka} jeździ z prędkością {self.Predkosc} km/h\")\n",
        "  def ZmienPredkosc(self, nowaPredkosc):\n",
        "    self.Predkosc = nowaPredkosc\n",
        "  def NowaMetoda():\n",
        "    print(\"Nic nie robię\")\n",
        "\n",
        "honda = Samochod()\n",
        "honda.DrukujPredkosc()\n",
        "honda.ZmienPredkosc(400)\n",
        "honda.DrukujPredkosc()\n",
        "\n",
        "star = Samochod()\n",
        "star.DrukujPredkosc()"
      ],
      "execution_count": null,
      "outputs": []
    },
    {
      "cell_type": "code",
      "metadata": {
        "id": "gMD7BaXyPRi5"
      },
      "source": [
        "class Samochod:\n",
        "  \"Klasa definiujaca samochod\"\n",
        "  Predkosc = 120\n",
        "  def __init__(self):\n",
        "    self.marka = \"Honda\"\n",
        "  def DrukujPredkosc(self):\n",
        "    print(f\"Samochód {self.marka} jeździ z prędkością {self.Predkosc} km/h\")\n",
        "  def __del__(self):\n",
        "    print(\"Złomuje samochod\")    \n"
      ],
      "execution_count": 30,
      "outputs": []
    },
    {
      "cell_type": "code",
      "metadata": {
        "id": "DKQiciN0PfED",
        "colab": {
          "base_uri": "https://localhost:8080/"
        },
        "outputId": "3966c7d5-0bf5-48f7-957b-039e6e3ca3ed"
      },
      "source": [
        "honda = Samochod()\n",
        "honda.DrukujPredkosc()\n",
        "del honda\n",
        "\n",
        "dir()"
      ],
      "execution_count": 33,
      "outputs": [
        {
          "output_type": "stream",
          "name": "stdout",
          "text": [
            "Samochód Honda jeździ z prędkością 120 km/h\n",
            "Złomuje samochod\n"
          ]
        },
        {
          "output_type": "execute_result",
          "data": {
            "text/plain": [
              "['ABC',\n",
              " 'CzerwonaSkoda',\n",
              " 'In',\n",
              " 'Out',\n",
              " 'P0',\n",
              " 'Punkt',\n",
              " 'Samochod',\n",
              " 'ZoltaHonda',\n",
              " '_',\n",
              " '_11',\n",
              " '_14',\n",
              " '_16',\n",
              " '_17',\n",
              " '_20',\n",
              " '_3',\n",
              " '_31',\n",
              " '_4',\n",
              " '_5',\n",
              " '_7',\n",
              " '__',\n",
              " '___',\n",
              " '__builtin__',\n",
              " '__builtins__',\n",
              " '__doc__',\n",
              " '__loader__',\n",
              " '__name__',\n",
              " '__package__',\n",
              " '__spec__',\n",
              " '_dh',\n",
              " '_i',\n",
              " '_i1',\n",
              " '_i10',\n",
              " '_i11',\n",
              " '_i12',\n",
              " '_i13',\n",
              " '_i14',\n",
              " '_i15',\n",
              " '_i16',\n",
              " '_i17',\n",
              " '_i18',\n",
              " '_i19',\n",
              " '_i2',\n",
              " '_i20',\n",
              " '_i21',\n",
              " '_i22',\n",
              " '_i23',\n",
              " '_i24',\n",
              " '_i25',\n",
              " '_i26',\n",
              " '_i27',\n",
              " '_i28',\n",
              " '_i29',\n",
              " '_i3',\n",
              " '_i30',\n",
              " '_i31',\n",
              " '_i32',\n",
              " '_i33',\n",
              " '_i4',\n",
              " '_i5',\n",
              " '_i6',\n",
              " '_i7',\n",
              " '_i8',\n",
              " '_i9',\n",
              " '_ih',\n",
              " '_ii',\n",
              " '_iii',\n",
              " '_oh',\n",
              " '_sh',\n",
              " 'abstractmethod',\n",
              " 'exit',\n",
              " 'get_ipython',\n",
              " 'napis',\n",
              " 'quit',\n",
              " 's',\n",
              " 'samochod',\n",
              " 'skoda',\n",
              " 'star']"
            ]
          },
          "metadata": {},
          "execution_count": 33
        }
      ]
    },
    {
      "cell_type": "code",
      "metadata": {
        "id": "2AxjQFdsQLIX"
      },
      "source": [
        "class Samochod:\n",
        "  def __init__(self):\n",
        "    self.kluczyki = \"Kluczyki do auta\"        \n",
        "    print(\"Produkuje samochód\")\n",
        "  def __enter__(self):\n",
        "    print(\"Rejestruje samochód\")\n",
        "    return self.kluczyki\n",
        "  def __exit__(self, type, value, tb):\n",
        "    print(\"Wyrejestrowywuje samochód\")    \n",
        "  def __del__(self):\n",
        "    print(\"Złomuje samochod\") \n",
        "\n"
      ],
      "execution_count": 34,
      "outputs": []
    },
    {
      "cell_type": "code",
      "metadata": {
        "id": "m4vo3x2RPkZ6",
        "colab": {
          "base_uri": "https://localhost:8080/"
        },
        "outputId": "8b72f2a0-18ed-4a3d-cfd1-79b7018a6d39"
      },
      "source": [
        "with Samochod() as samochod:\n",
        "  print(samochod)\n",
        "\n",
        "del samochod \n",
        "\n",
        "print(\"Nie ma hondy\")\n",
        "\n",
        "#dir()"
      ],
      "execution_count": 37,
      "outputs": [
        {
          "output_type": "stream",
          "name": "stdout",
          "text": [
            "Produkuje samochód\n",
            "Rejestruje samochód\n",
            "Kluczyki do auta\n",
            "Wyrejestrowywuje samochód\n",
            "Złomuje samochod\n",
            "Nie ma hondy\n"
          ]
        }
      ]
    },
    {
      "cell_type": "code",
      "metadata": {
        "id": "wvfGr55tdJNt",
        "colab": {
          "base_uri": "https://localhost:8080/"
        },
        "outputId": "0c1a9f16-76e9-4612-a7aa-2ffeb7d27a4b"
      },
      "source": [
        "class Samochod:\n",
        "  def __init__(self, marka):\n",
        "    self.marka = marka\n",
        "  def CoToZaAuto(self):\n",
        "    print(f\"to jest samochód marki {self.marka}\")\n",
        "\n",
        "class Honda(Samochod):\n",
        "  def __init__(self):\n",
        "    Samochod.__init__(self, \"Honda\")\n",
        "\n",
        "class Skoda(Samochod):\n",
        "  def __init__(self):\n",
        "    Samochod.__init__(self, \"Skoda\")\n",
        "\n",
        "civic = Honda()\n",
        "civic.CoToZaAuto()\n",
        "\n",
        "fabia = Skoda()\n",
        "fabia.CoToZaAuto()\n",
        "\n",
        "samochod = Samochod(\"brak marki\")\n",
        "samochod.CoToZaAuto()"
      ],
      "execution_count": 39,
      "outputs": [
        {
          "output_type": "stream",
          "name": "stdout",
          "text": [
            "to jest samochód marki Honda\n",
            "to jest samochód marki Skoda\n",
            "to jest samochód marki brak marki\n"
          ]
        }
      ]
    },
    {
      "cell_type": "code",
      "metadata": {
        "id": "WU7PjqKmiWuq",
        "colab": {
          "base_uri": "https://localhost:8080/"
        },
        "outputId": "20386d16-d1ad-4c7c-c976-cd31f45bb7fa"
      },
      "source": [
        "class Samochod:\n",
        "  def naprzod(self):\n",
        "    print(\"Samochod jedzie do przodu\")\n",
        "\n",
        "class Okret:\n",
        "  def naprzod(self):\n",
        "    print(\"Okręt płynie do przodu\")\n",
        "\n",
        "class Amfibia(Samochod, Okret):   # dziedziczenie od lewej strony\n",
        "  pass\n",
        "\n",
        "amfibia = Amfibia()\n",
        "amfibia.naprzod()"
      ],
      "execution_count": 40,
      "outputs": [
        {
          "output_type": "stream",
          "name": "stdout",
          "text": [
            "Samochod jedzie do przodu\n"
          ]
        }
      ]
    },
    {
      "cell_type": "code",
      "metadata": {
        "id": "sAo6i6EqjKAK",
        "colab": {
          "base_uri": "https://localhost:8080/"
        },
        "outputId": "d86c5144-b754-4725-f39b-6fd764e158e1"
      },
      "source": [
        "class Samochod:\n",
        "  def naprzod(self):\n",
        "    print(\"Samochod jedzie do przodu\")\n",
        "\n",
        "class Okret:\n",
        "  def naprzod(self):\n",
        "    print(\"Okręt płynie do przodu\")\n",
        "\n",
        "class Amfibia(Samochod, Okret):\n",
        "  def naprzod(self):\n",
        "    Samochod.naprzod(self)\n",
        "    Okret.naprzod(self)\n",
        "    print(\"Amfibia jedzie czy płynie byle by do przodu\")\n",
        "\n",
        "amfibia = Amfibia()\n",
        "amfibia.naprzod()"
      ],
      "execution_count": 41,
      "outputs": [
        {
          "output_type": "stream",
          "name": "stdout",
          "text": [
            "Samochod jedzie do przodu\n",
            "Okręt płynie do przodu\n",
            "Amfibia jedzie czy płynie byle by do przodu\n"
          ]
        }
      ]
    },
    {
      "cell_type": "code",
      "metadata": {
        "id": "iXoEnnl7lBFb",
        "colab": {
          "base_uri": "https://localhost:8080/"
        },
        "outputId": "6572c129-bf89-4ce7-ae32-925fb150ceec"
      },
      "source": [
        "class Pojazd:\n",
        "  def naprzod(self):\n",
        "    pass\n",
        "  def jedziemy(self):\n",
        "    self.naprzod()\n",
        "\n",
        "class Samochod(Pojazd):\n",
        "  def naprzod(self):\n",
        "    print(\"Samochod jedzie do przodu\")\n",
        "\n",
        "class Okret(Pojazd):\n",
        "  def naprzod(self):\n",
        "    print(\"Okręt płynie do przodu\")\n",
        "\n",
        "pojazd = Okret()\n",
        "pojazd.jedziemy()"
      ],
      "execution_count": 42,
      "outputs": [
        {
          "output_type": "stream",
          "name": "stdout",
          "text": [
            "Okręt płynie do przodu\n"
          ]
        }
      ]
    },
    {
      "cell_type": "code",
      "metadata": {
        "id": "DZppc1ydpa7N",
        "colab": {
          "base_uri": "https://localhost:8080/"
        },
        "outputId": "23b1c68a-396b-4fa3-d289-5d2698caf439"
      },
      "source": [
        "class Pojazd:\n",
        "  def naprzod(self):\n",
        "    pass\n",
        "\n",
        "class Samochod(Pojazd):\n",
        "  def naprzod(self):\n",
        "    pass\n",
        "\n",
        "class Okret(Pojazd):\n",
        "  def naprzod(self):\n",
        "    pass\n",
        "\n",
        "class Amfibia(Samochod, Okret):\n",
        "  def naprzod(self):\n",
        "    pass\n",
        "\n",
        "pojazd = Pojazd()\n",
        "okret = Okret()\n",
        "samochod = Samochod()\n",
        "amfibia = Amfibia()\n",
        "\n",
        "print(f\"Czy pojazd jest Pojazdem? {'tak' if isinstance(pojazd, Pojazd) else 'nie'}\")\n",
        "print(f\"Czy pojazd jest Samochodem? {'tak' if isinstance(pojazd, Samochod) else 'nie'}\")\n",
        "print(f\"Czy pojazd jest Okrętem? {'tak' if isinstance(pojazd, Okret) else 'nie'}\")\n",
        "print(f\"Czy pojazd jest Amfibią? {'tak' if isinstance(pojazd, Amfibia) else 'nie'}\")\n",
        "print(\"*\"*40)\n",
        "print(f\"Czy okret jest Pojazdem? {'tak' if isinstance(okret, Pojazd) else 'nie'}\")\n",
        "print(f\"Czy okret jest Samochodem? {'tak' if isinstance(okret, Samochod) else 'nie'}\")\n",
        "print(f\"Czy okret jest Okrętem? {'tak' if isinstance(okret, Okret) else 'nie'}\")\n",
        "print(f\"Czy okret jest Amfibią? {'tak' if isinstance(okret, Amfibia) else 'nie'}\")\n",
        "print(\"*\"*40)\n",
        "print(f\"Czy samochod jest Pojazdem? {'tak' if isinstance(samochod, Pojazd) else 'nie'}\")\n",
        "print(f\"Czy samochod jest Samochodem? {'tak' if isinstance(samochod, Samochod) else 'nie'}\")\n",
        "print(f\"Czy samochod jest Okrętem? {'tak' if isinstance(samochod, Okret) else 'nie'}\")\n",
        "print(f\"Czy samochod jest Amfibią? {'tak' if isinstance(samochod, Amfibia) else 'nie'}\")\n",
        "print(\"*\"*40)\n",
        "print(f\"Czy amfibia jest Pojazdem? {'tak' if isinstance(amfibia, Pojazd) else 'nie'}\")\n",
        "print(f\"Czy amfibia jest Samochodem? {'tak' if isinstance(amfibia, Samochod) else 'nie'}\")\n",
        "print(f\"Czy amfibia jest Okrętem? {'tak' if isinstance(amfibia, Okret) else 'nie'}\")\n",
        "print(f\"Czy amfibia jest Amfibią? {'tak' if isinstance(amfibia, Amfibia) else 'nie'}\")"
      ],
      "execution_count": 51,
      "outputs": [
        {
          "output_type": "stream",
          "name": "stdout",
          "text": [
            "Czy pojazd jest Pojazdem? tak\n",
            "Czy pojazd jest Samochodem? nie\n",
            "Czy pojazd jest Okrętem? nie\n",
            "Czy pojazd jest Amfibią? nie\n",
            "****************************************\n",
            "Czy okret jest Pojazdem? tak\n",
            "Czy okret jest Samochodem? nie\n",
            "Czy okret jest Okrętem? tak\n",
            "Czy okret jest Amfibią? nie\n",
            "****************************************\n",
            "Czy samochod jest Pojazdem? tak\n",
            "Czy samochod jest Samochodem? tak\n",
            "Czy samochod jest Okrętem? nie\n",
            "Czy samochod jest Amfibią? nie\n",
            "****************************************\n",
            "Czy amfibia jest Pojazdem? tak\n",
            "Czy amfibia jest Samochodem? tak\n",
            "Czy amfibia jest Okrętem? tak\n",
            "Czy amfibia jest Amfibią? tak\n"
          ]
        }
      ]
    },
    {
      "cell_type": "code",
      "metadata": {
        "id": "ovtLYkm6FOkh",
        "colab": {
          "base_uri": "https://localhost:8080/"
        },
        "outputId": "ff1a73d6-b2e1-4e89-a59a-ca3b948a4d6b"
      },
      "source": [
        "class Kwadrat:\n",
        "  def __init__(self):\n",
        "    self.wysokosc = 2\n",
        "    self.szerokosc = 2\n",
        "  def zmienBok(nowaDlugoscBoku):\n",
        "    self.wysokosc = nowaDlugoscBoku\n",
        "    self.szerokosc = nowaDlugoscBoku\n",
        "\n",
        "kwadrat = Kwadrat()\n",
        "kwadrat.wysokosc = 10\n",
        "\n",
        "print(f'Szerokość {kwadrat.szerokosc}, wysokość {kwadrat.wysokosc}')"
      ],
      "execution_count": 43,
      "outputs": [
        {
          "output_type": "stream",
          "name": "stdout",
          "text": [
            "Szerokość 2, wysokość 10\n"
          ]
        }
      ]
    },
    {
      "cell_type": "code",
      "metadata": {
        "id": "aj0ZISZH2Rkn",
        "colab": {
          "base_uri": "https://localhost:8080/"
        },
        "outputId": "76b53891-6de3-4b68-b407-523016d57e80"
      },
      "source": [
        "class Kwadrat:\n",
        "  def __init__(self):\n",
        "    self._wysokosc = 2\n",
        "    self._szerokosc = 2\n",
        "  def zmienBok(nowaDlugoscBoku):\n",
        "    self._wysokosc = nowaDlugoscBoku\n",
        "    self._szerokosc = nowaDlugoscBoku\n",
        "  def sprawdz(self):\n",
        "    print(f'Szerokość {self._szerokosc}, wysokość {self._wysokosc}')    \n",
        "\n",
        "kwadrat = Kwadrat()\n",
        "kwadrat._wysokosc = 10\n",
        "\n",
        "print(f'Szerokość {kwadrat._szerokosc}, wysokość {kwadrat._wysokosc}')\n",
        "\n",
        "kwadrat.sprawdz()"
      ],
      "execution_count": 45,
      "outputs": [
        {
          "output_type": "stream",
          "name": "stdout",
          "text": [
            "Szerokość 2, wysokość 10\n",
            "Szerokość 2, wysokość 10\n"
          ]
        }
      ]
    },
    {
      "cell_type": "code",
      "metadata": {
        "id": "HicVzvU92s9O",
        "colab": {
          "base_uri": "https://localhost:8080/"
        },
        "outputId": "53579438-986d-476e-f688-3ae392d9dc42"
      },
      "source": [
        "class Kwadrat:\n",
        "  def __init__(self):\n",
        "    self.__wysokosc = 2\n",
        "    self.__szerokosc = 2\n",
        "  def zmienBok(nowaDlugoscBoku):\n",
        "    self.__wysokosc = nowaDlugoscBoku\n",
        "    self.__szerokosc = nowaDlugoscBoku\n",
        "  def sprawdz(self):\n",
        "    print(f'Szerokość {self.__szerokosc}, wysokość {self.__wysokosc}')    \n",
        "\n",
        "kwadrat = Kwadrat()\n",
        "kwadrat.__wysokosc = 10\n",
        "\n",
        "#print(f'Szerokość {kwadrat.__szerokosc}, wysokość {kwadrat.__wysokosc}')\n",
        "print(f'Szerokość {kwadrat._Kwadrat__szerokosc}, wysokość {kwadrat._Kwadrat__wysokosc}')\n",
        "\n",
        "kwadrat._Kwadrat__szerokosc = 10\n",
        "\n",
        "kwadrat.sprawdz()\n",
        "\n",
        "#dir(kwadrat)"
      ],
      "execution_count": 50,
      "outputs": [
        {
          "output_type": "stream",
          "name": "stdout",
          "text": [
            "Szerokość 2, wysokość 2\n",
            "Szerokość 10, wysokość 2\n"
          ]
        }
      ]
    },
    {
      "cell_type": "code",
      "metadata": {
        "id": "QJJmhNfV7fAj"
      },
      "source": [
        "class Kwadrat:\n",
        "  def __init__(self):\n",
        "    self.__wysokosc = 2\n",
        "    self.__szerokosc = 2\n",
        "  def zmienBok(nowaDlugoscBoku):\n",
        "    self.__wysokosc = nowaDlugoscBoku\n",
        "    self.__szerokosc = nowaDlugoscBoku\n",
        "  @property    \n",
        "  def wysokosc(self):\n",
        "    return self.__wysokosc;\n",
        "  @wysokosc.setter\n",
        "  def wysokosc(self, w):\n",
        "    if w >= 0:\n",
        "      self.__wysokosc = w\n",
        "    else:\n",
        "      raise Exception(\"wysokość musi być większa bądź równa 0\")\n",
        "\n",
        "kwadrat = Kwadrat()\n",
        "kwadrat.wysokosc = -4"
      ],
      "execution_count": null,
      "outputs": []
    },
    {
      "cell_type": "code",
      "metadata": {
        "id": "ZazJLRq64n4J"
      },
      "source": [
        "class Figura(ABC):\n",
        "  @abstractmethod\n",
        "  def PolePowierzchni(self):\n",
        "    pass\n",
        "\n",
        "class Kwadrat(Figura):\n",
        "  def __init__(self):\n",
        "    self.__wysokosc = 2\n",
        "    self.__szerokosc = 2\n",
        "  def zmienBok(nowaDlugoscBoku):\n",
        "    self.__wysokosc = nowaDlugoscBoku\n",
        "    self.__szerokosc = nowaDlugoscBoku\n",
        "  def PolePowierzchni(self):\n",
        "    return self.__wysokosc * self.__szerokosc\n",
        "\n",
        "#figura = Figura()\n",
        "kwadrat = Kwadrat()"
      ],
      "execution_count": null,
      "outputs": []
    },
    {
      "cell_type": "code",
      "metadata": {
        "id": "UvKZPHlh7AJ0"
      },
      "source": [
        "class Samochod(ABC):    \n",
        "  @abstractmethod\n",
        "  def __init__(self, marka):\n",
        "    self.kluczyki = \"Kluczyki do auta\"\n",
        "    print(\"Produkuje samochód\")\n",
        "    self._marka = marka\n",
        "  def __enter__(self):\n",
        "    print(f\"Rejestruje samochód marki {self._marka}\")\n",
        "    return self\n",
        "  def __exit__(self, type, value, tb):\n",
        "    print(\"Wyrejestrowywuje samochód\")    \n",
        "  def __str__(self):\n",
        "    return f\"To jest samochód marki {self._marka}\"\n",
        "  def __del__(self):\n",
        "    print(\"Złomuje samochod\")  \n",
        "\n",
        "class Honda(Samochod):\n",
        "  def __init__(self):\n",
        "    Samochod.__init__(self, \"Honda\")\n",
        "\n",
        "with Honda() as samochod:    \n",
        "  print(samochod)\n",
        "\n",
        "print(\"I już nie ma hondy\")"
      ],
      "execution_count": null,
      "outputs": []
    },
    {
      "cell_type": "code",
      "metadata": {
        "id": "8YwowyAeGIcE"
      },
      "source": [
        "def tictoc(func):\n",
        "  def tic():\n",
        "    import time\n",
        "    global startTime_for_tictoc\n",
        "    startTime_for_tictoc = time.time()\n",
        "  def toc():\n",
        "    import time\n",
        "    if 'startTime_for_tictoc' in globals():\n",
        "        print(\"Elapsed time is \" + str(time.time() - startTime_for_tictoc) + \" seconds.\")\n",
        "    else:\n",
        "        print(\"Toc: start time not set\")\n",
        "  def wrapper():\n",
        "    tic()\n",
        "    func()\n",
        "    toc()\n",
        "  return wrapper\n",
        "\n",
        "@tictoc\n",
        "def test():\n",
        "  print(\"test działania dekoratora mierzącego czas wykonania\")    \n",
        "\n",
        "test()\n"
      ],
      "execution_count": null,
      "outputs": []
    }
  ]
}