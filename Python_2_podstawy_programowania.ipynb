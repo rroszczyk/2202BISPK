{
  "nbformat": 4,
  "nbformat_minor": 0,
  "metadata": {
    "colab": {
      "name": "Python 2 - podstawy programowania.ipynb",
      "provenance": [],
      "collapsed_sections": [],
      "include_colab_link": true
    },
    "kernelspec": {
      "name": "python3",
      "display_name": "Python 3"
    }
  },
  "cells": [
    {
      "cell_type": "markdown",
      "metadata": {
        "id": "view-in-github",
        "colab_type": "text"
      },
      "source": [
        "<a href=\"https://colab.research.google.com/github/rroszczyk/2202BISPK/blob/main/Python_2_podstawy_programowania.ipynb\" target=\"_parent\"><img src=\"https://colab.research.google.com/assets/colab-badge.svg\" alt=\"Open In Colab\"/></a>"
      ]
    },
    {
      "cell_type": "markdown",
      "metadata": {
        "id": "0pzzKGR3OwjW"
      },
      "source": [
        "# Podstawowe operacje na słownikach\n",
        "Pojęcie słownika w programowaniu oznacza listę par elementów, z których pierwszy element jest kluczem/etykietą, natomiast drugi jest wartością związaną z tą etykietą."
      ]
    },
    {
      "cell_type": "markdown",
      "metadata": {
        "id": "bMXu3aHoVbGl"
      },
      "source": [
        "# Budowanie słownika"
      ]
    },
    {
      "cell_type": "code",
      "metadata": {
        "id": "R72l7CnmOruv",
        "outputId": "d3616ee7-af07-4984-e9a2-a1e36a8324c6",
        "colab": {
          "base_uri": "https://localhost:8080/"
        }
      },
      "source": [
        "zwierzeta = { \"koń\": \"ssak\", \n",
        "              \"pies\": \"ssak\", \n",
        "              \"dudek\": \"ptak\", \n",
        "              \"orzeł\": \"ptak\", \n",
        "              \"karp\": \"ryba\",\n",
        "              \"łosoś\": \"ryba\" }\n",
        "print(zwierzeta)\n",
        "\n",
        "print(\"Pierwszy klucz ze słownika:\", list(zwierzeta.keys())[0])\n",
        "print(\"Pierwsza wartość ze słownika:\", list(zwierzeta.values())[0])\n",
        "print(\"Pierwsza para ze słownika:\", list(zwierzeta.items())[0])"
      ],
      "execution_count": null,
      "outputs": [
        {
          "output_type": "stream",
          "name": "stdout",
          "text": [
            "{'koń': 'ssak', 'pies': 'ssak', 'dudek': 'ptak', 'orzeł': 'ptak', 'karp': 'ryba', 'łosoś': 'ryba'}\n",
            "Pierwszy klucz ze słownika: koń\n",
            "Pierwsza wartość ze słownika: ssak\n",
            "Pierwsza para ze słownika: ('koń', 'ssak')\n"
          ]
        }
      ]
    },
    {
      "cell_type": "markdown",
      "metadata": {
        "id": "dcpk2EhRVpUe"
      },
      "source": [
        "# Pobieranie wartości ze słowniaka"
      ]
    },
    {
      "cell_type": "code",
      "metadata": {
        "id": "oy1ETqjtVs5k",
        "outputId": "aa5a96cd-5df3-4c24-fe96-63688e512f5f",
        "colab": {
          "base_uri": "https://localhost:8080/"
        }
      },
      "source": [
        "print(zwierzeta[\"karp\"])\n",
        "print(zwierzeta.get(\"karp\"))\n",
        "print(zwierzeta.get(\"ryba\"))"
      ],
      "execution_count": null,
      "outputs": [
        {
          "output_type": "stream",
          "name": "stdout",
          "text": [
            "ryba\n",
            "ryba\n",
            "None\n"
          ]
        }
      ]
    },
    {
      "cell_type": "markdown",
      "metadata": {
        "id": "2VEsEKl8WAQC"
      },
      "source": [
        "# Przeglądanie zawartości słownika"
      ]
    },
    {
      "cell_type": "code",
      "metadata": {
        "id": "Q8-QCJkkWDff",
        "outputId": "576c1416-b80f-4d36-98e7-558579c52d67",
        "colab": {
          "base_uri": "https://localhost:8080/"
        }
      },
      "source": [
        "print(\"Metoda 1 - etykieta + wartość\")\n",
        "\n",
        "for zwierze in zwierzeta:\n",
        "  print(zwierze, \"to\", zwierzeta[zwierze])\n",
        "\n",
        "print(\"\\n\")\n",
        "\n",
        "\n",
        "print(\"Metoda 2 - etykieta + wartość\")\n",
        "\n",
        "for zwierze, gromada in zwierzeta.items():\n",
        "  print(zwierze, \"to\", gromada)\n",
        "\n",
        "print(\"\\n\")\n",
        "\n",
        "\n",
        "print(\"Metoda 3 - tylko wartość\")\n",
        "\n",
        "for gromada in zwierzeta.values():\n",
        "  print(gromada)\n",
        "\n",
        "print(\"\\n\")  \n"
      ],
      "execution_count": null,
      "outputs": [
        {
          "output_type": "stream",
          "name": "stdout",
          "text": [
            "Metoda 1 - etykieta + wartość\n",
            "koń to ssak\n",
            "pies to ssak\n",
            "dudek to ptak\n",
            "orzeł to ptak\n",
            "karp to ryba\n",
            "łosoś to ryba\n",
            "\n",
            "\n",
            "Metoda 2 - etykieta + wartość\n",
            "koń to ssak\n",
            "pies to ssak\n",
            "dudek to ptak\n",
            "orzeł to ptak\n",
            "karp to ryba\n",
            "łosoś to ryba\n",
            "\n",
            "\n",
            "Metoda 3 - tylko wartość\n",
            "ssak\n",
            "ssak\n",
            "ptak\n",
            "ptak\n",
            "ryba\n",
            "ryba\n",
            "\n",
            "\n"
          ]
        }
      ]
    },
    {
      "cell_type": "markdown",
      "metadata": {
        "id": "zuANrMf8WzoN"
      },
      "source": [
        "# Dodawanie pary etykieta/wartość"
      ]
    },
    {
      "cell_type": "code",
      "metadata": {
        "id": "J2Ff5DuQWyTg",
        "outputId": "28ce375e-219d-48b3-83e1-bfe646eb56ed",
        "colab": {
          "base_uri": "https://localhost:8080/"
        }
      },
      "source": [
        "zwierzeta[\"okoń\"] = \"ryba\"\n",
        "zwierzeta[\"słoń\"] = \"ssak\"\n",
        "zwierzeta[\"żaba\"] = \"płaz\"\n",
        "zwierzeta[\"mucha\"] = \"ryba\"\n",
        "print(zwierzeta[\"mucha\"])"
      ],
      "execution_count": null,
      "outputs": [
        {
          "output_type": "stream",
          "name": "stdout",
          "text": [
            "ryba\n"
          ]
        }
      ]
    },
    {
      "cell_type": "markdown",
      "metadata": {
        "id": "QUDkitQxXOdL"
      },
      "source": [
        "# Zmiana wartości dla danego klucza"
      ]
    },
    {
      "cell_type": "code",
      "metadata": {
        "id": "_HgKVoZyXSA0",
        "outputId": "a230c835-c04e-4d73-800a-d4356c069f2f",
        "colab": {
          "base_uri": "https://localhost:8080/"
        }
      },
      "source": [
        "zwierzeta[\"mucha\"] = \"owad\"\n",
        "print(zwierzeta[\"mucha\"])"
      ],
      "execution_count": null,
      "outputs": [
        {
          "output_type": "stream",
          "name": "stdout",
          "text": [
            "owad\n"
          ]
        }
      ]
    },
    {
      "cell_type": "markdown",
      "metadata": {
        "id": "4HaE43nWX_Bl"
      },
      "source": [
        "# Usuwanie elementów ze słownika"
      ]
    },
    {
      "cell_type": "code",
      "metadata": {
        "id": "d2tNFPmxX98J",
        "outputId": "6e88faa0-dc57-452b-89fa-711acfcc38aa",
        "colab": {
          "base_uri": "https://localhost:8080/"
        }
      },
      "source": [
        "for zwierze, gromada in zwierzeta.items():\n",
        "  print(zwierze, \"to\", gromada)\n",
        "print(\"\\n\")\n",
        "\n",
        "\n",
        "print(\"Usunięcie ostatio dodanego elementu\")\n",
        "zwierzeta.popitem()\n",
        "\n",
        "for zwierze, gromada in zwierzeta.items():\n",
        "  print(zwierze, \"to\", gromada)\n",
        "print(\"\\n\")\n",
        "\n",
        "\n",
        "print(\"Usunięcie wybranego elementu\")\n",
        "zwierzeta.pop(\"pies\")\n",
        "del zwierzeta[\"karp\"]\n",
        "\n",
        "for zwierze, gromada in zwierzeta.items():\n",
        "  print(zwierze, \"to\", gromada)\n",
        "print(\"\\n\")\n",
        "\n",
        "\n",
        "print(\"Usunięcie wszystkich elementów\")\n",
        "zwierzeta.clear()\n",
        "\n",
        "for zwierze, gromada in zwierzeta.items():\n",
        "  print(zwierze, \"to\", gromada)\n",
        "print(\"\\n\")"
      ],
      "execution_count": null,
      "outputs": [
        {
          "output_type": "stream",
          "name": "stdout",
          "text": [
            "koń to ssak\n",
            "pies to ssak\n",
            "dudek to ptak\n",
            "orzeł to ptak\n",
            "karp to ryba\n",
            "łosoś to ryba\n",
            "okoń to ryba\n",
            "słoń to ssak\n",
            "żaba to płaz\n",
            "mucha to owad\n",
            "\n",
            "\n",
            "Usunięcie ostatio dodanego elementu\n",
            "koń to ssak\n",
            "pies to ssak\n",
            "dudek to ptak\n",
            "orzeł to ptak\n",
            "karp to ryba\n",
            "łosoś to ryba\n",
            "okoń to ryba\n",
            "słoń to ssak\n",
            "żaba to płaz\n",
            "\n",
            "\n",
            "Usunięcie wybranego elementu\n",
            "koń to ssak\n",
            "dudek to ptak\n",
            "orzeł to ptak\n",
            "łosoś to ryba\n",
            "okoń to ryba\n",
            "słoń to ssak\n",
            "żaba to płaz\n",
            "\n",
            "\n",
            "Usunięcie wszystkich elementów\n",
            "\n",
            "\n"
          ]
        }
      ]
    },
    {
      "cell_type": "markdown",
      "metadata": {
        "id": "OprzaN3Pa2m4"
      },
      "source": [
        "# Sprawdzanie czy klucz/etykieta istnieje w słowniku"
      ]
    },
    {
      "cell_type": "code",
      "metadata": {
        "id": "3ItHxylMa7OB",
        "outputId": "d8650939-05d4-4964-fba1-9c12f598319b",
        "colab": {
          "base_uri": "https://localhost:8080/"
        }
      },
      "source": [
        "zwierze = \"koń\"\n",
        "if zwierze in zwierzeta:\n",
        "  print(zwierze, \"znajduje się w słowniku\")\n",
        "else:\n",
        "  print(zwierze, \"nie znajduje się w słowniku\")\n",
        "\n",
        "zwierze = \"paw\"\n",
        "if zwierze in zwierzeta:\n",
        "  print(zwierze, \"znajduje się w słowniku\")\n",
        "else:\n",
        "  print(zwierze, \"nie znajduje się w słowniku\")"
      ],
      "execution_count": null,
      "outputs": [
        {
          "output_type": "stream",
          "name": "stdout",
          "text": [
            "koń nie znajduje się w słowniku\n",
            "paw nie znajduje się w słowniku\n"
          ]
        }
      ]
    }
  ]
}