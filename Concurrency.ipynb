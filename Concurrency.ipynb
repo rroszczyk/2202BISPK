{
  "nbformat": 4,
  "nbformat_minor": 0,
  "metadata": {
    "colab": {
      "name": "Concurrency.ipynb",
      "provenance": [],
      "authorship_tag": "ABX9TyPiBvzDVKNnmuwwvDw8+Jyj",
      "include_colab_link": true
    },
    "kernelspec": {
      "name": "python3",
      "display_name": "Python 3"
    },
    "language_info": {
      "name": "python"
    }
  },
  "cells": [
    {
      "cell_type": "markdown",
      "metadata": {
        "id": "view-in-github",
        "colab_type": "text"
      },
      "source": [
        "<a href=\"https://colab.research.google.com/github/rroszczyk/2202BISPK/blob/main/Concurrency.ipynb\" target=\"_parent\"><img src=\"https://colab.research.google.com/assets/colab-badge.svg\" alt=\"Open In Colab\"/></a>"
      ]
    },
    {
      "cell_type": "code",
      "execution_count": null,
      "metadata": {
        "id": "F90Bg9nosif-"
      },
      "outputs": [],
      "source": [
        "from math import sqrt\n",
        "\n",
        "def is_prime(x):\n",
        "    if x < 2:\n",
        "        print(f'{x} nie jest liczbą pierwszą')\n",
        "\n",
        "    elif x == 2:\n",
        "        print(f'{x} jest liczbą pierwszą')\n",
        "\n",
        "    elif x % 2 == 0:\n",
        "        print(f'{x} nie jest liczbą piewszą')\n",
        "\n",
        "    else:\n",
        "        limit = int(sqrt(x)) + 1\n",
        "        for i in range(3, limit, 2):\n",
        "            if x % i == 0:\n",
        "                print(f'{x} nie jest liczbą pierwszą')\n",
        "                return\n",
        "\n",
        "        print(f'{x} jest liczbą pierwszą')\n",
        "\n",
        "is_prime(2)\n",
        "is_prime(12)\n",
        "is_prime(7)\n",
        "is_prime(61)\n",
        "is_prime(425)\n",
        "is_prime(1619)"
      ]
    }
  ]
}