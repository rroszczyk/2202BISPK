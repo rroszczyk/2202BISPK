{
  "cells": [
    {
      "cell_type": "markdown",
      "metadata": {
        "id": "view-in-github",
        "colab_type": "text"
      },
      "source": [
        "<a href=\"https://colab.research.google.com/github/rroszczyk/2202BISPK/blob/main/Python_6_programowanie_obiektowe.ipynb\" target=\"_parent\"><img src=\"https://colab.research.google.com/assets/colab-badge.svg\" alt=\"Open In Colab\"/></a>"
      ]
    },
    {
      "cell_type": "markdown",
      "metadata": {
        "id": "MTfi5SHKhPFU"
      },
      "source": [
        "# Programowanie obiektowe - elementy rozszerzone\n",
        "\n",
        "Programowanie obiektowe jest najpopularniejszym paradygmatem (czyli sposobem na pisanie programów) programistycznym świata. Jeśli przez chwilę pomyśleliśmy, że materiał podstawowy pokazał wiele nowy rzeczy - to jest to prawda. Jeśli jednak pomyśleliśmy, że zatem omówił większość programowania obiektowego - jesteśmy bardzo dalecy od prawdy. To niezwykle bogaty obszar koncepcji, który został dopiero przed Państwem otwarty.\n",
        "\n",
        "W materiale tym zaczniemy od najprostszych elementów tego programowania i będziemy się kierować ku coraz ambitniejszym. \n",
        "\n",
        "Zanim jednak zaczniemy od składni, powiedzmy sobie co jest prawdziwą istotą programowania obiektowego. \n",
        "Programowanie obiektowe to nie klasy, metody, konstruktory, czy enkapsulacja danych. To sposób patrzenia na to, jak działa świat lub zagadnienie, które chcemy przenieść do modelu cyfrowego. \n",
        "\n",
        "* W programowaniu strukturalnym, proceduralnym -> świat wyglądał tak:\n",
        "    * jak wiele małych przedmiotów (reprezentowanych przez wiele zmiennych),\n",
        "    * na których wykonywane są czynności.\n",
        "    * Czynności mają pełnię władzy na przedmiotami na których pracują.\n",
        "    * Program sprowadzał się do wylistowania (utworzenia) wszystkich przedmiotów i wykonywaniu na nich kolejnych czynności.\n",
        "* W programowaniu obiektowym -> świat składa się z obiektów, czyli:\n",
        "    * obiekty posiadają swoje stany wewnętrzne, w większości starają się je ukrywać lub chronić,\n",
        "    * posiadają również gamę umiejętności. \n",
        "    * Niektóre ich umiejętności sprawiają, że zmieniają się wewnętrznie,\n",
        "    * Inne że prezentują część siebie,\n",
        "    * Jeszcze inne służą do zmiany otającego świata lub wpływania na inne obiekty.\n",
        "    * Obiekty mają ograniczony wpływ na siebie, inne obiekty i otaczający świat. Reprezentują się bardzo różnorodnie, ale potrafią współwdzielić wiele umiejętności, składowych, czy ich grup.\n",
        "    * Program sprowadza się do utworzenia obiektów, i wskazaniu jakie interakcje między nimi będą występować. Stany obiektów zmieniają się na skutek oddziaływania jednych obiektów na inne. Nie poprzez odgórny ciąg poleceń.\n",
        "    \n",
        "Podkreśla to kilka ważnych elementów programowania obiektowego:\n",
        "* Ochronę stanów obiektów,\n",
        "* Ustalenie zależności pomiędzy obiektami (kto z kim się komunikuje),\n",
        "* Ustalenie zależnośći pomiędzy klasami (współdzielenie umiejętności,...).\n",
        "\n",
        "Przejdźmy dalej, do pozostałej nam składni programowania obiektowego w Python. Zaczniemy od części, która jest rozszerzeniem najprostszym, nieznacznie wykraczającym poza treści materiałów podstawowych. Koncepcja konstruktora jest bowiem kluczowa w większości języków programowania. Nie wolno zakończyć mówienia o obiektach w C++ bez wyjaśnienia konstruktora i jego roli. W Pythonie trudno nie docenić jego roli - spełnia wszystkie ważne zadania, reguły nim rządzące są ważne, a składnia dość przyjemna w zastosowaniu. Nie występuje on jednak w podstawowej części kursu, bowiem wyjątkowo długo można sobie dobrze radzić bez wiedzy o nim. Brak konieczności deklaracji pól klasy i możliwość edycji składowych \"w locie\" czynią z konstruktora narzędzie wygodne, zamiast koniecznego.\n"
      ]
    },
    {
      "cell_type": "markdown",
      "metadata": {
        "id": "-Y6TpS2yhPFX"
      },
      "source": [
        "# Konstruktor klasy\n",
        "\n",
        "W klasie Pythona standardowo często dołączane są od razu dwie rzeczy:\n",
        "\n",
        "* Dokumentacja klasy\n",
        "* Konstruktor klasy, który jest funkcją o nazwie ```__init__(self, other_params)```\n",
        "\n",
        "W efekcie początkowe linijki klasy z reguły wyglądają następująco:\n",
        "\n",
        "```python\n",
        "class NowaKlasa(object):\n",
        "    \"\"\"\n",
        "    Elementy dokumentacji kodu\n",
        "    \"\"\"\n",
        "    \n",
        "    def __init__(self, paramA, paramB):\n",
        "        \"\"\"\n",
        "        Dokumentacja konstruktora\n",
        "        :param paramA: \n",
        "        :param paramB: \n",
        "        \"\"\"\n",
        "        self.poleA=paramA\n",
        "        self.poleB=paramB\n",
        "```\n",
        "\n",
        "Konstruktor (trochę podobnie jak metoda) jest wywoływany w chwili, kiedy nie do końca to widzimy go w sposób jawny."
      ]
    },
    {
      "cell_type": "code",
      "execution_count": null,
      "metadata": {
        "id": "wdC6BMb1hPFZ"
      },
      "outputs": [],
      "source": [
        "class A(object):\n",
        "    \n",
        "    def __init__(self):\n",
        "        \"\"\"\n",
        "        Dokumentacja konstruktora\n",
        "        :param paramA: \n",
        "        :param paramB: \n",
        "        \"\"\"      \n",
        "        print('Witaj, tu konstruktor')\n",
        "        \n",
        "    print('Koniec wczytywania kodu klasy')\n",
        "\n",
        "# a = A()\n",
        "print('Zaczynamy test')\n",
        "\n",
        "a = A()\n",
        "\n",
        "print('Koniec testu')"
      ]
    },
    {
      "cell_type": "code",
      "source": [
        "print(A.__init__.__doc__)"
      ],
      "metadata": {
        "id": "zjQuARPbgJoC"
      },
      "execution_count": null,
      "outputs": []
    },
    {
      "cell_type": "markdown",
      "metadata": {
        "id": "x32cwSpVhPFc"
      },
      "source": [
        "Zatem to ```A()``` jest odpowiedzialne za wywołanie konstruktora. Łatwo to prześledzić. Przez ten nawias wygląda to trochę jak wywołanie funkcji. Ale zamiast nazwy funkcji mamy nazwę klasy. *Tak właśnie działa konstruktor* - ukrywa się pod nazwą klasy, ale wywołuje kod metody init. ```self``` umieszczony w parametrach metody ```__init__``` dodatkowo pozwala odnosić się do tego właśnie obiektu.\n",
        "\n",
        "Typowym sposobem na użycie konstruktora jest przekazanie mu parametrów do ustalenia stanu początkowego obiektu (lub trwałego stanu). \n",
        "\n",
        "Wyobraźmy sobie, że tworzymy klasę do reprezentowania kół na płaszczyźnie $\\mathbb{R}^2$. Potrzebujemy do tego następującego kodu:\n",
        "\n"
      ]
    },
    {
      "cell_type": "code",
      "execution_count": null,
      "metadata": {
        "id": "88J_QAAGhPFd"
      },
      "outputs": [],
      "source": [
        "class Punkt(object):\n",
        "    \n",
        "    def __init__(self, x, y):\n",
        "        self.x = x\n",
        "        self.y = y\n",
        "\n",
        "\n",
        "class Kolo(object):\n",
        "    \n",
        "    def __init__(self, p : Punkt, r ):\n",
        "        \"\"\"\n",
        "        p - to punkt odpowiadacy srodkowi kola\n",
        "        r - to promien kola, powinien byc dodatni - ale nie bedziemy sprawdzac jesli ktos sie uprze i wpisze inaczej\n",
        "        \"\"\"\n",
        "        self.p = p\n",
        "        self.r = r\n",
        "    \n",
        "    def czy_nalezy(self, p : Punkt):\n",
        "        x = self.p.x - p.x\n",
        "        y = self.p.y - p.y\n",
        "        return x*x + y*y <= self.r*self.r\n",
        "\n"
      ]
    },
    {
      "cell_type": "markdown",
      "metadata": {
        "id": "FXZupAs-hPFe"
      },
      "source": [
        "Mamy tu zdefiniowaną klasę Punkt z płaszczyzny , Koła czyli zbioru punktów oddalonego o mniej niż r od swojego środka p. Napisaliśmy również jedną metodę tego dla klasy Koła - sprawdzającą czy punkt należy do danego koła. Odpowiedź jest generowana przez operator `<=` więc będzie to `True` lub `False`."
      ]
    },
    {
      "cell_type": "code",
      "execution_count": null,
      "metadata": {
        "id": "0NCijXlzhPFe"
      },
      "outputs": [],
      "source": [
        "koleczko = Kolo(Punkt(1,3), 2)\n",
        "\n",
        "print(f'Czy punkt (2,3) należy do koła {koleczko.czy_nalezy(Punkt(2,3))}')\n",
        "print(f'Czy punkt (5,5) należy do koła {koleczko.czy_nalezy(Punkt(5,5))}')\n"
      ]
    },
    {
      "cell_type": "markdown",
      "metadata": {
        "id": "BHh-5ZtohPFf"
      },
      "source": [
        "Konstruktory w Pythonie bardzo często korzystają z wartości domyślnych. Nie warto być zaskoczonym kiedy spotkałoby się poniższą definicję. Często wygodniej jest po prostu zmienić tylko to na czym nam zależy a resztę parametrow mieć już ustawionych."
      ]
    },
    {
      "cell_type": "code",
      "execution_count": null,
      "metadata": {
        "id": "1wr0sNxyhPFg"
      },
      "outputs": [],
      "source": [
        "class Kolo(object):\n",
        "    \n",
        "    def __init__(self, p : Punkt = Punkt(0,0), r = 1 ):\n",
        "        \"\"\"\n",
        "        p - to punkt odpowiadacy srodkowi kola\n",
        "        r - to promien kola, powinien byc dodatni - ale nie bedziemy sprawdzac jesli ktos sie uprze i wpisze inaczej\n",
        "        \"\"\"\n",
        "        self.p = p\n",
        "        self.r = r\n",
        "    \n",
        "    def czy_nalezy(self, p : Punkt):\n",
        "        x = self.p.x - p.x\n",
        "        y = self.p.y - p.y\n",
        "        return x*x + y*y <= self.r*self.r"
      ]
    },
    {
      "cell_type": "markdown",
      "metadata": {
        "id": "1i5kY3ZBhPFg"
      },
      "source": [
        "# Dziedziczenie i co to jest\n",
        "\n",
        "## Dziedziczenie typu 1 (wersja dla początkujących) \n",
        "\n",
        "W początkowej części tej lekcji wspomnieliśmy, że pomiędzy klasami mogą występować zależności. Nie tylko samymi obiektami, ale i całymi klasami. W wielu materiałach dziedziczenie utożsamiane jest z relacją \"Pewna klasa jest szczególnym przypadkiem Innej klasy\" jak w zdaniach:\n",
        "\n",
        "* Każdy człowiek jest ssakiem,\n",
        "* Każdy kwadrat jest prostokątem,\n",
        "* Każdy samochód jest pojazdem,\n",
        "* Każda funkcja kwadratowa jest wielomianem,\n",
        "* Każdy wielomian jest funkcją,\n",
        "* Każdy smartfon jest telefonem.\n",
        "\n",
        "W wielu opracowaniach jest takie przedstawianie dziedziczenia uznawane za niepoprawne i prowadzącego do błędów w projektowaniu programów komputerowych. Jest to jak najbardziej prawda i prędzej czy później doprowadzi do popełnienia błędu przez programistę. Na bardzo wczesnym etapie nauki programowania jest jednak chyba jedynym sposobem na poczucie tego czym dziedziczenie jest.\n",
        "\n",
        "Czy każdy człowiek jest ssakiem? Prawda. Zatem obiekty klasy człowiek posiadają zarówno elementy wyróżniające człowieka spośród innych ssaków jak i cechy przypisane do każdego ssaka. \n",
        "\n",
        "* Czy każdy ssak ma oczy? Z dużo dozą przekonania - tak.\n",
        "* Czy każdy ssak umie się poruszać? Również tak.\n",
        "* Czy każdy ssak umie mówić? O to już cecha, którą posiadają w zasadzie tylko ludzie. \n",
        "\n",
        "Moglibyśmy zatem stworzyć następujący prototyp."
      ]
    },
    {
      "cell_type": "code",
      "execution_count": null,
      "metadata": {
        "id": "xUEWfl-ThPFh"
      },
      "outputs": [],
      "source": [
        "class Ssak(object):\n",
        "    \n",
        "    def __init__(self):\n",
        "        self.oczy = \"Ladne oczy\"\n",
        "        self.pozycja_x = 0\n",
        "        self.pozycja_y = 0\n",
        "    \n",
        "    def przemiesc_sie_do(self, x, y):\n",
        "        print('Przemieszczam się jak umiem')\n",
        "        self.pozycja_x = x\n",
        "        self.pozycja_y = y\n",
        "\n",
        "class Czlowiek(Ssak):\n",
        "    \n",
        "    def powiedz(self, zdanie):\n",
        "        print(f'Mam {self.oczy} i jestem w ({self.pozycja_x};{self.pozycja_y}). Powiem wam, że: {zdanie}')\n"
      ]
    },
    {
      "cell_type": "markdown",
      "metadata": {
        "id": "9UBkU99-hPFh"
      },
      "source": [
        "Kluczowa jest tutaj linijka `class Czlowiek(Ssak):` która wskazuje, że każdy Czlowiek ma mieć elementy przynależne Ssakowi."
      ]
    },
    {
      "cell_type": "code",
      "execution_count": null,
      "metadata": {
        "id": "J3oUE4VChPFi"
      },
      "outputs": [],
      "source": [
        "ludzik = Czlowiek()\n",
        "\n",
        "ludzik.przemiesc_sie_do(13,16)\n",
        "ludzik.powiedz('Witaj świecie')"
      ]
    },
    {
      "cell_type": "markdown",
      "metadata": {
        "id": "UPqTL5GzhPFi"
      },
      "source": [
        "Zauważmy, że dzięki dziedziczeniu cechy wspólne Ssaków zostaly przypisane do obiekty każdej klasy ją dziedziczącej. Czlowiek umie się przemieszczać - pomimo, że taka metoda nie została do niego przypisana. Posiada również składową swoich oczu. Okazuje się, że nie ma również problemu aby dokonać pewnych zmian w działaniu umiejętności - w końcu posiadanie pewnej umiejętności może ciut różnić się w wykonaniu jednej klasy jak i innej.\n",
        "\n",
        "Silnik. Każdy silnik samochodowy przeprowadza spalanie by uzyskać energie. Ale sam proces przebiega inaczej w silniku benzynowym, a inaczej w dieslu. Jeszcze inaczej będzie w silnikach na wodór. \n",
        "\n",
        "Drukarka. Każda ma opcje drukuj. Ale jedne użyją tuszu, inne toneru."
      ]
    },
    {
      "cell_type": "code",
      "execution_count": null,
      "metadata": {
        "id": "oNu6ccbnhPFi"
      },
      "outputs": [],
      "source": [
        "class Leniwiec(Ssak):\n",
        "    \n",
        "    def przemiesc_sie_do(self, x, y):\n",
        "        print('Poooowwwwoooollllli ddddooooo ppppprrrzzzooooddduuu')\n",
        "        self.pozycja_x = x\n",
        "        self.pozycja_y = y\n",
        "        \n",
        "maluch = Leniwiec()\n",
        "\n",
        "maluch.przemiesc_sie_do(12,27)"
      ]
    },
    {
      "cell_type": "code",
      "execution_count": null,
      "metadata": {
        "id": "oQIfkybYhPFj"
      },
      "outputs": [],
      "source": [
        "maluch.powiedz('Hej')"
      ]
    },
    {
      "cell_type": "markdown",
      "metadata": {
        "id": "E7k1tbuAhPFj"
      },
      "source": [
        "Co pokazuje, że choć jest ssakiem, nie ma umiejętności przynależnych ludziom."
      ]
    },
    {
      "cell_type": "markdown",
      "metadata": {
        "id": "n4rIbw8hhPFj"
      },
      "source": [
        "## Dziedziczenie w typie 2 (wersja dla zaawansowanych)\n",
        "\n",
        "Tak jak wspominaliśmy wcześniej widzenie dziedziczenia wszędzie tam gdzie \"Klasa jest szczególnym przypadkiem innej klasy\" ma doprowadzić do błędów programisty. Obecnie najlepszym sposobem na odnoszenie się do dziedziczenia jest tzw. rozszerzanie.\n",
        "\n",
        "**Klasa A dziedziczy klasę B, jeśli rozszerza to co wnosi klasa B o dodatkowe możliwości. **\n",
        "\n",
        "Co to zmienia? A no to, że klasa nie powinna zmieniać działania funkcji z jej klas bazowych (tych które dziedziczy). Yyy, to może przykładem.\n",
        "\n",
        "Wyobraźmy sobie, że mamy drukarkę. Drukarka ta potrafi nam ładnie drukować pisma, notatki, ale wszystko to jest czarnobiałe. Jednak z czasem pojawiły się również potrzeby aby drukować np. zdjęcia czy ulotki reklamowe - w kolorze. Kupujemy więc nową drukarkę - lepszą. Aby potrafiła również wydrukować nasze nowe potrzeby. Jeśli jednak przy okazji drukować ona będzie dokumenty czarnobiałe i np. doda tam jakąś ramkę, numery stron, czy zmieni cokolwiek co może mieć dla kogoś znaczenie - mogą pojawić się oburzeni pracownicy, że ich dokumenty drukują się inaczej niż tego oczekują.\n",
        "\n",
        "Nazywa się to zasadą zastępowania Liskova. \n",
        "\n",
        "Aby dziedziczyć w sposób poprawny należy uważać, aby nie zmienić działania kodu z klasy nadrzędnej. \n",
        "\n",
        "Dobrymi przykładami dziedziczenia jako rozszerzenia klasy są właśnie:\n",
        "\n",
        "* Drukarka kolorowa, względem czarnobiałej.\n",
        "* Radiowóz względem samochodu.\n",
        "* Amfibia względem samochodu.\n",
        "* Smartfon względem telefonu.\n",
        "* Komputer z wifi, względem pozbawionego tej karty.\n",
        "\n",
        "Ta powyższa sekcja - ma służyć jedynie kształtowaniu Państwa poglądów na zagadnienie. Nie wprowadza ona żadnej innej składni. Jedynie wskazuje inną zasadę kiedy dziedziczenie jest zasadne do użycia w naszym modelu programistycznym."
      ]
    },
    {
      "cell_type": "markdown",
      "metadata": {
        "id": "4XxnpZRNhPFj"
      },
      "source": [
        "## Wielodziedziczenie\n",
        "\n",
        "Jak mówi stare porzekadło informatyków - _Jeśli wchodzisz do baru gdzie są programiści C++ oraz Javy i chcesz wywołać burdę - zapytaj ich o to czy wielodziedziczenie jest potrzebne._\n",
        "\n",
        "Temat dziedziczenia po wielu klasach jednocześnie jest bardzo złożonym zagadnieniem - żywo debatowanym w świecie informatyki. Ma tak zwolenników co przeciwników. Samym tłem tego zagadnienia nie będziemy się tu zajmować. \n",
        "\n",
        "**Python wspiera dziedziczenie po wielu klasach bazowych.**\n",
        "\n",
        "Nie jest to jednak argument za jego stosowaniem. Pythonowi przyświeca idea, że programista oraz użytkownik kodu odpowiada jak za to jaki z niego robią użytek. Jeśli oni chcą mieć wielodziedziczenie, niech mierzą się z problemami jakie mogą na siebie sprowadzić.\n",
        "\n",
        "Poniższy zapis pokazuje jak wyrazić wolę takiego dziedziczenia:\n",
        "\n",
        "```python\n",
        "class Klasa_Potomna(KlasaA, KlasaB):\n",
        "```"
      ]
    },
    {
      "cell_type": "markdown",
      "metadata": {
        "id": "YslnhrOKhPFk"
      },
      "source": [
        "# Elementy prywatne w klasach\n",
        "\n",
        "Nie mniej istotne jest chronienie dostępu do składowych klasy. W Python jak w wielu innych językach występują 3 zakresu dostępu:\n",
        "\n",
        "* public - publiczny - element jest dostępny dla wszelkich użyć,\n",
        "* private - prywatny - element jest niedostępny z zewnątrz - widoczny tylko w danej klasie,\n",
        "* protected - chroniony - element jest częściowo ochraniany przed dostępem - widoczny tylko dla danej klasy oraz klas je dziedziczących.\n",
        "\n",
        "Inaczej niż np. w C++ - nie ma tutaj odmian dziedziczenia. Uprawnienia zdefiniowane w 1 z powyższych sposobów są ustalone raz na zawsze. Zaskakująca jest natomiast składnia. Prezentuje je poniższy przykład\n",
        "\n",
        "```python\n",
        "\n",
        "class Przykladowa(object):\n",
        "    \n",
        "    def __init__(self):\n",
        "        \n",
        "        self.publiczna_skladowa = None\n",
        "        self._chroniona_skladowa = None\n",
        "        self.__prywatna_skladowa = None\n",
        "     \n",
        "    def metoda_publiczna(self):\n",
        "        pass\n",
        "    \n",
        "    def _metoda_chroniona(self):\n",
        "        pass\n",
        "    \n",
        "    def __metoda_prywatne(self):\n",
        "        pass\n",
        "\n",
        "```\n",
        "\n",
        "Dzięki powyższemu przykładowi widzimy, czemu metoda `init` nigdy nie jest podpowiadana. Zalecamy jednak nie używać kończących podkreślników dla metod prywatnych. Niech te nazwy zostaną pozostawione dla twórców języka.\n",
        "\n",
        "**Zarządzanie zakresami widoczności metod i pól stanowi duże wyzwanie - wykraczające poza zakres kursu wprowadzenia do programowania**\n",
        "\n",
        "Powyższe wprowadzenie ma pomóc Państwu (na tę chwilę) ze zrozumieniem jak czytać kody, które zostaną Państwu zaprezentowane (przez nas, lub dowolne źródła w internecie - albo waszych uczniów - kto wie?!).\n",
        "\n",
        "\n",
        "\n",
        "# Przeciążanie operatorów na obiektach\n",
        "\n",
        "W Pythonie nie ma przeciążania funkcji! Co nie znaczy, że w pewnych okolicznościach nie uda się go uzyskać. W przypadku obiektów nowych klas przykładowy opis kodu operatora+ wygląda coś na kształt C++-owego:\n",
        "\n",
        "```\n",
        "def operator+(self, other):\n",
        "  return self.__add__(other)\n",
        "```\n",
        "\n",
        "Dzięki temu zapisowi okazuje się, że wystarczy dopisać własną implementację metody oddziedziczonej jak `__add__` i uzyskujemy efekt identyczny jak przy przeciążeniu operatora. Funkcje których nadpisanie pozwoli nam na uzyskanie działania nowych operatorów jest dość sporo\n",
        "\n",
        "* `__add__`, `__sub__`, `__mul__`, `__div__` - to dodawanie, odejmowanie, mnożenie i dzielenie. \n",
        "* `__eq__`, `__ge__`,  `__gt__`, `__le__`, `__lt__`, `__ne__`, - to kolejno operatory równość, większe równe, większe, mniejsze równe, mniejsze, nierówne,\n",
        "* `__str__` - zmienia działanie metody print dla obiektu\n",
        "\n",
        "Zobaczmy jak wygląda nadpisanie przykładowych operacji z tej grupy przez poniższy przykład - gdzie modelujemy punkt na płaszczyźnie $(x,y) \\in \\mathbb{R}^2$."
      ]
    },
    {
      "cell_type": "code",
      "execution_count": null,
      "metadata": {
        "id": "5_KqTTQVhPFk"
      },
      "outputs": [],
      "source": [
        "class Punkt(object):\n",
        "    \"\"\"\n",
        "    Punkt to punkt\n",
        "    \"\"\"\n",
        "    def __init__(self, a, b):\n",
        "        self.a = a\n",
        "        self.b = b\n",
        "\n",
        "    def __eq__(self, other): # operator porównania\n",
        "        if self.a==other.a and self.b == other.b:\n",
        "            return True\n",
        "        else:\n",
        "            return False\n",
        "\n",
        "    def __sub__(self, other): # operator odejmowania\n",
        "      pass\n",
        "\n",
        "    def __mul__(self, other): # operator mnożenia\n",
        "      pass\n",
        "\n",
        "    def __div__(self, other): # operator dzielenia\n",
        "      pass\n",
        "\n",
        "    def __add__(self, other): # operatora dodwania\n",
        "        a = self.a+other.a\n",
        "        b = self.b+other.b\n",
        "        return Punkt(a, b)\n",
        "\n",
        "    def __str__(self):\n",
        "        return \"(\"+str(self.a)+\";\"+str(self.b)+\")\"\n",
        "\n",
        "p1 = Punkt(1,1)\n",
        "p2 = Punkt(2,1)\n",
        "p3 = Punkt(1,1)\n",
        "\n",
        "if p1 == p2:\n",
        "    print(\"P1 == P2\")\n",
        "else:\n",
        "    print(\"P1 /= P2\")\n",
        "\n",
        "if p1 == p3:\n",
        "    print(\"P1 == P3\")\n",
        "else:\n",
        "    print(\"P1 /= P3\")\n",
        "\n",
        "print(p1, p2, p3, p1+p2)"
      ]
    },
    {
      "cell_type": "markdown",
      "metadata": {
        "id": "uFHEKej0hPFl"
      },
      "source": [
        "Pełną listę funkcji do przykrycia można znaleźć np. pod [linkiem](https://docs.python.org/2/reference/datamodel.html#emulating-numeric-types) "
      ]
    },
    {
      "cell_type": "markdown",
      "metadata": {
        "id": "eWLwALSKhPFl"
      },
      "source": [
        "# Dekorator (dla najbardziej zaawansowanych)\n",
        "\n",
        "Dawno temu język C# wprowadził do programowania obiektowego pojęcie właściwości objektu. Już w tym czasie znane były metody kontroli dostępu do pól klasy. W Javie kontrolujemy enkapsulacje (dostęp do) pól w sposób następujący:\n",
        "\n",
        "```java\n",
        "class Nowa {\n",
        "  private Typ pole = new Typ(wartosc_domyslna);\n",
        "  \n",
        "  public Typ getPole() {\n",
        "    return this.pole;\n",
        "  }\n",
        "  \n",
        "  public void setPole(Typ value){\n",
        "    this.pole=value;\n",
        "  }\n",
        "}\n",
        "\n",
        "```\n",
        "\n",
        "Powyższy kod akurat niespecjalnie ogranicza możliwości działania z danym polem, jednak metody set i get mogą być rozwinięte i np. uniemożliwić wstawienie błędnej wartości, lub pozwolić na odczytanie po sprawdzeniu pewnych dodatkowych warunków. Wszystko to określa sposoby dostępu do elementów wnętrza klasa. Jego stosowanie jest jednak dość uciążliwe.\n",
        "\n",
        "```java\n",
        "Nowa nowa = new Nowa();\n",
        "Typ value = new Typ(\"Coś\");\n",
        "nowa.setPole(value);\n",
        "System.out.println(nowa.getPole());\n",
        "```\n",
        "\n",
        "Jeśli poszukujemy sposobu na uzyskanie poprawy w tym zakresie tak aby móc pisać\n",
        "\n",
        "```java\n",
        "Nowa nowa = new Nowa();\n",
        "Typ value = new Typ(\"Coś\");\n",
        "nowa.pole = value;\n",
        "System.out.println(nowa.pole);\n",
        "```\n",
        "\n",
        "i jednocześnie wykorzystać własne implementacje sposobów na ustawianie i pobieranie wartości - to własności (property) są odpowiedzią na takie potrzeby.\n",
        "\n",
        "Przeanalizujmy:"
      ]
    },
    {
      "cell_type": "code",
      "execution_count": null,
      "metadata": {
        "id": "SDjP3ndKhPFl"
      },
      "outputs": [],
      "source": [
        "class Sample(object):\n",
        "    \n",
        "    def __init__(self):\n",
        "        self._x = None\n",
        "\n",
        "    @property\n",
        "    def x(self):\n",
        "        return self._x\n",
        "\n",
        "    @x.setter\n",
        "    def x(self, value):\n",
        "        self._x = value\n",
        "\n",
        "    @x.getter\n",
        "    def x(self):\n",
        "        return self._x+1\n",
        "\n",
        "obiekt = Sample()\n",
        "obiekt.x = 3\n",
        "print(obiekt.x)"
      ]
    },
    {
      "cell_type": "markdown",
      "metadata": {
        "id": "FEmenzD0hPFm"
      },
      "source": [
        "Jak to w praktyce działa? Gdzieś istnieje ukryta wartość prywatna lub chroniona (self._x), dla której istnieje odpowiednik będący dostępny @property def x(self) (nazwa x jest dostępna). Z zewnątrz wygląda on jak zwykłe pole publiczne. Lecz nim nie jest! Wtedy dzięki zdefiniowaniu x jako właściwość możemy zdefiniować sposoby wykonywania na nim akcji: np. setter, getter, deleter - tj. kontrolować w jaki sposób można na stan obiektu wpływać."
      ]
    },
    {
      "cell_type": "code",
      "execution_count": null,
      "metadata": {
        "id": "994maRZrhPFm"
      },
      "outputs": [],
      "source": [
        ""
      ]
    }
  ],
  "metadata": {
    "kernelspec": {
      "display_name": "Python 3",
      "language": "python",
      "name": "python3"
    },
    "language_info": {
      "codemirror_mode": {
        "name": "ipython",
        "version": 3
      },
      "file_extension": ".py",
      "mimetype": "text/x-python",
      "name": "python",
      "nbconvert_exporter": "python",
      "pygments_lexer": "ipython3",
      "version": "3.8.2"
    },
    "colab": {
      "name": "Python 6 - programowanie obiektowe.ipynb",
      "provenance": [],
      "collapsed_sections": [],
      "include_colab_link": true
    }
  },
  "nbformat": 4,
  "nbformat_minor": 0
}