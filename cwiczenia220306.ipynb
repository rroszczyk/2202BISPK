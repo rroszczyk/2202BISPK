{
  "nbformat": 4,
  "nbformat_minor": 0,
  "metadata": {
    "colab": {
      "name": "cwiczenia220306.ipynb",
      "provenance": [],
      "collapsed_sections": [],
      "authorship_tag": "ABX9TyMwlrVkUFj5LZaIvMpLDK5M",
      "include_colab_link": true
    },
    "kernelspec": {
      "name": "python3",
      "display_name": "Python 3"
    },
    "language_info": {
      "name": "python"
    }
  },
  "cells": [
    {
      "cell_type": "markdown",
      "metadata": {
        "id": "view-in-github",
        "colab_type": "text"
      },
      "source": [
        "<a href=\"https://colab.research.google.com/github/rroszczyk/2202BISPK/blob/main/cwiczenia220306.ipynb\" target=\"_parent\"><img src=\"https://colab.research.google.com/assets/colab-badge.svg\" alt=\"Open In Colab\"/></a>"
      ]
    },
    {
      "cell_type": "code",
      "execution_count": 2,
      "metadata": {
        "colab": {
          "base_uri": "https://localhost:8080/"
        },
        "id": "d8ssthHxPVnv",
        "outputId": "825a661b-801a-4ea2-bd08-b97d66d03fb8"
      },
      "outputs": [
        {
          "output_type": "stream",
          "name": "stdout",
          "text": [
            "Witaj świecie\n",
            "<function hello at 0x7f891b30cdd0>\n"
          ]
        }
      ],
      "source": [
        "def hello():\n",
        "  print(\"Witaj świecie\")\n",
        "\n",
        "hello()\n",
        "\n",
        "print(hello)"
      ]
    },
    {
      "cell_type": "code",
      "source": [
        "hello2 = hello\n",
        "\n",
        "hello2()\n",
        "hello()\n",
        "\n",
        "print(hello)\n",
        "print(hello2)"
      ],
      "metadata": {
        "colab": {
          "base_uri": "https://localhost:8080/"
        },
        "id": "8hmoS4dFSSSU",
        "outputId": "bd4c5c34-3a5b-43d2-9609-1cf178e6da4d"
      },
      "execution_count": 3,
      "outputs": [
        {
          "output_type": "stream",
          "name": "stdout",
          "text": [
            "Witaj świecie\n",
            "Witaj świecie\n",
            "<function hello at 0x7f891b30cdd0>\n",
            "<function hello at 0x7f891b30cdd0>\n"
          ]
        }
      ]
    },
    {
      "cell_type": "code",
      "source": [
        "def hello(msg):\n",
        "  print(msg)\n",
        "\n",
        "hello2 = hello\n",
        "\n",
        "hello(\"Komunikat do wypisania\")\n",
        "\n",
        "hello2(\"Jakiś inny komunikat\")\n"
      ],
      "metadata": {
        "colab": {
          "base_uri": "https://localhost:8080/"
        },
        "id": "cS4jqm8CSy3t",
        "outputId": "f4f55775-8b2d-4f73-ef6f-6211f1ef57e1"
      },
      "execution_count": 4,
      "outputs": [
        {
          "output_type": "stream",
          "name": "stdout",
          "text": [
            "Komunikat do wypisania\n",
            "Jakiś inny komunikat\n"
          ]
        }
      ]
    },
    {
      "cell_type": "code",
      "source": [
        "print(hello)\n",
        "print(hello2)"
      ],
      "metadata": {
        "colab": {
          "base_uri": "https://localhost:8080/"
        },
        "id": "M807hf9NS_I8",
        "outputId": "4a5dce27-6fac-4508-e1ae-f0a353801d3f"
      },
      "execution_count": 5,
      "outputs": [
        {
          "output_type": "stream",
          "name": "stdout",
          "text": [
            "<function hello at 0x7f891b27e7a0>\n",
            "<function hello at 0x7f891b27e7a0>\n"
          ]
        }
      ]
    },
    {
      "cell_type": "code",
      "source": [
        "def hello(msg):\n",
        "  if msg != None:\n",
        "    msg2 = msg\n",
        "  print(msg2)"
      ],
      "metadata": {
        "id": "HSzHD1GrTEYg"
      },
      "execution_count": 6,
      "outputs": []
    },
    {
      "cell_type": "code",
      "source": [
        "hello(\"Jakiś napis\")"
      ],
      "metadata": {
        "colab": {
          "base_uri": "https://localhost:8080/"
        },
        "id": "Mk7PIsnfTdJg",
        "outputId": "8ac2a79e-1625-4a07-cec2-3d63f2d4f33b"
      },
      "execution_count": 7,
      "outputs": [
        {
          "output_type": "stream",
          "name": "stdout",
          "text": [
            "Jakiś napis\n"
          ]
        }
      ]
    },
    {
      "cell_type": "code",
      "source": [
        "hello(None)"
      ],
      "metadata": {
        "colab": {
          "base_uri": "https://localhost:8080/",
          "height": 261
        },
        "id": "CRwOy-u9ThHf",
        "outputId": "b9678b37-7541-46a6-b2d3-c762b99a6a1f"
      },
      "execution_count": 8,
      "outputs": [
        {
          "output_type": "error",
          "ename": "UnboundLocalError",
          "evalue": "ignored",
          "traceback": [
            "\u001b[0;31m---------------------------------------------------------------------------\u001b[0m",
            "\u001b[0;31mUnboundLocalError\u001b[0m                         Traceback (most recent call last)",
            "\u001b[0;32m<ipython-input-8-5bd90176b354>\u001b[0m in \u001b[0;36m<module>\u001b[0;34m()\u001b[0m\n\u001b[0;32m----> 1\u001b[0;31m \u001b[0mhello\u001b[0m\u001b[0;34m(\u001b[0m\u001b[0;32mNone\u001b[0m\u001b[0;34m)\u001b[0m\u001b[0;34m\u001b[0m\u001b[0;34m\u001b[0m\u001b[0m\n\u001b[0m",
            "\u001b[0;32m<ipython-input-6-3546c3070291>\u001b[0m in \u001b[0;36mhello\u001b[0;34m(msg)\u001b[0m\n\u001b[1;32m      2\u001b[0m   \u001b[0;32mif\u001b[0m \u001b[0mmsg\u001b[0m \u001b[0;34m!=\u001b[0m \u001b[0;32mNone\u001b[0m\u001b[0;34m:\u001b[0m\u001b[0;34m\u001b[0m\u001b[0;34m\u001b[0m\u001b[0m\n\u001b[1;32m      3\u001b[0m     \u001b[0mmsg2\u001b[0m \u001b[0;34m=\u001b[0m \u001b[0mmsg\u001b[0m\u001b[0;34m\u001b[0m\u001b[0;34m\u001b[0m\u001b[0m\n\u001b[0;32m----> 4\u001b[0;31m   \u001b[0mprint\u001b[0m\u001b[0;34m(\u001b[0m\u001b[0mmsg2\u001b[0m\u001b[0;34m)\u001b[0m\u001b[0;34m\u001b[0m\u001b[0;34m\u001b[0m\u001b[0m\n\u001b[0m",
            "\u001b[0;31mUnboundLocalError\u001b[0m: local variable 'msg2' referenced before assignment"
          ]
        }
      ]
    },
    {
      "cell_type": "code",
      "source": [
        "def hello(funk):\n",
        "  def inner():\n",
        "    print(\"Wywołanie funkcji otaczającej\")\n",
        "    funk()\n",
        "    print(\"Wywołanie funkcji kończącej\")\n",
        "  return inner\n",
        "\n",
        "def napis():\n",
        "  print(\"Wypisanie jakiegoś napis\")\n",
        "\n",
        "obj = hello(napis)\n",
        "\n",
        "obj()"
      ],
      "metadata": {
        "colab": {
          "base_uri": "https://localhost:8080/"
        },
        "id": "Ud7atUEbT81M",
        "outputId": "def35675-0dc9-4290-de06-1de819920ad7"
      },
      "execution_count": 9,
      "outputs": [
        {
          "output_type": "stream",
          "name": "stdout",
          "text": [
            "Wywołanie funkcji otaczającej\n",
            "Wypisanie jakiegoś napis\n",
            "Wywołanie funkcji kończącej\n"
          ]
        }
      ]
    },
    {
      "cell_type": "code",
      "source": [
        "@hello\n",
        "def napis2():\n",
        "  print(\"Wypisanie innego komunikatu\")\n",
        "\n",
        "napis2()"
      ],
      "metadata": {
        "colab": {
          "base_uri": "https://localhost:8080/"
        },
        "id": "AYAYwnNaVBsn",
        "outputId": "6195dacf-0b41-409a-ce25-6483207f6322"
      },
      "execution_count": 10,
      "outputs": [
        {
          "output_type": "stream",
          "name": "stdout",
          "text": [
            "Wywołanie funkcji otaczającej\n",
            "Wypisanie innego komunikatu\n",
            "Wywołanie funkcji kończącej\n"
          ]
        }
      ]
    },
    {
      "cell_type": "code",
      "source": [
        "from time import sleep, time"
      ],
      "metadata": {
        "id": "nJV4mJnxVhxQ"
      },
      "execution_count": 11,
      "outputs": []
    },
    {
      "cell_type": "code",
      "source": [
        "def a():\n",
        "  sleep(1)\n",
        "\n",
        "def b():\n",
        "  sleep(2)\n",
        "\n",
        "print(time())  "
      ],
      "metadata": {
        "colab": {
          "base_uri": "https://localhost:8080/"
        },
        "id": "TrC7z1YqVobm",
        "outputId": "be2da2a5-78f6-4b2e-cc93-106d82850942"
      },
      "execution_count": 12,
      "outputs": [
        {
          "output_type": "stream",
          "name": "stdout",
          "text": [
            "1646555254.914723\n"
          ]
        }
      ]
    },
    {
      "cell_type": "code",
      "source": [
        "def tictoc(func):\n",
        "  def measure():\n",
        "    t  = time()\n",
        "    func()\n",
        "    print(f\"Fukncja {func.__name__}, trwała: {time() - t}\")\n",
        "  return measure"
      ],
      "metadata": {
        "id": "KyDRhhjpXOZb"
      },
      "execution_count": 21,
      "outputs": []
    },
    {
      "cell_type": "code",
      "source": [
        "@tictoc\n",
        "def a():\n",
        "  sleep(1)\n",
        "\n",
        "@tictoc\n",
        "def b():\n",
        "  sleep(2)"
      ],
      "metadata": {
        "id": "ISoUjGwlXwz6"
      },
      "execution_count": 22,
      "outputs": []
    },
    {
      "cell_type": "code",
      "source": [
        "a()\n",
        "b()"
      ],
      "metadata": {
        "colab": {
          "base_uri": "https://localhost:8080/"
        },
        "id": "PhFWaVSnYidx",
        "outputId": "db7b9a13-c4e6-4e66-b6e4-748349134468"
      },
      "execution_count": 23,
      "outputs": [
        {
          "output_type": "stream",
          "name": "stdout",
          "text": [
            "Fukncja a, trwała: 1.0011169910430908\n",
            "Fukncja b, trwała: 2.0021142959594727\n"
          ]
        }
      ]
    },
    {
      "cell_type": "code",
      "source": [
        "def f(sleep_time=1):\n",
        "  sleep(sleep_time)"
      ],
      "metadata": {
        "id": "HkxuIzJDY1oc"
      },
      "execution_count": 24,
      "outputs": []
    },
    {
      "cell_type": "code",
      "source": [
        "def measure(func):\n",
        "  t  = time()\n",
        "  func()\n",
        "  print(f\"Fukncja {func.__name__}, trwała: {time() - t}\")\n"
      ],
      "metadata": {
        "id": "4tv18LFtZBUm"
      },
      "execution_count": 25,
      "outputs": []
    },
    {
      "cell_type": "code",
      "source": [
        "measure(f)\n",
        "measure(f(3))"
      ],
      "metadata": {
        "colab": {
          "base_uri": "https://localhost:8080/",
          "height": 315
        },
        "id": "8MTX_qnoZF3J",
        "outputId": "fcd72347-ffdd-4639-c55a-93413b7fb319"
      },
      "execution_count": 26,
      "outputs": [
        {
          "output_type": "stream",
          "name": "stdout",
          "text": [
            "Fukncja f, trwała: 1.001100778579712\n"
          ]
        },
        {
          "output_type": "error",
          "ename": "TypeError",
          "evalue": "ignored",
          "traceback": [
            "\u001b[0;31m---------------------------------------------------------------------------\u001b[0m",
            "\u001b[0;31mTypeError\u001b[0m                                 Traceback (most recent call last)",
            "\u001b[0;32m<ipython-input-26-1ab5a4113746>\u001b[0m in \u001b[0;36m<module>\u001b[0;34m()\u001b[0m\n\u001b[1;32m      1\u001b[0m \u001b[0mmeasure\u001b[0m\u001b[0;34m(\u001b[0m\u001b[0mf\u001b[0m\u001b[0;34m)\u001b[0m\u001b[0;34m\u001b[0m\u001b[0;34m\u001b[0m\u001b[0m\n\u001b[0;32m----> 2\u001b[0;31m \u001b[0mmeasure\u001b[0m\u001b[0;34m(\u001b[0m\u001b[0mf\u001b[0m\u001b[0;34m(\u001b[0m\u001b[0;36m3\u001b[0m\u001b[0;34m)\u001b[0m\u001b[0;34m)\u001b[0m\u001b[0;34m\u001b[0m\u001b[0;34m\u001b[0m\u001b[0m\n\u001b[0m",
            "\u001b[0;32m<ipython-input-25-a77734cad701>\u001b[0m in \u001b[0;36mmeasure\u001b[0;34m(func)\u001b[0m\n\u001b[1;32m      1\u001b[0m \u001b[0;32mdef\u001b[0m \u001b[0mmeasure\u001b[0m\u001b[0;34m(\u001b[0m\u001b[0mfunc\u001b[0m\u001b[0;34m)\u001b[0m\u001b[0;34m:\u001b[0m\u001b[0;34m\u001b[0m\u001b[0;34m\u001b[0m\u001b[0m\n\u001b[1;32m      2\u001b[0m   \u001b[0mt\u001b[0m  \u001b[0;34m=\u001b[0m \u001b[0mtime\u001b[0m\u001b[0;34m(\u001b[0m\u001b[0;34m)\u001b[0m\u001b[0;34m\u001b[0m\u001b[0;34m\u001b[0m\u001b[0m\n\u001b[0;32m----> 3\u001b[0;31m   \u001b[0mfunc\u001b[0m\u001b[0;34m(\u001b[0m\u001b[0;34m)\u001b[0m\u001b[0;34m\u001b[0m\u001b[0;34m\u001b[0m\u001b[0m\n\u001b[0m\u001b[1;32m      4\u001b[0m   \u001b[0mprint\u001b[0m\u001b[0;34m(\u001b[0m\u001b[0;34mf\"Fukncja {func.__name__}, trwała: {time() - t}\"\u001b[0m\u001b[0;34m)\u001b[0m\u001b[0;34m\u001b[0m\u001b[0;34m\u001b[0m\u001b[0m\n",
            "\u001b[0;31mTypeError\u001b[0m: 'NoneType' object is not callable"
          ]
        }
      ]
    },
    {
      "cell_type": "code",
      "source": [
        "def dodawanie(*liczby):\n",
        "  suma = 0\n",
        "\n",
        "  for liczba in liczby:\n",
        "    suma = suma + liczba\n",
        "\n",
        "  print(suma)"
      ],
      "metadata": {
        "id": "MRfIdqWFZk3D"
      },
      "execution_count": 27,
      "outputs": []
    },
    {
      "cell_type": "code",
      "source": [
        "dodawanie(1,2,3)\n",
        "\n",
        "dodawanie(4)\n",
        "\n",
        "dodawanie(3,5)\n",
        "\n",
        "dodawanie(1,2,3,4,5,6)"
      ],
      "metadata": {
        "colab": {
          "base_uri": "https://localhost:8080/"
        },
        "id": "H_fj3WhzaOFV",
        "outputId": "8bae505d-ee62-4a91-aecf-83a78e92c18b"
      },
      "execution_count": 28,
      "outputs": [
        {
          "output_type": "stream",
          "name": "stdout",
          "text": [
            "6\n",
            "4\n",
            "8\n",
            "21\n"
          ]
        }
      ]
    },
    {
      "cell_type": "code",
      "source": [
        "def wypisz(**zmienne):\n",
        "\n",
        "  for k, v in zmienne.items():\n",
        "    print(f\"{k}: {v}\")"
      ],
      "metadata": {
        "id": "mjY9tMpHapK2"
      },
      "execution_count": 29,
      "outputs": []
    },
    {
      "cell_type": "code",
      "source": [
        "wypisz(imie=\"Jan\", nazwisko=\"Kowalski\", Wiek=20)\n",
        "\n",
        "wypisz(imie=\"Piotr\", nazwisko=\"Malinowski\", Wiek=25)"
      ],
      "metadata": {
        "colab": {
          "base_uri": "https://localhost:8080/"
        },
        "id": "MN6pas4Ja8fP",
        "outputId": "2c29c972-2a0e-43c2-c248-1a73384b4ab3"
      },
      "execution_count": 30,
      "outputs": [
        {
          "output_type": "stream",
          "name": "stdout",
          "text": [
            "imie: Jan\n",
            "nazwisko: Kowalski\n",
            "Wiek: 20\n",
            "imie: Piotr\n",
            "nazwisko: Malinowski\n",
            "Wiek: 25\n"
          ]
        }
      ]
    },
    {
      "cell_type": "code",
      "source": [
        "def wypisz2(**zmienne):\n",
        "  print(f\"Typ danych wejściowych to: {type(zmienne)}\")\n",
        "\n",
        "def dodawanie2(*liczby):\n",
        "    print(f\"Typ danych wejściowych to: {type(liczby)}\")"
      ],
      "metadata": {
        "id": "CEMWtEwUbO1E"
      },
      "execution_count": 31,
      "outputs": []
    },
    {
      "cell_type": "code",
      "source": [
        "dodawanie2(1,2,3)\n",
        "\n",
        "dodawanie2(4)\n",
        "\n",
        "dodawanie2(3,5)\n",
        "\n",
        "dodawanie2(1,2,3,4,5,6)\n",
        "\n",
        "wypisz2(imie=\"Jan\", nazwisko=\"Kowalski\", Wiek=20)\n",
        "\n",
        "wypisz2(imie=\"Piotr\", nazwisko=\"Malinowski\", Wiek=25)"
      ],
      "metadata": {
        "colab": {
          "base_uri": "https://localhost:8080/"
        },
        "id": "SKVJSHxIbcsQ",
        "outputId": "d1280c84-69e2-4377-9fa8-17daa9166559"
      },
      "execution_count": 33,
      "outputs": [
        {
          "output_type": "stream",
          "name": "stdout",
          "text": [
            "Typ danych wejściowych to: <class 'tuple'>\n",
            "Typ danych wejściowych to: <class 'tuple'>\n",
            "Typ danych wejściowych to: <class 'tuple'>\n",
            "Typ danych wejściowych to: <class 'tuple'>\n",
            "Typ danych wejściowych to: <class 'dict'>\n",
            "Typ danych wejściowych to: <class 'dict'>\n"
          ]
        }
      ]
    },
    {
      "cell_type": "code",
      "source": [
        "def measure(func, *args, **kwargs):\n",
        "  t  = time()\n",
        "  func(*args, **kwargs)\n",
        "  print(f\"Fukncja {func.__name__}, trwała: {time() - t}\")"
      ],
      "metadata": {
        "id": "z-2KHtfCb5YW"
      },
      "execution_count": 39,
      "outputs": []
    },
    {
      "cell_type": "code",
      "source": [
        "measure(f, 2)\n",
        "\n",
        "measure(f, sleep_time=2)"
      ],
      "metadata": {
        "colab": {
          "base_uri": "https://localhost:8080/"
        },
        "id": "AnedsqfxcGQj",
        "outputId": "e5cfc080-10ae-44eb-8275-bdb480128bd5"
      },
      "execution_count": 40,
      "outputs": [
        {
          "output_type": "stream",
          "name": "stdout",
          "text": [
            "Fukncja f, trwała: 2.000309944152832\n",
            "Fukncja f, trwała: 2.002084493637085\n"
          ]
        }
      ]
    },
    {
      "cell_type": "code",
      "source": [
        "dodaj(1, 2, 3, 4, 5)\n",
        "\n",
        "wynik = suma_liczb -> dodaj(1, 2, 3, 4, 5)"
      ],
      "metadata": {
        "id": "0tfo2hzhcohf"
      },
      "execution_count": null,
      "outputs": []
    },
    {
      "cell_type": "code",
      "source": [
        "def dodaj(*liczby):\n",
        "  suma = 0;\n",
        "  for liczba in liczby:\n",
        "    suma = suma + liczba\n",
        "\n",
        "  print(f\"wynik = {suma} -> dodaj{liczby}\")\n",
        "\n",
        "dodaj(1, 2, 3, 4, 5)\n",
        "\n",
        "dodaj(4, 5)"
      ],
      "metadata": {
        "colab": {
          "base_uri": "https://localhost:8080/"
        },
        "id": "CpORK8-7dHhb",
        "outputId": "4471a234-9dec-4172-b347-570643c9a777"
      },
      "execution_count": 43,
      "outputs": [
        {
          "output_type": "stream",
          "name": "stdout",
          "text": [
            "wynik = 15 -> dodaj(1, 2, 3, 4, 5)\n",
            "wynik = 9 -> dodaj(4, 5)\n"
          ]
        }
      ]
    },
    {
      "cell_type": "code",
      "source": [
        "def measure(func):\n",
        "  def inner(*args, **kwargs):\n",
        "    '''Funkcja wewnętrzna'''\n",
        "    t  = time()\n",
        "    func(*args, **kwargs)\n",
        "    print(f\"Fukncja {func.__name__}, trwała: {time() - t}\")\n",
        "  return inner\n",
        "\n",
        "@measure\n",
        "def f(sleep_time=1):\n",
        "  sleep(sleep_time)"
      ],
      "metadata": {
        "id": "aH3x8VVafJPd"
      },
      "execution_count": 49,
      "outputs": []
    },
    {
      "cell_type": "code",
      "source": [
        "f(2)\n",
        "f(3)"
      ],
      "metadata": {
        "colab": {
          "base_uri": "https://localhost:8080/"
        },
        "id": "h1xqi7gsfeL6",
        "outputId": "e2a69aee-845c-4d49-de22-82559f2d4bc5"
      },
      "execution_count": 45,
      "outputs": [
        {
          "output_type": "stream",
          "name": "stdout",
          "text": [
            "Fukncja f, trwała: 2.002957582473755\n",
            "Fukncja f, trwała: 3.0031073093414307\n"
          ]
        }
      ]
    },
    {
      "cell_type": "code",
      "source": [
        "@measure\n",
        "def f(sleep_time=1):\n",
        "  '''Jestem kotem i lubię spać !!!'''\n",
        "  sleep(sleep_time)"
      ],
      "metadata": {
        "id": "Jakv02PAft4B"
      },
      "execution_count": 46,
      "outputs": []
    },
    {
      "cell_type": "code",
      "source": [
        "f(3)\n",
        "print(f\"{f.__name__}, {f.__doc__}\")"
      ],
      "metadata": {
        "colab": {
          "base_uri": "https://localhost:8080/"
        },
        "id": "SKOJknAVf1FM",
        "outputId": "3d4f52ba-0d7d-436c-cfcc-f9858188b198"
      },
      "execution_count": 50,
      "outputs": [
        {
          "output_type": "stream",
          "name": "stdout",
          "text": [
            "Fukncja f, trwała: 3.0031423568725586\n",
            "inner, Funkcja wewnętrzna\n"
          ]
        }
      ]
    },
    {
      "cell_type": "code",
      "source": [
        "def make_bold(func):\n",
        "  def inner():\n",
        "    return \"<b>\" + func() + \"</b>\"\n",
        "  return inner\n",
        "\n",
        "def make_italic(func):\n",
        "  def inner():\n",
        "    return \"<i>\" + func() + \"</i>\"\n",
        "  return inner  \n",
        "\n",
        "def make_underline(func):\n",
        "  def inner():\n",
        "    return \"<u>\" + func() + \"</u>\"\n",
        "  return inner  "
      ],
      "metadata": {
        "id": "cmoyS4DEjCOk"
      },
      "execution_count": 51,
      "outputs": []
    },
    {
      "cell_type": "code",
      "source": [
        "@make_bold\n",
        "@make_italic\n",
        "@make_underline\n",
        "def hello():\n",
        "  return \"Tekst pogrubiony, pochylony oraz podkreślony\"\n",
        "\n",
        "print(hello())\n",
        "# <b><i><u>Tekst pogrubiony, pochylony oraz podkreślony</u></i></b>\n"
      ],
      "metadata": {
        "colab": {
          "base_uri": "https://localhost:8080/"
        },
        "id": "5jW14Da3gfka",
        "outputId": "ac117a3d-890d-4419-acbe-4c5c4e557e1d"
      },
      "execution_count": 54,
      "outputs": [
        {
          "output_type": "stream",
          "name": "stdout",
          "text": [
            "<b><i><u>Tekst pogrubiony, pochylony oraz podkreślony</u></i></b>\n"
          ]
        }
      ]
    },
    {
      "cell_type": "code",
      "source": [
        "from functools import wraps\n",
        "\n",
        "def measure(func):\n",
        "  @wraps(func)\n",
        "  def inner(*args, **kwargs):\n",
        "    '''Funkcja wewnętrzna'''\n",
        "    t  = time()\n",
        "    func(*args, **kwargs)\n",
        "    print(f\"Fukncja {func.__name__}, trwała: {time() - t}\")\n",
        "  return inner\n",
        "\n",
        "@measure\n",
        "def f(sleep_time=1):\n",
        "  '''Jestem kotem i lubię spać !!!'''\n",
        "  sleep(sleep_time)\n",
        "\n",
        "print(f\"{f.__name__}, {f.__doc__}\")  "
      ],
      "metadata": {
        "colab": {
          "base_uri": "https://localhost:8080/"
        },
        "id": "D8hKIlQXjg_P",
        "outputId": "4537bd38-d065-4000-d53f-0be06fb4357d"
      },
      "execution_count": 57,
      "outputs": [
        {
          "output_type": "stream",
          "name": "stdout",
          "text": [
            "f, Jestem kotem i lubię spać !!!\n"
          ]
        }
      ]
    },
    {
      "cell_type": "code",
      "source": [
        "@measure\n",
        "class Jakas(object):\n",
        "  def __init__():\n",
        "    sleep(1)\n",
        "\n"
      ],
      "metadata": {
        "id": "WjVr6zoGkndq"
      },
      "execution_count": 59,
      "outputs": []
    },
    {
      "cell_type": "code",
      "source": [
        "jakas = Jakas()"
      ],
      "metadata": {
        "id": "34qG_Yk8lAkr"
      },
      "execution_count": null,
      "outputs": []
    },
    {
      "cell_type": "code",
      "source": [
        "#__call__(parametry_dekoratora, funkcja, parametry_funkcji)   parametry_funkcji = *tuple, **dictionary\n",
        "\n",
        "class Power(object):\n",
        "  def __init__(self, arg):\n",
        "    self._arg = arg\n",
        "\n",
        "  def __call__(self, *params):\n",
        "    if len(params) == 1:\n",
        "      def wrapper(a, b):\n",
        "        retval = params[0](a, b)\n",
        "        return retval ** self._arg\n",
        "      return wrapper\n",
        "    else:\n",
        "      exp = 2\n",
        "      retval = self._arg(params[0], params[1])\n",
        "      return retval ** exp"
      ],
      "metadata": {
        "id": "ChhDyFJRlj4e"
      },
      "execution_count": 60,
      "outputs": []
    },
    {
      "cell_type": "code",
      "source": [
        "@Power\n",
        "def multiply2(a, b):\n",
        "  return a * b\n",
        "\n",
        "@Power(3)\n",
        "def multiply3(a, b):\n",
        "  return a * b\n",
        "\n",
        "\n",
        "print(multiply2(2, 2))\n",
        "print(multiply3(2, 2))"
      ],
      "metadata": {
        "colab": {
          "base_uri": "https://localhost:8080/"
        },
        "id": "EN-zaIVwmgVv",
        "outputId": "3711b7eb-5649-4d5b-afac-f556317281e7"
      },
      "execution_count": 63,
      "outputs": [
        {
          "output_type": "stream",
          "name": "stdout",
          "text": [
            "16\n",
            "64\n"
          ]
        }
      ]
    },
    {
      "cell_type": "code",
      "source": [
        "class Power(object):\n",
        "  def __init__(self, arg):\n",
        "    self._arg = arg\n",
        "\n",
        "  def __call__(self, a, b):\n",
        "    retval = self._arg(a, b)\n",
        "    return retval ** 2\n",
        "\n",
        "@Power\n",
        "def multiply(a, b):\n",
        "  return a * b\n",
        "\n",
        "print(multiply(2, 3))\n",
        "print(multiply(3, 3))\n",
        "print(multiply(2, 2))\n",
        "\n",
        "#__call__(parametry_dekoratora, funkcja, parametry_funkcji)   parametry_funkcji = *tuple, **dictionary"
      ],
      "metadata": {
        "colab": {
          "base_uri": "https://localhost:8080/"
        },
        "id": "FNVF3YSZriVM",
        "outputId": "d974b607-bedb-4e65-ec5c-5f97dbf49b3c"
      },
      "execution_count": 65,
      "outputs": [
        {
          "output_type": "stream",
          "name": "stdout",
          "text": [
            "36\n",
            "81\n",
            "16\n"
          ]
        }
      ]
    },
    {
      "cell_type": "code",
      "source": [
        "class Power(object):\n",
        "  def __init__(self, arg):\n",
        "    self._arg = arg\n",
        "    self._memory = []\n",
        "\n",
        "  def __call__(self, a, b):\n",
        "    retval = self._arg(a, b)\n",
        "    self._memory.append(retval ** 2)\n",
        "    return retval ** 2\n",
        "\n",
        "  @property           # trzeba zakomentować aby odwołaś się do funkcji\n",
        "  def memory(self):\n",
        "    return self._memory\n",
        "\n",
        "@Power\n",
        "def multiply(a, b):\n",
        "  return a * b\n",
        "\n",
        "print(multiply(2, 3))\n",
        "print(multiply(3, 3))\n",
        "print(multiply(2, 2))\n",
        "\n",
        "#print(multiply.memory())\n",
        "\n",
        "print(multiply.memory)"
      ],
      "metadata": {
        "colab": {
          "base_uri": "https://localhost:8080/"
        },
        "id": "Tz9NEyEmur6k",
        "outputId": "5ad95633-ab15-4b12-9119-d85acaa7039a"
      },
      "execution_count": 69,
      "outputs": [
        {
          "output_type": "stream",
          "name": "stdout",
          "text": [
            "36\n",
            "81\n",
            "16\n",
            "[36, 81, 16]\n"
          ]
        }
      ]
    },
    {
      "cell_type": "code",
      "source": [
        "def tictoc(func):\n",
        "  def tic():\n",
        "    import time\n",
        "    global startTime_for_tictoc\n",
        "    startTime_for_tictoc = time.time()\n",
        "  def toc():\n",
        "    import time\n",
        "    if 'startTime_for_tictoc' in globals():\n",
        "        print(\"Elapsed time is \" + str(time.time() - startTime_for_tictoc) + \" seconds.\")\n",
        "    else:\n",
        "        print(\"Toc: start time not set\")\n",
        "  def wrapper(ref = None):\n",
        "    tic()\n",
        "    if ref == None:\n",
        "      func()\n",
        "    else:\n",
        "      func(ref)\n",
        "    toc()\n",
        "  return wrapper\n",
        "\n",
        "@tictoc\n",
        "def test():\n",
        "  print(\"test działania dekoratora mierzącego czas wykonania\")    \n",
        "\n",
        "test()"
      ],
      "metadata": {
        "colab": {
          "base_uri": "https://localhost:8080/"
        },
        "id": "HLnrMd31x1us",
        "outputId": "ec676c58-dbe7-44dc-8dc7-fa5b6f8e9d2d"
      },
      "execution_count": 72,
      "outputs": [
        {
          "output_type": "stream",
          "name": "stdout",
          "text": [
            "test działania dekoratora mierzącego czas wykonania\n",
            "Elapsed time is 0.00010609626770019531 seconds.\n"
          ]
        }
      ]
    },
    {
      "cell_type": "code",
      "source": [
        "class Jakas(object):\n",
        "  @tictoc\n",
        "  def A(self):\n",
        "    print(\"Uruchamiam funkcję A\")\n",
        "    sleep(1)\n",
        "\n",
        "j = Jakas()\n",
        "j.A()    "
      ],
      "metadata": {
        "colab": {
          "base_uri": "https://localhost:8080/"
        },
        "id": "Tn1ToLJFyX6x",
        "outputId": "0fb03609-c0ca-402d-c7e8-b1420f064b0e"
      },
      "execution_count": 73,
      "outputs": [
        {
          "output_type": "stream",
          "name": "stdout",
          "text": [
            "Uruchamiam funkcję A\n",
            "Elapsed time is 1.0011868476867676 seconds.\n"
          ]
        }
      ]
    },
    {
      "cell_type": "code",
      "source": [
        "def tictoc_class(cls):\n",
        "  class NewClass(object):\n",
        "    def __init__(self, *args, ** kwargs):\n",
        "      self.class_instance = cls(*args, ** kwargs)\n",
        "\n",
        "    def __getattribute__(self, str):\n",
        "        try:\n",
        "          x = super(NewClass, self).__getattribute__(str) \n",
        "        except AttributeError:\n",
        "          pass\n",
        "        else:\n",
        "          return x\n",
        "        x = self.class_instance.__getattribute__(str)\n",
        "        if type(x) == type(self.__init__):\n",
        "          return tictoc(x)\n",
        "        else:\n",
        "          return x\n",
        "  return NewClass"
      ],
      "metadata": {
        "id": "gJOAxO_izaBg"
      },
      "execution_count": 82,
      "outputs": []
    },
    {
      "cell_type": "code",
      "source": [
        "@tictoc_class\n",
        "class Jakas(object):\n",
        "  def A(self, a):\n",
        "    sleep(2)\n",
        "\n",
        "  def B(self):\n",
        "    sleep(1)\n",
        "\n",
        "j = Jakas()\n",
        "j.A(4)\n",
        "j.B()\n"
      ],
      "metadata": {
        "colab": {
          "base_uri": "https://localhost:8080/"
        },
        "id": "CJJcZHJd5IEy",
        "outputId": "b306b25a-225e-41a2-d809-a2c32ff03eb9"
      },
      "execution_count": 85,
      "outputs": [
        {
          "output_type": "stream",
          "name": "stdout",
          "text": [
            "Elapsed time is 2.0020751953125 seconds.\n",
            "Elapsed time is 1.0011231899261475 seconds.\n"
          ]
        }
      ]
    },
    {
      "cell_type": "code",
      "source": [
        "def informacja(func):  \n",
        "  def inner(ref = None, *args):    \n",
        "    if len(args) > 0:\n",
        "      print(f\"Informacja: {func.__name__}{args}\")          \n",
        "    else:\n",
        "      print(f\"Informacja: {func.__name__}()\")\n",
        "    if (ref == None):\n",
        "      func()\n",
        "    else:\n",
        "      func(ref, *args)\n",
        "  return inner"
      ],
      "metadata": {
        "id": "-N2wSEmx5isi"
      },
      "execution_count": 102,
      "outputs": []
    },
    {
      "cell_type": "code",
      "source": [
        "class Jakas(object):\n",
        "  @informacja\n",
        "  def A(self, a):\n",
        "    sleep(1)\n",
        "\n",
        "  @informacja\n",
        "  def B(self):\n",
        "    sleep(1)\n",
        "\n",
        "j = Jakas()\n",
        "j.A(5)\n",
        "j.B()\n",
        "\n",
        "#Informacja: A(5)\n",
        "#Informacja: B()"
      ],
      "metadata": {
        "colab": {
          "base_uri": "https://localhost:8080/"
        },
        "id": "6hF80gGH0wuN",
        "outputId": "af32150c-43d6-4240-85f1-3631306cccc4"
      },
      "execution_count": 103,
      "outputs": [
        {
          "output_type": "stream",
          "name": "stdout",
          "text": [
            "Informacja: A(5,)\n",
            "Informacja: B()\n"
          ]
        }
      ]
    },
    {
      "cell_type": "code",
      "source": [
        "j = Jakas()"
      ],
      "metadata": {
        "id": "RRkdFvjU07je"
      },
      "execution_count": 104,
      "outputs": []
    },
    {
      "cell_type": "markdown",
      "source": [
        "# GENERATORY"
      ],
      "metadata": {
        "id": "fDicsjTK79g0"
      }
    },
    {
      "cell_type": "code",
      "source": [
        "def get_squares(n):\n",
        "  return [x ** 2 for x in range(n)]"
      ],
      "metadata": {
        "id": "wjaAGtMu7_2u"
      },
      "execution_count": 105,
      "outputs": []
    },
    {
      "cell_type": "code",
      "source": [
        "print(get_squares(10))"
      ],
      "metadata": {
        "colab": {
          "base_uri": "https://localhost:8080/"
        },
        "id": "6fErqwwL8M3s",
        "outputId": "17ea819f-66de-47bd-d863-87eadf763231"
      },
      "execution_count": 106,
      "outputs": [
        {
          "output_type": "stream",
          "name": "stdout",
          "text": [
            "[0, 1, 4, 9, 16, 25, 36, 49, 64, 81]\n"
          ]
        }
      ]
    },
    {
      "cell_type": "code",
      "source": [
        "def get_squares_gen(n):\n",
        "  for x in range(n):\n",
        "    yield x ** 2"
      ],
      "metadata": {
        "id": "CoGXq8xp8RZP"
      },
      "execution_count": 107,
      "outputs": []
    },
    {
      "cell_type": "code",
      "source": [
        "print(list(get_squares_gen(10)))"
      ],
      "metadata": {
        "colab": {
          "base_uri": "https://localhost:8080/"
        },
        "id": "OXyKc3E88bF3",
        "outputId": "d86dd4ef-997f-465c-8b4c-0c77ec50d40a"
      },
      "execution_count": 108,
      "outputs": [
        {
          "output_type": "stream",
          "name": "stdout",
          "text": [
            "[0, 1, 4, 9, 16, 25, 36, 49, 64, 81]\n"
          ]
        }
      ]
    },
    {
      "cell_type": "code",
      "source": [
        "squres = get_squares_gen(10)\n",
        "sqr = get_squares(10)"
      ],
      "metadata": {
        "id": "SfDHQ-tC8jgG"
      },
      "execution_count": 110,
      "outputs": []
    },
    {
      "cell_type": "code",
      "source": [
        "print(squres)\n",
        "print(sqr)"
      ],
      "metadata": {
        "colab": {
          "base_uri": "https://localhost:8080/"
        },
        "id": "18lpRmBb8qNI",
        "outputId": "895b972b-fa5f-4aa8-e58b-393d928a4ab2"
      },
      "execution_count": 111,
      "outputs": [
        {
          "output_type": "stream",
          "name": "stdout",
          "text": [
            "<generator object get_squares_gen at 0x7f891300e4d0>\n",
            "[0, 1, 4, 9, 16, 25, 36, 49, 64, 81]\n"
          ]
        }
      ]
    },
    {
      "cell_type": "code",
      "source": [
        "print(next(squres))\n",
        "print(next(squres))\n",
        "print(next(squres))\n",
        "print(next(squres))\n",
        "print(next(squres))\n",
        "print(next(squres))\n",
        "print(next(squres))\n",
        "print(next(squres))\n",
        "print(next(squres))"
      ],
      "metadata": {
        "colab": {
          "base_uri": "https://localhost:8080/"
        },
        "id": "NWJQWsg_83RE",
        "outputId": "35e0d76d-f9ed-492c-c27f-0c3b529cd147"
      },
      "execution_count": 112,
      "outputs": [
        {
          "output_type": "stream",
          "name": "stdout",
          "text": [
            "0\n",
            "1\n",
            "4\n",
            "9\n",
            "16\n",
            "25\n",
            "36\n",
            "49\n",
            "64\n"
          ]
        }
      ]
    },
    {
      "cell_type": "code",
      "source": [
        "print(next(squres))"
      ],
      "metadata": {
        "colab": {
          "base_uri": "https://localhost:8080/"
        },
        "id": "j6F2J5lW9B-p",
        "outputId": "c82e07b6-8ab6-4a34-c46b-7ed46839cd3f"
      },
      "execution_count": 113,
      "outputs": [
        {
          "output_type": "stream",
          "name": "stdout",
          "text": [
            "81\n"
          ]
        }
      ]
    },
    {
      "cell_type": "code",
      "source": [
        "print(next(squres))"
      ],
      "metadata": {
        "colab": {
          "base_uri": "https://localhost:8080/",
          "height": 170
        },
        "id": "SZS5zgbF9Dn-",
        "outputId": "e9d07e6f-f693-4761-cc21-85a50f2f2cf3"
      },
      "execution_count": 114,
      "outputs": [
        {
          "output_type": "error",
          "ename": "StopIteration",
          "evalue": "ignored",
          "traceback": [
            "\u001b[0;31m---------------------------------------------------------------------------\u001b[0m",
            "\u001b[0;31mStopIteration\u001b[0m                             Traceback (most recent call last)",
            "\u001b[0;32m<ipython-input-114-56fe105fb375>\u001b[0m in \u001b[0;36m<module>\u001b[0;34m()\u001b[0m\n\u001b[0;32m----> 1\u001b[0;31m \u001b[0mprint\u001b[0m\u001b[0;34m(\u001b[0m\u001b[0mnext\u001b[0m\u001b[0;34m(\u001b[0m\u001b[0msqures\u001b[0m\u001b[0;34m)\u001b[0m\u001b[0;34m)\u001b[0m\u001b[0;34m\u001b[0m\u001b[0;34m\u001b[0m\u001b[0m\n\u001b[0m",
            "\u001b[0;31mStopIteration\u001b[0m: "
          ]
        }
      ]
    },
    {
      "cell_type": "code",
      "source": [
        "squres = get_squares_gen(4)\n",
        "dir(squres)"
      ],
      "metadata": {
        "colab": {
          "base_uri": "https://localhost:8080/"
        },
        "id": "swigKybu9OI7",
        "outputId": "51792c73-08d4-4e45-fcee-f388fb1cc078"
      },
      "execution_count": 119,
      "outputs": [
        {
          "output_type": "execute_result",
          "data": {
            "text/plain": [
              "['__class__',\n",
              " '__del__',\n",
              " '__delattr__',\n",
              " '__dir__',\n",
              " '__doc__',\n",
              " '__eq__',\n",
              " '__format__',\n",
              " '__ge__',\n",
              " '__getattribute__',\n",
              " '__gt__',\n",
              " '__hash__',\n",
              " '__init__',\n",
              " '__init_subclass__',\n",
              " '__iter__',\n",
              " '__le__',\n",
              " '__lt__',\n",
              " '__name__',\n",
              " '__ne__',\n",
              " '__new__',\n",
              " '__next__',\n",
              " '__qualname__',\n",
              " '__reduce__',\n",
              " '__reduce_ex__',\n",
              " '__repr__',\n",
              " '__setattr__',\n",
              " '__sizeof__',\n",
              " '__str__',\n",
              " '__subclasshook__',\n",
              " 'close',\n",
              " 'gi_code',\n",
              " 'gi_frame',\n",
              " 'gi_running',\n",
              " 'gi_yieldfrom',\n",
              " 'send',\n",
              " 'throw']"
            ]
          },
          "metadata": {},
          "execution_count": 119
        }
      ]
    },
    {
      "cell_type": "code",
      "source": [
        "print(next(squres))\n",
        "print(squres.__next__())"
      ],
      "metadata": {
        "colab": {
          "base_uri": "https://localhost:8080/"
        },
        "id": "x7fWbCoh9Zv5",
        "outputId": "cfae039a-922f-42ba-f868-3f8f3a26b8fe"
      },
      "execution_count": 120,
      "outputs": [
        {
          "output_type": "stream",
          "name": "stdout",
          "text": [
            "0\n",
            "1\n"
          ]
        }
      ]
    },
    {
      "cell_type": "code",
      "source": [
        "def get_letter():\n",
        "  for i in range(26):\n",
        "    yield chr(ord('A') + i)\n",
        "\n",
        "print(list(get_letter()))"
      ],
      "metadata": {
        "colab": {
          "base_uri": "https://localhost:8080/"
        },
        "id": "_eSJssx390Uy",
        "outputId": "c56d8712-dc7e-4c1f-8222-c6b3b6f5a845"
      },
      "execution_count": 121,
      "outputs": [
        {
          "output_type": "stream",
          "name": "stdout",
          "text": [
            "['A', 'B', 'C', 'D', 'E', 'F', 'G', 'H', 'I', 'J', 'K', 'L', 'M', 'N', 'O', 'P', 'Q', 'R', 'S', 'T', 'U', 'V', 'W', 'X', 'Y', 'Z']\n"
          ]
        }
      ]
    },
    {
      "cell_type": "code",
      "source": [
        "def zakres(a, b):\n",
        "  for i in range(a, b):\n",
        "    yield i\n",
        "\n",
        "print(list(zakres(2, 10)))"
      ],
      "metadata": {
        "colab": {
          "base_uri": "https://localhost:8080/"
        },
        "id": "KPRiPyjr-tM-",
        "outputId": "805daf3e-1ce1-4b24-99d5-e4e84a479a18"
      },
      "execution_count": 122,
      "outputs": [
        {
          "output_type": "stream",
          "name": "stdout",
          "text": [
            "[2, 3, 4, 5, 6, 7, 8, 9]\n"
          ]
        }
      ]
    },
    {
      "cell_type": "code",
      "source": [
        "def geometric(a, q):\n",
        "  k = 0\n",
        "  while True:\n",
        "    result = a * q ** k\n",
        "    if result <= 100000:\n",
        "      yield result\n",
        "    else:\n",
        "      return\n",
        "    k = k + 1\n",
        "\n",
        "\n",
        "for i in geometric(2, 5):\n",
        "  print(i)"
      ],
      "metadata": {
        "colab": {
          "base_uri": "https://localhost:8080/"
        },
        "id": "klDvbqIi_GJR",
        "outputId": "20757f3b-23e1-4e5c-b408-bbf5382cc553"
      },
      "execution_count": 123,
      "outputs": [
        {
          "output_type": "stream",
          "name": "stdout",
          "text": [
            "2\n",
            "10\n",
            "50\n",
            "250\n",
            "1250\n",
            "6250\n",
            "31250\n"
          ]
        }
      ]
    },
    {
      "cell_type": "code",
      "source": [
        "languages = ['Java', 'JavaScript', 'C#', 'Python']\n",
        "version = ['17', '7', '7', '3']\n",
        "\n",
        "result = zip(languages, version)\n",
        "\n",
        "print(list(result))"
      ],
      "metadata": {
        "colab": {
          "base_uri": "https://localhost:8080/"
        },
        "id": "0Q-_O0y7HGhX",
        "outputId": "851ae426-84d1-4f3a-dc62-cd66764b2595"
      },
      "execution_count": 126,
      "outputs": [
        {
          "output_type": "stream",
          "name": "stdout",
          "text": [
            "[('Java', '17'), ('JavaScript', '7'), ('C#', '7'), ('Python', '3')]\n"
          ]
        }
      ]
    },
    {
      "cell_type": "code",
      "source": [
        "numberList = [1, 2, 3]\n",
        "strList = ['raz', 'dwa']\n",
        "tupleList = ('RAZ', 'DWA', 'TRZY', 'CZTERY')\n",
        "\n",
        "result = zip(numberList, tupleList)\n",
        "print(set(result))"
      ],
      "metadata": {
        "colab": {
          "base_uri": "https://localhost:8080/"
        },
        "id": "H6sxXyxAHzYM",
        "outputId": "763726af-1871-451e-e490-582536e5c48c"
      },
      "execution_count": 127,
      "outputs": [
        {
          "output_type": "stream",
          "name": "stdout",
          "text": [
            "{(2, 'DWA'), (1, 'RAZ'), (3, 'TRZY')}\n"
          ]
        }
      ]
    },
    {
      "cell_type": "code",
      "source": [
        "result = zip(numberList, tupleList, strList)\n",
        "print(set(result))"
      ],
      "metadata": {
        "colab": {
          "base_uri": "https://localhost:8080/"
        },
        "id": "-RpbNm9EIMaq",
        "outputId": "45fbb614-9147-49de-e051-851a2a1ccb5a"
      },
      "execution_count": 129,
      "outputs": [
        {
          "output_type": "stream",
          "name": "stdout",
          "text": [
            "{(1, 'RAZ', 'raz'), (2, 'DWA', 'dwa')}\n"
          ]
        }
      ]
    },
    {
      "cell_type": "code",
      "source": [
        "coordinate = ['x', 'y', 'z']\n",
        "value = [1, 2, 3]\n",
        "\n",
        "result = zip(coordinate, value)\n",
        "resultList = list(result)\n",
        "print(resultList)"
      ],
      "metadata": {
        "colab": {
          "base_uri": "https://localhost:8080/"
        },
        "id": "MNVN1h5WIRYD",
        "outputId": "bf28d755-4c5d-4399-8b68-c826ff544df2"
      },
      "execution_count": 130,
      "outputs": [
        {
          "output_type": "stream",
          "name": "stdout",
          "text": [
            "[('x', 1), ('y', 2), ('z', 3)]\n"
          ]
        }
      ]
    },
    {
      "cell_type": "code",
      "source": [
        "c, v = zip(*resultList)\n",
        "print(f\"c = {c}\")\n",
        "print(f\"v = {v}\")"
      ],
      "metadata": {
        "colab": {
          "base_uri": "https://localhost:8080/"
        },
        "id": "KPiR61GzIpcr",
        "outputId": "0ccea080-2504-45dc-8019-d567a16c8e50"
      },
      "execution_count": 131,
      "outputs": [
        {
          "output_type": "stream",
          "name": "stdout",
          "text": [
            "c = ('x', 'y', 'z')\n",
            "v = (1, 2, 3)\n"
          ]
        }
      ]
    },
    {
      "cell_type": "code",
      "source": [
        "def suma(*n):\n",
        "  return sum(n)"
      ],
      "metadata": {
        "id": "hLi4aFr5I__D"
      },
      "execution_count": 132,
      "outputs": []
    },
    {
      "cell_type": "code",
      "source": [
        "s1 = sum(suma(*n) for n in zip(range(100), range(1, 101)))\n",
        "print(s1)"
      ],
      "metadata": {
        "colab": {
          "base_uri": "https://localhost:8080/"
        },
        "id": "UXdHv7yEJL4G",
        "outputId": "080fa595-e4d1-454a-b744-ba332dedb3cd"
      },
      "execution_count": 133,
      "outputs": [
        {
          "output_type": "stream",
          "name": "stdout",
          "text": [
            "10000\n"
          ]
        }
      ]
    },
    {
      "cell_type": "code",
      "source": [
        "s2 = sum(map(lambda n: suma(*n), zip(range(100), range(1, 101))))\n",
        "print(s2)"
      ],
      "metadata": {
        "colab": {
          "base_uri": "https://localhost:8080/"
        },
        "id": "CTf3rEwQJeyb",
        "outputId": "035345de-cb74-4199-a8fc-6debf7d53405"
      },
      "execution_count": 134,
      "outputs": [
        {
          "output_type": "stream",
          "name": "stdout",
          "text": [
            "10000\n"
          ]
        }
      ]
    },
    {
      "cell_type": "code",
      "source": [
        "from time import time"
      ],
      "metadata": {
        "id": "aEgZxp9tKGk6"
      },
      "execution_count": 135,
      "outputs": []
    },
    {
      "cell_type": "code",
      "source": [
        "mx = 2 * 10 ** 7\n",
        "\n",
        "t = time()\n",
        "absloop = []\n",
        "for n in range(mx):\n",
        "  absloop.append(abs(n))\n",
        "print(f\"for loop: {time() - t}\")\n",
        "\n",
        "t = time()\n",
        "abslist = [abs(n) for n in range(mx)]\n",
        "print(f\"list: {time() - t}\")\n",
        "\n",
        "t = time()\n",
        "absmap = list(map(abs, range(mx)))\n",
        "print(f\"map: {time() - t}\")\n",
        "\n",
        "print(absloop == abslist == absmap)"
      ],
      "metadata": {
        "colab": {
          "base_uri": "https://localhost:8080/"
        },
        "id": "_4J5-lmzKKtp",
        "outputId": "b001d837-415e-4cb1-a1c7-35cebcc008bb"
      },
      "execution_count": 137,
      "outputs": [
        {
          "output_type": "stream",
          "name": "stdout",
          "text": [
            "for loop: 4.66867995262146\n",
            "list: 2.5268008708953857\n",
            "map: 1.8969264030456543\n",
            "True\n"
          ]
        }
      ]
    },
    {
      "cell_type": "code",
      "source": [
        "N = 20\n",
        "#(n, n**3 ale tylko gdy n podzielne przez 3 lub 5)\n",
        "\n",
        "szList = ((n, n**3) for n in range(N) if n % 3 == 0 or n % 5 == 0)\n",
        "print(list(szList))\n",
        "\n",
        "szMap = map(lambda n: (n, n**3), filter(lambda n: n % 3 == 0 or n % 5 == 0, range(N)))\n",
        "print(list(szMap))"
      ],
      "metadata": {
        "colab": {
          "base_uri": "https://localhost:8080/"
        },
        "id": "xKLPg2rZLd1i",
        "outputId": "d1ecd2ea-d47a-471a-91b8-37f2cf11ed6e"
      },
      "execution_count": 139,
      "outputs": [
        {
          "output_type": "stream",
          "name": "stdout",
          "text": [
            "[(0, 0), (3, 27), (5, 125), (6, 216), (9, 729), (10, 1000), (12, 1728), (15, 3375), (18, 5832)]\n",
            "[(0, 0), (3, 27), (5, 125), (6, 216), (9, 729), (10, 1000), (12, 1728), (15, 3375), (18, 5832)]\n"
          ]
        }
      ]
    },
    {
      "cell_type": "code",
      "source": [
        "class OddEven:\n",
        "  def __init__(self, data):\n",
        "    self._data = data\n",
        "    self.indexes = (list(range(0, len(data), 2)) + list(range(1, len(data), 2)))\n",
        "\n",
        "  def __iter__(self):\n",
        "    return self\n",
        "\n",
        "  def __next__(self):\n",
        "    if self.indexes:\n",
        "      return self._data[self.indexes.pop(0)]\n",
        "    raise StopIteration"
      ],
      "metadata": {
        "id": "xC5szKMROiMJ"
      },
      "execution_count": 140,
      "outputs": []
    },
    {
      "cell_type": "code",
      "source": [
        "oddeven = OddEven(\"NaPiSmAlYmIiDuŻyMi\")\n",
        "\n",
        "print(list([c for c in oddeven]))"
      ],
      "metadata": {
        "colab": {
          "base_uri": "https://localhost:8080/"
        },
        "id": "kbrQ0NUTPfEH",
        "outputId": "631d55fd-a594-4527-fc89-ba3d07228432"
      },
      "execution_count": 141,
      "outputs": [
        {
          "output_type": "stream",
          "name": "stdout",
          "text": [
            "['N', 'P', 'S', 'A', 'Y', 'I', 'D', 'Ż', 'M', 'a', 'i', 'm', 'l', 'm', 'i', 'u', 'y', 'i']\n"
          ]
        }
      ]
    },
    {
      "cell_type": "code",
      "source": [
        "# przygotowanie katalogu roboczego do pracy :)\n",
        "import requests\n",
        "\n",
        "def pobierzPlik(url, nazwaPliku):\n",
        "    req = requests.get(url, stream=True)\n",
        "    with open(nazwaPliku, 'wb') as uchwytPliku:\n",
        "        for chunk in req.iter_content():\n",
        "            uchwytPliku.write(chunk)\n",
        "\n",
        "nazwyPlikow = ['alice.txt']\n",
        "for nazwa in nazwyPlikow:\n",
        "  pobierzPlik(\"https://github.com/rroszczyk/Python/raw/master/Pliki/\"+nazwa, nazwa)\n",
        "\n",
        "\n",
        "fileName = 'alice.txt'\n",
        "\n",
        "with open(fileName) as f_obj:\n",
        "  contents = f_obj.read()\n",
        "\n",
        "words = contents.split()\n",
        "\n",
        "wordsCounter = {}\n",
        "\n",
        "for word in words:\n",
        "  if len(word) > 3:\n",
        "    if word in wordsCounter:\n",
        "      wordsCounter[word] = wordsCounter[word] + 1\n",
        "    else:\n",
        "      wordsCounter[word] = 1\n",
        "\n",
        "sortedWordsCounter = dict(sorted(wordsCounter.items(), key = lambda kv:(kv[1], kv[0]), reverse=True))\n",
        "\n",
        "print(\"\\nTop 10 words\")\n",
        "iterator = iter(sortedWordsCounter.items())\n",
        "for i in range(10):\n",
        "    print(next(iterator))"
      ],
      "metadata": {
        "colab": {
          "base_uri": "https://localhost:8080/"
        },
        "id": "kp_WqhvzQd59",
        "outputId": "0cbd767f-a0ad-40d1-8b05-c2e77876e658"
      },
      "execution_count": 143,
      "outputs": [
        {
          "output_type": "stream",
          "name": "stdout",
          "text": [
            "\n",
            "Top 10 words\n",
            "('said', 416)\n",
            "('that', 226)\n",
            "('Alice', 221)\n",
            "('with', 214)\n",
            "('very', 127)\n",
            "('this', 122)\n",
            "('little', 117)\n",
            "('they', 109)\n",
            "('about', 91)\n",
            "('what', 86)\n"
          ]
        }
      ]
    },
    {
      "cell_type": "code",
      "source": [
        "class Alice(object):\n",
        "  def __init__(self):\n",
        "    with open(fileName) as f_obj:\n",
        "      contents = f_obj.read()\n",
        "\n",
        "    words = contents.split()\n",
        "    wordsCounter = {}\n",
        "\n",
        "    for word in words:\n",
        "      if len(word) > 3:\n",
        "        if word in wordsCounter:\n",
        "          wordsCounter[word] = wordsCounter[word] + 1\n",
        "        else:\n",
        "          wordsCounter[word] = 1\n",
        "\n",
        "    sortedWordsCounter = dict(sorted(wordsCounter.items(), key = lambda kv:(kv[1], kv[0]), reverse=True))\n",
        "    self._iterator = iter(sortedWordsCounter.keys())\n",
        "    self._k = 0\n",
        "  \n",
        "  def __iter__(self):\n",
        "    return self\n",
        "\n",
        "  def __next__(self):\n",
        "    if self._k < 20:\n",
        "      self._k = self._k + 1\n",
        "      return next(self._iterator)\n",
        "    raise StopIteration"
      ],
      "metadata": {
        "id": "3wjoOUTsRvKL"
      },
      "execution_count": 148,
      "outputs": []
    },
    {
      "cell_type": "code",
      "source": [
        "alice = Alice()\n",
        "\n",
        "for word in alice:\n",
        "  print(f\"{word}\")\n",
        "\n",
        "print(\"*\"*40)\n",
        "\n",
        "alice = Alice()\n",
        "\n",
        "print(next(alice))\n",
        "print(next(alice))"
      ],
      "metadata": {
        "colab": {
          "base_uri": "https://localhost:8080/"
        },
        "id": "CodUw3DHR6Hf",
        "outputId": "65ec57c2-7840-41e2-9ab8-300bdd641d79"
      },
      "execution_count": 152,
      "outputs": [
        {
          "output_type": "stream",
          "name": "stdout",
          "text": [
            "said\n",
            "that\n",
            "Alice\n",
            "with\n",
            "very\n",
            "this\n",
            "little\n",
            "they\n",
            "about\n",
            "what\n",
            "were\n",
            "went\n",
            "have\n",
            "down\n",
            "Project\n",
            "Alice,\n",
            "like\n",
            "would\n",
            "when\n",
            "into\n",
            "****************************************\n",
            "said\n",
            "that\n"
          ]
        }
      ]
    },
    {
      "cell_type": "code",
      "source": [
        "file = open(\"witaj.txt\", \"w\")\n",
        "\n",
        "try:\n",
        "  file.write(\"Witaj świecie !\")\n",
        "finally:\n",
        "  file.close()"
      ],
      "metadata": {
        "id": "x04PAnp0SAxm"
      },
      "execution_count": 154,
      "outputs": []
    },
    {
      "cell_type": "code",
      "source": [
        "file = open(\"witaj.txt\", \"r\")\n",
        "\n",
        "try:\n",
        "  file.write(\"Witaj świecie !\")\n",
        "except Exception as e:\n",
        "  print(f\"Błąd zapisu do pliku: {e}\")\n",
        "finally:\n",
        "  file.close()"
      ],
      "metadata": {
        "colab": {
          "base_uri": "https://localhost:8080/"
        },
        "id": "KyHYlSwYU9rV",
        "outputId": "9d84ee1b-dac4-4234-b35d-e90645707191"
      },
      "execution_count": 155,
      "outputs": [
        {
          "output_type": "stream",
          "name": "stdout",
          "text": [
            "Błąd zapisu do pliku: not writable\n"
          ]
        }
      ]
    },
    {
      "cell_type": "code",
      "source": [
        "class pierwszyKontekstMenager:\n",
        "  def __enter__(self):\n",
        "    return \"Cos\"\n",
        "\n",
        "  def __exit__(self, type, value, tb):\n",
        "    pass\n",
        "\n",
        "with pierwszyKontekstMenager() as pierwszy:\n",
        "  print(pierwszy)"
      ],
      "metadata": {
        "colab": {
          "base_uri": "https://localhost:8080/"
        },
        "id": "1dCF9olnVSJe",
        "outputId": "51f5d239-f76a-4890-fca1-1620c4eb8bbc"
      },
      "execution_count": 156,
      "outputs": [
        {
          "output_type": "stream",
          "name": "stdout",
          "text": [
            "Cos\n"
          ]
        }
      ]
    },
    {
      "cell_type": "code",
      "source": [
        "class ContextManager:\n",
        "  def __enter__(self):\n",
        "    print(\"Uruchomienie managera kontekstu\")\n",
        "    return \"Napis\"\n",
        "\n",
        "  def __exit__(self, type, value, tb):\n",
        "    print(\"Zakończenie kontekstu\")\n",
        "    if isinstance(value, IndexError):\n",
        "      print(f\"Wystąpił błąd w bloku: {type}\")\n",
        "      print(f\"Komunikat błędu: {value}\")\n",
        "      print(tb)\n",
        "      return True\n"
      ],
      "metadata": {
        "id": "kGsS5YAqWSXu"
      },
      "execution_count": 157,
      "outputs": []
    },
    {
      "cell_type": "code",
      "source": [
        "with ContextManager() as tekst:\n",
        "  print(tekst)\n",
        "  tekst[100]\n",
        "\n",
        "print(\"Zadziałało\")"
      ],
      "metadata": {
        "colab": {
          "base_uri": "https://localhost:8080/"
        },
        "id": "Kx0LR0h_W_WU",
        "outputId": "e122ab56-2238-4d4c-d1f8-f9b2e3ca6b98"
      },
      "execution_count": 158,
      "outputs": [
        {
          "output_type": "stream",
          "name": "stdout",
          "text": [
            "Uruchomienie managera kontekstu\n",
            "Napis\n",
            "Zakończenie kontekstu\n",
            "Wystąpił błąd w bloku: <class 'IndexError'>\n",
            "Komunikat błędu: string index out of range\n",
            "<traceback object at 0x7f89130739b0>\n",
            "Zadziałało\n"
          ]
        }
      ]
    },
    {
      "cell_type": "code",
      "source": [
        "class Samochod(object):\n",
        "  def __init__(self, marka):\n",
        "    self.kluczyki = \"Kluczyki do auta\"\n",
        "    print(\"Produkuje samochód\")\n",
        "    self._marka = marka\n",
        "  def __enter__(self):\n",
        "    print(f\"Rejestruje samochód marki {self._marka}\")\n",
        "    return self\n",
        "  def __exit__(self, type, value, tb):\n",
        "    print(\"Wyrejestrowywuje samochód\")    \n",
        "  def __str__(self):\n",
        "    return f\"To jest samochód marki {self._marka}\"\n",
        "  def __del__(self):\n",
        "    print(\"Złomuje samochod\")  \n",
        "\n",
        "class Honda(Samochod):\n",
        "  def __init__(self):\n",
        "    Samochod.__init__(self, \"Honda\")\n",
        "\n",
        "with Honda() as samochod:    \n",
        "  print(samochod)\n",
        "\n",
        "print(\"I już nie ma hondy\")"
      ],
      "metadata": {
        "colab": {
          "base_uri": "https://localhost:8080/"
        },
        "id": "gc9dLKsQbbSn",
        "outputId": "b0b0cdf0-93a1-4ddb-90fe-9c4d95fa7759"
      },
      "execution_count": 159,
      "outputs": [
        {
          "output_type": "stream",
          "name": "stdout",
          "text": [
            "Produkuje samochód\n",
            "Rejestruje samochód marki Honda\n",
            "To jest samochód marki Honda\n",
            "Wyrejestrowywuje samochód\n",
            "I już nie ma hondy\n"
          ]
        }
      ]
    },
    {
      "cell_type": "code",
      "source": [
        "class WritableFile:\n",
        "  def __init__(self, fileName):\n",
        "    self._fileName = fileName\n",
        "  \n",
        "  def __enter__(self):\n",
        "    self._file = open(self._fileName, mode=\"w\")\n",
        "    return self._file\n",
        "\n",
        "  def __exit__(self, type, value, tb):\n",
        "    if self._file:\n",
        "      self._file.close()"
      ],
      "metadata": {
        "id": "VcVpPteabwvJ"
      },
      "execution_count": 160,
      "outputs": []
    },
    {
      "cell_type": "code",
      "source": [
        "with WritableFile(\"plik.txt\") as file:\n",
        "  file.write(\"Napis wewnątrz pliku\")"
      ],
      "metadata": {
        "id": "Kk-w0y3KcRMc"
      },
      "execution_count": 161,
      "outputs": []
    },
    {
      "cell_type": "code",
      "source": [
        "import os\n",
        "\n",
        "with os.scandir(\".\") as dir:\n",
        "  for file in dir:\n",
        "    print(f\"nazwa: {file.name} -> {file.stat().st_size} bajtów\")"
      ],
      "metadata": {
        "colab": {
          "base_uri": "https://localhost:8080/"
        },
        "id": "X3J6f50kccxr",
        "outputId": "bc158e1a-c536-47a9-a951-6b0f69431a47"
      },
      "execution_count": 162,
      "outputs": [
        {
          "output_type": "stream",
          "name": "stdout",
          "text": [
            "nazwa: .config -> 4096 bajtów\n",
            "nazwa: alice.txt -> 163783 bajtów\n",
            "nazwa: witaj.txt -> 16 bajtów\n",
            "nazwa: plik.txt -> 21 bajtów\n",
            "nazwa: sample_data -> 4096 bajtów\n"
          ]
        }
      ]
    },
    {
      "cell_type": "code",
      "source": [
        "import sys\n",
        "\n",
        "class Redirect:\n",
        "    def __init__(self, outputFile):\n",
        "      self._outputFile = outputFile\n",
        "    \n",
        "    def __enter__(self):\n",
        "      self._defaultOutput = sys.stdout\n",
        "      sys.stdout = self._outputFile\n",
        "\n",
        "    def __exit__(self, type, value, tb):\n",
        "      sys.stdout = self._defaultOutput\n"
      ],
      "metadata": {
        "id": "CYoVVQDadGYe"
      },
      "execution_count": 165,
      "outputs": []
    },
    {
      "cell_type": "code",
      "source": [
        "with open(\"konsola.txt\", \"w\") as file:\n",
        "  with Redirect(file):\n",
        "    print(\"Komunikat którego nie będzie widać bo trafi do pliku\")\n",
        "\n",
        "print(\"A to będzie ponownie na ekranie\")"
      ],
      "metadata": {
        "colab": {
          "base_uri": "https://localhost:8080/"
        },
        "id": "0Dw6-nNIdtfE",
        "outputId": "be70f366-dc19-4d0b-cdc5-a5c4de411953"
      },
      "execution_count": 166,
      "outputs": [
        {
          "output_type": "stream",
          "name": "stdout",
          "text": [
            "A to będzie ponownie na ekranie\n"
          ]
        }
      ]
    },
    {
      "cell_type": "code",
      "source": [
        "from contextlib import contextmanager"
      ],
      "metadata": {
        "id": "GHtp4D13eWiW"
      },
      "execution_count": 167,
      "outputs": []
    },
    {
      "cell_type": "code",
      "source": [
        "@contextmanager\n",
        "def napis():\n",
        "  print(\"Uruchamiam kontekst\")\n",
        "  yield \"Hello, jestem wewnątrz kontekstu\"\n",
        "  print(\"Zakańczam konteks\")\n",
        "\n",
        "with napis() as tekst:\n",
        "  print(tekst)"
      ],
      "metadata": {
        "colab": {
          "base_uri": "https://localhost:8080/"
        },
        "id": "TXrdcBnwem31",
        "outputId": "b131398f-aa68-44ab-b636-7fff15b3a38c"
      },
      "execution_count": 168,
      "outputs": [
        {
          "output_type": "stream",
          "name": "stdout",
          "text": [
            "Uruchamiam kontekst\n",
            "Hello, jestem wewnątrz kontekstu\n",
            "Zakańczam konteks\n"
          ]
        }
      ]
    },
    {
      "cell_type": "code",
      "source": [
        "with napis() as tekst:\n",
        "  print(tekst)\n",
        "  tekst[100]"
      ],
      "metadata": {
        "colab": {
          "base_uri": "https://localhost:8080/",
          "height": 242
        },
        "id": "YP0yVZaGfLIN",
        "outputId": "29293584-12ed-4a09-cb14-21ab6372a34c"
      },
      "execution_count": 169,
      "outputs": [
        {
          "output_type": "stream",
          "name": "stdout",
          "text": [
            "Uruchamiam kontekst\n",
            "Hello, jestem wewnątrz kontekstu\n"
          ]
        },
        {
          "output_type": "error",
          "ename": "IndexError",
          "evalue": "ignored",
          "traceback": [
            "\u001b[0;31m---------------------------------------------------------------------------\u001b[0m",
            "\u001b[0;31mIndexError\u001b[0m                                Traceback (most recent call last)",
            "\u001b[0;32m<ipython-input-169-33387a3cb7e9>\u001b[0m in \u001b[0;36m<module>\u001b[0;34m()\u001b[0m\n\u001b[1;32m      1\u001b[0m \u001b[0;32mwith\u001b[0m \u001b[0mnapis\u001b[0m\u001b[0;34m(\u001b[0m\u001b[0;34m)\u001b[0m \u001b[0;32mas\u001b[0m \u001b[0mtekst\u001b[0m\u001b[0;34m:\u001b[0m\u001b[0;34m\u001b[0m\u001b[0;34m\u001b[0m\u001b[0m\n\u001b[1;32m      2\u001b[0m   \u001b[0mprint\u001b[0m\u001b[0;34m(\u001b[0m\u001b[0mtekst\u001b[0m\u001b[0;34m)\u001b[0m\u001b[0;34m\u001b[0m\u001b[0;34m\u001b[0m\u001b[0m\n\u001b[0;32m----> 3\u001b[0;31m   \u001b[0mtekst\u001b[0m\u001b[0;34m[\u001b[0m\u001b[0;36m100\u001b[0m\u001b[0;34m]\u001b[0m\u001b[0;34m\u001b[0m\u001b[0;34m\u001b[0m\u001b[0m\n\u001b[0m",
            "\u001b[0;31mIndexError\u001b[0m: string index out of range"
          ]
        }
      ]
    },
    {
      "cell_type": "code",
      "source": [
        "class Indenter:\n",
        "  def __init__(self):\n",
        "    self.level = -1\n",
        "\n",
        "  def __enter__(self):\n",
        "    self.level += 1\n",
        "    return self\n",
        "\n",
        "  def __exit__(self, type, value, tb):\n",
        "    self.level -= 1\n",
        "\n",
        "  def print(self, tekst):\n",
        "    print(\"   \" * self.level + tekst)"
      ],
      "metadata": {
        "id": "duE3SNjhfejM"
      },
      "execution_count": 175,
      "outputs": []
    },
    {
      "cell_type": "code",
      "source": [
        "with Indenter() as indent:\n",
        "  indent.print(\"poziom zero\")\n",
        "  with indent:\n",
        "    indent.print(\"poziom pierwszy\")\n",
        "    with indent:\n",
        "      indent.print(\"poziom drugi\")\n",
        "    indent.print(\"ponownie poziom pierwszy\")\n",
        "print(\"poziom gruntu\")\n"
      ],
      "metadata": {
        "colab": {
          "base_uri": "https://localhost:8080/"
        },
        "id": "QokKLY3AgHDT",
        "outputId": "62e26e0d-1425-4db2-b644-1cdd75a97d8e"
      },
      "execution_count": 177,
      "outputs": [
        {
          "output_type": "stream",
          "name": "stdout",
          "text": [
            "poziom zero\n",
            "   poziom pierwszy\n",
            "      poziom drugi\n",
            "   ponownie poziom pierwszy\n",
            "poziom gruntu\n"
          ]
        }
      ]
    },
    {
      "cell_type": "code",
      "source": [
        "with os.scandir(\".\") as dir:\n",
        "  for file in dir:\n",
        "    print(f\"nazwa: {file.name} -> {file.stat().st_size} bajtów\")"
      ],
      "metadata": {
        "id": "RnjFf8Q_hmiN"
      },
      "execution_count": null,
      "outputs": []
    },
    {
      "cell_type": "code",
      "source": [
        "import time\n",
        "\n",
        "class TicTocTimer:\n",
        "  def tic(self):\n",
        "    global startTime_for_tictoc\n",
        "    startTime_for_tictoc = time.time()\n",
        "\n",
        "  def toc(self):\n",
        "    if 'startTime_for_tictoc' in globals():\n",
        "        print(\"Elapsed time is \" + str(time.time() - startTime_for_tictoc) + \" seconds.\")\n",
        "    else:\n",
        "        print(\"Toc: start time not set\")\n",
        "\n",
        "  def __enter__(self):\n",
        "    self.tic()\n",
        "    return self\n",
        "\n",
        "  def __exit__(self, *args):\n",
        "    self.toc()"
      ],
      "metadata": {
        "id": "DpCjYCvcj3a2"
      },
      "execution_count": 178,
      "outputs": []
    },
    {
      "cell_type": "code",
      "source": [
        "with TicTocTimer() as timer:\n",
        "  sleep(1)"
      ],
      "metadata": {
        "colab": {
          "base_uri": "https://localhost:8080/"
        },
        "id": "W5netaeSksS9",
        "outputId": "28e2b9b5-6074-4110-cf7a-7d06807bf5e0"
      },
      "execution_count": 179,
      "outputs": [
        {
          "output_type": "stream",
          "name": "stdout",
          "text": [
            "Elapsed time is 1.0011203289031982 seconds.\n"
          ]
        }
      ]
    },
    {
      "cell_type": "markdown",
      "source": [
        "# OBSŁUGA BŁĘDÓW"
      ],
      "metadata": {
        "id": "e2dJNI1yk1-S"
      }
    },
    {
      "cell_type": "code",
      "source": [
        "randomList = ['a', 0, 2]\n",
        "\n",
        "for elem in randomList:\n",
        "  try:\n",
        "    print(f\"Wynik dzielenia 1 przez {elem}\")\n",
        "    r = 1 / int(elem)\n",
        "    print(r)\n",
        "    break;\n",
        "  except ValueError:\n",
        "    print(\"Przekazana wartość nie jest liczbą\")\n",
        "  except ZeroDivisionError:\n",
        "    print(\"Nastąpiła próba dzielenia przez zeor\")\n",
        "  except:\n",
        "    print(f\"Opps, nie udało się. Mamy błąd: {sys.exc_info()[0]}\")"
      ],
      "metadata": {
        "colab": {
          "base_uri": "https://localhost:8080/"
        },
        "id": "_3jD5tkxlJFJ",
        "outputId": "8355e478-485f-40a8-bd0a-5bb058409bb2"
      },
      "execution_count": 181,
      "outputs": [
        {
          "output_type": "stream",
          "name": "stdout",
          "text": [
            "Wynik dzielenia 1 przez a\n",
            "Przekazana wartość nie jest liczbą\n",
            "Wynik dzielenia 1 przez 0\n",
            "Nastąpiła próba dzielenia przez zeor\n",
            "Wynik dzielenia 1 przez 2\n",
            "0.5\n"
          ]
        }
      ]
    },
    {
      "cell_type": "code",
      "source": [
        "def IgnoreValueError(func):\n",
        "  def inner(param):\n",
        "    try:\n",
        "      return func(param)\n",
        "    except ValueError:\n",
        "      print(\"Przekazana wartość nie jest liczbą\")\n",
        "  return inner\n",
        "\n",
        "def IgnoreZeroDivisionError(func):\n",
        "  def inner(param):\n",
        "    try:\n",
        "      return func(param)\n",
        "    except ZeroDivisionError:\n",
        "      print(\"Nastąpiła próba dzielenia przez zero\")\n",
        "  return inner\n",
        "\n",
        "@IgnoreValueError\n",
        "@IgnoreZeroDivisionError\n",
        "def dzielenie(val):\n",
        "  return 1 / int(val)\n",
        "\n",
        "for elem in randomList:\n",
        "  print(dzielenie(elem))"
      ],
      "metadata": {
        "colab": {
          "base_uri": "https://localhost:8080/"
        },
        "id": "3jBHMgydmIUG",
        "outputId": "5d62d02f-3a64-4857-bf5d-2908f2f863cf"
      },
      "execution_count": 187,
      "outputs": [
        {
          "output_type": "stream",
          "name": "stdout",
          "text": [
            "Przekazana wartość nie jest liczbą\n",
            "None\n",
            "Nastąpiła próba dzielenia przez zero\n",
            "None\n",
            "0.5\n"
          ]
        }
      ]
    },
    {
      "cell_type": "code",
      "source": [
        "class Error(Exception):\n",
        "  pass\n",
        "\n",
        "class ValueTooSmallError(Error):\n",
        "  pass\n",
        "\n",
        "class ValueTooLargeError(Error):\n",
        "  pass\n",
        "\n"
      ],
      "metadata": {
        "id": "FGYmMW_8pkJz"
      },
      "execution_count": 188,
      "outputs": []
    },
    {
      "cell_type": "code",
      "source": [
        "tajnaLiczba = 10\n",
        "\n",
        "while True:\n",
        "  try:\n",
        "    liczba = int(input(\"Podaj tajną liczbę:\"))\n",
        "    if liczba < tajnaLiczba:\n",
        "      raise ValueTooSmallError\n",
        "    elif liczba > tajnaLiczba:\n",
        "      raise ValueTooLargeError\n",
        "    break\n",
        "#  except Error:          ## KOLEJNOŚC OBSŁUGI BŁĘDÓW !!!!\n",
        "#    print(\"Wystąpił jakiś błąd, zgaduj dalej\")\n",
        "  except ValueTooSmallError:\n",
        "    print(\"Wprowadzona liczba jest zby mała, zgaduj dalej\")\n",
        "  except ValueTooLargeError:\n",
        "    print(\"Wprowadzona liczba jest za duża, zgaduj dalej\")\n",
        "  except:\n",
        "    print(\"Coś poszło nie tak, zgaduj dalej\")\n",
        "\n",
        "print(\"Zgadłeś liczbę\")"
      ],
      "metadata": {
        "colab": {
          "base_uri": "https://localhost:8080/"
        },
        "id": "fHswNlsxp9W1",
        "outputId": "a494774c-60eb-4f0a-cd21-79051e704f6f"
      },
      "execution_count": 193,
      "outputs": [
        {
          "output_type": "stream",
          "name": "stdout",
          "text": [
            "Podaj tajną liczbę:43\n",
            "Wystąpił jakiś błąd, zgaduj dalej\n",
            "Podaj tajną liczbę:10\n",
            "Zgadłeś liczbę\n"
          ]
        }
      ]
    },
    {
      "cell_type": "code",
      "source": [
        "class NumberOfRangeError(Exception):\n",
        "  def __init__(self, number, message=\"Liczba poza zakresem, powinna być pomiędzy 100, a 200\"):\n",
        "    self.number = number\n",
        "    self.message = message\n",
        "    super().__init__(self.message)\n",
        "\n",
        "  "
      ],
      "metadata": {
        "id": "-tfzN-R6rpfi"
      },
      "execution_count": 194,
      "outputs": []
    },
    {
      "cell_type": "code",
      "source": [
        "liczba = int(input(\"Wprowadź liczbę: \"))\n",
        "if not 100 < liczba < 200:\n",
        "  raise NumberOfRangeError(liczba)"
      ],
      "metadata": {
        "colab": {
          "base_uri": "https://localhost:8080/",
          "height": 224
        },
        "id": "wo3x0vCdsMy1",
        "outputId": "f23beca0-160b-4abb-df0e-b0e9a3cc4712"
      },
      "execution_count": 195,
      "outputs": [
        {
          "name": "stdout",
          "output_type": "stream",
          "text": [
            "Wprowadź liczbę5\n"
          ]
        },
        {
          "output_type": "error",
          "ename": "NumberOfRangeError",
          "evalue": "ignored",
          "traceback": [
            "\u001b[0;31m---------------------------------------------------------------------------\u001b[0m",
            "\u001b[0;31mNumberOfRangeError\u001b[0m                        Traceback (most recent call last)",
            "\u001b[0;32m<ipython-input-195-9940b1660d6d>\u001b[0m in \u001b[0;36m<module>\u001b[0;34m()\u001b[0m\n\u001b[1;32m      1\u001b[0m \u001b[0mliczba\u001b[0m \u001b[0;34m=\u001b[0m \u001b[0mint\u001b[0m\u001b[0;34m(\u001b[0m\u001b[0minput\u001b[0m\u001b[0;34m(\u001b[0m\u001b[0;34m\"Wprowadź liczbę\"\u001b[0m\u001b[0;34m)\u001b[0m\u001b[0;34m)\u001b[0m\u001b[0;34m\u001b[0m\u001b[0;34m\u001b[0m\u001b[0m\n\u001b[1;32m      2\u001b[0m \u001b[0;32mif\u001b[0m \u001b[0;32mnot\u001b[0m \u001b[0;36m100\u001b[0m \u001b[0;34m<\u001b[0m \u001b[0mliczba\u001b[0m \u001b[0;34m<\u001b[0m \u001b[0;36m200\u001b[0m\u001b[0;34m:\u001b[0m\u001b[0;34m\u001b[0m\u001b[0;34m\u001b[0m\u001b[0m\n\u001b[0;32m----> 3\u001b[0;31m   \u001b[0;32mraise\u001b[0m \u001b[0mNumberOfRangeError\u001b[0m\u001b[0;34m(\u001b[0m\u001b[0mliczba\u001b[0m\u001b[0;34m)\u001b[0m\u001b[0;34m\u001b[0m\u001b[0;34m\u001b[0m\u001b[0m\n\u001b[0m",
            "\u001b[0;31mNumberOfRangeError\u001b[0m: Liczba poza zakresem, powinna być pomiędzy 100, a 200"
          ]
        }
      ]
    },
    {
      "cell_type": "code",
      "source": [
        "class NumberOfRangeError(Exception):\n",
        "  def __init__(self, number, message=\"Liczba poza zakresem, powinna być pomiędzy 100, a 200\"):\n",
        "    self.number = number\n",
        "    self.message = message\n",
        "    super().__init__(self.message)\n",
        "  \n",
        "  def __str__(self):\n",
        "    return f\"Liczba: {self.number} jest poza zakresem. Komunikat błędu: '{self.message}'\""
      ],
      "metadata": {
        "id": "TxjQ7wdMskdL"
      },
      "execution_count": 199,
      "outputs": []
    },
    {
      "cell_type": "code",
      "source": [
        "liczba = int(input(\"Wprowadź liczbę: \"))\n",
        "if not 100 < liczba < 200:\n",
        "  raise NumberOfRangeError(liczba)"
      ],
      "metadata": {
        "colab": {
          "base_uri": "https://localhost:8080/",
          "height": 224
        },
        "id": "8wbAbkjds4MF",
        "outputId": "4bfc9b5e-c285-414c-ba25-29e8c2c52141"
      },
      "execution_count": 200,
      "outputs": [
        {
          "name": "stdout",
          "output_type": "stream",
          "text": [
            "Wprowadź liczbę: 5\n"
          ]
        },
        {
          "output_type": "error",
          "ename": "NumberOfRangeError",
          "evalue": "ignored",
          "traceback": [
            "\u001b[0;31m---------------------------------------------------------------------------\u001b[0m",
            "\u001b[0;31mNumberOfRangeError\u001b[0m                        Traceback (most recent call last)",
            "\u001b[0;32m<ipython-input-200-27bd51ccb352>\u001b[0m in \u001b[0;36m<module>\u001b[0;34m()\u001b[0m\n\u001b[1;32m      1\u001b[0m \u001b[0mliczba\u001b[0m \u001b[0;34m=\u001b[0m \u001b[0mint\u001b[0m\u001b[0;34m(\u001b[0m\u001b[0minput\u001b[0m\u001b[0;34m(\u001b[0m\u001b[0;34m\"Wprowadź liczbę: \"\u001b[0m\u001b[0;34m)\u001b[0m\u001b[0;34m)\u001b[0m\u001b[0;34m\u001b[0m\u001b[0;34m\u001b[0m\u001b[0m\n\u001b[1;32m      2\u001b[0m \u001b[0;32mif\u001b[0m \u001b[0;32mnot\u001b[0m \u001b[0;36m100\u001b[0m \u001b[0;34m<\u001b[0m \u001b[0mliczba\u001b[0m \u001b[0;34m<\u001b[0m \u001b[0;36m200\u001b[0m\u001b[0;34m:\u001b[0m\u001b[0;34m\u001b[0m\u001b[0;34m\u001b[0m\u001b[0m\n\u001b[0;32m----> 3\u001b[0;31m   \u001b[0;32mraise\u001b[0m \u001b[0mNumberOfRangeError\u001b[0m\u001b[0;34m(\u001b[0m\u001b[0mliczba\u001b[0m\u001b[0;34m)\u001b[0m\u001b[0;34m\u001b[0m\u001b[0;34m\u001b[0m\u001b[0m\n\u001b[0m",
            "\u001b[0;31mNumberOfRangeError\u001b[0m: Liczba: 5 jest poza zakresem. Komunikat błędu: 'Liczba poza zakresem, powinna być pomiędzy 100, a 200'"
          ]
        }
      ]
    },
    {
      "cell_type": "code",
      "source": [
        "class NumberOfRangeError(Exception):\n",
        "  def __init__(self, number, minN=100, maxN=100, message=\"Liczba poza zakresem, powinna być pomiędzy 100, a 200\"):\n",
        "    self.number = number\n",
        "    self.message = message\n",
        "    self.minN = minN\n",
        "    self.maxN = maxN\n",
        "    super().__init__(self.message)\n",
        "  \n",
        "  def __str__(self):\n",
        "    return f\"Liczba: {self.number} jest poza zakresem ({self.minN}, {self.maxN}). Komunikat błędu: '{self.message}'\"\n",
        "\n",
        "raise NumberOfRangeError(number=100, minN=5, maxN=1000, message=\"Jakiś inny komunikat\")"
      ],
      "metadata": {
        "colab": {
          "base_uri": "https://localhost:8080/",
          "height": 206
        },
        "id": "CARFsLW-tUx1",
        "outputId": "722291db-f130-4a10-8b0d-2011b477d8d1"
      },
      "execution_count": 201,
      "outputs": [
        {
          "output_type": "error",
          "ename": "NumberOfRangeError",
          "evalue": "ignored",
          "traceback": [
            "\u001b[0;31m---------------------------------------------------------------------------\u001b[0m",
            "\u001b[0;31mNumberOfRangeError\u001b[0m                        Traceback (most recent call last)",
            "\u001b[0;32m<ipython-input-201-bcea28a5a00a>\u001b[0m in \u001b[0;36m<module>\u001b[0;34m()\u001b[0m\n\u001b[1;32m     10\u001b[0m     \u001b[0;32mreturn\u001b[0m \u001b[0;34mf\"Liczba: {self.number} jest poza zakresem ({self.minN}, {self.maxN}). Komunikat błędu: '{self.message}'\"\u001b[0m\u001b[0;34m\u001b[0m\u001b[0;34m\u001b[0m\u001b[0m\n\u001b[1;32m     11\u001b[0m \u001b[0;34m\u001b[0m\u001b[0m\n\u001b[0;32m---> 12\u001b[0;31m \u001b[0;32mraise\u001b[0m \u001b[0mNumberOfRangeError\u001b[0m\u001b[0;34m(\u001b[0m\u001b[0mnumber\u001b[0m\u001b[0;34m=\u001b[0m\u001b[0;36m100\u001b[0m\u001b[0;34m,\u001b[0m \u001b[0mminN\u001b[0m\u001b[0;34m=\u001b[0m\u001b[0;36m5\u001b[0m\u001b[0;34m,\u001b[0m \u001b[0mmaxN\u001b[0m\u001b[0;34m=\u001b[0m\u001b[0;36m1000\u001b[0m\u001b[0;34m,\u001b[0m \u001b[0mmessage\u001b[0m\u001b[0;34m=\u001b[0m\u001b[0;34m\"Jakiś inny komunikat\"\u001b[0m\u001b[0;34m)\u001b[0m\u001b[0;34m\u001b[0m\u001b[0;34m\u001b[0m\u001b[0m\n\u001b[0m",
            "\u001b[0;31mNumberOfRangeError\u001b[0m: Liczba: 100 jest poza zakresem (5, 1000). Komunikat błędu: 'Jakiś inny komunikat'"
          ]
        }
      ]
    },
    {
      "cell_type": "code",
      "source": [
        "class WczytanieDanych:\n",
        "  @ValidValueNumber(5, 100)\n",
        "  def WczytajLiczbe():\n",
        "    return int(input(\"Podaj liczbę z określonego zakresu: \"))\n",
        "\n",
        "  @ValidPostCode #    ##-###\n",
        "  def WczytajKodPocztowy():\n",
        "    return int(input(\"Podaj kod pocztowy: \"))  "
      ],
      "metadata": {
        "id": "bSLXRiYst-Q0"
      },
      "execution_count": null,
      "outputs": []
    }
  ]
}